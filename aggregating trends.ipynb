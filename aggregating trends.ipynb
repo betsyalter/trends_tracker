{
 "cells": [
  {
   "cell_type": "markdown",
   "id": "e1c9d5f5",
   "metadata": {},
   "source": [
    "## Imports"
   ]
  },
  {
   "cell_type": "code",
   "execution_count": 1,
   "id": "1728d85b",
   "metadata": {},
   "outputs": [],
   "source": [
    "import pandas as pd\n",
    "from datetime import datetime, timedelta\n",
    "from openpyxl import load_workbook"
   ]
  },
  {
   "cell_type": "code",
   "execution_count": 2,
   "id": "38895070",
   "metadata": {},
   "outputs": [],
   "source": [
    "workbook_path = 'all_trends.xlsx'"
   ]
  },
  {
   "cell_type": "markdown",
   "id": "d53f045c",
   "metadata": {},
   "source": [
    "## Standardizing Function to have the Same Column Names"
   ]
  },
  {
   "cell_type": "code",
   "execution_count": 40,
   "id": "9459c567",
   "metadata": {},
   "outputs": [],
   "source": [
    "def standardize_df(df, standard_columns):\n",
    "    for col in standard_columns:\n",
    "        if col not in df.columns:\n",
    "            df[col] = pd.NA\n",
    "    return df[standard_columns]"
   ]
  },
  {
   "cell_type": "markdown",
   "id": "21208596",
   "metadata": {},
   "source": [
    "## Target Date: CHANGE THIS FOR EVERY DATE"
   ]
  },
  {
   "cell_type": "code",
   "execution_count": 41,
   "id": "0f80aaa8",
   "metadata": {},
   "outputs": [],
   "source": [
    "target_date = \"2023-12-21\""
   ]
  },
  {
   "cell_type": "markdown",
   "id": "51207c06",
   "metadata": {},
   "source": [
    "## Standard Column Names and File Imports"
   ]
  },
  {
   "cell_type": "code",
   "execution_count": 42,
   "id": "e05b273d",
   "metadata": {},
   "outputs": [],
   "source": [
    "standard_columns = ['Rank', 'Title', 'Platform', 'Subreddit', 'Category', 'Channel', 'Views', 'Publish_Count', 'Score', 'Subscribers', 'Comments', 'URL', 'Posted']"
   ]
  },
  {
   "cell_type": "code",
   "execution_count": 43,
   "id": "9c51a199",
   "metadata": {},
   "outputs": [],
   "source": [
    "files = {\n",
    "    'YouTube': 'trending_videos.xlsx',\n",
    "    'US Headlines': 'us_headlines.xlsx',\n",
    "    'Global Business News': 'global_business_news.xlsx',\n",
    "    'Reddit': 'top_reddit_posts.xlsx',\n",
    "    'Google': 'OverallTrendingSearches2.xlsx',\n",
    "    'TikTok': f'tiktok_us_hashtags_{target_date}.csv'\n",
    "}"
   ]
  },
  {
   "cell_type": "markdown",
   "id": "a7c5b117",
   "metadata": {},
   "source": [
    "## Loop to Run Standardize Function and add Platform and Rank"
   ]
  },
  {
   "cell_type": "code",
   "execution_count": 44,
   "id": "b8f67f07",
   "metadata": {},
   "outputs": [],
   "source": [
    "dfs = []"
   ]
  },
  {
   "cell_type": "code",
   "execution_count": 45,
   "id": "239ac01c",
   "metadata": {
    "scrolled": true
   },
   "outputs": [],
   "source": [
    "# Process each file and look for the specific date tab\n",
    "for platform, file_path in files.items():\n",
    "    try:\n",
    "        if file_path.endswith('.csv'):\n",
    "            # Read CSV file\n",
    "            df = pd.read_csv(file_path)\n",
    "        else:\n",
    "            # Read Excel file from the specified sheet\n",
    "            df = pd.read_excel(file_path, sheet_name=target_date)\n",
    "\n",
    "        # Keep only the top 10 entries\n",
    "        df = df.head(10)\n",
    "\n",
    "        # Standardize DataFrame columns\n",
    "        df = standardize_df(df, standard_columns)\n",
    "\n",
    "        # Populate 'Rank' column\n",
    "        df['Rank'] = range(1, len(df) + 1)\n",
    "\n",
    "        # Add 'Platform' column\n",
    "        df['Platform'] = platform\n",
    "\n",
    "        # Append DataFrame to the list\n",
    "        dfs.append(df)\n",
    "    except Exception as e:\n",
    "        print(f\"Error processing file {file_path}: {e}\")"
   ]
  },
  {
   "cell_type": "markdown",
   "id": "ed59db95",
   "metadata": {},
   "source": [
    "## Concatenate Data"
   ]
  },
  {
   "cell_type": "code",
   "execution_count": 46,
   "id": "31fa9914",
   "metadata": {},
   "outputs": [],
   "source": [
    "aggregated_data = pd.concat(dfs, ignore_index=True)"
   ]
  },
  {
   "cell_type": "markdown",
   "id": "cc070edb",
   "metadata": {},
   "source": [
    "## Exporting to Excel with Updated Date Tab"
   ]
  },
  {
   "cell_type": "code",
   "execution_count": 47,
   "id": "42476b0c",
   "metadata": {},
   "outputs": [],
   "source": [
    "workbook_path = \"all_trends.xlsx\"\n",
    "book = load_workbook(workbook_path)"
   ]
  },
  {
   "cell_type": "code",
   "execution_count": 48,
   "id": "1f8dc8b2",
   "metadata": {},
   "outputs": [],
   "source": [
    "# Check if a sheet with the same name already exists\n",
    "sheet_title = f'{target_date}'\n",
    "if sheet_title in book.sheetnames:\n",
    "    # If the sheet exists, remove it to avoid duplication\n",
    "    del book[sheet_title]"
   ]
  },
  {
   "cell_type": "code",
   "execution_count": 49,
   "id": "eff09e1c",
   "metadata": {},
   "outputs": [],
   "source": [
    "ws = book.create_sheet(title=sheet_title)"
   ]
  },
  {
   "cell_type": "code",
   "execution_count": 50,
   "id": "4cd4bb7b",
   "metadata": {},
   "outputs": [],
   "source": [
    "from openpyxl.utils.dataframe import dataframe_to_rows\n",
    "for r_idx, row in enumerate(dataframe_to_rows(aggregated_data, index=False, header=True)):\n",
    "    for c_idx, value in enumerate(row):\n",
    "        # Replace pandas.NA and NaN with None or an empty string\n",
    "        if pd.isna(value):\n",
    "            value = None\n",
    "        ws.cell(row=r_idx+1, column=c_idx+1, value=value)\n",
    "\n",
    "# Save the workbook\n",
    "book.save(workbook_path)"
   ]
  },
  {
   "cell_type": "markdown",
   "id": "7b64c283",
   "metadata": {},
   "source": [
    "## Master Tab in Excel"
   ]
  },
  {
   "cell_type": "code",
   "execution_count": 51,
   "id": "9849c997",
   "metadata": {},
   "outputs": [],
   "source": [
    "# Ensure the file path is for an Excel file, not a CSV file\n",
    "file_path = 'all_trends.xlsx'  # Should end with .xlsx or .xls\n",
    "\n",
    "try:\n",
    "    master_data = pd.read_excel(file_path, sheet_name='Master')\n",
    "except:\n",
    "    master_data = pd.DataFrame()\n",
    "    \n",
    "new_data = pd.read_excel(file_path, sheet_name=target_date)\n",
    "new_data['Date'] = target_date  # Add a column for the date\n",
    "\n",
    "# Check if the target date's data is already in the master sheet\n",
    "if target_date not in master_data['Date'].unique():\n",
    "    master_data = pd.concat([master_data, new_data])\n",
    "\n",
    "    # Save the updated master data back to the Excel file\n",
    "    with pd.ExcelWriter(file_path, mode='a', if_sheet_exists='replace', engine='openpyxl') as writer:\n",
    "        master_data.to_excel(writer, sheet_name='Master', index=False)\n",
    "else:\n",
    "    print(f\"Data for {target_date} is already in the Master sheet.\")"
   ]
  },
  {
   "cell_type": "markdown",
   "id": "0c36aaf1",
   "metadata": {},
   "source": [
    "## Normalizing Scores"
   ]
  },
  {
   "cell_type": "code",
   "execution_count": 52,
   "id": "d14a6f12",
   "metadata": {},
   "outputs": [],
   "source": [
    "def normalize_scores(data, score_column):\n",
    "    max_score = data[score_column].max()\n",
    "    min_score = data[score_column].min()\n",
    "    # Avoid division by zero in case all scores are the same\n",
    "    if max_score != min_score:\n",
    "        data['normalized_score'] = (data[score_column] - min_score) / (max_score - min_score)\n",
    "    else:\n",
    "        data['normalized_score'] = 0.5  # Arbitrary value in the middle if all scores are equal\n",
    "    return data"
   ]
  },
  {
   "cell_type": "code",
   "execution_count": 53,
   "id": "a591f84e",
   "metadata": {},
   "outputs": [],
   "source": [
    "reddit_data = master_data[master_data[\"Platform\"]==\"Reddit\"].copy()\n",
    "reddit_data = normalize_scores(reddit_data, 'Score')"
   ]
  },
  {
   "cell_type": "code",
   "execution_count": 54,
   "id": "7d528356",
   "metadata": {},
   "outputs": [],
   "source": [
    "youtube_data = master_data[master_data[\"Platform\"]==\"YouTube\"].copy()\n",
    "youtube_data[\"Views\"] = youtube_data[\"Views\"].astype(int)\n",
    "youtube_data = normalize_scores(youtube_data, \"Views\")"
   ]
  },
  {
   "cell_type": "code",
   "execution_count": 55,
   "id": "44ba591a",
   "metadata": {},
   "outputs": [],
   "source": [
    "tiktok_data = master_data[master_data[\"Platform\"]==\"TikTok\"].copy()\n",
    "tiktok_data = normalize_scores(tiktok_data, \"Views\")"
   ]
  },
  {
   "cell_type": "markdown",
   "id": "47b671a3",
   "metadata": {},
   "source": [
    "## Combining New Data with Original Dataframe"
   ]
  },
  {
   "cell_type": "code",
   "execution_count": 56,
   "id": "82b97d31",
   "metadata": {},
   "outputs": [
    {
     "data": {
      "text/html": [
       "<div>\n",
       "<style scoped>\n",
       "    .dataframe tbody tr th:only-of-type {\n",
       "        vertical-align: middle;\n",
       "    }\n",
       "\n",
       "    .dataframe tbody tr th {\n",
       "        vertical-align: top;\n",
       "    }\n",
       "\n",
       "    .dataframe thead th {\n",
       "        text-align: right;\n",
       "    }\n",
       "</style>\n",
       "<table border=\"1\" class=\"dataframe\">\n",
       "  <thead>\n",
       "    <tr style=\"text-align: right;\">\n",
       "      <th></th>\n",
       "      <th>Rank</th>\n",
       "      <th>Title</th>\n",
       "      <th>Platform</th>\n",
       "      <th>Subreddit</th>\n",
       "      <th>Category</th>\n",
       "      <th>Channel</th>\n",
       "      <th>Views</th>\n",
       "      <th>Publish_Count</th>\n",
       "      <th>Score</th>\n",
       "      <th>Subscribers</th>\n",
       "      <th>Comments</th>\n",
       "      <th>URL</th>\n",
       "      <th>Posted</th>\n",
       "      <th>Date</th>\n",
       "      <th>normalized_score</th>\n",
       "    </tr>\n",
       "  </thead>\n",
       "  <tbody>\n",
       "    <tr>\n",
       "      <th>0</th>\n",
       "      <td>1</td>\n",
       "      <td>Elon Musk: Last Week Tonight with John Oliver ...</td>\n",
       "      <td>YouTube</td>\n",
       "      <td>NaN</td>\n",
       "      <td>Entertainment</td>\n",
       "      <td>LastWeekTonight</td>\n",
       "      <td>1765142.0</td>\n",
       "      <td>NaN</td>\n",
       "      <td>85000.0</td>\n",
       "      <td>9300000.0</td>\n",
       "      <td>10172.0</td>\n",
       "      <td>NaN</td>\n",
       "      <td>2023-12-18 07:30:02</td>\n",
       "      <td>2023-12-18</td>\n",
       "      <td>0.023480</td>\n",
       "    </tr>\n",
       "    <tr>\n",
       "      <th>1</th>\n",
       "      <td>2</td>\n",
       "      <td>Presidential Pets: a Brief History</td>\n",
       "      <td>YouTube</td>\n",
       "      <td>NaN</td>\n",
       "      <td>Entertainment</td>\n",
       "      <td>Sam O'Nella Academy</td>\n",
       "      <td>1541482.0</td>\n",
       "      <td>NaN</td>\n",
       "      <td>236679.0</td>\n",
       "      <td>4370000.0</td>\n",
       "      <td>14123.0</td>\n",
       "      <td>NaN</td>\n",
       "      <td>2023-12-17 22:45:12</td>\n",
       "      <td>2023-12-18</td>\n",
       "      <td>0.020198</td>\n",
       "    </tr>\n",
       "    <tr>\n",
       "      <th>2</th>\n",
       "      <td>3</td>\n",
       "      <td>Salaar Release Trailer - Telugu | Prabhas | Pr...</td>\n",
       "      <td>YouTube</td>\n",
       "      <td>NaN</td>\n",
       "      <td>Film &amp; Animation</td>\n",
       "      <td>Hombale Films</td>\n",
       "      <td>14194865.0</td>\n",
       "      <td>NaN</td>\n",
       "      <td>679799.0</td>\n",
       "      <td>5150000.0</td>\n",
       "      <td>18046.0</td>\n",
       "      <td>NaN</td>\n",
       "      <td>2023-12-18 10:03:00</td>\n",
       "      <td>2023-12-18</td>\n",
       "      <td>0.205902</td>\n",
       "    </tr>\n",
       "    <tr>\n",
       "      <th>3</th>\n",
       "      <td>4</td>\n",
       "      <td>I Took A 52-Hour Overnight Train Across America</td>\n",
       "      <td>YouTube</td>\n",
       "      <td>NaN</td>\n",
       "      <td>People &amp; Blogs</td>\n",
       "      <td>Safiya Nygaard</td>\n",
       "      <td>703825.0</td>\n",
       "      <td>NaN</td>\n",
       "      <td>58963.0</td>\n",
       "      <td>9950000.0</td>\n",
       "      <td>2939.0</td>\n",
       "      <td>NaN</td>\n",
       "      <td>2023-12-18 01:29:38</td>\n",
       "      <td>2023-12-18</td>\n",
       "      <td>0.007904</td>\n",
       "    </tr>\n",
       "    <tr>\n",
       "      <th>4</th>\n",
       "      <td>5</td>\n",
       "      <td>Why Is The Day Before SUCH A SCAM?!</td>\n",
       "      <td>YouTube</td>\n",
       "      <td>NaN</td>\n",
       "      <td>Gaming</td>\n",
       "      <td>The Act Man</td>\n",
       "      <td>730341.0</td>\n",
       "      <td>NaN</td>\n",
       "      <td>44586.0</td>\n",
       "      <td>1840000.0</td>\n",
       "      <td>3904.0</td>\n",
       "      <td>NaN</td>\n",
       "      <td>2023-12-17 18:00:21</td>\n",
       "      <td>2023-12-18</td>\n",
       "      <td>0.008293</td>\n",
       "    </tr>\n",
       "  </tbody>\n",
       "</table>\n",
       "</div>"
      ],
      "text/plain": [
       "   Rank                                              Title Platform Subreddit  \\\n",
       "0     1  Elon Musk: Last Week Tonight with John Oliver ...  YouTube       NaN   \n",
       "1     2                 Presidential Pets: a Brief History  YouTube       NaN   \n",
       "2     3  Salaar Release Trailer - Telugu | Prabhas | Pr...  YouTube       NaN   \n",
       "3     4    I Took A 52-Hour Overnight Train Across America  YouTube       NaN   \n",
       "4     5                Why Is The Day Before SUCH A SCAM?!  YouTube       NaN   \n",
       "\n",
       "           Category              Channel       Views  Publish_Count     Score  \\\n",
       "0     Entertainment      LastWeekTonight   1765142.0            NaN   85000.0   \n",
       "1     Entertainment  Sam O'Nella Academy   1541482.0            NaN  236679.0   \n",
       "2  Film & Animation        Hombale Films  14194865.0            NaN  679799.0   \n",
       "3    People & Blogs       Safiya Nygaard    703825.0            NaN   58963.0   \n",
       "4            Gaming          The Act Man    730341.0            NaN   44586.0   \n",
       "\n",
       "   Subscribers Comments  URL               Posted        Date  \\\n",
       "0    9300000.0  10172.0  NaN  2023-12-18 07:30:02  2023-12-18   \n",
       "1    4370000.0  14123.0  NaN  2023-12-17 22:45:12  2023-12-18   \n",
       "2    5150000.0  18046.0  NaN  2023-12-18 10:03:00  2023-12-18   \n",
       "3    9950000.0   2939.0  NaN  2023-12-18 01:29:38  2023-12-18   \n",
       "4    1840000.0   3904.0  NaN  2023-12-17 18:00:21  2023-12-18   \n",
       "\n",
       "   normalized_score  \n",
       "0          0.023480  \n",
       "1          0.020198  \n",
       "2          0.205902  \n",
       "3          0.007904  \n",
       "4          0.008293  "
      ]
     },
     "execution_count": 56,
     "metadata": {},
     "output_type": "execute_result"
    }
   ],
   "source": [
    "combined_data = pd.concat([youtube_data, tiktok_data, reddit_data, master_data], ignore_index=True)\n",
    "\n",
    "# 'combined_data' now contains all the data with the normalized scores for each platform\n",
    "# Show the first few rows to verify\n",
    "combined_data.head()"
   ]
  },
  {
   "cell_type": "code",
   "execution_count": 57,
   "id": "85160fd3",
   "metadata": {},
   "outputs": [],
   "source": [
    "combined_data = combined_data.drop_duplicates(subset=['Title', 'Platform', 'Date'])"
   ]
  },
  {
   "cell_type": "code",
   "execution_count": 58,
   "id": "dcf81ab1",
   "metadata": {},
   "outputs": [
    {
     "data": {
      "text/plain": [
       "(240, 15)"
      ]
     },
     "execution_count": 58,
     "metadata": {},
     "output_type": "execute_result"
    }
   ],
   "source": [
    "combined_data.shape"
   ]
  },
  {
   "cell_type": "markdown",
   "id": "633fcbcf",
   "metadata": {},
   "source": [
    "## Standardizing Date and Time Format"
   ]
  },
  {
   "cell_type": "code",
   "execution_count": 59,
   "id": "41367a18",
   "metadata": {},
   "outputs": [],
   "source": [
    "import plotly.express as px\n",
    "\n",
    "# Convert 'Posted' to datetime\n",
    "combined_data['Posted'] = pd.to_datetime(combined_data['Posted'], errors='coerce')"
   ]
  },
  {
   "cell_type": "markdown",
   "id": "098ae316",
   "metadata": {},
   "source": [
    "## Adding Columns with Commas for Clearer Interpretation"
   ]
  },
  {
   "cell_type": "code",
   "execution_count": 60,
   "id": "d5cc0620",
   "metadata": {},
   "outputs": [],
   "source": [
    "combined_data['Comments'] = pd.to_numeric(combined_data['Comments'], errors='coerce').round()\n",
    "combined_data['Formatted_Comments'] = combined_data['Comments'].apply(lambda x: \"{:,}\".format(int(x)) if pd.notnull(x) else '')"
   ]
  },
  {
   "cell_type": "code",
   "execution_count": 61,
   "id": "6df71c3c",
   "metadata": {},
   "outputs": [],
   "source": [
    "combined_data['Views'] = pd.to_numeric(combined_data['Views'], errors='coerce').round()\n",
    "combined_data['Formatted_Views'] = combined_data['Views'].apply(lambda x: \"{:,}\".format(int(x)) if pd.notnull(x) else '')"
   ]
  },
  {
   "cell_type": "code",
   "execution_count": 62,
   "id": "a6b5840a",
   "metadata": {},
   "outputs": [],
   "source": [
    "combined_data['Score'] = pd.to_numeric(combined_data['Score'], errors='coerce').round()\n",
    "combined_data['Formatted_Score'] = combined_data['Score'].apply(lambda x: \"{:,}\".format(int(x)) if pd.notnull(x) else '')"
   ]
  },
  {
   "cell_type": "code",
   "execution_count": 63,
   "id": "5fe9a170",
   "metadata": {},
   "outputs": [],
   "source": [
    "combined_data['Publish_Count'] = pd.to_numeric(combined_data['Publish_Count'], errors='coerce').round()\n",
    "combined_data['Formatted_Publish_Count'] = combined_data['Publish_Count'].apply(lambda x: \"{:,}\".format(int(x)) if pd.notnull(x) else '')"
   ]
  },
  {
   "cell_type": "code",
   "execution_count": 64,
   "id": "21eb072a",
   "metadata": {},
   "outputs": [],
   "source": [
    "combined_data['Subscribers'] = pd.to_numeric(combined_data['Subscribers'], errors='coerce').round()\n",
    "combined_data['Formatted_Subscribers'] = combined_data['Subscribers'].apply(lambda x: \"{:,}\".format(int(x)) if pd.notnull(x) else '')"
   ]
  },
  {
   "cell_type": "markdown",
   "id": "a1687517",
   "metadata": {},
   "source": [
    "## Hover Info to Include in Plot"
   ]
  },
  {
   "cell_type": "code",
   "execution_count": 65,
   "id": "689100b6",
   "metadata": {},
   "outputs": [],
   "source": [
    "def create_hover_info(row):\n",
    "    # Common information to be included for all platforms\n",
    "    common_info = f\"Rank: {row['Rank']}\\nTitle: {row['Title']}\\nPlatform: {row['Platform']}\\nTime Posted: {row['Posted']}\"\n",
    "\n",
    "    # Platform-specific information\n",
    "    if row['Platform'] == 'YouTube':\n",
    "        return f\"{common_info}\\nChannel: {row['Channel']}\\nViews: {row['Formatted_Views']}\\nSubscribers: {row['Formatted_Subscribers']}\\nLikes: {row['Formatted_Score']}\\nComments: {row['Formatted_Comments']}\\nCategory: {row['Category']}\"\n",
    "    elif row['Platform'] == 'TikTok':\n",
    "        return f\"{common_info}\\nCategory: {row['Category']}\\nViews: {row['Formatted_Views']}\\nPublish Count: {row['Formatted_Publish_Count']}\"\n",
    "    elif row['Platform'] == 'Google':\n",
    "        return f\"{common_info}\\nCategory: {row['Category']}\"\n",
    "    elif row['Platform'] == 'Reddit':\n",
    "        return f\"{common_info}\\nSubreddit: {row['Subreddit']}\\nScore: {row['Formatted_Score']}\\nComments: {row['Formatted_Comments']}\\nURL: {row['URL']}\"\n",
    "    elif row['Platform'] == 'Global Business News':\n",
    "        return f\"{common_info}\\nURL: {row['URL']}\"\n",
    "    elif row['Platform'] == 'US Headlines':\n",
    "        return f\"{common_info}\\nURL: {row['URL']}\"\n",
    "    else:\n",
    "        return common_info\n",
    "\n",
    "# Apply the function to your DataFrame\n",
    "combined_data['hover_text'] = combined_data.apply(create_hover_info, axis=1)"
   ]
  },
  {
   "cell_type": "markdown",
   "id": "6a6473b7",
   "metadata": {},
   "source": [
    "## Scaling Normalized Scores for Ease of Interpretation"
   ]
  },
  {
   "cell_type": "code",
   "execution_count": 66,
   "id": "b298d3e3",
   "metadata": {},
   "outputs": [],
   "source": [
    "# Define the range for your circle sizes\n",
    "min_marker_size = 7   # Minimum marker size\n",
    "max_marker_size = 50  # Maximum marker size\n",
    "\n",
    "# Function to determine size based on normalized_score or ranking\n",
    "def calculate_scaled_size(row):\n",
    "    if pd.isna(row['normalized_score']):\n",
    "        # Inverse the rank (so lower ranks are bigger) and scale it\n",
    "        return max_marker_size - ((row['Rank'] - 1) / combined_data['Rank'].max() * (max_marker_size - min_marker_size))\n",
    "    else:\n",
    "        # Scale the normalized score\n",
    "        return row['normalized_score'] * (max_marker_size - min_marker_size) + min_marker_size\n",
    "\n",
    "# Apply the function to each row\n",
    "combined_data['scaled_size'] = combined_data.apply(calculate_scaled_size, axis=1)\n",
    "\n",
    "# Ensure 'normalized_score' is of numeric type\n",
    "combined_data['normalized_score'] = pd.to_numeric(combined_data['normalized_score'], errors='coerce')"
   ]
  },
  {
   "cell_type": "markdown",
   "id": "c7bfe984",
   "metadata": {},
   "source": [
    "## Manually creating date/time values for Google and TikTok"
   ]
  },
  {
   "cell_type": "code",
   "execution_count": 67,
   "id": "4c7ae4f8",
   "metadata": {},
   "outputs": [],
   "source": [
    "def generate_sequential_datetimes(data, offset_hours=0):\n",
    "    # Function to assign times within each date group\n",
    "    def assign_times(group):\n",
    "        base_datetime = pd.to_datetime(group['Date'].min()) + pd.to_timedelta(offset_hours, unit='h')\n",
    "        time_difference = pd.to_timedelta(group['Rank'] - 1, unit='h')\n",
    "        group['Posted'] = base_datetime + time_difference\n",
    "        group['Posted'] = group['Posted'].dt.strftime('%Y-%m-%d %H:%M:%S')\n",
    "        return group\n",
    "\n",
    "    # Group by 'Date', then apply the assign_times function to each group\n",
    "    data = data.groupby('Date', group_keys=False).apply(assign_times)\n",
    "    return data\n",
    "\n",
    "# Apply the function to Google data without offset\n",
    "google_data = combined_data[combined_data['Platform'] == 'Google']\n",
    "google_data = generate_sequential_datetimes(google_data)\n",
    "\n",
    "# Apply the function to TikTok data with an 8-hour offset\n",
    "tiktok_data = combined_data[combined_data['Platform'] == 'TikTok']\n",
    "tiktok_data = generate_sequential_datetimes(tiktok_data, offset_hours=8)\n",
    "\n",
    "# Merge the adjusted data back into the main DataFrame\n",
    "combined_data.update(google_data)\n",
    "combined_data.update(tiktok_data)"
   ]
  },
  {
   "cell_type": "code",
   "execution_count": 31,
   "id": "7ce65aad",
   "metadata": {},
   "outputs": [
    {
     "data": {
      "text/html": [
       "<div>\n",
       "<style scoped>\n",
       "    .dataframe tbody tr th:only-of-type {\n",
       "        vertical-align: middle;\n",
       "    }\n",
       "\n",
       "    .dataframe tbody tr th {\n",
       "        vertical-align: top;\n",
       "    }\n",
       "\n",
       "    .dataframe thead th {\n",
       "        text-align: right;\n",
       "    }\n",
       "</style>\n",
       "<table border=\"1\" class=\"dataframe\">\n",
       "  <thead>\n",
       "    <tr style=\"text-align: right;\">\n",
       "      <th></th>\n",
       "      <th>Rank</th>\n",
       "      <th>Title</th>\n",
       "      <th>Platform</th>\n",
       "      <th>Subreddit</th>\n",
       "      <th>Category</th>\n",
       "      <th>Channel</th>\n",
       "      <th>Views</th>\n",
       "      <th>Publish_Count</th>\n",
       "      <th>Score</th>\n",
       "      <th>Subscribers</th>\n",
       "      <th>...</th>\n",
       "      <th>Posted</th>\n",
       "      <th>Date</th>\n",
       "      <th>normalized_score</th>\n",
       "      <th>Formatted_Comments</th>\n",
       "      <th>Formatted_Views</th>\n",
       "      <th>Formatted_Score</th>\n",
       "      <th>Formatted_Publish_Count</th>\n",
       "      <th>Formatted_Subscribers</th>\n",
       "      <th>hover_text</th>\n",
       "      <th>scaled_size</th>\n",
       "    </tr>\n",
       "  </thead>\n",
       "  <tbody>\n",
       "    <tr>\n",
       "      <th>0</th>\n",
       "      <td>1.0</td>\n",
       "      <td>Elon Musk: Last Week Tonight with John Oliver ...</td>\n",
       "      <td>YouTube</td>\n",
       "      <td>NaN</td>\n",
       "      <td>Entertainment</td>\n",
       "      <td>LastWeekTonight</td>\n",
       "      <td>1765142.0</td>\n",
       "      <td>NaN</td>\n",
       "      <td>85000.0</td>\n",
       "      <td>9300000.0</td>\n",
       "      <td>...</td>\n",
       "      <td>2023-12-18 07:30:02</td>\n",
       "      <td>2023-12-18</td>\n",
       "      <td>0.023480</td>\n",
       "      <td>10,172</td>\n",
       "      <td>1,765,142</td>\n",
       "      <td>85,000</td>\n",
       "      <td></td>\n",
       "      <td>9,300,000</td>\n",
       "      <td>Rank: 1\\nTitle: Elon Musk: Last Week Tonight w...</td>\n",
       "      <td>8.009641</td>\n",
       "    </tr>\n",
       "    <tr>\n",
       "      <th>1</th>\n",
       "      <td>2.0</td>\n",
       "      <td>Presidential Pets: a Brief History</td>\n",
       "      <td>YouTube</td>\n",
       "      <td>NaN</td>\n",
       "      <td>Entertainment</td>\n",
       "      <td>Sam O'Nella Academy</td>\n",
       "      <td>1541482.0</td>\n",
       "      <td>NaN</td>\n",
       "      <td>236679.0</td>\n",
       "      <td>4370000.0</td>\n",
       "      <td>...</td>\n",
       "      <td>2023-12-17 22:45:12</td>\n",
       "      <td>2023-12-18</td>\n",
       "      <td>0.020198</td>\n",
       "      <td>14,123</td>\n",
       "      <td>1,541,482</td>\n",
       "      <td>236,679</td>\n",
       "      <td></td>\n",
       "      <td>4,370,000</td>\n",
       "      <td>Rank: 2\\nTitle: Presidential Pets: a Brief His...</td>\n",
       "      <td>7.868494</td>\n",
       "    </tr>\n",
       "    <tr>\n",
       "      <th>2</th>\n",
       "      <td>3.0</td>\n",
       "      <td>Salaar Release Trailer - Telugu | Prabhas | Pr...</td>\n",
       "      <td>YouTube</td>\n",
       "      <td>NaN</td>\n",
       "      <td>Film &amp; Animation</td>\n",
       "      <td>Hombale Films</td>\n",
       "      <td>14194865.0</td>\n",
       "      <td>NaN</td>\n",
       "      <td>679799.0</td>\n",
       "      <td>5150000.0</td>\n",
       "      <td>...</td>\n",
       "      <td>2023-12-18 10:03:00</td>\n",
       "      <td>2023-12-18</td>\n",
       "      <td>0.205902</td>\n",
       "      <td>18,046</td>\n",
       "      <td>14,194,865</td>\n",
       "      <td>679,799</td>\n",
       "      <td></td>\n",
       "      <td>5,150,000</td>\n",
       "      <td>Rank: 3\\nTitle: Salaar Release Trailer - Telug...</td>\n",
       "      <td>15.853790</td>\n",
       "    </tr>\n",
       "    <tr>\n",
       "      <th>3</th>\n",
       "      <td>4.0</td>\n",
       "      <td>I Took A 52-Hour Overnight Train Across America</td>\n",
       "      <td>YouTube</td>\n",
       "      <td>NaN</td>\n",
       "      <td>People &amp; Blogs</td>\n",
       "      <td>Safiya Nygaard</td>\n",
       "      <td>703825.0</td>\n",
       "      <td>NaN</td>\n",
       "      <td>58963.0</td>\n",
       "      <td>9950000.0</td>\n",
       "      <td>...</td>\n",
       "      <td>2023-12-18 01:29:38</td>\n",
       "      <td>2023-12-18</td>\n",
       "      <td>0.007904</td>\n",
       "      <td>2,939</td>\n",
       "      <td>703,825</td>\n",
       "      <td>58,963</td>\n",
       "      <td></td>\n",
       "      <td>9,950,000</td>\n",
       "      <td>Rank: 4\\nTitle: I Took A 52-Hour Overnight Tra...</td>\n",
       "      <td>7.339865</td>\n",
       "    </tr>\n",
       "    <tr>\n",
       "      <th>4</th>\n",
       "      <td>5.0</td>\n",
       "      <td>Why Is The Day Before SUCH A SCAM?!</td>\n",
       "      <td>YouTube</td>\n",
       "      <td>NaN</td>\n",
       "      <td>Gaming</td>\n",
       "      <td>The Act Man</td>\n",
       "      <td>730341.0</td>\n",
       "      <td>NaN</td>\n",
       "      <td>44586.0</td>\n",
       "      <td>1840000.0</td>\n",
       "      <td>...</td>\n",
       "      <td>2023-12-17 18:00:21</td>\n",
       "      <td>2023-12-18</td>\n",
       "      <td>0.008293</td>\n",
       "      <td>3,904</td>\n",
       "      <td>730,341</td>\n",
       "      <td>44,586</td>\n",
       "      <td></td>\n",
       "      <td>1,840,000</td>\n",
       "      <td>Rank: 5\\nTitle: Why Is The Day Before SUCH A S...</td>\n",
       "      <td>7.356599</td>\n",
       "    </tr>\n",
       "    <tr>\n",
       "      <th>...</th>\n",
       "      <td>...</td>\n",
       "      <td>...</td>\n",
       "      <td>...</td>\n",
       "      <td>...</td>\n",
       "      <td>...</td>\n",
       "      <td>...</td>\n",
       "      <td>...</td>\n",
       "      <td>...</td>\n",
       "      <td>...</td>\n",
       "      <td>...</td>\n",
       "      <td>...</td>\n",
       "      <td>...</td>\n",
       "      <td>...</td>\n",
       "      <td>...</td>\n",
       "      <td>...</td>\n",
       "      <td>...</td>\n",
       "      <td>...</td>\n",
       "      <td>...</td>\n",
       "      <td>...</td>\n",
       "      <td>...</td>\n",
       "      <td>...</td>\n",
       "    </tr>\n",
       "    <tr>\n",
       "      <th>255</th>\n",
       "      <td>6.0</td>\n",
       "      <td>Chelsea vs Newcastle</td>\n",
       "      <td>Google</td>\n",
       "      <td>NaN</td>\n",
       "      <td>NaN</td>\n",
       "      <td>NaN</td>\n",
       "      <td>NaN</td>\n",
       "      <td>NaN</td>\n",
       "      <td>NaN</td>\n",
       "      <td>NaN</td>\n",
       "      <td>...</td>\n",
       "      <td>2023-12-20 05:00:00</td>\n",
       "      <td>2023-12-20</td>\n",
       "      <td>NaN</td>\n",
       "      <td></td>\n",
       "      <td></td>\n",
       "      <td></td>\n",
       "      <td></td>\n",
       "      <td></td>\n",
       "      <td>Rank: 6\\nTitle: Chelsea vs Newcastle\\nPlatform...</td>\n",
       "      <td>28.500000</td>\n",
       "    </tr>\n",
       "    <tr>\n",
       "      <th>256</th>\n",
       "      <td>7.0</td>\n",
       "      <td>Percy Jackson</td>\n",
       "      <td>Google</td>\n",
       "      <td>NaN</td>\n",
       "      <td>NaN</td>\n",
       "      <td>NaN</td>\n",
       "      <td>NaN</td>\n",
       "      <td>NaN</td>\n",
       "      <td>NaN</td>\n",
       "      <td>NaN</td>\n",
       "      <td>...</td>\n",
       "      <td>2023-12-20 06:00:00</td>\n",
       "      <td>2023-12-20</td>\n",
       "      <td>NaN</td>\n",
       "      <td></td>\n",
       "      <td></td>\n",
       "      <td></td>\n",
       "      <td></td>\n",
       "      <td></td>\n",
       "      <td>Rank: 7\\nTitle: Percy Jackson\\nPlatform: Googl...</td>\n",
       "      <td>24.200000</td>\n",
       "    </tr>\n",
       "    <tr>\n",
       "      <th>257</th>\n",
       "      <td>8.0</td>\n",
       "      <td>Minnesota flag</td>\n",
       "      <td>Google</td>\n",
       "      <td>NaN</td>\n",
       "      <td>NaN</td>\n",
       "      <td>NaN</td>\n",
       "      <td>NaN</td>\n",
       "      <td>NaN</td>\n",
       "      <td>NaN</td>\n",
       "      <td>NaN</td>\n",
       "      <td>...</td>\n",
       "      <td>2023-12-20 07:00:00</td>\n",
       "      <td>2023-12-20</td>\n",
       "      <td>NaN</td>\n",
       "      <td></td>\n",
       "      <td></td>\n",
       "      <td></td>\n",
       "      <td></td>\n",
       "      <td></td>\n",
       "      <td>Rank: 8\\nTitle: Minnesota flag\\nPlatform: Goog...</td>\n",
       "      <td>19.900000</td>\n",
       "    </tr>\n",
       "    <tr>\n",
       "      <th>258</th>\n",
       "      <td>9.0</td>\n",
       "      <td>Man City</td>\n",
       "      <td>Google</td>\n",
       "      <td>NaN</td>\n",
       "      <td>NaN</td>\n",
       "      <td>NaN</td>\n",
       "      <td>NaN</td>\n",
       "      <td>NaN</td>\n",
       "      <td>NaN</td>\n",
       "      <td>NaN</td>\n",
       "      <td>...</td>\n",
       "      <td>2023-12-20 08:00:00</td>\n",
       "      <td>2023-12-20</td>\n",
       "      <td>NaN</td>\n",
       "      <td></td>\n",
       "      <td></td>\n",
       "      <td></td>\n",
       "      <td></td>\n",
       "      <td></td>\n",
       "      <td>Rank: 9\\nTitle: Man City\\nPlatform: Google\\nTi...</td>\n",
       "      <td>15.600000</td>\n",
       "    </tr>\n",
       "    <tr>\n",
       "      <th>259</th>\n",
       "      <td>10.0</td>\n",
       "      <td>Celtics vs Warriors</td>\n",
       "      <td>Google</td>\n",
       "      <td>NaN</td>\n",
       "      <td>NaN</td>\n",
       "      <td>NaN</td>\n",
       "      <td>NaN</td>\n",
       "      <td>NaN</td>\n",
       "      <td>NaN</td>\n",
       "      <td>NaN</td>\n",
       "      <td>...</td>\n",
       "      <td>2023-12-20 09:00:00</td>\n",
       "      <td>2023-12-20</td>\n",
       "      <td>NaN</td>\n",
       "      <td></td>\n",
       "      <td></td>\n",
       "      <td></td>\n",
       "      <td></td>\n",
       "      <td></td>\n",
       "      <td>Rank: 10\\nTitle: Celtics vs Warriors\\nPlatform...</td>\n",
       "      <td>11.300000</td>\n",
       "    </tr>\n",
       "  </tbody>\n",
       "</table>\n",
       "<p>180 rows × 22 columns</p>\n",
       "</div>"
      ],
      "text/plain": [
       "     Rank                                              Title Platform  \\\n",
       "0     1.0  Elon Musk: Last Week Tonight with John Oliver ...  YouTube   \n",
       "1     2.0                 Presidential Pets: a Brief History  YouTube   \n",
       "2     3.0  Salaar Release Trailer - Telugu | Prabhas | Pr...  YouTube   \n",
       "3     4.0    I Took A 52-Hour Overnight Train Across America  YouTube   \n",
       "4     5.0                Why Is The Day Before SUCH A SCAM?!  YouTube   \n",
       "..    ...                                                ...      ...   \n",
       "255   6.0                               Chelsea vs Newcastle   Google   \n",
       "256   7.0                                      Percy Jackson   Google   \n",
       "257   8.0                                     Minnesota flag   Google   \n",
       "258   9.0                                           Man City   Google   \n",
       "259  10.0                                Celtics vs Warriors   Google   \n",
       "\n",
       "    Subreddit          Category              Channel       Views  \\\n",
       "0         NaN     Entertainment      LastWeekTonight   1765142.0   \n",
       "1         NaN     Entertainment  Sam O'Nella Academy   1541482.0   \n",
       "2         NaN  Film & Animation        Hombale Films  14194865.0   \n",
       "3         NaN    People & Blogs       Safiya Nygaard    703825.0   \n",
       "4         NaN            Gaming          The Act Man    730341.0   \n",
       "..        ...               ...                  ...         ...   \n",
       "255       NaN               NaN                  NaN         NaN   \n",
       "256       NaN               NaN                  NaN         NaN   \n",
       "257       NaN               NaN                  NaN         NaN   \n",
       "258       NaN               NaN                  NaN         NaN   \n",
       "259       NaN               NaN                  NaN         NaN   \n",
       "\n",
       "     Publish_Count     Score  Subscribers  ...               Posted  \\\n",
       "0              NaN   85000.0    9300000.0  ...  2023-12-18 07:30:02   \n",
       "1              NaN  236679.0    4370000.0  ...  2023-12-17 22:45:12   \n",
       "2              NaN  679799.0    5150000.0  ...  2023-12-18 10:03:00   \n",
       "3              NaN   58963.0    9950000.0  ...  2023-12-18 01:29:38   \n",
       "4              NaN   44586.0    1840000.0  ...  2023-12-17 18:00:21   \n",
       "..             ...       ...          ...  ...                  ...   \n",
       "255            NaN       NaN          NaN  ...  2023-12-20 05:00:00   \n",
       "256            NaN       NaN          NaN  ...  2023-12-20 06:00:00   \n",
       "257            NaN       NaN          NaN  ...  2023-12-20 07:00:00   \n",
       "258            NaN       NaN          NaN  ...  2023-12-20 08:00:00   \n",
       "259            NaN       NaN          NaN  ...  2023-12-20 09:00:00   \n",
       "\n",
       "           Date normalized_score Formatted_Comments  Formatted_Views  \\\n",
       "0    2023-12-18         0.023480             10,172        1,765,142   \n",
       "1    2023-12-18         0.020198             14,123        1,541,482   \n",
       "2    2023-12-18         0.205902             18,046       14,194,865   \n",
       "3    2023-12-18         0.007904              2,939          703,825   \n",
       "4    2023-12-18         0.008293              3,904          730,341   \n",
       "..          ...              ...                ...              ...   \n",
       "255  2023-12-20              NaN                                       \n",
       "256  2023-12-20              NaN                                       \n",
       "257  2023-12-20              NaN                                       \n",
       "258  2023-12-20              NaN                                       \n",
       "259  2023-12-20              NaN                                       \n",
       "\n",
       "    Formatted_Score Formatted_Publish_Count Formatted_Subscribers  \\\n",
       "0            85,000                                     9,300,000   \n",
       "1           236,679                                     4,370,000   \n",
       "2           679,799                                     5,150,000   \n",
       "3            58,963                                     9,950,000   \n",
       "4            44,586                                     1,840,000   \n",
       "..              ...                     ...                   ...   \n",
       "255                                                                 \n",
       "256                                                                 \n",
       "257                                                                 \n",
       "258                                                                 \n",
       "259                                                                 \n",
       "\n",
       "                                            hover_text scaled_size  \n",
       "0    Rank: 1\\nTitle: Elon Musk: Last Week Tonight w...    8.009641  \n",
       "1    Rank: 2\\nTitle: Presidential Pets: a Brief His...    7.868494  \n",
       "2    Rank: 3\\nTitle: Salaar Release Trailer - Telug...   15.853790  \n",
       "3    Rank: 4\\nTitle: I Took A 52-Hour Overnight Tra...    7.339865  \n",
       "4    Rank: 5\\nTitle: Why Is The Day Before SUCH A S...    7.356599  \n",
       "..                                                 ...         ...  \n",
       "255  Rank: 6\\nTitle: Chelsea vs Newcastle\\nPlatform...   28.500000  \n",
       "256  Rank: 7\\nTitle: Percy Jackson\\nPlatform: Googl...   24.200000  \n",
       "257  Rank: 8\\nTitle: Minnesota flag\\nPlatform: Goog...   19.900000  \n",
       "258  Rank: 9\\nTitle: Man City\\nPlatform: Google\\nTi...   15.600000  \n",
       "259  Rank: 10\\nTitle: Celtics vs Warriors\\nPlatform...   11.300000  \n",
       "\n",
       "[180 rows x 22 columns]"
      ]
     },
     "execution_count": 31,
     "metadata": {},
     "output_type": "execute_result"
    }
   ],
   "source": [
    "combined_data"
   ]
  },
  {
   "cell_type": "code",
   "execution_count": 68,
   "id": "6e922314",
   "metadata": {},
   "outputs": [],
   "source": [
    "combined_data['hover_text'] = combined_data['hover_text'].str.replace('\\n', '<br>')"
   ]
  },
  {
   "cell_type": "code",
   "execution_count": 69,
   "id": "78e3a009",
   "metadata": {},
   "outputs": [],
   "source": [
    "combined_data = combined_data[~combined_data['Title'].str.contains('remove', case=False, na=False)]"
   ]
  },
  {
   "cell_type": "markdown",
   "id": "7a788189",
   "metadata": {},
   "source": [
    "## Bubble Plot"
   ]
  },
  {
   "cell_type": "code",
   "execution_count": 70,
   "id": "44275d02",
   "metadata": {},
   "outputs": [],
   "source": [
    "import plotly.graph_objects as go"
   ]
  },
  {
   "cell_type": "code",
   "execution_count": 71,
   "id": "12b69416",
   "metadata": {},
   "outputs": [],
   "source": [
    "combined_data = combined_data.sort_values(by=['Title', 'Date'])"
   ]
  },
  {
   "cell_type": "code",
   "execution_count": 72,
   "id": "fa523ad0",
   "metadata": {},
   "outputs": [
    {
     "data": {
      "text/html": [
       "<div>\n",
       "<style scoped>\n",
       "    .dataframe tbody tr th:only-of-type {\n",
       "        vertical-align: middle;\n",
       "    }\n",
       "\n",
       "    .dataframe tbody tr th {\n",
       "        vertical-align: top;\n",
       "    }\n",
       "\n",
       "    .dataframe thead th {\n",
       "        text-align: right;\n",
       "    }\n",
       "</style>\n",
       "<table border=\"1\" class=\"dataframe\">\n",
       "  <thead>\n",
       "    <tr style=\"text-align: right;\">\n",
       "      <th></th>\n",
       "      <th>Rank</th>\n",
       "      <th>Title</th>\n",
       "      <th>Platform</th>\n",
       "      <th>Subreddit</th>\n",
       "      <th>Category</th>\n",
       "      <th>Channel</th>\n",
       "      <th>Views</th>\n",
       "      <th>Publish_Count</th>\n",
       "      <th>Score</th>\n",
       "      <th>Subscribers</th>\n",
       "      <th>...</th>\n",
       "      <th>Posted</th>\n",
       "      <th>Date</th>\n",
       "      <th>normalized_score</th>\n",
       "      <th>Formatted_Comments</th>\n",
       "      <th>Formatted_Views</th>\n",
       "      <th>Formatted_Score</th>\n",
       "      <th>Formatted_Publish_Count</th>\n",
       "      <th>Formatted_Subscribers</th>\n",
       "      <th>hover_text</th>\n",
       "      <th>scaled_size</th>\n",
       "    </tr>\n",
       "  </thead>\n",
       "  <tbody>\n",
       "    <tr>\n",
       "      <th>48</th>\n",
       "      <td>9.0</td>\n",
       "      <td>318</td>\n",
       "      <td>TikTok</td>\n",
       "      <td>NaN</td>\n",
       "      <td>Games</td>\n",
       "      <td>NaN</td>\n",
       "      <td>14877724.0</td>\n",
       "      <td>41078.0</td>\n",
       "      <td>NaN</td>\n",
       "      <td>NaN</td>\n",
       "      <td>...</td>\n",
       "      <td>2023-12-18 16:00:00</td>\n",
       "      <td>2023-12-18</td>\n",
       "      <td>0.030167</td>\n",
       "      <td></td>\n",
       "      <td>14,877,724</td>\n",
       "      <td></td>\n",
       "      <td>41,078</td>\n",
       "      <td></td>\n",
       "      <td>Rank: 9&lt;br&gt;Title: 318&lt;br&gt;Platform: TikTok&lt;br&gt;T...</td>\n",
       "      <td>8.297187</td>\n",
       "    </tr>\n",
       "    <tr>\n",
       "      <th>119</th>\n",
       "      <td>10.0</td>\n",
       "      <td>\"Betas who like to think they are Alpha males\"</td>\n",
       "      <td>Reddit</td>\n",
       "      <td>clevercomebacks</td>\n",
       "      <td>NaN</td>\n",
       "      <td>NaN</td>\n",
       "      <td>NaN</td>\n",
       "      <td>NaN</td>\n",
       "      <td>30021.0</td>\n",
       "      <td>NaN</td>\n",
       "      <td>...</td>\n",
       "      <td>2023-12-20 10:23:25</td>\n",
       "      <td>2023-12-21</td>\n",
       "      <td>0.227871</td>\n",
       "      <td>1,251</td>\n",
       "      <td></td>\n",
       "      <td>30,021</td>\n",
       "      <td></td>\n",
       "      <td></td>\n",
       "      <td>Rank: 10&lt;br&gt;Title: \"Betas who like to think th...</td>\n",
       "      <td>16.798435</td>\n",
       "    </tr>\n",
       "    <tr>\n",
       "      <th>321</th>\n",
       "      <td>2.0</td>\n",
       "      <td>2 Cars In Garage Enough: Why Sal Khan Quit Plu...</td>\n",
       "      <td>Global Business News</td>\n",
       "      <td>NaN</td>\n",
       "      <td>NaN</td>\n",
       "      <td>NaN</td>\n",
       "      <td>NaN</td>\n",
       "      <td>NaN</td>\n",
       "      <td>NaN</td>\n",
       "      <td>NaN</td>\n",
       "      <td>...</td>\n",
       "      <td>2023-12-20 16:02:00+00:00</td>\n",
       "      <td>2023-12-21</td>\n",
       "      <td>NaN</td>\n",
       "      <td></td>\n",
       "      <td></td>\n",
       "      <td></td>\n",
       "      <td></td>\n",
       "      <td></td>\n",
       "      <td>Rank: 2&lt;br&gt;Title: 2 Cars In Garage Enough: Why...</td>\n",
       "      <td>45.700000</td>\n",
       "    </tr>\n",
       "    <tr>\n",
       "      <th>324</th>\n",
       "      <td>5.0</td>\n",
       "      <td>2 Tata cars get 5 stars as Bharat-NCAP awards ...</td>\n",
       "      <td>Global Business News</td>\n",
       "      <td>NaN</td>\n",
       "      <td>NaN</td>\n",
       "      <td>NaN</td>\n",
       "      <td>NaN</td>\n",
       "      <td>NaN</td>\n",
       "      <td>NaN</td>\n",
       "      <td>NaN</td>\n",
       "      <td>...</td>\n",
       "      <td>2023-12-20 15:31:25+00:00</td>\n",
       "      <td>2023-12-21</td>\n",
       "      <td>NaN</td>\n",
       "      <td></td>\n",
       "      <td></td>\n",
       "      <td></td>\n",
       "      <td></td>\n",
       "      <td></td>\n",
       "      <td>Rank: 5&lt;br&gt;Title: 2 Tata cars get 5 stars as B...</td>\n",
       "      <td>32.800000</td>\n",
       "    </tr>\n",
       "    <tr>\n",
       "      <th>317</th>\n",
       "      <td>8.0</td>\n",
       "      <td>24-hour flash sale at Best Buy — Macs from $74...</td>\n",
       "      <td>US Headlines</td>\n",
       "      <td>NaN</td>\n",
       "      <td>NaN</td>\n",
       "      <td>NaN</td>\n",
       "      <td>NaN</td>\n",
       "      <td>NaN</td>\n",
       "      <td>NaN</td>\n",
       "      <td>NaN</td>\n",
       "      <td>...</td>\n",
       "      <td>2023-12-20 14:23:26+00:00</td>\n",
       "      <td>2023-12-21</td>\n",
       "      <td>NaN</td>\n",
       "      <td></td>\n",
       "      <td></td>\n",
       "      <td></td>\n",
       "      <td></td>\n",
       "      <td></td>\n",
       "      <td>Rank: 8&lt;br&gt;Title: 24-hour flash sale at Best B...</td>\n",
       "      <td>19.900000</td>\n",
       "    </tr>\n",
       "    <tr>\n",
       "      <th>...</th>\n",
       "      <td>...</td>\n",
       "      <td>...</td>\n",
       "      <td>...</td>\n",
       "      <td>...</td>\n",
       "      <td>...</td>\n",
       "      <td>...</td>\n",
       "      <td>...</td>\n",
       "      <td>...</td>\n",
       "      <td>...</td>\n",
       "      <td>...</td>\n",
       "      <td>...</td>\n",
       "      <td>...</td>\n",
       "      <td>...</td>\n",
       "      <td>...</td>\n",
       "      <td>...</td>\n",
       "      <td>...</td>\n",
       "      <td>...</td>\n",
       "      <td>...</td>\n",
       "      <td>...</td>\n",
       "      <td>...</td>\n",
       "      <td>...</td>\n",
       "    </tr>\n",
       "    <tr>\n",
       "      <th>73</th>\n",
       "      <td>4.0</td>\n",
       "      <td>wompwomp</td>\n",
       "      <td>TikTok</td>\n",
       "      <td>NaN</td>\n",
       "      <td>NaN</td>\n",
       "      <td>NaN</td>\n",
       "      <td>27543846.0</td>\n",
       "      <td>12307.0</td>\n",
       "      <td>NaN</td>\n",
       "      <td>NaN</td>\n",
       "      <td>...</td>\n",
       "      <td>2023-12-21 11:00:00</td>\n",
       "      <td>2023-12-21</td>\n",
       "      <td>0.126962</td>\n",
       "      <td></td>\n",
       "      <td>27,543,846</td>\n",
       "      <td></td>\n",
       "      <td>12,307</td>\n",
       "      <td></td>\n",
       "      <td>Rank: 4&lt;br&gt;Title: wompwomp&lt;br&gt;Platform: TikTok...</td>\n",
       "      <td>12.459355</td>\n",
       "    </tr>\n",
       "    <tr>\n",
       "      <th>94</th>\n",
       "      <td>5.0</td>\n",
       "      <td>“Sold his soul to Wokeness” yeah NO</td>\n",
       "      <td>Reddit</td>\n",
       "      <td>facepalm</td>\n",
       "      <td>NaN</td>\n",
       "      <td>NaN</td>\n",
       "      <td>NaN</td>\n",
       "      <td>NaN</td>\n",
       "      <td>38872.0</td>\n",
       "      <td>NaN</td>\n",
       "      <td>...</td>\n",
       "      <td>2023-12-18 13:51:30</td>\n",
       "      <td>2023-12-19</td>\n",
       "      <td>0.380445</td>\n",
       "      <td>3,715</td>\n",
       "      <td></td>\n",
       "      <td>38,872</td>\n",
       "      <td></td>\n",
       "      <td></td>\n",
       "      <td>Rank: 5&lt;br&gt;Title: “Sold his soul to Wokeness” ...</td>\n",
       "      <td>23.359139</td>\n",
       "    </tr>\n",
       "    <tr>\n",
       "      <th>312</th>\n",
       "      <td>3.0</td>\n",
       "      <td>👀 KEPT RECEIPTS! 👀 Stephen A., JWill &amp; Mad Dog...</td>\n",
       "      <td>US Headlines</td>\n",
       "      <td>NaN</td>\n",
       "      <td>NaN</td>\n",
       "      <td>NaN</td>\n",
       "      <td>NaN</td>\n",
       "      <td>NaN</td>\n",
       "      <td>NaN</td>\n",
       "      <td>NaN</td>\n",
       "      <td>...</td>\n",
       "      <td>2023-12-20 15:40:49+00:00</td>\n",
       "      <td>2023-12-21</td>\n",
       "      <td>NaN</td>\n",
       "      <td></td>\n",
       "      <td></td>\n",
       "      <td></td>\n",
       "      <td></td>\n",
       "      <td></td>\n",
       "      <td>Rank: 3&lt;br&gt;Title: 👀 KEPT RECEIPTS! 👀 Stephen A...</td>\n",
       "      <td>41.400000</td>\n",
       "    </tr>\n",
       "    <tr>\n",
       "      <th>27</th>\n",
       "      <td>8.0</td>\n",
       "      <td>🚨 PENALTY SHOOTOUT! 🚨 Chelsea vs. Newcastle | ...</td>\n",
       "      <td>YouTube</td>\n",
       "      <td>NaN</td>\n",
       "      <td>Sports</td>\n",
       "      <td>ESPN FC</td>\n",
       "      <td>467640.0</td>\n",
       "      <td>NaN</td>\n",
       "      <td>6219.0</td>\n",
       "      <td>3480000.0</td>\n",
       "      <td>...</td>\n",
       "      <td>2023-12-19 22:21:04</td>\n",
       "      <td>2023-12-20</td>\n",
       "      <td>0.004438</td>\n",
       "      <td>749</td>\n",
       "      <td>467,640</td>\n",
       "      <td>6,219</td>\n",
       "      <td></td>\n",
       "      <td>3,480,000</td>\n",
       "      <td>Rank: 8&lt;br&gt;Title: 🚨 PENALTY SHOOTOUT! 🚨 Chelse...</td>\n",
       "      <td>7.190813</td>\n",
       "    </tr>\n",
       "    <tr>\n",
       "      <th>99</th>\n",
       "      <td>10.0</td>\n",
       "      <td>🤦🏽‍♂️</td>\n",
       "      <td>Reddit</td>\n",
       "      <td>facepalm</td>\n",
       "      <td>NaN</td>\n",
       "      <td>NaN</td>\n",
       "      <td>NaN</td>\n",
       "      <td>NaN</td>\n",
       "      <td>30336.0</td>\n",
       "      <td>NaN</td>\n",
       "      <td>...</td>\n",
       "      <td>2023-12-19 01:20:20</td>\n",
       "      <td>2023-12-19</td>\n",
       "      <td>0.233301</td>\n",
       "      <td>921</td>\n",
       "      <td></td>\n",
       "      <td>30,336</td>\n",
       "      <td></td>\n",
       "      <td></td>\n",
       "      <td>Rank: 10&lt;br&gt;Title: 🤦🏽‍♂️&lt;br&gt;Platform: Reddit&lt;b...</td>\n",
       "      <td>17.031925</td>\n",
       "    </tr>\n",
       "  </tbody>\n",
       "</table>\n",
       "<p>238 rows × 22 columns</p>\n",
       "</div>"
      ],
      "text/plain": [
       "     Rank                                              Title  \\\n",
       "48    9.0                                                318   \n",
       "119  10.0     \"Betas who like to think they are Alpha males\"   \n",
       "321   2.0  2 Cars In Garage Enough: Why Sal Khan Quit Plu...   \n",
       "324   5.0  2 Tata cars get 5 stars as Bharat-NCAP awards ...   \n",
       "317   8.0  24-hour flash sale at Best Buy — Macs from $74...   \n",
       "..    ...                                                ...   \n",
       "73    4.0                                           wompwomp   \n",
       "94    5.0                “Sold his soul to Wokeness” yeah NO   \n",
       "312   3.0  👀 KEPT RECEIPTS! 👀 Stephen A., JWill & Mad Dog...   \n",
       "27    8.0  🚨 PENALTY SHOOTOUT! 🚨 Chelsea vs. Newcastle | ...   \n",
       "99   10.0                                              🤦🏽‍♂️   \n",
       "\n",
       "                 Platform        Subreddit Category  Channel       Views  \\\n",
       "48                 TikTok              NaN    Games      NaN  14877724.0   \n",
       "119                Reddit  clevercomebacks      NaN      NaN         NaN   \n",
       "321  Global Business News              NaN      NaN      NaN         NaN   \n",
       "324  Global Business News              NaN      NaN      NaN         NaN   \n",
       "317          US Headlines              NaN      NaN      NaN         NaN   \n",
       "..                    ...              ...      ...      ...         ...   \n",
       "73                 TikTok              NaN      NaN      NaN  27543846.0   \n",
       "94                 Reddit         facepalm      NaN      NaN         NaN   \n",
       "312          US Headlines              NaN      NaN      NaN         NaN   \n",
       "27                YouTube              NaN   Sports  ESPN FC    467640.0   \n",
       "99                 Reddit         facepalm      NaN      NaN         NaN   \n",
       "\n",
       "     Publish_Count    Score  Subscribers  ...                     Posted  \\\n",
       "48         41078.0      NaN          NaN  ...        2023-12-18 16:00:00   \n",
       "119            NaN  30021.0          NaN  ...        2023-12-20 10:23:25   \n",
       "321            NaN      NaN          NaN  ...  2023-12-20 16:02:00+00:00   \n",
       "324            NaN      NaN          NaN  ...  2023-12-20 15:31:25+00:00   \n",
       "317            NaN      NaN          NaN  ...  2023-12-20 14:23:26+00:00   \n",
       "..             ...      ...          ...  ...                        ...   \n",
       "73         12307.0      NaN          NaN  ...        2023-12-21 11:00:00   \n",
       "94             NaN  38872.0          NaN  ...        2023-12-18 13:51:30   \n",
       "312            NaN      NaN          NaN  ...  2023-12-20 15:40:49+00:00   \n",
       "27             NaN   6219.0    3480000.0  ...        2023-12-19 22:21:04   \n",
       "99             NaN  30336.0          NaN  ...        2023-12-19 01:20:20   \n",
       "\n",
       "           Date normalized_score Formatted_Comments  Formatted_Views  \\\n",
       "48   2023-12-18         0.030167                          14,877,724   \n",
       "119  2023-12-21         0.227871              1,251                    \n",
       "321  2023-12-21              NaN                                       \n",
       "324  2023-12-21              NaN                                       \n",
       "317  2023-12-21              NaN                                       \n",
       "..          ...              ...                ...              ...   \n",
       "73   2023-12-21         0.126962                          27,543,846   \n",
       "94   2023-12-19         0.380445              3,715                    \n",
       "312  2023-12-21              NaN                                       \n",
       "27   2023-12-20         0.004438                749          467,640   \n",
       "99   2023-12-19         0.233301                921                    \n",
       "\n",
       "    Formatted_Score Formatted_Publish_Count Formatted_Subscribers  \\\n",
       "48                                   41,078                         \n",
       "119          30,021                                                 \n",
       "321                                                                 \n",
       "324                                                                 \n",
       "317                                                                 \n",
       "..              ...                     ...                   ...   \n",
       "73                                   12,307                         \n",
       "94           38,872                                                 \n",
       "312                                                                 \n",
       "27            6,219                                     3,480,000   \n",
       "99           30,336                                                 \n",
       "\n",
       "                                            hover_text scaled_size  \n",
       "48   Rank: 9<br>Title: 318<br>Platform: TikTok<br>T...    8.297187  \n",
       "119  Rank: 10<br>Title: \"Betas who like to think th...   16.798435  \n",
       "321  Rank: 2<br>Title: 2 Cars In Garage Enough: Why...   45.700000  \n",
       "324  Rank: 5<br>Title: 2 Tata cars get 5 stars as B...   32.800000  \n",
       "317  Rank: 8<br>Title: 24-hour flash sale at Best B...   19.900000  \n",
       "..                                                 ...         ...  \n",
       "73   Rank: 4<br>Title: wompwomp<br>Platform: TikTok...   12.459355  \n",
       "94   Rank: 5<br>Title: “Sold his soul to Wokeness” ...   23.359139  \n",
       "312  Rank: 3<br>Title: 👀 KEPT RECEIPTS! 👀 Stephen A...   41.400000  \n",
       "27   Rank: 8<br>Title: 🚨 PENALTY SHOOTOUT! 🚨 Chelse...    7.190813  \n",
       "99   Rank: 10<br>Title: 🤦🏽‍♂️<br>Platform: Reddit<b...   17.031925  \n",
       "\n",
       "[238 rows x 22 columns]"
      ]
     },
     "execution_count": 72,
     "metadata": {},
     "output_type": "execute_result"
    }
   ],
   "source": [
    "combined_data"
   ]
  },
  {
   "cell_type": "code",
   "execution_count": 74,
   "id": "e7ad0ba7",
   "metadata": {
    "scrolled": false
   },
   "outputs": [
    {
     "data": {
      "application/vnd.plotly.v1+json": {
       "config": {
        "plotlyServerURL": "https://plot.ly"
       },
       "data": [
        {
         "customdata": [
          [
           "Rank: 9<br>Title: 318<br>Platform: TikTok<br>Time Posted: nan<br>Category: Games<br>Views: 14,877,724<br>Publish Count: 41,078"
          ],
          [
           "Rank: 10<br>Title: 318<br>Platform: TikTok<br>Time Posted: nan<br>Category: Games<br>Views: 13,797,180<br>Publish Count: 44,694"
          ],
          [
           "Rank: 10<br>Title: 318<br>Platform: TikTok<br>Time Posted: nan<br>Category: Games<br>Views: 14,661,066<br>Publish Count: 58,264"
          ],
          [
           "Rank: 1<br>Title: aifilter<br>Platform: TikTok<br>Time Posted: nan<br>Category: nan<br>Views: 140,465,530<br>Publish Count: 33,394"
          ],
          [
           "Rank: 3<br>Title: bellakeo<br>Platform: TikTok<br>Time Posted: nan<br>Category: News & Entertainment<br>Views: 58,196,418<br>Publish Count: 2,901"
          ],
          [
           "Rank: 3<br>Title: bellakeo<br>Platform: TikTok<br>Time Posted: nan<br>Category: Beauty & Personal Care<br>Views: 66,314,443<br>Publish Count: 9,383"
          ],
          [
           "Rank: 2<br>Title: capgaleria<br>Platform: TikTok<br>Time Posted: nan<br>Category: nan<br>Views: 12,098,595<br>Publish Count: 8,839"
          ],
          [
           "Rank: 7<br>Title: ceilingchallenge<br>Platform: TikTok<br>Time Posted: nan<br>Category: nan<br>Views: 33,357,870<br>Publish Count: 53,309"
          ],
          [
           "Rank: 7<br>Title: ceilingchallenge<br>Platform: TikTok<br>Time Posted: nan<br>Category: Games<br>Views: 33,948,981<br>Publish Count: 69,371"
          ],
          [
           "Rank: 7<br>Title: ceilingchallenge<br>Platform: TikTok<br>Time Posted: nan<br>Category: Games<br>Views: 38,411,621<br>Publish Count: 67,371"
          ],
          [
           "Rank: 2<br>Title: christmasparty<br>Platform: TikTok<br>Time Posted: nan<br>Category: Apparel & Accessories<br>Views: 91,122,256<br>Publish Count: 15,951"
          ],
          [
           "Rank: 2<br>Title: christmasparty<br>Platform: TikTok<br>Time Posted: nan<br>Category: Apparel & Accessories<br>Views: 94,548,986<br>Publish Count: 18,161"
          ],
          [
           "Rank: 3<br>Title: dancechallenge<br>Platform: TikTok<br>Time Posted: nan<br>Category: nan<br>Views: 90,301,317<br>Publish Count: 81,762"
          ],
          [
           "Rank: 4<br>Title: dropshipping<br>Platform: TikTok<br>Time Posted: nan<br>Category: Financial Services<br>Views: 19,281,207<br>Publish Count: 44,374"
          ],
          [
           "Rank: 7<br>Title: jakepaul<br>Platform: TikTok<br>Time Posted: nan<br>Category: Sports & Outdoor<br>Views: 35,629,275<br>Publish Count: 2,080"
          ],
          [
           "Rank: 9<br>Title: jid<br>Platform: TikTok<br>Time Posted: nan<br>Category: News & Entertainment<br>Views: 26,173,459<br>Publish Count: 58,563"
          ],
          [
           "Rank: 8<br>Title: ladiabla<br>Platform: TikTok<br>Time Posted: nan<br>Category: nan<br>Views: 24,884,208<br>Publish Count: 20,276"
          ],
          [
           "Rank: 3<br>Title: mikryptonita<br>Platform: TikTok<br>Time Posted: nan<br>Category: nan<br>Views: 12,742,542<br>Publish Count: 6,735"
          ],
          [
           "Rank: 1<br>Title: navidadentiktok<br>Platform: TikTok<br>Time Posted: nan<br>Category: nan<br>Views: 49,802,211<br>Publish Count: 6,141"
          ],
          [
           "Rank: 10<br>Title: pineville<br>Platform: TikTok<br>Time Posted: nan<br>Category: Games<br>Views: 10,930,183<br>Publish Count: 42,922"
          ],
          [
           "Rank: 6<br>Title: scarvvideo<br>Platform: TikTok<br>Time Posted: nan<br>Category: nan<br>Views: 12,761,296<br>Publish Count: 49,193"
          ],
          [
           "Rank: 5<br>Title: seahawks<br>Platform: TikTok<br>Time Posted: nan<br>Category: Sports & Outdoor<br>Views: 57,767,802<br>Publish Count: 5,339"
          ],
          [
           "Rank: 8<br>Title: starfield<br>Platform: TikTok<br>Time Posted: nan<br>Category: Games<br>Views: 13,886,554<br>Publish Count: 40,059"
          ],
          [
           "Rank: 9<br>Title: starfield<br>Platform: TikTok<br>Time Posted: nan<br>Category: Games<br>Views: 13,803,057<br>Publish Count: 43,624"
          ],
          [
           "Rank: 9<br>Title: starfield<br>Platform: TikTok<br>Time Posted: nan<br>Category: Games<br>Views: 15,520,680<br>Publish Count: 57,157"
          ],
          [
           "Rank: 5<br>Title: superscaryvideos<br>Platform: TikTok<br>Time Posted: nan<br>Category: nan<br>Views: 12,357,708<br>Publish Count: 47,687"
          ],
          [
           "Rank: 8<br>Title: superscaryvideos<br>Platform: TikTok<br>Time Posted: nan<br>Category: nan<br>Views: 11,977,435<br>Publish Count: 51,689"
          ],
          [
           "Rank: 8<br>Title: superscaryvideos<br>Platform: TikTok<br>Time Posted: nan<br>Category: nan<br>Views: 13,713,236<br>Publish Count: 65,798"
          ],
          [
           "Rank: 6<br>Title: surroundsound<br>Platform: TikTok<br>Time Posted: nan<br>Category: nan<br>Views: 34,992,850<br>Publish Count: 52,767"
          ],
          [
           "Rank: 6<br>Title: surroundsound<br>Platform: TikTok<br>Time Posted: nan<br>Category: Games<br>Views: 37,481,087<br>Publish Count: 68,917"
          ],
          [
           "Rank: 6<br>Title: surroundsound<br>Platform: TikTok<br>Time Posted: nan<br>Category: Games<br>Views: 43,663,171<br>Publish Count: 66,960"
          ],
          [
           "Rank: 1<br>Title: temu<br>Platform: TikTok<br>Time Posted: nan<br>Category: nan<br>Views: 48,593,482<br>Publish Count: 144,994"
          ],
          [
           "Rank: 1<br>Title: temu<br>Platform: TikTok<br>Time Posted: nan<br>Category: nan<br>Views: 50,806,614<br>Publish Count: 189,340"
          ],
          [
           "Rank: 2<br>Title: temu<br>Platform: TikTok<br>Time Posted: nan<br>Category: nan<br>Views: 55,716,281<br>Publish Count: 183,193"
          ],
          [
           "Rank: 4<br>Title: ufc296<br>Platform: TikTok<br>Time Posted: nan<br>Category: Sports & Outdoor<br>Views: 116,766,667<br>Publish Count: 4,568"
          ],
          [
           "Rank: 4<br>Title: ufc296<br>Platform: TikTok<br>Time Posted: nan<br>Category: Sports & Outdoor<br>Views: 141,785,841<br>Publish Count: 5,169"
          ],
          [
           "Rank: 10<br>Title: winterbreak<br>Platform: TikTok<br>Time Posted: nan<br>Category: nan<br>Views: 57,323,145<br>Publish Count: 11,610"
          ],
          [
           "Rank: 5<br>Title: wompwomp<br>Platform: TikTok<br>Time Posted: nan<br>Category: nan<br>Views: 16,809,767<br>Publish Count: 5,406"
          ],
          [
           "Rank: 5<br>Title: wompwomp<br>Platform: TikTok<br>Time Posted: nan<br>Category: nan<br>Views: 21,765,382<br>Publish Count: 12,502"
          ],
          [
           "Rank: 4<br>Title: wompwomp<br>Platform: TikTok<br>Time Posted: nan<br>Category: nan<br>Views: 27,543,846<br>Publish Count: 12,307"
          ]
         ],
         "hovertemplate": "%{customdata[0]}<extra></extra>",
         "hovertext": [
          318,
          "318",
          "318",
          "aifilter",
          "bellakeo",
          "bellakeo",
          "capgaleria",
          "ceilingchallenge",
          "ceilingchallenge",
          "ceilingchallenge",
          "christmasparty",
          "christmasparty",
          "dancechallenge",
          "dropshipping",
          "jakepaul",
          "jid",
          "ladiabla",
          "mikryptonita",
          "navidadentiktok",
          "pineville",
          "scarvvideo",
          "seahawks",
          "starfield",
          "starfield",
          "starfield",
          "superscaryvideos",
          "superscaryvideos",
          "superscaryvideos",
          "surroundsound",
          "surroundsound",
          "surroundsound",
          "temu",
          "temu",
          "temu",
          "ufc296",
          "ufc296",
          "winterbreak",
          "wompwomp",
          "wompwomp",
          "wompwomp"
         ],
         "legendgroup": "TikTok",
         "marker": {
          "color": "#636efa",
          "size": [
           8.297187034893058,
           7.942113416295687,
           8.225991840566802,
           49.566137422961106,
           22.531984906606024,
           25.199619461620834,
           7.383947601256951,
           14.36988033792165,
           14.564123165388844,
           16.03057500196132,
           33.35162431417371,
           34.4776695479228,
           33.081858546766085,
           9.744199505687405,
           15.116278441701008,
           12.00903727066964,
           11.585381206825616,
           7.595552673771278,
           19.773595192956808,
           7,
           7.601715357237362,
           22.391138967793047,
           7.971482280116615,
           7.9440446358078,
           8.508466458515688,
           7.469093778123067,
           7.3441336560319,
           7.9145288849489415,
           14.90714514614263,
           15.72479562175294,
           17.756267673194536,
           19.37639916953381,
           20.103648395547403,
           21.716996142421294,
           41.778540580950654,
           50,
           22.24502185453838,
           8.932068630918504,
           10.56051518230874,
           12.45935513923288
          ],
          "sizemode": "area",
          "sizeref": 0.125,
          "symbol": "circle"
         },
         "mode": "markers",
         "name": "TikTok",
         "orientation": "v",
         "showlegend": true,
         "type": "scatter",
         "x": [
          "2023-12-18",
          "2023-12-19",
          "2023-12-20",
          "2023-12-21",
          "2023-12-19",
          "2023-12-20",
          "2023-12-18",
          "2023-12-19",
          "2023-12-20",
          "2023-12-21",
          "2023-12-19",
          "2023-12-20",
          "2023-12-21",
          "2023-12-18",
          "2023-12-18",
          "2023-12-21",
          "2023-12-21",
          "2023-12-18",
          "2023-12-18",
          "2023-12-18",
          "2023-12-18",
          "2023-12-21",
          "2023-12-18",
          "2023-12-19",
          "2023-12-20",
          "2023-12-18",
          "2023-12-19",
          "2023-12-20",
          "2023-12-19",
          "2023-12-20",
          "2023-12-21",
          "2023-12-19",
          "2023-12-20",
          "2023-12-21",
          "2023-12-19",
          "2023-12-20",
          "2023-12-21",
          "2023-12-19",
          "2023-12-20",
          "2023-12-21"
         ],
         "xaxis": "x",
         "y": [
          9,
          10,
          10,
          1,
          3,
          3,
          2,
          7,
          7,
          7,
          2,
          2,
          3,
          4,
          7,
          9,
          8,
          3,
          1,
          10,
          6,
          5,
          8,
          9,
          9,
          5,
          8,
          8,
          6,
          6,
          6,
          1,
          1,
          2,
          4,
          4,
          10,
          5,
          5,
          4
         ],
         "yaxis": "y"
        },
        {
         "customdata": [
          [
           "Rank: 10<br>Title: \"Betas who like to think they are Alpha males\"<br>Platform: Reddit<br>Time Posted: 2023-12-20 10:23:25<br>Subreddit: clevercomebacks<br>Score: 30,021<br>Comments: 1,251<br>URL: https://i.redd.it/holjihnlsh7c1.png"
          ],
          [
           "Rank: 3<br>Title: A wholesome ending<br>Platform: Reddit<br>Time Posted: 2023-12-19 15:18:58<br>Subreddit: MadeMeSmile<br>Score: 52,657<br>Comments: 1,035<br>URL: https://v.redd.it/cn84i5ve4c7c1"
          ],
          [
           "Rank: 8<br>Title: AITA for telling my husband \" I told you so\" and laughing at me when we got the paternity test results?<br>Platform: Reddit<br>Time Posted: 2023-12-20 10:06:21<br>Subreddit: AITAH<br>Score: 33,047<br>Comments: 20,180<br>URL: https://www.reddit.com/r/AITAH/comments/18n0zbl/aita_for_telling_my_husband_i_told_you_so_and/"
          ],
          [
           "Rank: 7<br>Title: An unexpected duet in the lunch hall <br>Platform: Reddit<br>Time Posted: 2023-12-19 11:39:07<br>Subreddit: MadeMeSmile<br>Score: 32,253<br>Comments: 780<br>URL: https://v.redd.it/z6w4f9771b7c1"
          ],
          [
           "Rank: 2<br>Title: Colorado Supreme Court kicks Trump off the state's 2024 ballot for violating the U.S. Constitution<br>Platform: Reddit<br>Time Posted: 2023-12-19 15:15:18<br>Subreddit: news<br>Score: 52,245<br>Comments: 6,434<br>URL: https://www.nbcnews.com/politics/donald-trump/colorado-supreme-court-kicks-trump-states-2024-ballot-violating-us-con-rcna130484"
          ],
          [
           "Rank: 1<br>Title: Dad's note to gay son that hasnt came out yet.<br>Platform: Reddit<br>Time Posted: 2023-12-20 10:32:24<br>Subreddit: pics<br>Score: 59,689<br>Comments: 1,885<br>URL: https://i.redd.it/z70xh9d7uh7c1.jpeg"
          ],
          [
           "Rank: 5<br>Title: Expect some terrible horror movie announcements in 2 weeks<br>Platform: Reddit<br>Time Posted: 2023-12-17 13:26:32<br>Subreddit: memes<br>Score: 18,459<br>Comments: 176<br>URL: https://i.redd.it/ocdpnmjjax6c1.jpeg"
          ],
          [
           "Rank: 3<br>Title: First Image from ‘COYOTE VS ACME’<br>Platform: Reddit<br>Time Posted: 2023-12-20 10:07:33<br>Subreddit: movies<br>Score: 39,023<br>Comments: 1,782<br>URL: https://i.redd.it/bnv255qrph7c1.jpeg"
          ],
          [
           "Rank: 9<br>Title: First hike with the kiddo<br>Platform: Reddit<br>Time Posted: 2023-12-17 13:35:29<br>Subreddit: Unexpected<br>Score: 16,985<br>Comments: 243<br>URL: https://v.redd.it/0xkupmb2cx6c1"
          ],
          [
           "Rank: 4<br>Title: Gluing themselves to table is is so brave, wow.<br>Platform: Reddit<br>Time Posted: 2023-12-17 13:00:31<br>Subreddit: facepalm<br>Score: 18,430<br>Comments: 6,032<br>URL: https://i.redd.it/iw7i7zzt5x6c1.jpeg"
          ],
          [
           "Rank: 6<br>Title: If you only watch ONE video today, watch student Zander Moricz BRILLIANTLY call out the anti-LGBTQ hypocrisy of Moms for Liberty threesome member Bridget Ziegler. 🚨This is incredible.<br>Platform: Reddit<br>Time Posted: 2023-12-18 10:42:11<br>Subreddit: MadeMeSmile<br>Score: 36,143<br>Comments: 1,035<br>URL: https://v.redd.it/totk4yr3m37c1"
          ],
          [
           "Rank: 6<br>Title: Jyoti Amge , she is the world's shortest women , with a height 62.8 cm, she is 30 years old <br>Platform: Reddit<br>Time Posted: 2023-12-19 18:27:22<br>Subreddit: Damnthatsinteresting<br>Score: 32,721<br>Comments: 1,287<br>URL: https://v.redd.it/k53yfk212d7c1"
          ],
          [
           "Rank: 5<br>Title: Lavish lunches<br>Platform: Reddit<br>Time Posted: 2023-12-21 03:00:17<br>Subreddit: Funnymemes<br>Score: 35,647<br>Comments: 1,636<br>URL: https://i.redd.it/9hx63sggqm7c1.jpeg"
          ],
          [
           "Rank: 8<br>Title: Making traditional Mahjong tiles<br>Platform: Reddit<br>Time Posted: 2023-12-18 02:39:39<br>Subreddit: toptalent<br>Score: 17,410<br>Comments: 616<br>URL: https://v.redd.it/cplb1uw0817c1"
          ],
          [
           "Rank: 1<br>Title: Me irl<br>Platform: Reddit<br>Time Posted: 2023-12-18 15:32:35<br>Subreddit: me_irl<br>Score: 74,813<br>Comments: 438<br>URL: https://i.redd.it/xh73na8x157c1.png"
          ],
          [
           "Rank: 4<br>Title: Megathread: Colorado Supreme Court Rules Trump is Ineligible to Appear on Ballot Due to 14th Amendment; Appeal Likely to Reach US Supreme Court<br>Platform: Reddit<br>Time Posted: 2023-12-19 15:35:26<br>Subreddit: politics<br>Score: 42,051<br>Comments: 17,748<br>URL: https://www.reddit.com/r/politics/comments/18mfyba/megathread_colorado_supreme_court_rules_trump_is/"
          ],
          [
           "Rank: 10<br>Title: Meirl<br>Platform: Reddit<br>Time Posted: 2023-12-19 14:57:53<br>Subreddit: meirl<br>Score: 31,393<br>Comments: 195<br>URL: https://i.redd.it/l4jg2gvn0c7c1.jpeg"
          ],
          [
           "Rank: 6<br>Title: My dad (middle) and his friends 1977<br>Platform: Reddit<br>Time Posted: 2023-12-17 17:54:00<br>Subreddit: OldSchoolCool<br>Score: 17,185<br>Comments: 2,941<br>URL: https://i.redd.it/ex2nt8f9my6c1.jpeg"
          ],
          [
           "Rank: 3<br>Title: My dad has a handicap placard and walks with a limp post hip surgery<br>Platform: Reddit<br>Time Posted: 2023-12-18 10:33:58<br>Subreddit: mildlyinfuriating<br>Score: 45,761<br>Comments: 2,773<br>URL: https://i.redd.it/iddvzyxnk37c1.jpeg"
          ],
          [
           "Rank: 6<br>Title: Not sad for long<br>Platform: Reddit<br>Time Posted: 2023-12-20 13:20:05<br>Subreddit: Unexpected<br>Score: 33,746<br>Comments: 526<br>URL: https://v.redd.it/fazt5wozni7c1"
          ],
          [
           "Rank: 5<br>Title: One number away for winning $10,000,000<br>Platform: Reddit<br>Time Posted: 2023-12-19 23:09:42<br>Subreddit: mildlyinfuriating<br>Score: 35,721<br>Comments: 785<br>URL: https://i.redd.it/eh7t26kege7c1.jpeg"
          ],
          [
           "Rank: 8<br>Title: Our physics exams were accidentally thrown out<br>Platform: Reddit<br>Time Posted: 2023-12-18 18:35:49<br>Subreddit: mildlyinfuriating<br>Score: 33,850<br>Comments: 1,290<br>URL: https://i.redd.it/9a9dixtmy57c1.png"
          ],
          [
           "Rank: 3<br>Title: Petah help!!!<br>Platform: Reddit<br>Time Posted: 2023-12-17 13:53:32<br>Subreddit: PeterExplainsTheJoke<br>Score: 18,678<br>Comments: 432<br>URL: https://i.redd.it/ndodje78fx6c1.jpeg"
          ],
          [
           "Rank: 8<br>Title: Popular YouTuber and fallout/elder scrolls fan “Mitten Squad” has passed away at 27<br>Platform: Reddit<br>Time Posted: 2023-12-19 15:09:06<br>Subreddit: gaming<br>Score: 31,931<br>Comments: 1,249<br>URL: https://i.redd.it/hyev23xn2c7c1.jpeg"
          ],
          [
           "Rank: 4<br>Title: TIL in 1943, a US bomber over Germany was hit by explosive ordnance directly in the fuel tanks 11 times, but  exploded. After the shells were cut open, all were found to have no explosives in them, and one contained a note in Czech saying \"This is all we can do for you now\".<br>Platform: Reddit<br>Time Posted: 2023-12-18 14:23:11<br>Subreddit: todayilearned<br>Score: 44,351<br>Comments: 1,300<br>URL: https://www.outono.net/elentir/2023/03/03/the-anonymous-czech-prisoner-who-saved-an-american-b-17-bomber-in-world-war-ii/"
          ],
          [
           "Rank: 10<br>Title: TIL that the Milky Way Galaxy is being pulled toward a mysterious area in space called \"The Great Attractor\" at about 6000km/s. Whatever it is, we can't see it from Earth because it's obscured the hub of our galaxy.<br>Platform: Reddit<br>Time Posted: 2023-12-17 20:59:54<br>Subreddit: todayilearned<br>Score: 16,802<br>Comments: 1,094<br>URL: https://www.wikipedia.org/wiki/Great_Attractor"
          ],
          [
           "Rank: 4<br>Title: Thanks Obama!<br>Platform: Reddit<br>Time Posted: 2023-12-20 10:26:38<br>Subreddit: WhitePeopleTwitter<br>Score: 37,499<br>Comments: 943<br>URL: https://i.redd.it/64clolj6th7c1.png"
          ],
          [
           "Rank: 7<br>Title: That's just his brother from another mother!<br>Platform: Reddit<br>Time Posted: 2023-12-18 14:24:26<br>Subreddit: wholesomememes<br>Score: 33,619<br>Comments: 441<br>URL: https://i.redd.it/11shbd4sp47c1.jpeg"
          ],
          [
           "Rank: 9<br>Title: There goes his €300,- airbag for cyclists<br>Platform: Reddit<br>Time Posted: 2023-12-18 09:46:21<br>Subreddit: Wellthatsucks<br>Score: 33,155<br>Comments: 1,205<br>URL: https://v.redd.it/7hiqry06c37c1"
          ],
          [
           "Rank: 9<br>Title: There’s gonna be a bad rant in 3..2…..<br>Platform: Reddit<br>Time Posted: 2023-12-19 15:21:01<br>Subreddit: WhitePeopleTwitter<br>Score: 30,977<br>Comments: 1,401<br>URL: https://i.redd.it/r9w57cgs4c7c1.jpeg"
          ],
          [
           "Rank: 7<br>Title: This guy already won the positivity belt<br>Platform: Reddit<br>Time Posted: 2023-12-20 23:04:10<br>Subreddit: MadeMeSmile<br>Score: 33,496<br>Comments: 500<br>URL: https://v.redd.it/689tirfmjl7c1"
          ],
          [
           "Rank: 1<br>Title: Winchester 1887 12 gauge flip cock.<br>Platform: Reddit<br>Time Posted: 2023-12-19 11:18:37<br>Subreddit: Damnthatsinteresting<br>Score: 57,700<br>Comments: 2,311<br>URL: https://v.redd.it/gur4cmdjxa7c1"
          ],
          [
           "Rank: 2<br>Title: You must live with your choices<br>Platform: Reddit<br>Time Posted: 2023-12-17 16:13:07<br>Subreddit: funny<br>Score: 18,645<br>Comments: 851<br>URL: https://v.redd.it/a9zxxee04y6c1"
          ],
          [
           "Rank: 2<br>Title: andrewphysictwitch ❤️<br>Platform: Reddit<br>Time Posted: 2023-12-18 14:53:35<br>Subreddit: MadeMeSmile<br>Score: 54,218<br>Comments: 412<br>URL: https://v.redd.it/av0mre2zu47c1"
          ],
          [
           "Rank: 2<br>Title: me irl<br>Platform: Reddit<br>Time Posted: 2023-12-20 16:41:56<br>Subreddit: me_irl<br>Score: 53,214<br>Comments: 1,088<br>URL: https://i.redd.it/rcm3x4o3oj7c1.jpeg"
          ],
          [
           "Rank: 1<br>Title: meirl<br>Platform: Reddit<br>Time Posted: 2023-12-17 17:36:42<br>Subreddit: meirl<br>Score: 40,224<br>Comments: 360<br>URL: https://i.redd.it/fy0ebq86jy6c1.jpeg"
          ],
          [
           "Rank: 9<br>Title: the way they finish the race with the same exact time<br>Platform: Reddit<br>Time Posted: 2023-12-20 11:14:17<br>Subreddit: nextfuckinglevel<br>Score: 31,245<br>Comments: 573<br>URL: https://v.redd.it/kozqfqho1i7c1"
          ],
          [
           "Rank: 5<br>Title: “Sold his soul to Wokeness” yeah NO<br>Platform: Reddit<br>Time Posted: 2023-12-18 13:51:30<br>Subreddit: facepalm<br>Score: 38,872<br>Comments: 3,715<br>URL: https://i.redd.it/e77kwkmwj47c1.jpeg"
          ],
          [
           "Rank: 10<br>Title: 🤦🏽‍♂️<br>Platform: Reddit<br>Time Posted: 2023-12-19 01:20:20<br>Subreddit: facepalm<br>Score: 30,336<br>Comments: 921<br>URL: https://i.redd.it/23d2cllsy77c1.png"
          ]
         ],
         "hovertemplate": "%{customdata[0]}<extra></extra>",
         "hovertext": [
          "\"Betas who like to think they are Alpha males\"",
          "A wholesome ending",
          "AITA for telling my husband \" I told you so\" and laughing at me when we got the paternity test results?",
          "An unexpected duet in the lunch hall ",
          "Colorado Supreme Court kicks Trump off the state's 2024 ballot for violating the U.S. Constitution",
          "Dad's note to gay son that hasnt came out yet.",
          "Expect some terrible horror movie announcements in 2 weeks",
          "First Image from ‘COYOTE VS ACME’",
          "First hike with the kiddo",
          "Gluing themselves to table is is so brave, wow.",
          "If you only watch ONE video today, watch student Zander Moricz BRILLIANTLY call out the anti-LGBTQ hypocrisy of Moms for Liberty threesome member Bridget Ziegler. 🚨This is incredible.",
          "Jyoti Amge , she is the world's shortest women , with a height 62.8 cm, she is 30 years old ",
          "Lavish lunches",
          "Making traditional Mahjong tiles",
          "Me irl",
          "Megathread: Colorado Supreme Court Rules Trump is Ineligible to Appear on Ballot Due to 14th Amendment; Appeal Likely to Reach US Supreme Court",
          "Meirl",
          "My dad (middle) and his friends 1977",
          "My dad has a handicap placard and walks with a limp post hip surgery",
          "Not sad for long",
          "One number away for winning $10,000,000",
          "Our physics exams were accidentally thrown out",
          "Petah help!!!",
          "Popular YouTuber and fallout/elder scrolls fan “Mitten Squad” has passed away at 27",
          "TIL in 1943, a US bomber over Germany was hit by explosive ordnance directly in the fuel tanks 11 times, but  exploded. After the shells were cut open, all were found to have no explosives in them, and one contained a note in Czech saying \"This is all we can do for you now\".",
          "TIL that the Milky Way Galaxy is being pulled toward a mysterious area in space called \"The Great Attractor\" at about 6000km/s. Whatever it is, we can't see it from Earth because it's obscured the hub of our galaxy.",
          "Thanks Obama!",
          "That's just his brother from another mother!",
          "There goes his €300,- airbag for cyclists",
          "There’s gonna be a bad rant in 3..2…..",
          "This guy already won the positivity belt",
          "Winchester 1887 12 gauge flip cock.",
          "You must live with your choices",
          "andrewphysictwitch ❤️",
          "me irl",
          "meirl",
          "the way they finish the race with the same exact time",
          "“Sold his soul to Wokeness” yeah NO",
          "🤦🏽‍♂️"
         ],
         "legendgroup": "Reddit",
         "marker": {
          "color": "#EF553B",
          "size": [
           16.798434779610766,
           33.577114685145915,
           19.041423178362724,
           18.452879626277777,
           33.271724328144664,
           38.789505438623706,
           8.228232576580304,
           23.47106583234214,
           7.135646687697161,
           8.206736653393321,
           21.336298288255676,
           18.799779352191827,
           20.968643877885228,
           7.4506731481960315,
           50,
           25.715536708555273,
           17.815414317974174,
           7.283894433814277,
           28.46553239902777,
           19.559549051042044,
           21.023495543948563,
           19.636637879022945,
           8.390563858578545,
           18.214200755029218,
           27.420385788902106,
           7,
           22.34141800692972,
           19.465411732257675,
           19.12147696126597,
           17.507059006050575,
           19.37423936839565,
           37.315181603488995,
           8.366102980469222,
           34.734188343590006,
           33.989984658082086,
           24.36129354777542,
           17.70571098584751,
           23.35913878402372,
           17.03192497974522
          ],
          "sizemode": "area",
          "sizeref": 0.125,
          "symbol": "circle"
         },
         "mode": "markers",
         "name": "Reddit",
         "orientation": "v",
         "showlegend": true,
         "type": "scatter",
         "x": [
          "2023-12-21",
          "2023-12-20",
          "2023-12-21",
          "2023-12-20",
          "2023-12-20",
          "2023-12-21",
          "2023-12-18",
          "2023-12-21",
          "2023-12-18",
          "2023-12-18",
          "2023-12-19",
          "2023-12-20",
          "2023-12-21",
          "2023-12-18",
          "2023-12-19",
          "2023-12-20",
          "2023-12-20",
          "2023-12-18",
          "2023-12-19",
          "2023-12-21",
          "2023-12-20",
          "2023-12-19",
          "2023-12-18",
          "2023-12-20",
          "2023-12-19",
          "2023-12-18",
          "2023-12-21",
          "2023-12-19",
          "2023-12-19",
          "2023-12-20",
          "2023-12-21",
          "2023-12-20",
          "2023-12-18",
          "2023-12-19",
          "2023-12-21",
          "2023-12-18",
          "2023-12-21",
          "2023-12-19",
          "2023-12-19"
         ],
         "xaxis": "x",
         "y": [
          10,
          3,
          8,
          7,
          2,
          1,
          5,
          3,
          9,
          4,
          6,
          6,
          5,
          8,
          1,
          4,
          10,
          6,
          3,
          6,
          5,
          8,
          3,
          8,
          4,
          10,
          4,
          7,
          9,
          9,
          7,
          1,
          2,
          2,
          2,
          1,
          9,
          5,
          10
         ],
         "yaxis": "y"
        },
        {
         "customdata": [
          [
           "Rank: 2<br>Title: 2 Cars In Garage Enough: Why Sal Khan Quit Plush Job To Open Khan Academy - NDTV<br>Platform: Global Business News<br>Time Posted: 2023-12-20 16:02:00+00:00<br>URL: https://www.ndtv.com/world-news/2-cars-in-garage-enough-why-sal-khan-quit-plush-job-to-open-khan-academy-4709737"
          ],
          [
           "Rank: 5<br>Title: 2 Tata cars get 5 stars as Bharat-NCAP awards first-ever ratings; Gadkari lauds - Hindustan Times<br>Platform: Global Business News<br>Time Posted: 2023-12-20 15:31:25+00:00<br>URL: https://www.hindustantimes.com/business/2-tata-cars-get-5-stars-as-bharat-ncap-awards-first-ever-ratings-gadkari-lauds-101703086025505.html"
          ],
          [
           "Rank: 9<br>Title: Adobe explains why it abandoned the Figma deal - The Verge<br>Platform: Global Business News<br>Time Posted: 2023-12-20 14:00:00+00:00<br>URL: https://www.theverge.com/2023/12/20/24008189/adobe-figma-deal-eu-explained-decoder"
          ],
          [
           "Rank: 1<br>Title: Apple will be halting sales of its Series 9 smartwatch, TechCrunch has confirmed. The news, shared by 9to5Mac, follows an October ruling by the<br>Platform: Global Business News<br>Time Posted: 2023-12-18 16:16:33+00:00<br>URL: https://techcrunch.com/2023/12/18/apple-watch-series-9-sales-to-be-halted-over-patent-dispute/"
          ],
          [
           "Rank: 1<br>Title: Bayer Monsanto: PCB maker ordered to pay $857m for toxic leaks - BBC.com<br>Platform: Global Business News<br>Time Posted: 2023-12-19 16:31:54+00:00<br>URL: https://www.bbc.com/news/business-67757332"
          ],
          [
           "Rank: 8<br>Title: Comcast Says Hackers May Have Accessed Data on Millions of Xfinity Customers - Hollywood Reporter<br>Platform: Global Business News<br>Time Posted: 2023-12-19 14:30:03+00:00<br>URL: https://www.hollywoodreporter.com/business/business-news/xfinity-hack-data-breach-customer-information-1235765798/"
          ],
          [
           "Rank: 9<br>Title: DOMS Share Price Listing Prediction, DOMS Share Listing Date: DOMS IPO will list on NSE and BSE. DOMS shares are commanding a solid grey market premium or GMP in unlisted market. DOMS Share Listing Date, DOMS IPO Listing Date - check here<br>Platform: Global Business News<br>Time Posted: 2023-12-18 13:38:46+00:00<br>URL: https://www.etnownews.com/markets/doms-share-price-listing-prediction-on-nse-bse-check-listing-date-and-latest-gmp-of-ipo-article-106098684"
          ],
          [
           "Rank: 10<br>Title: Elon Musk’s Big Lie About Tesla Is Finally Exposed - Rolling Stone<br>Platform: Global Business News<br>Time Posted: 2023-12-17 14:00:00+00:00<br>URL: https://www.rollingstone.com/culture/culture-commentary/elon-musk-tesla-crash-1234930544/"
          ],
          [
           "Rank: 2<br>Title: Fed officials are pushing back against the expectations for interest rate cuts that have lifted stocks.<br>Platform: Global Business News<br>Time Posted: 2023-12-18 16:12:17+00:00<br>URL: https://finance.yahoo.com/news/stock-market-news-today-us-stocks-keep-grip-on-highs-looking-to-build-on-7-week-rally-143140287.html"
          ],
          [
           "Rank: 6<br>Title: Fed officials question stock market surge after rate cut projections - The Hill<br>Platform: Global Business News<br>Time Posted: 2023-12-20 14:29:00+00:00<br>URL: https://thehill.com/business/4368720-fed-officials-question-stock-market-surge-after-rate-cut-projections/"
          ],
          [
           "Rank: 9<br>Title: Federal prosecutors are investigating allegation that Jimmy Haslam attempted to bribe Pilot executives - NBC Sports<br>Platform: Global Business News<br>Time Posted: 2023-12-17 14:20:42+00:00<br>URL: https://www.nbcsports.com/nfl/profootballtalk/rumor-mill/news/federal-prosecutors-are-investigating-allegation-that-jimmy-haslam-attempted-to-bribe-pilot-executives"
          ],
          [
           "Rank: 10<br>Title: GM: Half of Buick dealers took buyouts in 2023 - Detroit Free Press<br>Platform: Global Business News<br>Time Posted: 2023-12-20 13:38:48+00:00<br>URL: https://www.freep.com/story/money/cars/general-motors/2023/12/20/gm-buick-dealerships-buyouts/71978066007/"
          ],
          [
           "Rank: 6<br>Title: Gold Price Forecast: No reason for any significant downward correction of XAU/USD – Commerzbank - FXStreet<br>Platform: Global Business News<br>Time Posted: 2023-12-19 14:56:00+00:00<br>URL: https://www.fxstreet.com/news/gold-price-forecast-no-reason-for-any-significant-downward-correction-of-xau-usd-commerzbank-202312191456"
          ],
          [
           "Rank: 8<br>Title: Here's How Much the 2024 Subaru WRX TR Costs - Road & Track<br>Platform: Global Business News<br>Time Posted: 2023-12-20 14:03:10+00:00<br>URL: https://www.roadandtrack.com/news/a46180028/2024-subaru-wrx-tr-pricing/"
          ],
          [
           "Rank: 7<br>Title: In the past half-year, IndiGo has expanded its global presence by incorporating over 20 additional international routes into its network.<br>Platform: Global Business News<br>Time Posted: 2023-12-18 14:06:56+00:00<br>URL: https://www.hindustantimes.com/business/indigo-becomes-first-indian-airline-to-carry-100-million-passengers-in-a-year-101702905187555.html"
          ],
          [
           "Rank: 10<br>Title: John Oliver devoted an entire 'Last Week Tonight' segment to rehashing the past 12 months in the life of billionaire and tech mogul Elon Musk.<br>Platform: Global Business News<br>Time Posted: 2023-12-18 13:35:00+00:00<br>URL: https://variety.com/2023/tv/news/john-oliver-elon-musk-less-f-able-titanic-villain-billy-zane-1235843628/"
          ],
          [
           "Rank: 6<br>Title: Liz Weston: Confusion about retirement fund minimum distributions can cause expensive mistakes - OregonLive<br>Platform: Global Business News<br>Time Posted: 2023-12-17 15:13:00+00:00<br>URL: https://www.oregonlive.com/business/2023/12/liz-weston-confusion-about-retirement-fund-minimum-distributions-can-cause-expensive-mistakes.html"
          ],
          [
           "Rank: 2<br>Title: Market Week Ahead: Gold Regains $2k, GBP/USD, EUR/USD Rally as USD Slides - DailyFX<br>Platform: Global Business News<br>Time Posted: 2023-12-17 17:00:04+00:00<br>URL: https://www.dailyfx.com/news/market-week-ahead-gold-regains-2k-gbp-usd-eur-usd-rally-as-usd-slides-20231217.html"
          ],
          [
           "Rank: 8<br>Title: Mcap Of 9 Most Valued Firms Jumps Rs 2.26 Lakh Cr; TCS, Infosys Biggest Gainers - News18<br>Platform: Global Business News<br>Time Posted: 2023-12-17 14:25:02+00:00<br>URL: https://www.news18.com/business/mcap-of-9-most-valued-firms-jumps-rs-2-26-lakh-cr-tcs-infosys-biggest-gainers-8707135.html"
          ],
          [
           "Rank: 8<br>Title: Mr. Cooper is sending notices of a data breach to customers who were impacted by a cyberattack the firm suffered in November 2023.<br>Platform: Global Business News<br>Time Posted: 2023-12-18 13:40:30+00:00<br>URL: https://www.bleepingcomputer.com/news/security/mortgage-giant-mr-cooper-data-breach-affects-147-million-people/"
          ],
          [
           "Rank: 9<br>Title: Nikola Founder Trevor Milton Sentenced to Four Years for Fraud - Yahoo Finance<br>Platform: Global Business News<br>Time Posted: 2023-12-19 14:23:10+00:00<br>URL: https://finance.yahoo.com/news/nikola-founder-trevor-milton-sentenced-184659163.html"
          ],
          [
           "Rank: 4<br>Title: One grounded airline plans to fly again, in January with Ayodhya flights - IndiaTimes<br>Platform: Global Business News<br>Time Posted: 2023-12-17 16:48:40+00:00<br>URL: https://timesofindia.indiatimes.com/business/india-business/one-grounded-airline-plans-to-fly-again-in-january-with-ayodhya-flights/articleshow/106068086.cms"
          ],
          [
           "Rank: 1<br>Title: Panasonic says Oklahoma no longer candidate for new battery plant - Reuters<br>Platform: Global Business News<br>Time Posted: 2023-12-20 16:17:00+00:00<br>URL: https://www.reuters.com/business/autos-transportation/panasonic-takes-oklahoma-out-candidate-list-new-battery-plant-nikkei-2023-12-20/"
          ],
          [
           "Rank: 3<br>Title: Recession fears hit IT sector, Infosys, major players announce drastic cuts in pay hikes, promotions - Daijiworld.com<br>Platform: Global Business News<br>Time Posted: 2023-12-17 16:49:05+00:00<br>URL: https://www.daijiworld.com/news/newsDisplay?newsID=1150233"
          ],
          [
           "Rank: 4<br>Title: ShareChat lays off 200 employees, valuation halved in last one year - Mint<br>Platform: Global Business News<br>Time Posted: 2023-12-20 15:33:13+00:00<br>URL: https://www.livemint.com/companies/news/sharechat-lays-off-200-employees-valuation-halved-in-last-one-year-11703086098121.html"
          ],
          [
           "Rank: 3<br>Title: SiriusXM sued for allegedly trapping customers in unwanted subscriptions - CNN<br>Platform: Global Business News<br>Time Posted: 2023-12-20 15:38:00+00:00<br>URL: https://www.cnn.com/2023/12/20/media/siriusxm-cancellation-lawsuit/index.html"
          ],
          [
           "Rank: 2<br>Title: Stock market news today: US stocks hold onto gains as rate-cut hopes persist - Yahoo Finance<br>Platform: Global Business News<br>Time Posted: 2023-12-19 16:15:48+00:00<br>URL: https://finance.yahoo.com/news/stock-market-news-today-us-stocks-hold-onto-gains-as-rate-cut-hopes-persist-143200600.html"
          ],
          [
           "Rank: 5<br>Title: Tesla Stock At Early Buy Point On Strong China Registrations - Investor's Business Daily<br>Platform: Global Business News<br>Time Posted: 2023-12-19 15:02:00+00:00<br>URL: https://www.investors.com/news/tesla-stock-early-buy-point-on-strong-china-registrations/"
          ],
          [
           "Rank: 4<br>Title: The Department of Transportation is hitting Southwest Airlines with a $140 million fine over last year’s holiday meltdown that left millions of passengers stranded.<br>Platform: Global Business News<br>Time Posted: 2023-12-18 15:06:34+00:00<br>URL: https://www.theverge.com/2023/12/18/24006045/southwest-fined-dot-holiday-delays-fund"
          ],
          [
           "Rank: 3<br>Title: The Fed may have done the impossible: Avoid a recession — for now - CNN<br>Platform: Global Business News<br>Time Posted: 2023-12-19 15:06:00+00:00<br>URL: https://www.cnn.com/2023/12/19/economy/economy-fed-recession/index.html"
          ],
          [
           "Rank: 6<br>Title: The President of the Federal Reserve Bank of Chicago said the market may have read too much into last week's central bank update.<br>Platform: Global Business News<br>Time Posted: 2023-12-18 14:23:45+00:00<br>URL: https://www.cnbc.com/2023/12/18/feds-goolsbee-says-he-was-confused-by-last-weeks-market-reaction-.html"
          ],
          [
           "Rank: 3<br>Title: The formal inquiry is the first against a large social media platform under the Digital Services Act.<br>Platform: Global Business News<br>Time Posted: 2023-12-18 15:56:35+00:00<br>URL: https://www.washingtonpost.com/technology/2023/12/18/european-union-x-probe-elon-musk/"
          ],
          [
           "Rank: 5<br>Title: The situation in the Red Sea appears to be growing untenable for global shipping companies. That may result in the US military intervening to keep the critical shipping rout open.<br>Platform: Global Business News<br>Time Posted: 2023-12-18 14:45:00+00:00<br>URL: https://www.forexlive.com/news/oil-climbs-2-with-eyes-on-the-red-sea-20231218/"
          ],
          [
           "Rank: 4<br>Title: This is a good time to invest in bonds — here is a fund with special advantages - MarketWatch<br>Platform: Global Business News<br>Time Posted: 2023-12-19 15:02:00+00:00<br>URL: https://www.marketwatch.com/story/this-is-a-good-time-to-invest-in-a-bond-fund-and-this-manager-has-an-advantage-over-his-largest-competitors-76a9f9ec"
          ],
          [
           "Rank: 5<br>Title: This is how to protect your credit and bank cards from getting hacked - Fox News<br>Platform: Global Business News<br>Time Posted: 2023-12-17 16:00:00+00:00<br>URL: https://www.foxnews.com/tech/how-to-protect-your-credit-bank-cards-from-getting-hacked"
          ],
          [
           "Rank: 7<br>Title: Understaffed and neglected: How real estate investors reshaped assisted living facilities - The Washington Post<br>Platform: Global Business News<br>Time Posted: 2023-12-17 14:30:00+00:00<br>URL: https://www.washingtonpost.com/business/2023/12/17/assisted-living-industry-real-estate/"
          ],
          [
           "Rank: 7<br>Title: Vikram Solar, DFC sign retainer letter for $200 mn funding | Mint - Mint<br>Platform: Global Business News<br>Time Posted: 2023-12-19 14:44:56+00:00<br>URL: https://www.livemint.com/companies/vikram-solar-dfc-sign-retainer-letter-for-200-mn-funding-11702996772469.html"
          ],
          [
           "Rank: 10<br>Title: White House backs industry effort to standardize Tesla's EV charging plugs - Yahoo Finance<br>Platform: Global Business News<br>Time Posted: 2023-12-19 14:01:02+00:00<br>URL: https://finance.yahoo.com/news/white-house-backs-industry-effort-140102446.html"
          ],
          [
           "Rank: 1<br>Title: Zee seeks time on Sony deal as two directors voted out - Mint<br>Platform: Global Business News<br>Time Posted: 2023-12-17 18:22:20+00:00<br>URL: https://www.livemint.com/companies/news/zee-entertainment-requests-sony-india-to-extend-the-deadline-for-merger-11702821279407.html"
          ],
          [
           "Rank: 7<br>Title: Zee, Sony enter into discussion to extend merger deadline - Moneycontrol<br>Platform: Global Business News<br>Time Posted: 2023-12-20 14:26:01+00:00<br>URL: https://www.moneycontrol.com/news/business/sony-agrees-to-discuss-extension-of-merger-deadline-says-zee-entertainment-11934701.html"
          ]
         ],
         "hovertemplate": "%{customdata[0]}<extra></extra>",
         "hovertext": [
          "2 Cars In Garage Enough: Why Sal Khan Quit Plush Job To Open Khan Academy - NDTV",
          "2 Tata cars get 5 stars as Bharat-NCAP awards first-ever ratings; Gadkari lauds - Hindustan Times",
          "Adobe explains why it abandoned the Figma deal - The Verge",
          "Apple will be halting sales of its Series 9 smartwatch, TechCrunch has confirmed. The news, shared by 9to5Mac, follows an October ruling by the",
          "Bayer Monsanto: PCB maker ordered to pay $857m for toxic leaks - BBC.com",
          "Comcast Says Hackers May Have Accessed Data on Millions of Xfinity Customers - Hollywood Reporter",
          "DOMS Share Price Listing Prediction, DOMS Share Listing Date: DOMS IPO will list on NSE and BSE. DOMS shares are commanding a solid grey market premium or GMP in unlisted market. DOMS Share Listing Date, DOMS IPO Listing Date - check here",
          "Elon Musk’s Big Lie About Tesla Is Finally Exposed - Rolling Stone",
          "Fed officials are pushing back against the expectations for interest rate cuts that have lifted stocks.",
          "Fed officials question stock market surge after rate cut projections - The Hill",
          "Federal prosecutors are investigating allegation that Jimmy Haslam attempted to bribe Pilot executives - NBC Sports",
          "GM: Half of Buick dealers took buyouts in 2023 - Detroit Free Press",
          "Gold Price Forecast: No reason for any significant downward correction of XAU/USD – Commerzbank - FXStreet",
          "Here's How Much the 2024 Subaru WRX TR Costs - Road & Track",
          "In the past half-year, IndiGo has expanded its global presence by incorporating over 20 additional international routes into its network.",
          "John Oliver devoted an entire 'Last Week Tonight' segment to rehashing the past 12 months in the life of billionaire and tech mogul Elon Musk.",
          "Liz Weston: Confusion about retirement fund minimum distributions can cause expensive mistakes - OregonLive",
          "Market Week Ahead: Gold Regains $2k, GBP/USD, EUR/USD Rally as USD Slides - DailyFX",
          "Mcap Of 9 Most Valued Firms Jumps Rs 2.26 Lakh Cr; TCS, Infosys Biggest Gainers - News18",
          "Mr. Cooper is sending notices of a data breach to customers who were impacted by a cyberattack the firm suffered in November 2023.",
          "Nikola Founder Trevor Milton Sentenced to Four Years for Fraud - Yahoo Finance",
          "One grounded airline plans to fly again, in January with Ayodhya flights - IndiaTimes",
          "Panasonic says Oklahoma no longer candidate for new battery plant - Reuters",
          "Recession fears hit IT sector, Infosys, major players announce drastic cuts in pay hikes, promotions - Daijiworld.com",
          "ShareChat lays off 200 employees, valuation halved in last one year - Mint",
          "SiriusXM sued for allegedly trapping customers in unwanted subscriptions - CNN",
          "Stock market news today: US stocks hold onto gains as rate-cut hopes persist - Yahoo Finance",
          "Tesla Stock At Early Buy Point On Strong China Registrations - Investor's Business Daily",
          "The Department of Transportation is hitting Southwest Airlines with a $140 million fine over last year’s holiday meltdown that left millions of passengers stranded.",
          "The Fed may have done the impossible: Avoid a recession — for now - CNN",
          "The President of the Federal Reserve Bank of Chicago said the market may have read too much into last week's central bank update.",
          "The formal inquiry is the first against a large social media platform under the Digital Services Act.",
          "The situation in the Red Sea appears to be growing untenable for global shipping companies. That may result in the US military intervening to keep the critical shipping rout open.",
          "This is a good time to invest in bonds — here is a fund with special advantages - MarketWatch",
          "This is how to protect your credit and bank cards from getting hacked - Fox News",
          "Understaffed and neglected: How real estate investors reshaped assisted living facilities - The Washington Post",
          "Vikram Solar, DFC sign retainer letter for $200 mn funding | Mint - Mint",
          "White House backs industry effort to standardize Tesla's EV charging plugs - Yahoo Finance",
          "Zee seeks time on Sony deal as two directors voted out - Mint",
          "Zee, Sony enter into discussion to extend merger deadline - Moneycontrol"
         ],
         "legendgroup": "Global Business News",
         "marker": {
          "color": "#00cc96",
          "size": [
           45.7,
           32.8,
           15.600000000000001,
           50,
           50,
           19.900000000000002,
           15.600000000000001,
           11.299999999999997,
           45.7,
           28.5,
           15.600000000000001,
           11.299999999999997,
           28.5,
           19.900000000000002,
           24.2,
           11.299999999999997,
           28.5,
           45.7,
           19.900000000000002,
           19.900000000000002,
           15.600000000000001,
           37.1,
           50,
           41.4,
           37.1,
           41.4,
           45.7,
           32.8,
           37.1,
           41.4,
           28.5,
           41.4,
           32.8,
           37.1,
           32.8,
           24.2,
           24.2,
           11.299999999999997,
           50,
           24.2
          ],
          "sizemode": "area",
          "sizeref": 0.125,
          "symbol": "circle"
         },
         "mode": "markers",
         "name": "Global Business News",
         "orientation": "v",
         "showlegend": true,
         "type": "scatter",
         "x": [
          "2023-12-21",
          "2023-12-21",
          "2023-12-21",
          "2023-12-19",
          "2023-12-20",
          "2023-12-20",
          "2023-12-19",
          "2023-12-18",
          "2023-12-19",
          "2023-12-21",
          "2023-12-18",
          "2023-12-21",
          "2023-12-20",
          "2023-12-21",
          "2023-12-19",
          "2023-12-19",
          "2023-12-18",
          "2023-12-18",
          "2023-12-18",
          "2023-12-19",
          "2023-12-20",
          "2023-12-18",
          "2023-12-21",
          "2023-12-18",
          "2023-12-21",
          "2023-12-21",
          "2023-12-20",
          "2023-12-20",
          "2023-12-19",
          "2023-12-20",
          "2023-12-19",
          "2023-12-19",
          "2023-12-19",
          "2023-12-20",
          "2023-12-18",
          "2023-12-18",
          "2023-12-20",
          "2023-12-20",
          "2023-12-18",
          "2023-12-21"
         ],
         "xaxis": "x",
         "y": [
          2,
          5,
          9,
          1,
          1,
          8,
          9,
          10,
          2,
          6,
          9,
          10,
          6,
          8,
          7,
          10,
          6,
          2,
          8,
          8,
          9,
          4,
          1,
          3,
          4,
          3,
          2,
          5,
          4,
          3,
          6,
          3,
          5,
          4,
          5,
          7,
          7,
          10,
          1,
          7
         ],
         "yaxis": "y"
        },
        {
         "customdata": [
          [
           "Rank: 8<br>Title: 24-hour flash sale at Best Buy — Macs from $749, Switch games from $14 - Tom's Guide<br>Platform: US Headlines<br>Time Posted: 2023-12-20 14:23:26+00:00<br>URL: https://www.tomsguide.com/deals/24-hour-flash-sale-at-best-buy-macs-from-dollar749-switch-games-from-dollar14"
          ],
          [
           "Rank: 1<br>Title: A man accused of rape vanished. Then, a lake yielded a grim discovery. 25 years later, a fresh mystery is revealed - CNN<br>Platform: US Headlines<br>Time Posted: 2023-12-19 16:22:00+00:00<br>URL: https://www.cnn.com/2023/12/19/us/fugitive-lake-discovery-dna-homicide/index.html"
          ],
          [
           "Rank: 2<br>Title: Aaron Rodgers’ season is (officially) over, so Jets must turn the page to 2024 - The Athletic<br>Platform: US Headlines<br>Time Posted: 2023-12-20 15:48:17+00:00<br>URL: https://theathletic.com/5150462/2023/12/20/aaron-rodgers-jets-2024-roster/"
          ],
          [
           "Rank: 7<br>Title: Adorable Cat Video Reaches Earth After 19-Million-Mile Journey from Deep Space - Gizmodo<br>Platform: US Headlines<br>Time Posted: 2023-12-20 14:35:00+00:00<br>URL: https://gizmodo.com/nasa-psyche-deep-space-laser-communications-cat-video-1851114080"
          ],
          [
           "Rank: 2<br>Title: Alex Batty: British teen found in France returns to UK - BBC.com<br>Platform: US Headlines<br>Time Posted: 2023-12-17 18:06:09+00:00<br>URL: https://www.bbc.com/news/uk-67724917"
          ],
          [
           "Rank: 1<br>Title: Apple Watch Series 9 sales to be halted over patent dispute - TechCrunch<br>Platform: US Headlines<br>Time Posted: 2023-12-18 16:16:33+00:00<br>URL: https://techcrunch.com/2023/12/18/apple-watch-series-9-sales-to-be-halted-over-patent-dispute/"
          ],
          [
           "Rank: 9<br>Title: Colorado Supreme Court rules Trump is disqualified from presidency for Jan. 6 riot - CBS News<br>Platform: US Headlines<br>Time Posted: 2023-12-20 14:20:00+00:00<br>URL: https://www.cbsnews.com/news/trump-colorado-supreme-court/"
          ],
          [
           "Rank: 6<br>Title: Eagles' Jalen Hurts downgraded after illness worsens - ESPN<br>Platform: US Headlines<br>Time Posted: 2023-12-17 16:26:00+00:00<br>URL: https://www.espn.com/nfl/story/_/id/39132903/source-eagles-jalen-hurts-downgraded-illness-worsens"
          ],
          [
           "Rank: 9<br>Title: Fox News host Kilmeade defends Trump on ‘poisoning the blood of our country’ remarks - The Hill<br>Platform: US Headlines<br>Time Posted: 2023-12-18 14:40:00+00:00<br>URL: https://thehill.com/homenews/media/4365422-kilmeade-defends-trump-poison-remark/"
          ],
          [
           "Rank: 8<br>Title: Glacial Pathfinders: Tracing North America's First Migrants via the Sea Ice Highway - SciTechDaily<br>Platform: US Headlines<br>Time Posted: 2023-12-17 16:24:06+00:00<br>URL: https://scitechdaily.com/glacial-pathfinders-tracing-north-americas-first-migrants-via-the-sea-ice-highway/"
          ],
          [
           "Rank: 1<br>Title: How to watch today's Kansas City Chiefs vs. New England Patriots game on Fox - Yahoo Sports<br>Platform: US Headlines<br>Time Posted: 2023-12-17 18:31:26+00:00<br>URL: https://sports.yahoo.com/how-to-watch-today-kansas-city-chiefs-new-england-patriots-game-fox-130010183.html"
          ],
          [
           "Rank: 5<br>Title: Humanitarian crisis in Gaza deepens as fighting rages | DW News - DW News<br>Platform: US Headlines<br>Time Posted: 2023-12-17 16:35:53+00:00<br>URL: https://www.youtube.com/watch?v=DW4lJxRxne4"
          ],
          [
           "Rank: 7<br>Title: Inside the 'Gaza metro': Israel displays Hamas tunnel big enough for a car - Financial Times<br>Platform: US Headlines<br>Time Posted: 2023-12-17 16:25:12+00:00<br>URL: https://www.ft.com/content/97fcd9c1-0abe-4307-ab62-d9de149642f3"
          ],
          [
           "Rank: 8<br>Title: Jennifer Love Hewitt on aging, claims she looks 'unrecognizable' - USA TODAY<br>Platform: US Headlines<br>Time Posted: 2023-12-19 14:49:12+00:00<br>URL: https://www.usatoday.com/story/entertainment/celebrities/2023/12/19/jennifer-love-hewitt-aging/71969674007/"
          ],
          [
           "Rank: 4<br>Title: Jury finds Jonathan Majors guilty of assault and harassment of ex-girlfriend - NBC News<br>Platform: US Headlines<br>Time Posted: 2023-12-19 15:54:00+00:00<br>URL: https://www.nbcnews.com/news/us-news/jonathan-majors-jury-reaches-verdict-assault-trial-rcna129406"
          ],
          [
           "Rank: 5<br>Title: NFL Power Rankings Week 16: Remember, no team pursued franchise-tagged Lamar Jackson - Yahoo Sports<br>Platform: US Headlines<br>Time Posted: 2023-12-19 15:50:02+00:00<br>URL: https://sports.yahoo.com/nfl-power-rankings-week-16-remember-no-team-pursued-franchise-tagged-lamar-jackson-120013309.html"
          ],
          [
           "Rank: 4<br>Title: NFL Week 15 Saturday grades: Lions earn 'A+' for Broncos beatdown, Bengals 'B+' for overtime win vs. Vikings - CBS Sports<br>Platform: US Headlines<br>Time Posted: 2023-12-17 16:58:00+00:00<br>URL: https://www.cbssports.com/nfl/news/nfl-week-15-saturday-grades-lions-earn-a-for-broncos-beatdown-bengals-b-for-overtime-win-vs-vikings/"
          ],
          [
           "Rank: 10<br>Title: Nikola Founder Trevor Milton Sentenced to Four Years for Fraud - Yahoo Finance<br>Platform: US Headlines<br>Time Posted: 2023-12-19 14:23:10+00:00<br>URL: https://finance.yahoo.com/news/nikola-founder-trevor-milton-sentenced-184659163.html"
          ],
          [
           "Rank: 10<br>Title: North Carolina basketball star Eric Montross dies at age 52 - ESPN<br>Platform: US Headlines<br>Time Posted: 2023-12-18 14:30:00+00:00<br>URL: https://www.espn.com/mens-college-basketball/story/_/id/39139942/north-carolina-basketball-star-eric-montross-dies-age-52"
          ],
          [
           "Rank: 10<br>Title: North Korea fires short-range missile, condemns U.S. for raising tensions - Reuters<br>Platform: US Headlines<br>Time Posted: 2023-12-17 15:56:00+00:00<br>URL: https://www.reuters.com/world/asia-pacific/north-korea-fires-suspected-ballistic-missile-south-korea-japan-say-2023-12-17/"
          ],
          [
           "Rank: 5<br>Title: Polish state TV channel halts broadcasting in standoff with Tusk - Financial Times<br>Platform: US Headlines<br>Time Posted: 2023-12-20 14:58:32+00:00<br>URL: https://www.ft.com/content/4321e681-f81c-4111-b3b5-13260a6c2d33"
          ],
          [
           "Rank: 2<br>Title: Pope Francis says priests can bless same-sex couples but marriage is between a man and a woman - CBS News<br>Platform: US Headlines<br>Time Posted: 2023-12-18 16:00:00+00:00<br>URL: https://www.cbsnews.com/news/pope-francis-same-sex-unions-priests-can-bless-marriage/"
          ],
          [
           "Rank: 4<br>Title: Powerful Northeast storm knocks out power to tens of thousands and forces water rescues - CNN<br>Platform: US Headlines<br>Time Posted: 2023-12-18 15:34:00+00:00<br>URL: https://www.cnn.com/2023/12/17/weather/northeast-storms-flooding-travel-monday/index.html"
          ],
          [
           "Rank: 7<br>Title: Princess of Wales Shares Her Adorable Christmas Baby Photo - The Royal Family Channel<br>Platform: US Headlines<br>Time Posted: 2023-12-18 14:58:53+00:00<br>URL: https://www.youtube.com/watch?v=P3vMDwJbbh4"
          ],
          [
           "Rank: 10<br>Title: Ryan Gosling Releases ‘Ken The EP’ With Three New Versions of ‘I’m Just Ken,’ Including a Christmas Cover - Variety<br>Platform: US Headlines<br>Time Posted: 2023-12-20 14:20:00+00:00<br>URL: https://variety.com/2023/music/news/ryan-gosling-ken-ep-im-just-ken-christmas-version-1235844314/"
          ],
          [
           "Rank: 6<br>Title: Shipping industry in the dark over US-led Red Sea navy force - Reuters<br>Platform: US Headlines<br>Time Posted: 2023-12-20 14:50:00+00:00<br>URL: https://www.reuters.com/business/shipping-industry-dark-over-us-led-red-sea-navy-force-2023-12-20/"
          ],
          [
           "Rank: 6<br>Title: Southwest Airlines fined $140 million for holiday meltdown that stranded millions - The Verge<br>Platform: US Headlines<br>Time Posted: 2023-12-18 15:06:34+00:00<br>URL: https://www.theverge.com/2023/12/18/24006045/southwest-fined-dot-holiday-delays-fund"
          ],
          [
           "Rank: 3<br>Title: Starving Palestinians loot aid trucks as desperation mounts in Gaza’s Rafah - Al Jazeera English<br>Platform: US Headlines<br>Time Posted: 2023-12-17 17:22:44+00:00<br>URL: https://www.aljazeera.com/news/2023/12/17/starving-palestinians-loot-aid-trucks-as-desperation-mounts-in-gazas-rafah"
          ],
          [
           "Rank: 7<br>Title: This is a good time to invest in bonds — here is a fund with special advantages - MarketWatch<br>Platform: US Headlines<br>Time Posted: 2023-12-19 15:02:00+00:00<br>URL: https://www.marketwatch.com/story/this-is-a-good-time-to-invest-in-a-bond-fund-and-this-manager-has-an-advantage-over-his-largest-competitors-76a9f9ec"
          ],
          [
           "Rank: 9<br>Title: Timothée Chalamet’s ‘Wonka’ Tops Box Office With $39 Million Debut - Variety<br>Platform: US Headlines<br>Time Posted: 2023-12-17 16:14:00+00:00<br>URL: https://variety.com/2023/film/box-office/box-office-timothee-chalamet-wonka-wins-weekend-1235842643/"
          ],
          [
           "Rank: 1<br>Title: Troubles legacy act: Ireland takes human rights case against UK - BBC.com<br>Platform: US Headlines<br>Time Posted: 2023-12-20 15:50:00+00:00<br>URL: https://www.bbc.com/news/uk-northern-ireland-67769920"
          ],
          [
           "Rank: 8<br>Title: US lawmakers push DOJ to investigate Apple following Beeper shutdowns - The Verge<br>Platform: US Headlines<br>Time Posted: 2023-12-18 14:44:31+00:00<br>URL: https://www.theverge.com/2023/12/18/24006037/apple-beeper-doj-investigation-imessage-letter-android"
          ],
          [
           "Rank: 4<br>Title: Venezuela to release 36 people, including 12 Americans, in prisoner swap -source - Reuters<br>Platform: US Headlines<br>Time Posted: 2023-12-20 15:28:00+00:00<br>URL: https://www.reuters.com/world/us/us-has-freed-close-ally-venezuela-president-swap-jailed-americans-ap-2023-12-20/"
          ],
          [
           "Rank: 5<br>Title: Vessel attacked in Red Sea off Yemen coast, US blames Houthis - Reuters<br>Platform: US Headlines<br>Time Posted: 2023-12-18 15:26:00+00:00<br>URL: https://www.reuters.com/world/middle-east/ukmto-ambrey-report-possible-explosion-south-yemens-port-mokha-2023-12-18/"
          ],
          [
           "Rank: 2<br>Title: Watch Live: Justice Sandra Day O'Connor honored at funeral service at National Cathedral - CBS News<br>Platform: US Headlines<br>Time Posted: 2023-12-19 16:04:00+00:00<br>URL: https://www.cbsnews.com/news/sandra-day-oconnor-funeral-live-stream-national-cathedral/"
          ],
          [
           "Rank: 3<br>Title: What happens when a shipwrecks becomes a thriving marine habitat - The Washington Post<br>Platform: US Headlines<br>Time Posted: 2023-12-19 16:00:00+00:00<br>URL: https://www.washingtonpost.com/health/2023/12/19/plumbing-secrets-how-shipwrecks-transform-into-living-seabeds/"
          ],
          [
           "Rank: 6<br>Title: Who are the Houthis and why are they attacking ships in the Red Sea? - CNN<br>Platform: US Headlines<br>Time Posted: 2023-12-19 15:28:00+00:00<br>URL: https://www.cnn.com/2023/12/19/middleeast/red-sea-crisis-explainer-houthi-yemen-israel-intl/index.html"
          ],
          [
           "Rank: 3<br>Title: reactions to the Ravens clinching a playoff berth with win over Jaguars - NFL<br>Platform: US Headlines<br>Time Posted: 2023-12-18 15:49:56+00:00<br>URL: https://www.youtube.com/watch?v=pxzM8J8X4Ig"
          ],
          [
           "Rank: 3<br>Title: 👀 KEPT RECEIPTS! 👀 Stephen A., JWill & Mad Dog get TENSE in Ja Morant’s return | First Take - ESPN<br>Platform: US Headlines<br>Time Posted: 2023-12-20 15:40:49+00:00<br>URL: https://www.youtube.com/watch?v=k77OkJJA0_o"
          ]
         ],
         "hovertemplate": "%{customdata[0]}<extra></extra>",
         "hovertext": [
          "24-hour flash sale at Best Buy — Macs from $749, Switch games from $14 - Tom's Guide",
          "A man accused of rape vanished. Then, a lake yielded a grim discovery. 25 years later, a fresh mystery is revealed - CNN",
          "Aaron Rodgers’ season is (officially) over, so Jets must turn the page to 2024 - The Athletic",
          "Adorable Cat Video Reaches Earth After 19-Million-Mile Journey from Deep Space - Gizmodo",
          "Alex Batty: British teen found in France returns to UK - BBC.com",
          "Apple Watch Series 9 sales to be halted over patent dispute - TechCrunch",
          "Colorado Supreme Court rules Trump is disqualified from presidency for Jan. 6 riot - CBS News",
          "Eagles' Jalen Hurts downgraded after illness worsens - ESPN",
          "Fox News host Kilmeade defends Trump on ‘poisoning the blood of our country’ remarks - The Hill",
          "Glacial Pathfinders: Tracing North America's First Migrants via the Sea Ice Highway - SciTechDaily",
          "How to watch today's Kansas City Chiefs vs. New England Patriots game on Fox - Yahoo Sports",
          "Humanitarian crisis in Gaza deepens as fighting rages | DW News - DW News",
          "Inside the 'Gaza metro': Israel displays Hamas tunnel big enough for a car - Financial Times",
          "Jennifer Love Hewitt on aging, claims she looks 'unrecognizable' - USA TODAY",
          "Jury finds Jonathan Majors guilty of assault and harassment of ex-girlfriend - NBC News",
          "NFL Power Rankings Week 16: Remember, no team pursued franchise-tagged Lamar Jackson - Yahoo Sports",
          "NFL Week 15 Saturday grades: Lions earn 'A+' for Broncos beatdown, Bengals 'B+' for overtime win vs. Vikings - CBS Sports",
          "Nikola Founder Trevor Milton Sentenced to Four Years for Fraud - Yahoo Finance",
          "North Carolina basketball star Eric Montross dies at age 52 - ESPN",
          "North Korea fires short-range missile, condemns U.S. for raising tensions - Reuters",
          "Polish state TV channel halts broadcasting in standoff with Tusk - Financial Times",
          "Pope Francis says priests can bless same-sex couples but marriage is between a man and a woman - CBS News",
          "Powerful Northeast storm knocks out power to tens of thousands and forces water rescues - CNN",
          "Princess of Wales Shares Her Adorable Christmas Baby Photo - The Royal Family Channel",
          "Ryan Gosling Releases ‘Ken The EP’ With Three New Versions of ‘I’m Just Ken,’ Including a Christmas Cover - Variety",
          "Shipping industry in the dark over US-led Red Sea navy force - Reuters",
          "Southwest Airlines fined $140 million for holiday meltdown that stranded millions - The Verge",
          "Starving Palestinians loot aid trucks as desperation mounts in Gaza’s Rafah - Al Jazeera English",
          "This is a good time to invest in bonds — here is a fund with special advantages - MarketWatch",
          "Timothée Chalamet’s ‘Wonka’ Tops Box Office With $39 Million Debut - Variety",
          "Troubles legacy act: Ireland takes human rights case against UK - BBC.com",
          "US lawmakers push DOJ to investigate Apple following Beeper shutdowns - The Verge",
          "Venezuela to release 36 people, including 12 Americans, in prisoner swap -source - Reuters",
          "Vessel attacked in Red Sea off Yemen coast, US blames Houthis - Reuters",
          "Watch Live: Justice Sandra Day O'Connor honored at funeral service at National Cathedral - CBS News",
          "What happens when a shipwrecks becomes a thriving marine habitat - The Washington Post",
          "Who are the Houthis and why are they attacking ships in the Red Sea? - CNN",
          "reactions to the Ravens clinching a playoff berth with win over Jaguars - NFL",
          "👀 KEPT RECEIPTS! 👀 Stephen A., JWill & Mad Dog get TENSE in Ja Morant’s return | First Take - ESPN"
         ],
         "legendgroup": "US Headlines",
         "marker": {
          "color": "#ab63fa",
          "size": [
           19.900000000000002,
           50,
           45.7,
           24.2,
           45.7,
           50,
           15.600000000000001,
           28.5,
           15.600000000000001,
           19.900000000000002,
           50,
           32.8,
           24.2,
           19.900000000000002,
           37.1,
           32.8,
           37.1,
           11.299999999999997,
           11.299999999999997,
           11.299999999999997,
           32.8,
           45.7,
           37.1,
           24.2,
           11.299999999999997,
           28.5,
           28.5,
           41.4,
           24.2,
           15.600000000000001,
           50,
           19.900000000000002,
           37.1,
           32.8,
           45.7,
           41.4,
           28.5,
           41.4,
           41.4
          ],
          "sizemode": "area",
          "sizeref": 0.125,
          "symbol": "circle"
         },
         "mode": "markers",
         "name": "US Headlines",
         "orientation": "v",
         "showlegend": true,
         "type": "scatter",
         "x": [
          "2023-12-21",
          "2023-12-20",
          "2023-12-21",
          "2023-12-21",
          "2023-12-18",
          "2023-12-19",
          "2023-12-21",
          "2023-12-18",
          "2023-12-19",
          "2023-12-18",
          "2023-12-18",
          "2023-12-18",
          "2023-12-18",
          "2023-12-20",
          "2023-12-20",
          "2023-12-20",
          "2023-12-18",
          "2023-12-20",
          "2023-12-19",
          "2023-12-18",
          "2023-12-21",
          "2023-12-19",
          "2023-12-19",
          "2023-12-19",
          "2023-12-21",
          "2023-12-21",
          "2023-12-19",
          "2023-12-18",
          "2023-12-20",
          "2023-12-18",
          "2023-12-21",
          "2023-12-19",
          "2023-12-21",
          "2023-12-19",
          "2023-12-20",
          "2023-12-20",
          "2023-12-20",
          "2023-12-19",
          "2023-12-21"
         ],
         "xaxis": "x",
         "y": [
          8,
          1,
          2,
          7,
          2,
          1,
          9,
          6,
          9,
          8,
          1,
          5,
          7,
          8,
          4,
          5,
          4,
          10,
          10,
          10,
          5,
          2,
          4,
          7,
          10,
          6,
          6,
          3,
          7,
          9,
          1,
          8,
          4,
          5,
          2,
          3,
          6,
          3,
          3
         ],
         "yaxis": "y"
        },
        {
         "customdata": [
          [
           "Rank: 8<br>Title: 4000 Days - [Hardcore Minecraft]<br>Platform: YouTube<br>Time Posted: 2023-12-16 18:00:07<br>Channel: Luke TheNotable<br>Views: 1,617,889<br>Subscribers: 4,630,000<br>Likes: 110,886<br>Comments: 6,732<br>Category: Gaming"
          ],
          [
           "Rank: 1<br>Title: Drake - You Broke My Heart<br>Platform: YouTube<br>Time Posted: 2023-12-20 16:49:22<br>Channel: DrakeVEVO<br>Views: 1,798,719<br>Subscribers: 9,160,000<br>Likes: 106,478<br>Comments: 6,686<br>Category: Music"
          ],
          [
           "Rank: 1<br>Title: Elon Musk: Last Week Tonight with John Oliver (HBO)<br>Platform: YouTube<br>Time Posted: 2023-12-18 07:30:02<br>Channel: LastWeekTonight<br>Views: 1,765,142<br>Subscribers: 9,300,000<br>Likes: 85,000<br>Comments: 10,172<br>Category: Entertainment"
          ],
          [
           "Rank: 8<br>Title: Elon Musk: Last Week Tonight with John Oliver (HBO)<br>Platform: YouTube<br>Time Posted: 2023-12-18 07:30:02<br>Channel: LastWeekTonight<br>Views: 3,210,629<br>Subscribers: 9,300,000<br>Likes: 123,056<br>Comments: 15,888<br>Category: Entertainment"
          ],
          [
           "Rank: 6<br>Title: Every Way To Cook A Potato (43 Ways)<br>Platform: YouTube<br>Time Posted: 2023-12-20 15:45:02<br>Channel: Joshua Weissman<br>Views: 606,654<br>Subscribers: 8,640,000<br>Likes: 25,059<br>Comments: 1,582<br>Category: Howto & Style"
          ],
          [
           "Rank: 1<br>Title: Five Nights at Freddy's: Help Wanted 2<br>Platform: YouTube<br>Time Posted: 2023-12-18 21:24:29<br>Channel: Markiplier<br>Views: 1,871,589<br>Subscribers: 36,100,000<br>Likes: 172,567<br>Comments: 6,661<br>Category: Gaming"
          ],
          [
           "Rank: 7<br>Title: Five Nights at Freddy's: Help Wanted 2<br>Platform: YouTube<br>Time Posted: 2023-12-18 21:24:29<br>Channel: Markiplier<br>Views: 2,848,168<br>Subscribers: 36,100,000<br>Likes: 219,788<br>Comments: 7,593<br>Category: Gaming"
          ],
          [
           "Rank: 3<br>Title: Galactus VS Unicron (Marvel Comics VS Transformers) | DEATH BATTLE!<br>Platform: YouTube<br>Time Posted: 2023-12-18 18:00:09<br>Channel: DEATH BATTLE!<br>Views: 1,022,209<br>Subscribers: 5,660,000<br>Likes: 65,819<br>Comments: 9,181<br>Category: Entertainment"
          ],
          [
           "Rank: 10<br>Title: Geometry Dash 2.2 Released<br>Platform: YouTube<br>Time Posted: 2023-12-20 02:59:44<br>Channel: RobTopGames<br>Views: 905,191<br>Subscribers: 13,700,000<br>Likes: 146,774<br>Comments: 22,787<br>Category: Gaming"
          ],
          [
           "Rank: 9<br>Title: George Santos Answers Hard-Hitting Questions | Ziwe Interview<br>Platform: YouTube<br>Time Posted: 2023-12-18 16:00:12<br>Channel: Ziwe<br>Views: 1,066,808<br>Subscribers: 175,000<br>Likes: 56,719<br>Comments: 5,082<br>Category: Comedy"
          ],
          [
           "Rank: 5<br>Title: He's In The VENTS?! - FNAF VR 2 Like Mexican<br>Platform: YouTube<br>Time Posted: 2023-12-18 20:00:02<br>Channel: EddieVR<br>Views: 496,594<br>Subscribers: 7,020,000<br>Likes: 30,748<br>Comments: 1,215<br>Category: Gaming"
          ],
          [
           "Rank: 4<br>Title: House of Secrets: 9 children hidden for years in Oklahoma home found after police tip<br>Platform: YouTube<br>Time Posted: 2023-12-20 16:54:19<br>Channel: KOCO 5 News<br>Views: 976,126<br>Subscribers: 106,000<br>Likes: 22,811<br>Comments: <br>Category: News & Politics"
          ],
          [
           "Rank: 3<br>Title: How Ja Morant was in the Locker Room<br>Platform: YouTube<br>Time Posted: 2023-12-20 06:56:22<br>Channel: RDCworld1<br>Views: 298,920<br>Subscribers: 6,650,000<br>Likes: 41,700<br>Comments: 1,594<br>Category: Film & Animation"
          ],
          [
           "Rank: 6<br>Title: I Bought 100 UNCLAIMED MAIL PACKAGES<br>Platform: YouTube<br>Time Posted: 2023-12-17 16:00:12<br>Channel: HopeScope<br>Views: 985,208<br>Subscribers: 3,950,000<br>Likes: 40,995<br>Comments: 2,946<br>Category: Howto & Style"
          ],
          [
           "Rank: 2<br>Title: I Tested 1-Star Camping<br>Platform: YouTube<br>Time Posted: 2023-12-20 16:29:24<br>Channel: Ryan Trahan<br>Views: 2,676,230<br>Subscribers: 14,200,000<br>Likes: 118,892<br>Comments: 13,339<br>Category: Entertainment"
          ],
          [
           "Rank: 4<br>Title: I Took A 52-Hour Overnight Train Across America<br>Platform: YouTube<br>Time Posted: 2023-12-18 01:29:38<br>Channel: Safiya Nygaard<br>Views: 703,825<br>Subscribers: 9,950,000<br>Likes: 58,963<br>Comments: 2,939<br>Category: People & Blogs"
          ],
          [
           "Rank: 4<br>Title: I made an Ai Secretary to answer my actual emails<br>Platform: YouTube<br>Time Posted: 2023-12-18 21:04:41<br>Channel: DougDoug<br>Views: 617,493<br>Subscribers: 2,380,000<br>Likes: 48,370<br>Comments: 1,884<br>Category: Gaming"
          ],
          [
           "Rank: 7<br>Title: ITZY \"BORN TO BE\" M/V @ITZY<br>Platform: YouTube<br>Time Posted: 2023-12-17 14:59:58<br>Channel: JYP Entertainment<br>Views: 3,817,159<br>Subscribers: 28,400,000<br>Likes: 447,303<br>Comments: 43,130<br>Category: Music"
          ],
          [
           "Rank: 3<br>Title: Is the Las Vegas Sphere Worth It?<br>Platform: YouTube<br>Time Posted: 2023-12-20 18:35:50<br>Channel: Eddy Burback<br>Views: 803,013<br>Subscribers: 1,700,000<br>Likes: 59,468<br>Comments: 4,004<br>Category: Comedy"
          ],
          [
           "Rank: 9<br>Title: Lego Fortnite Meme Olympics<br>Platform: YouTube<br>Time Posted: 2023-12-21 01:11:30<br>Channel: LazarBeam<br>Views: 1,492,859<br>Subscribers: 21,400,000<br>Likes: 73,531<br>Comments: 2,379<br>Category: Gaming"
          ],
          [
           "Rank: 6<br>Title: MI ULTIMO VIDEO / Kimberly Loaiza<br>Platform: YouTube<br>Time Posted: 2023-12-18 22:32:33<br>Channel: Kimberly Loaiza<br>Views: 9,571,816<br>Subscribers: 43,700,000<br>Likes: 932,028<br>Comments: 262,492<br>Category: People & Blogs"
          ],
          [
           "Rank: 1<br>Title: Melanie Martinez - TUNNEL VISION (Official Video)<br>Platform: YouTube<br>Time Posted: 2023-12-19 19:00:10<br>Channel: melanie martinez<br>Views: 1,395,500<br>Subscribers: 15,200,000<br>Likes: 251,530<br>Comments: 32,206<br>Category: Music"
          ],
          [
           "Rank: 10<br>Title: Melanie Martinez - TUNNEL VISION (Official Video)<br>Platform: YouTube<br>Time Posted: 2023-12-19 19:00:10<br>Channel: melanie martinez<br>Views: 1,897,095<br>Subscribers: 15,200,000<br>Likes: 279,661<br>Comments: 33,845<br>Category: Music"
          ],
          [
           "Rank: 5<br>Title: Migrants converge on border after SB4 signed<br>Platform: YouTube<br>Time Posted: 2023-12-20 04:14:19<br>Channel: KHOU 11<br>Views: 165,280<br>Subscribers: 863,000<br>Likes: 1,990<br>Comments: 2,099<br>Category: News & Politics"
          ],
          [
           "Rank: 7<br>Title: My viewers sent me AWFUL Christmas Gifts<br>Platform: YouTube<br>Time Posted: 2023-12-19 00:41:12<br>Channel: Crispy Concords<br>Views: 430,235<br>Subscribers: 3,080,000<br>Likes: 24,838<br>Comments: 1,557<br>Category: Entertainment"
          ],
          [
           "Rank: 9<br>Title: Mystery Detective Battle<br>Platform: YouTube<br>Time Posted: 2023-12-16 14:59:41<br>Channel: Dude Perfect<br>Views: 2,947,710<br>Subscribers: 60,000,000<br>Likes: 123,857<br>Comments: 4,714<br>Category: Sports"
          ],
          [
           "Rank: 5<br>Title: Our Dream Home Might Be Haunted!<br>Platform: YouTube<br>Time Posted: 2023-12-20 15:35:09<br>Channel: The Beverly Halls<br>Views: 618,551<br>Subscribers: 7,490,000<br>Likes: 12,513<br>Comments: 1,076<br>Category: Entertainment"
          ],
          [
           "Rank: 2<br>Title: Peyton & Eli Manning react to the Seahawks Game Winning Touchdown on the ManningCast<br>Platform: YouTube<br>Time Posted: 2023-12-19 04:17:51<br>Channel: Omaha Productions<br>Views: 368,123<br>Subscribers: 170,000<br>Likes: 3,675<br>Comments: 390<br>Category: Sports"
          ],
          [
           "Rank: 4<br>Title: Peyton & Eli Manning react to the Seahawks Game Winning Touchdown on the ManningCast<br>Platform: YouTube<br>Time Posted: 2023-12-19 04:17:51<br>Channel: Omaha Productions<br>Views: 682,160<br>Subscribers: 171,000<br>Likes: 5,349<br>Comments: 554<br>Category: Sports"
          ],
          [
           "Rank: 2<br>Title: Presidential Pets: a Brief History<br>Platform: YouTube<br>Time Posted: 2023-12-17 22:45:12<br>Channel: Sam O'Nella Academy<br>Views: 1,541,482<br>Subscribers: 4,370,000<br>Likes: 236,679<br>Comments: 14,123<br>Category: Entertainment"
          ],
          [
           "Rank: 2<br>Title: REGRESAMOS POR ESTA RAZÓN 😱 Juan de Dios Pantoja<br>Platform: YouTube<br>Time Posted: 2023-12-19 02:49:08<br>Channel: Juan De Dios Pantoja<br>Views: 7,875,962<br>Subscribers: 24,300,000<br>Likes: 473,396<br>Comments: 29,069<br>Category: People & Blogs"
          ],
          [
           "Rank: 7<br>Title: Ryan Gosling & Mark Ronson - I'm Just Ken (Merry Kristmas Barbie) [Official Music Video]<br>Platform: YouTube<br>Time Posted: 2023-12-20 14:00:30<br>Channel: Atlantic Records<br>Views: 974,846<br>Subscribers: 14,200,000<br>Likes: 60,204<br>Comments: 1,662<br>Category: Music"
          ],
          [
           "Rank: 3<br>Title: Salaar Release Trailer - Telugu | Prabhas | Prashanth Neel | Prithviraj | Shruthi | Hombale Films<br>Platform: YouTube<br>Time Posted: 2023-12-18 10:03:00<br>Channel: Hombale Films<br>Views: 14,194,865<br>Subscribers: 5,150,000<br>Likes: 679,799<br>Comments: 18,046<br>Category: Film & Animation"
          ],
          [
           "Rank: 9<br>Title: Scarface: Tiny Desk Concert<br>Platform: YouTube<br>Time Posted: 2023-12-18 10:00:02<br>Channel: NPR Music<br>Views: 477,840<br>Subscribers: 8,650,000<br>Likes: 41,029<br>Comments: 5,454<br>Category: Music"
          ],
          [
           "Rank: 10<br>Title: Stocking Rainbow Trout in the 5 Acre Pond!<br>Platform: YouTube<br>Time Posted: 2023-12-18 01:07:53<br>Channel: BamaBass<br>Views: 254,783<br>Subscribers: 996,000<br>Likes: 16,900<br>Comments: 1,699<br>Category: People & Blogs"
          ],
          [
           "Rank: 10<br>Title: Survive 100 Days Trapped, Win $500,000<br>Platform: YouTube<br>Time Posted: 2023-12-16 17:00:01<br>Channel: MrBeast<br>Views: 68,302,443<br>Subscribers: 219,000,000<br>Likes: 3,175,565<br>Comments: 52,099<br>Category: Entertainment"
          ],
          [
           "Rank: 6<br>Title: The Chosen: Season 4 Official Trailer<br>Platform: YouTube<br>Time Posted: 2023-12-18 17:00:09<br>Channel: The Chosen<br>Views: 597,370<br>Subscribers: 2,310,000<br>Likes: 50,094<br>Comments: 6,635<br>Category: Entertainment"
          ],
          [
           "Rank: 5<br>Title: Why Is The Day Before SUCH A SCAM?!<br>Platform: YouTube<br>Time Posted: 2023-12-17 18:00:21<br>Channel: The Act Man<br>Views: 730,341<br>Subscribers: 1,840,000<br>Likes: 44,586<br>Comments: 3,904<br>Category: Gaming"
          ],
          [
           "Rank: 8<br>Title: miami and then new york<br>Platform: YouTube<br>Time Posted: 2023-12-20 17:54:37<br>Channel: emma chamberlain<br>Views: 522,277<br>Subscribers: 12,000,000<br>Likes: 34,457<br>Comments: 1,371<br>Category: Entertainment"
          ],
          [
           "Rank: 8<br>Title: 🚨 PENALTY SHOOTOUT! 🚨 Chelsea vs. Newcastle | Carabao Cup Highlights | ESPN FC<br>Platform: YouTube<br>Time Posted: 2023-12-19 22:21:04<br>Channel: ESPN FC<br>Views: 467,640<br>Subscribers: 3,480,000<br>Likes: 6,219<br>Comments: 749<br>Category: Sports"
          ]
         ],
         "hovertemplate": "%{customdata[0]}<extra></extra>",
         "hovertext": [
          "4000 Days - [Hardcore Minecraft]",
          "Drake - You Broke My Heart",
          "Elon Musk: Last Week Tonight with John Oliver (HBO)",
          "Elon Musk: Last Week Tonight with John Oliver (HBO)",
          "Every Way To Cook A Potato (43 Ways)",
          "Five Nights at Freddy's: Help Wanted 2",
          "Five Nights at Freddy's: Help Wanted 2",
          "Galactus VS Unicron (Marvel Comics VS Transformers) | DEATH BATTLE!",
          "Geometry Dash 2.2 Released",
          "George Santos Answers Hard-Hitting Questions | Ziwe Interview",
          "He's In The VENTS?! - FNAF VR 2 Like Mexican",
          "House of Secrets: 9 children hidden for years in Oklahoma home found after police tip",
          "How Ja Morant was in the Locker Room",
          "I Bought 100 UNCLAIMED MAIL PACKAGES",
          "I Tested 1-Star Camping",
          "I Took A 52-Hour Overnight Train Across America",
          "I made an Ai Secretary to answer my actual emails",
          "ITZY \"BORN TO BE\" M/V @ITZY",
          "Is the Las Vegas Sphere Worth It?",
          "Lego Fortnite Meme Olympics",
          "MI ULTIMO VIDEO / Kimberly Loaiza",
          "Melanie Martinez - TUNNEL VISION (Official Video)",
          "Melanie Martinez - TUNNEL VISION (Official Video)",
          "Migrants converge on border after SB4 signed",
          "My viewers sent me AWFUL Christmas Gifts",
          "Mystery Detective Battle",
          "Our Dream Home Might Be Haunted!",
          "Peyton & Eli Manning react to the Seahawks Game Winning Touchdown on the ManningCast",
          "Peyton & Eli Manning react to the Seahawks Game Winning Touchdown on the ManningCast",
          "Presidential Pets: a Brief History",
          "REGRESAMOS POR ESTA RAZÓN 😱 Juan de Dios Pantoja",
          "Ryan Gosling & Mark Ronson - I'm Just Ken (Merry Kristmas Barbie) [Official Music Video]",
          "Salaar Release Trailer - Telugu | Prabhas | Prashanth Neel | Prithviraj | Shruthi | Hombale Films",
          "Scarface: Tiny Desk Concert",
          "Stocking Rainbow Trout in the 5 Acre Pond!",
          "Survive 100 Days Trapped, Win $500,000",
          "The Chosen: Season 4 Official Trailer",
          "Why Is The Day Before SUCH A SCAM?!",
          "miami and then new york",
          "🚨 PENALTY SHOOTOUT! 🚨 Chelsea vs. Newcastle | Carabao Cup Highlights | ESPN FC"
         ],
         "legendgroup": "YouTube",
         "marker": {
          "color": "#FFA15A",
          "size": [
           7.91671247010974,
           8.030830664317502,
           8.009640891564564,
           8.921858810000645,
           7.278542298569137,
           8.076817463034086,
           8.69311692651483,
           7.540790742931284,
           7.466943024909916,
           7.568936279310602,
           7.209085635103416,
           7.511708683849957,
           7.084337529579856,
           7.517440152299854,
           8.584610295559267,
           7.339864972071115,
           7.285382574557734,
           9.304627755047566,
           7.40246053390864,
           7.837808539225503,
           12.936276624842744,
           7.776367222685805,
           8.092913789204871,
           7,
           7.167207798187899,
           8.755935890668063,
           7.286050257184908,
           7.128010157980895,
           7.326192624133764,
           7.868493541476037,
           11.86605710308191,
           7.510900901465475,
           15.85379033171663,
           7.1972503610107745,
           7.056483552154938,
           50,
           7.27268335196169,
           7.356598689029656,
           7.2252936624320565,
           7.190813345134432
          ],
          "sizemode": "area",
          "sizeref": 0.125,
          "symbol": "circle"
         },
         "mode": "markers",
         "name": "YouTube",
         "orientation": "v",
         "showlegend": true,
         "type": "scatter",
         "x": [
          "2023-12-18",
          "2023-12-21",
          "2023-12-18",
          "2023-12-19",
          "2023-12-21",
          "2023-12-19",
          "2023-12-20",
          "2023-12-19",
          "2023-12-20",
          "2023-12-20",
          "2023-12-19",
          "2023-12-21",
          "2023-12-20",
          "2023-12-18",
          "2023-12-21",
          "2023-12-18",
          "2023-12-19",
          "2023-12-18",
          "2023-12-21",
          "2023-12-21",
          "2023-12-20",
          "2023-12-20",
          "2023-12-21",
          "2023-12-20",
          "2023-12-19",
          "2023-12-18",
          "2023-12-21",
          "2023-12-19",
          "2023-12-20",
          "2023-12-18",
          "2023-12-20",
          "2023-12-21",
          "2023-12-18",
          "2023-12-19",
          "2023-12-18",
          "2023-12-19",
          "2023-12-19",
          "2023-12-18",
          "2023-12-21",
          "2023-12-20"
         ],
         "xaxis": "x",
         "y": [
          8,
          1,
          1,
          8,
          6,
          1,
          7,
          3,
          10,
          9,
          5,
          4,
          3,
          6,
          2,
          4,
          4,
          7,
          3,
          9,
          6,
          1,
          10,
          5,
          7,
          9,
          5,
          2,
          4,
          2,
          2,
          7,
          3,
          9,
          10,
          10,
          6,
          5,
          8,
          8
         ],
         "yaxis": "y"
        },
        {
         "customdata": [
          [
           "Rank: 7<br>Title: 49ers vs Cardinals<br>Platform: Google<br>Time Posted: nan<br>Category: Sports"
          ],
          [
           "Rank: 2<br>Title: Anthony Edwards<br>Platform: Google<br>Time Posted: nan<br>Category: Sports"
          ],
          [
           "Rank: 8<br>Title: Anthony Edwards<br>Platform: Google<br>Time Posted: nan<br>Category: Sports"
          ],
          [
           "Rank: 2<br>Title: Apple Watch Series 9<br>Platform: Google<br>Time Posted: nan<br>Category: Business"
          ],
          [
           "Rank: 6<br>Title: Baltimore Ravens<br>Platform: Google<br>Time Posted: nan<br>Category: Sports"
          ],
          [
           "Rank: 4<br>Title: Biden<br>Platform: Google<br>Time Posted: nan<br>Category: Politics"
          ],
          [
           "Rank: 9<br>Title: Bulls<br>Platform: Google<br>Time Posted: 2023-12-21 09:15:03.872000<br>Category: nan"
          ],
          [
           "Rank: 4<br>Title: Celtics<br>Platform: Google<br>Time Posted: 2023-12-21 09:15:03.872000<br>Category: nan"
          ],
          [
           "Rank: 10<br>Title: Celtics vs Warriors<br>Platform: Google<br>Time Posted: 2023-12-20 09:15:04.347000<br>Category: nan"
          ],
          [
           "Rank: 1<br>Title: Chelsea FC<br>Platform: Google<br>Time Posted: 2023-12-20 09:15:04.347000<br>Category: nan"
          ],
          [
           "Rank: 6<br>Title: Chelsea vs Newcastle<br>Platform: Google<br>Time Posted: 2023-12-20 09:15:04.347000<br>Category: nan"
          ],
          [
           "Rank: 5<br>Title: Chiefs<br>Platform: Google<br>Time Posted: nan<br>Category: Sports"
          ],
          [
           "Rank: 1<br>Title: Clarence Thomas<br>Platform: Google<br>Time Posted: nan<br>Category: Politics"
          ],
          [
           "Rank: 7<br>Title: Duke basketball<br>Platform: Google<br>Time Posted: 2023-12-21 09:15:03.872000<br>Category: nan"
          ],
          [
           "Rank: 1<br>Title: Eric Montross<br>Platform: Google<br>Time Posted: nan<br>Category: Sports"
          ],
          [
           "Rank: 3<br>Title: Freight<br>Platform: Google<br>Time Posted: nan<br>Category: Business"
          ],
          [
           "Rank: 9<br>Title: Geno Smith<br>Platform: Google<br>Time Posted: nan<br>Category: Sports"
          ],
          [
           "Rank: 9<br>Title: Giants<br>Platform: Google<br>Time Posted: nan<br>Category: Sports"
          ],
          [
           "Rank: 10<br>Title: Green Bay Packers<br>Platform: Google<br>Time Posted: nan<br>Category: Sports"
          ],
          [
           "Rank: 5<br>Title: Iceland volcano<br>Platform: Google<br>Time Posted: nan<br>Category: News"
          ],
          [
           "Rank: 3<br>Title: Ja Morant<br>Platform: Google<br>Time Posted: 2023-12-20 09:15:04.347000<br>Category: nan"
          ],
          [
           "Rank: 3<br>Title: John Schneider<br>Platform: Google<br>Time Posted: 2023-12-21 09:15:03.872000<br>Category: nan"
          ],
          [
           "Rank: 4<br>Title: Jonathan Majors<br>Platform: Google<br>Time Posted: nan<br>Category: Entertainment"
          ],
          [
           "Rank: 2<br>Title: Leonard Bernstein<br>Platform: Google<br>Time Posted: 2023-12-21 09:15:03.872000<br>Category: nan"
          ],
          [
           "Rank: 9<br>Title: Man City<br>Platform: Google<br>Time Posted: 2023-12-20 09:15:04.347000<br>Category: nan"
          ],
          [
           "Rank: 6<br>Title: Miami Dolphins<br>Platform: Google<br>Time Posted: nan<br>Category: Sports"
          ],
          [
           "Rank: 8<br>Title: Minnesota flag<br>Platform: Google<br>Time Posted: 2023-12-20 09:15:04.347000<br>Category: nan"
          ],
          [
           "Rank: 8<br>Title: Packers<br>Platform: Google<br>Time Posted: nan<br>Category: Sports"
          ],
          [
           "Rank: 7<br>Title: Percy Jackson<br>Platform: Google<br>Time Posted: 2023-12-20 09:15:04.347000<br>Category: nan"
          ],
          [
           "Rank: 5<br>Title: Philadelphia Eagles<br>Platform: Google<br>Time Posted: 2023-12-20 09:15:04.347000<br>Category: nan"
          ],
          [
           "Rank: 10<br>Title: Ruby Franke<br>Platform: Google<br>Time Posted: nan<br>Category: Entertainment"
          ],
          [
           "Rank: 10<br>Title: Ryan Gosling Ken Barbie<br>Platform: Google<br>Time Posted: 2023-12-21 09:15:03.872000<br>Category: nan"
          ],
          [
           "Rank: 7<br>Title: Stiff-person syndrome<br>Platform: Google<br>Time Posted: nan<br>Category: Health"
          ],
          [
           "Rank: 3<br>Title: Suns<br>Platform: Google<br>Time Posted: nan<br>Category: Sports"
          ],
          [
           "Rank: 6<br>Title: Survivor finale<br>Platform: Google<br>Time Posted: 2023-12-21 09:15:03.872000<br>Category: nan"
          ],
          [
           "Rank: 5<br>Title: Timberwolves<br>Platform: Google<br>Time Posted: 2023-12-21 09:15:03.872000<br>Category: nan"
          ],
          [
           "Rank: 2<br>Title: Trump<br>Platform: Google<br>Time Posted: 2023-12-20 09:15:04.347000<br>Category: nan"
          ],
          [
           "Rank: 8<br>Title: UNC basketball<br>Platform: Google<br>Time Posted: 2023-12-21 09:15:03.872000<br>Category: nan"
          ],
          [
           "Rank: 4<br>Title: Who won The Voice 2023<br>Platform: Google<br>Time Posted: 2023-12-20 09:15:04.347000<br>Category: nan"
          ],
          [
           "Rank: 1<br>Title: Winter solstice 2023<br>Platform: Google<br>Time Posted: 2023-12-21 09:15:03.872000<br>Category: nan"
          ]
         ],
         "hovertemplate": "%{customdata[0]}<extra></extra>",
         "hovertext": [
          "49ers vs Cardinals",
          "Anthony Edwards",
          "Anthony Edwards",
          "Apple Watch Series 9",
          "Baltimore Ravens",
          "Biden",
          "Bulls",
          "Celtics",
          "Celtics vs Warriors",
          "Chelsea FC",
          "Chelsea vs Newcastle",
          "Chiefs",
          "Clarence Thomas",
          "Duke basketball",
          "Eric Montross",
          "Freight",
          "Geno Smith",
          "Giants",
          "Green Bay Packers",
          "Iceland volcano",
          "Ja Morant",
          "John Schneider",
          "Jonathan Majors",
          "Leonard Bernstein",
          "Man City",
          "Miami Dolphins",
          "Minnesota flag",
          "Packers",
          "Percy Jackson",
          "Philadelphia Eagles",
          "Ruby Franke",
          "Ryan Gosling Ken Barbie",
          "Stiff-person syndrome",
          "Suns",
          "Survivor finale",
          "Timberwolves",
          "Trump",
          "UNC basketball",
          "Who won The Voice 2023",
          "Winter solstice 2023"
         ],
         "legendgroup": "Google",
         "marker": {
          "color": "#19d3f3",
          "size": [
           24.2,
           45.7,
           19.900000000000002,
           45.7,
           28.5,
           37.1,
           15.600000000000001,
           37.1,
           11.299999999999997,
           50,
           28.5,
           32.8,
           50,
           24.2,
           50,
           41.4,
           15.600000000000001,
           15.600000000000001,
           11.299999999999997,
           32.8,
           41.4,
           41.4,
           37.1,
           45.7,
           15.600000000000001,
           28.5,
           19.900000000000002,
           19.900000000000002,
           24.2,
           32.8,
           11.299999999999997,
           11.299999999999997,
           24.2,
           41.4,
           28.5,
           32.8,
           45.7,
           19.900000000000002,
           37.1,
           50
          ],
          "sizemode": "area",
          "sizeref": 0.125,
          "symbol": "circle"
         },
         "mode": "markers",
         "name": "Google",
         "orientation": "v",
         "showlegend": true,
         "type": "scatter",
         "x": [
          "2023-12-18",
          "2023-12-18",
          "2023-12-19",
          "2023-12-19",
          "2023-12-19",
          "2023-12-18",
          "2023-12-21",
          "2023-12-21",
          "2023-12-20",
          "2023-12-20",
          "2023-12-20",
          "2023-12-18",
          "2023-12-19",
          "2023-12-21",
          "2023-12-18",
          "2023-12-19",
          "2023-12-19",
          "2023-12-18",
          "2023-12-18",
          "2023-12-19",
          "2023-12-20",
          "2023-12-21",
          "2023-12-19",
          "2023-12-21",
          "2023-12-20",
          "2023-12-18",
          "2023-12-20",
          "2023-12-18",
          "2023-12-20",
          "2023-12-20",
          "2023-12-19",
          "2023-12-21",
          "2023-12-19",
          "2023-12-18",
          "2023-12-21",
          "2023-12-21",
          "2023-12-20",
          "2023-12-21",
          "2023-12-20",
          "2023-12-21"
         ],
         "xaxis": "x",
         "y": [
          7,
          2,
          8,
          2,
          6,
          4,
          9,
          4,
          10,
          1,
          6,
          5,
          1,
          7,
          1,
          3,
          9,
          9,
          10,
          5,
          3,
          3,
          4,
          2,
          9,
          6,
          8,
          8,
          7,
          5,
          10,
          10,
          7,
          3,
          6,
          5,
          2,
          8,
          4,
          1
         ],
         "yaxis": "y"
        },
        {
         "customdata": [
          "TikTok"
         ],
         "hovertemplate": "%{customdata[0]}<extra></extra>",
         "legendgroup": "TikTok",
         "line": {
          "color": "purple",
          "width": 2
         },
         "mode": "lines",
         "name": "TikTok - 318",
         "showlegend": false,
         "type": "scatter",
         "x": [
          "2023-12-18"
         ],
         "y": [
          9
         ]
        },
        {
         "customdata": [
          "Reddit"
         ],
         "hovertemplate": "%{customdata[0]}<extra></extra>",
         "legendgroup": "Reddit",
         "line": {
          "color": "yellow",
          "width": 2
         },
         "mode": "lines",
         "name": "Reddit - \"Betas who like to think they are Alpha males\"",
         "showlegend": false,
         "type": "scatter",
         "x": [
          "2023-12-21"
         ],
         "y": [
          10
         ]
        },
        {
         "customdata": [
          "Global Business News"
         ],
         "hovertemplate": "%{customdata[0]}<extra></extra>",
         "legendgroup": "Global Business News",
         "line": {
          "color": "blue",
          "width": 2
         },
         "mode": "lines",
         "name": "Global Business News - 2 Cars In Garage Enough: Why Sal Khan Quit Plush Job To Open Khan Academy - NDTV",
         "showlegend": false,
         "type": "scatter",
         "x": [
          "2023-12-21"
         ],
         "y": [
          2
         ]
        },
        {
         "customdata": [
          "Global Business News"
         ],
         "hovertemplate": "%{customdata[0]}<extra></extra>",
         "legendgroup": "Global Business News",
         "line": {
          "color": "blue",
          "width": 2
         },
         "mode": "lines",
         "name": "Global Business News - 2 Tata cars get 5 stars as Bharat-NCAP awards first-ever ratings; Gadkari lauds - Hindustan Times",
         "showlegend": false,
         "type": "scatter",
         "x": [
          "2023-12-21"
         ],
         "y": [
          5
         ]
        },
        {
         "customdata": [
          "US Headlines"
         ],
         "hovertemplate": "%{customdata[0]}<extra></extra>",
         "legendgroup": "US Headlines",
         "line": {
          "color": "white",
          "width": 2
         },
         "mode": "lines",
         "name": "US Headlines - 24-hour flash sale at Best Buy — Macs from $749, Switch games from $14 - Tom's Guide",
         "showlegend": false,
         "type": "scatter",
         "x": [
          "2023-12-21"
         ],
         "y": [
          8
         ]
        },
        {
         "customdata": [
          "TikTok"
         ],
         "hovertemplate": "%{customdata[0]}<extra></extra>",
         "legendgroup": "TikTok",
         "line": {
          "color": "purple",
          "width": 2
         },
         "mode": "lines",
         "name": "TikTok - 318",
         "showlegend": false,
         "type": "scatter",
         "x": [
          "2023-12-19",
          "2023-12-20"
         ],
         "y": [
          10,
          10
         ]
        },
        {
         "customdata": [
          "YouTube"
         ],
         "hovertemplate": "%{customdata[0]}<extra></extra>",
         "legendgroup": "YouTube",
         "line": {
          "color": "red",
          "width": 2
         },
         "mode": "lines",
         "name": "YouTube - 4000 Days - [Hardcore Minecraft]",
         "showlegend": false,
         "type": "scatter",
         "x": [
          "2023-12-18"
         ],
         "y": [
          8
         ]
        },
        {
         "customdata": [
          "Google"
         ],
         "hovertemplate": "%{customdata[0]}<extra></extra>",
         "legendgroup": "Google",
         "line": {
          "color": "green",
          "width": 2
         },
         "mode": "lines",
         "name": "Google - 49ers vs Cardinals",
         "showlegend": false,
         "type": "scatter",
         "x": [
          "2023-12-18"
         ],
         "y": [
          7
         ]
        },
        {
         "customdata": [
          "US Headlines"
         ],
         "hovertemplate": "%{customdata[0]}<extra></extra>",
         "legendgroup": "US Headlines",
         "line": {
          "color": "white",
          "width": 2
         },
         "mode": "lines",
         "name": "US Headlines - A man accused of rape vanished. Then, a lake yielded a grim discovery. 25 years later, a fresh mystery is revealed - CNN",
         "showlegend": false,
         "type": "scatter",
         "x": [
          "2023-12-20"
         ],
         "y": [
          1
         ]
        },
        {
         "customdata": [
          "Reddit"
         ],
         "hovertemplate": "%{customdata[0]}<extra></extra>",
         "legendgroup": "Reddit",
         "line": {
          "color": "yellow",
          "width": 2
         },
         "mode": "lines",
         "name": "Reddit - A wholesome ending",
         "showlegend": false,
         "type": "scatter",
         "x": [
          "2023-12-20"
         ],
         "y": [
          3
         ]
        },
        {
         "customdata": [
          "Reddit"
         ],
         "hovertemplate": "%{customdata[0]}<extra></extra>",
         "legendgroup": "Reddit",
         "line": {
          "color": "yellow",
          "width": 2
         },
         "mode": "lines",
         "name": "Reddit - AITA for telling my husband \" I told you so\" and laughing at me when we got the paternity test results?",
         "showlegend": false,
         "type": "scatter",
         "x": [
          "2023-12-21"
         ],
         "y": [
          8
         ]
        },
        {
         "customdata": [
          "US Headlines"
         ],
         "hovertemplate": "%{customdata[0]}<extra></extra>",
         "legendgroup": "US Headlines",
         "line": {
          "color": "white",
          "width": 2
         },
         "mode": "lines",
         "name": "US Headlines - Aaron Rodgers’ season is (officially) over, so Jets must turn the page to 2024 - The Athletic",
         "showlegend": false,
         "type": "scatter",
         "x": [
          "2023-12-21"
         ],
         "y": [
          2
         ]
        },
        {
         "customdata": [
          "Global Business News"
         ],
         "hovertemplate": "%{customdata[0]}<extra></extra>",
         "legendgroup": "Global Business News",
         "line": {
          "color": "blue",
          "width": 2
         },
         "mode": "lines",
         "name": "Global Business News - Adobe explains why it abandoned the Figma deal - The Verge",
         "showlegend": false,
         "type": "scatter",
         "x": [
          "2023-12-21"
         ],
         "y": [
          9
         ]
        },
        {
         "customdata": [
          "US Headlines"
         ],
         "hovertemplate": "%{customdata[0]}<extra></extra>",
         "legendgroup": "US Headlines",
         "line": {
          "color": "white",
          "width": 2
         },
         "mode": "lines",
         "name": "US Headlines - Adorable Cat Video Reaches Earth After 19-Million-Mile Journey from Deep Space - Gizmodo",
         "showlegend": false,
         "type": "scatter",
         "x": [
          "2023-12-21"
         ],
         "y": [
          7
         ]
        },
        {
         "customdata": [
          "US Headlines"
         ],
         "hovertemplate": "%{customdata[0]}<extra></extra>",
         "legendgroup": "US Headlines",
         "line": {
          "color": "white",
          "width": 2
         },
         "mode": "lines",
         "name": "US Headlines - Alex Batty: British teen found in France returns to UK - BBC.com",
         "showlegend": false,
         "type": "scatter",
         "x": [
          "2023-12-18"
         ],
         "y": [
          2
         ]
        },
        {
         "customdata": [
          "Reddit"
         ],
         "hovertemplate": "%{customdata[0]}<extra></extra>",
         "legendgroup": "Reddit",
         "line": {
          "color": "yellow",
          "width": 2
         },
         "mode": "lines",
         "name": "Reddit - An unexpected duet in the lunch hall ",
         "showlegend": false,
         "type": "scatter",
         "x": [
          "2023-12-20"
         ],
         "y": [
          7
         ]
        },
        {
         "customdata": [
          "Google"
         ],
         "hovertemplate": "%{customdata[0]}<extra></extra>",
         "legendgroup": "Google",
         "line": {
          "color": "green",
          "width": 2
         },
         "mode": "lines",
         "name": "Google - Anthony Edwards",
         "showlegend": false,
         "type": "scatter",
         "x": [
          "2023-12-18",
          "2023-12-19"
         ],
         "y": [
          2,
          8
         ]
        },
        {
         "customdata": [
          "Google"
         ],
         "hovertemplate": "%{customdata[0]}<extra></extra>",
         "legendgroup": "Google",
         "line": {
          "color": "green",
          "width": 2
         },
         "mode": "lines",
         "name": "Google - Apple Watch Series 9",
         "showlegend": false,
         "type": "scatter",
         "x": [
          "2023-12-19"
         ],
         "y": [
          2
         ]
        },
        {
         "customdata": [
          "US Headlines"
         ],
         "hovertemplate": "%{customdata[0]}<extra></extra>",
         "legendgroup": "US Headlines",
         "line": {
          "color": "white",
          "width": 2
         },
         "mode": "lines",
         "name": "US Headlines - Apple Watch Series 9 sales to be halted over patent dispute - TechCrunch",
         "showlegend": false,
         "type": "scatter",
         "x": [
          "2023-12-19"
         ],
         "y": [
          1
         ]
        },
        {
         "customdata": [
          "Global Business News"
         ],
         "hovertemplate": "%{customdata[0]}<extra></extra>",
         "legendgroup": "Global Business News",
         "line": {
          "color": "blue",
          "width": 2
         },
         "mode": "lines",
         "name": "Global Business News - Apple will be halting sales of its Series 9 smartwatch, TechCrunch has confirmed. The news, shared by 9to5Mac, follows an October ruling by the",
         "showlegend": false,
         "type": "scatter",
         "x": [
          "2023-12-19"
         ],
         "y": [
          1
         ]
        },
        {
         "customdata": [
          "Google"
         ],
         "hovertemplate": "%{customdata[0]}<extra></extra>",
         "legendgroup": "Google",
         "line": {
          "color": "green",
          "width": 2
         },
         "mode": "lines",
         "name": "Google - Baltimore Ravens",
         "showlegend": false,
         "type": "scatter",
         "x": [
          "2023-12-19"
         ],
         "y": [
          6
         ]
        },
        {
         "customdata": [
          "Global Business News"
         ],
         "hovertemplate": "%{customdata[0]}<extra></extra>",
         "legendgroup": "Global Business News",
         "line": {
          "color": "blue",
          "width": 2
         },
         "mode": "lines",
         "name": "Global Business News - Bayer Monsanto: PCB maker ordered to pay $857m for toxic leaks - BBC.com",
         "showlegend": false,
         "type": "scatter",
         "x": [
          "2023-12-20"
         ],
         "y": [
          1
         ]
        },
        {
         "customdata": [
          "Google"
         ],
         "hovertemplate": "%{customdata[0]}<extra></extra>",
         "legendgroup": "Google",
         "line": {
          "color": "green",
          "width": 2
         },
         "mode": "lines",
         "name": "Google - Biden",
         "showlegend": false,
         "type": "scatter",
         "x": [
          "2023-12-18"
         ],
         "y": [
          4
         ]
        },
        {
         "customdata": [
          "Google"
         ],
         "hovertemplate": "%{customdata[0]}<extra></extra>",
         "legendgroup": "Google",
         "line": {
          "color": "green",
          "width": 2
         },
         "mode": "lines",
         "name": "Google - Bulls",
         "showlegend": false,
         "type": "scatter",
         "x": [
          "2023-12-21"
         ],
         "y": [
          9
         ]
        },
        {
         "customdata": [
          "Google"
         ],
         "hovertemplate": "%{customdata[0]}<extra></extra>",
         "legendgroup": "Google",
         "line": {
          "color": "green",
          "width": 2
         },
         "mode": "lines",
         "name": "Google - Celtics",
         "showlegend": false,
         "type": "scatter",
         "x": [
          "2023-12-21"
         ],
         "y": [
          4
         ]
        },
        {
         "customdata": [
          "Google"
         ],
         "hovertemplate": "%{customdata[0]}<extra></extra>",
         "legendgroup": "Google",
         "line": {
          "color": "green",
          "width": 2
         },
         "mode": "lines",
         "name": "Google - Celtics vs Warriors",
         "showlegend": false,
         "type": "scatter",
         "x": [
          "2023-12-20"
         ],
         "y": [
          10
         ]
        },
        {
         "customdata": [
          "Google"
         ],
         "hovertemplate": "%{customdata[0]}<extra></extra>",
         "legendgroup": "Google",
         "line": {
          "color": "green",
          "width": 2
         },
         "mode": "lines",
         "name": "Google - Chelsea FC",
         "showlegend": false,
         "type": "scatter",
         "x": [
          "2023-12-20"
         ],
         "y": [
          1
         ]
        },
        {
         "customdata": [
          "Google"
         ],
         "hovertemplate": "%{customdata[0]}<extra></extra>",
         "legendgroup": "Google",
         "line": {
          "color": "green",
          "width": 2
         },
         "mode": "lines",
         "name": "Google - Chelsea vs Newcastle",
         "showlegend": false,
         "type": "scatter",
         "x": [
          "2023-12-20"
         ],
         "y": [
          6
         ]
        },
        {
         "customdata": [
          "Google"
         ],
         "hovertemplate": "%{customdata[0]}<extra></extra>",
         "legendgroup": "Google",
         "line": {
          "color": "green",
          "width": 2
         },
         "mode": "lines",
         "name": "Google - Chiefs",
         "showlegend": false,
         "type": "scatter",
         "x": [
          "2023-12-18"
         ],
         "y": [
          5
         ]
        },
        {
         "customdata": [
          "Google"
         ],
         "hovertemplate": "%{customdata[0]}<extra></extra>",
         "legendgroup": "Google",
         "line": {
          "color": "green",
          "width": 2
         },
         "mode": "lines",
         "name": "Google - Clarence Thomas",
         "showlegend": false,
         "type": "scatter",
         "x": [
          "2023-12-19"
         ],
         "y": [
          1
         ]
        },
        {
         "customdata": [
          "Reddit"
         ],
         "hovertemplate": "%{customdata[0]}<extra></extra>",
         "legendgroup": "Reddit",
         "line": {
          "color": "yellow",
          "width": 2
         },
         "mode": "lines",
         "name": "Reddit - Colorado Supreme Court kicks Trump off the state's 2024 ballot for violating the U.S. Constitution",
         "showlegend": false,
         "type": "scatter",
         "x": [
          "2023-12-20"
         ],
         "y": [
          2
         ]
        },
        {
         "customdata": [
          "US Headlines"
         ],
         "hovertemplate": "%{customdata[0]}<extra></extra>",
         "legendgroup": "US Headlines",
         "line": {
          "color": "white",
          "width": 2
         },
         "mode": "lines",
         "name": "US Headlines - Colorado Supreme Court rules Trump is disqualified from presidency for Jan. 6 riot - CBS News",
         "showlegend": false,
         "type": "scatter",
         "x": [
          "2023-12-21"
         ],
         "y": [
          9
         ]
        },
        {
         "customdata": [
          "Global Business News"
         ],
         "hovertemplate": "%{customdata[0]}<extra></extra>",
         "legendgroup": "Global Business News",
         "line": {
          "color": "blue",
          "width": 2
         },
         "mode": "lines",
         "name": "Global Business News - Comcast Says Hackers May Have Accessed Data on Millions of Xfinity Customers - Hollywood Reporter",
         "showlegend": false,
         "type": "scatter",
         "x": [
          "2023-12-20"
         ],
         "y": [
          8
         ]
        },
        {
         "customdata": [
          "Global Business News"
         ],
         "hovertemplate": "%{customdata[0]}<extra></extra>",
         "legendgroup": "Global Business News",
         "line": {
          "color": "blue",
          "width": 2
         },
         "mode": "lines",
         "name": "Global Business News - DOMS Share Price Listing Prediction, DOMS Share Listing Date: DOMS IPO will list on NSE and BSE. DOMS shares are commanding a solid grey market premium or GMP in unlisted market. DOMS Share Listing Date, DOMS IPO Listing Date - check here",
         "showlegend": false,
         "type": "scatter",
         "x": [
          "2023-12-19"
         ],
         "y": [
          9
         ]
        },
        {
         "customdata": [
          "Reddit"
         ],
         "hovertemplate": "%{customdata[0]}<extra></extra>",
         "legendgroup": "Reddit",
         "line": {
          "color": "yellow",
          "width": 2
         },
         "mode": "lines",
         "name": "Reddit - Dad's note to gay son that hasnt came out yet.",
         "showlegend": false,
         "type": "scatter",
         "x": [
          "2023-12-21"
         ],
         "y": [
          1
         ]
        },
        {
         "customdata": [
          "YouTube"
         ],
         "hovertemplate": "%{customdata[0]}<extra></extra>",
         "legendgroup": "YouTube",
         "line": {
          "color": "red",
          "width": 2
         },
         "mode": "lines",
         "name": "YouTube - Drake - You Broke My Heart",
         "showlegend": false,
         "type": "scatter",
         "x": [
          "2023-12-21"
         ],
         "y": [
          1
         ]
        },
        {
         "customdata": [
          "Google"
         ],
         "hovertemplate": "%{customdata[0]}<extra></extra>",
         "legendgroup": "Google",
         "line": {
          "color": "green",
          "width": 2
         },
         "mode": "lines",
         "name": "Google - Duke basketball",
         "showlegend": false,
         "type": "scatter",
         "x": [
          "2023-12-21"
         ],
         "y": [
          7
         ]
        },
        {
         "customdata": [
          "US Headlines"
         ],
         "hovertemplate": "%{customdata[0]}<extra></extra>",
         "legendgroup": "US Headlines",
         "line": {
          "color": "white",
          "width": 2
         },
         "mode": "lines",
         "name": "US Headlines - Eagles' Jalen Hurts downgraded after illness worsens - ESPN",
         "showlegend": false,
         "type": "scatter",
         "x": [
          "2023-12-18"
         ],
         "y": [
          6
         ]
        },
        {
         "customdata": [
          "YouTube"
         ],
         "hovertemplate": "%{customdata[0]}<extra></extra>",
         "legendgroup": "YouTube",
         "line": {
          "color": "red",
          "width": 2
         },
         "mode": "lines",
         "name": "YouTube - Elon Musk: Last Week Tonight with John Oliver (HBO)",
         "showlegend": false,
         "type": "scatter",
         "x": [
          "2023-12-18",
          "2023-12-19"
         ],
         "y": [
          1,
          8
         ]
        },
        {
         "customdata": [
          "Global Business News"
         ],
         "hovertemplate": "%{customdata[0]}<extra></extra>",
         "legendgroup": "Global Business News",
         "line": {
          "color": "blue",
          "width": 2
         },
         "mode": "lines",
         "name": "Global Business News - Elon Musk’s Big Lie About Tesla Is Finally Exposed - Rolling Stone",
         "showlegend": false,
         "type": "scatter",
         "x": [
          "2023-12-18"
         ],
         "y": [
          10
         ]
        },
        {
         "customdata": [
          "Google"
         ],
         "hovertemplate": "%{customdata[0]}<extra></extra>",
         "legendgroup": "Google",
         "line": {
          "color": "green",
          "width": 2
         },
         "mode": "lines",
         "name": "Google - Eric Montross",
         "showlegend": false,
         "type": "scatter",
         "x": [
          "2023-12-18"
         ],
         "y": [
          1
         ]
        },
        {
         "customdata": [
          "YouTube"
         ],
         "hovertemplate": "%{customdata[0]}<extra></extra>",
         "legendgroup": "YouTube",
         "line": {
          "color": "red",
          "width": 2
         },
         "mode": "lines",
         "name": "YouTube - Every Way To Cook A Potato (43 Ways)",
         "showlegend": false,
         "type": "scatter",
         "x": [
          "2023-12-21"
         ],
         "y": [
          6
         ]
        },
        {
         "customdata": [
          "Reddit"
         ],
         "hovertemplate": "%{customdata[0]}<extra></extra>",
         "legendgroup": "Reddit",
         "line": {
          "color": "yellow",
          "width": 2
         },
         "mode": "lines",
         "name": "Reddit - Expect some terrible horror movie announcements in 2 weeks",
         "showlegend": false,
         "type": "scatter",
         "x": [
          "2023-12-18"
         ],
         "y": [
          5
         ]
        },
        {
         "customdata": [
          "Global Business News"
         ],
         "hovertemplate": "%{customdata[0]}<extra></extra>",
         "legendgroup": "Global Business News",
         "line": {
          "color": "blue",
          "width": 2
         },
         "mode": "lines",
         "name": "Global Business News - Fed officials are pushing back against the expectations for interest rate cuts that have lifted stocks.",
         "showlegend": false,
         "type": "scatter",
         "x": [
          "2023-12-19"
         ],
         "y": [
          2
         ]
        },
        {
         "customdata": [
          "Global Business News"
         ],
         "hovertemplate": "%{customdata[0]}<extra></extra>",
         "legendgroup": "Global Business News",
         "line": {
          "color": "blue",
          "width": 2
         },
         "mode": "lines",
         "name": "Global Business News - Fed officials question stock market surge after rate cut projections - The Hill",
         "showlegend": false,
         "type": "scatter",
         "x": [
          "2023-12-21"
         ],
         "y": [
          6
         ]
        },
        {
         "customdata": [
          "Global Business News"
         ],
         "hovertemplate": "%{customdata[0]}<extra></extra>",
         "legendgroup": "Global Business News",
         "line": {
          "color": "blue",
          "width": 2
         },
         "mode": "lines",
         "name": "Global Business News - Federal prosecutors are investigating allegation that Jimmy Haslam attempted to bribe Pilot executives - NBC Sports",
         "showlegend": false,
         "type": "scatter",
         "x": [
          "2023-12-18"
         ],
         "y": [
          9
         ]
        },
        {
         "customdata": [
          "Reddit"
         ],
         "hovertemplate": "%{customdata[0]}<extra></extra>",
         "legendgroup": "Reddit",
         "line": {
          "color": "yellow",
          "width": 2
         },
         "mode": "lines",
         "name": "Reddit - First Image from ‘COYOTE VS ACME’",
         "showlegend": false,
         "type": "scatter",
         "x": [
          "2023-12-21"
         ],
         "y": [
          3
         ]
        },
        {
         "customdata": [
          "Reddit"
         ],
         "hovertemplate": "%{customdata[0]}<extra></extra>",
         "legendgroup": "Reddit",
         "line": {
          "color": "yellow",
          "width": 2
         },
         "mode": "lines",
         "name": "Reddit - First hike with the kiddo",
         "showlegend": false,
         "type": "scatter",
         "x": [
          "2023-12-18"
         ],
         "y": [
          9
         ]
        },
        {
         "customdata": [
          "YouTube"
         ],
         "hovertemplate": "%{customdata[0]}<extra></extra>",
         "legendgroup": "YouTube",
         "line": {
          "color": "red",
          "width": 2
         },
         "mode": "lines",
         "name": "YouTube - Five Nights at Freddy's: Help Wanted 2",
         "showlegend": false,
         "type": "scatter",
         "x": [
          "2023-12-19",
          "2023-12-20"
         ],
         "y": [
          1,
          7
         ]
        },
        {
         "customdata": [
          "US Headlines"
         ],
         "hovertemplate": "%{customdata[0]}<extra></extra>",
         "legendgroup": "US Headlines",
         "line": {
          "color": "white",
          "width": 2
         },
         "mode": "lines",
         "name": "US Headlines - Fox News host Kilmeade defends Trump on ‘poisoning the blood of our country’ remarks - The Hill",
         "showlegend": false,
         "type": "scatter",
         "x": [
          "2023-12-19"
         ],
         "y": [
          9
         ]
        },
        {
         "customdata": [
          "Google"
         ],
         "hovertemplate": "%{customdata[0]}<extra></extra>",
         "legendgroup": "Google",
         "line": {
          "color": "green",
          "width": 2
         },
         "mode": "lines",
         "name": "Google - Freight",
         "showlegend": false,
         "type": "scatter",
         "x": [
          "2023-12-19"
         ],
         "y": [
          3
         ]
        },
        {
         "customdata": [
          "Global Business News"
         ],
         "hovertemplate": "%{customdata[0]}<extra></extra>",
         "legendgroup": "Global Business News",
         "line": {
          "color": "blue",
          "width": 2
         },
         "mode": "lines",
         "name": "Global Business News - GM: Half of Buick dealers took buyouts in 2023 - Detroit Free Press",
         "showlegend": false,
         "type": "scatter",
         "x": [
          "2023-12-21"
         ],
         "y": [
          10
         ]
        },
        {
         "customdata": [
          "YouTube"
         ],
         "hovertemplate": "%{customdata[0]}<extra></extra>",
         "legendgroup": "YouTube",
         "line": {
          "color": "red",
          "width": 2
         },
         "mode": "lines",
         "name": "YouTube - Galactus VS Unicron (Marvel Comics VS Transformers) | DEATH BATTLE!",
         "showlegend": false,
         "type": "scatter",
         "x": [
          "2023-12-19"
         ],
         "y": [
          3
         ]
        },
        {
         "customdata": [
          "Google"
         ],
         "hovertemplate": "%{customdata[0]}<extra></extra>",
         "legendgroup": "Google",
         "line": {
          "color": "green",
          "width": 2
         },
         "mode": "lines",
         "name": "Google - Geno Smith",
         "showlegend": false,
         "type": "scatter",
         "x": [
          "2023-12-19"
         ],
         "y": [
          9
         ]
        },
        {
         "customdata": [
          "YouTube"
         ],
         "hovertemplate": "%{customdata[0]}<extra></extra>",
         "legendgroup": "YouTube",
         "line": {
          "color": "red",
          "width": 2
         },
         "mode": "lines",
         "name": "YouTube - Geometry Dash 2.2 Released",
         "showlegend": false,
         "type": "scatter",
         "x": [
          "2023-12-20"
         ],
         "y": [
          10
         ]
        },
        {
         "customdata": [
          "YouTube"
         ],
         "hovertemplate": "%{customdata[0]}<extra></extra>",
         "legendgroup": "YouTube",
         "line": {
          "color": "red",
          "width": 2
         },
         "mode": "lines",
         "name": "YouTube - George Santos Answers Hard-Hitting Questions | Ziwe Interview",
         "showlegend": false,
         "type": "scatter",
         "x": [
          "2023-12-20"
         ],
         "y": [
          9
         ]
        },
        {
         "customdata": [
          "Google"
         ],
         "hovertemplate": "%{customdata[0]}<extra></extra>",
         "legendgroup": "Google",
         "line": {
          "color": "green",
          "width": 2
         },
         "mode": "lines",
         "name": "Google - Giants",
         "showlegend": false,
         "type": "scatter",
         "x": [
          "2023-12-18"
         ],
         "y": [
          9
         ]
        },
        {
         "customdata": [
          "US Headlines"
         ],
         "hovertemplate": "%{customdata[0]}<extra></extra>",
         "legendgroup": "US Headlines",
         "line": {
          "color": "white",
          "width": 2
         },
         "mode": "lines",
         "name": "US Headlines - Glacial Pathfinders: Tracing North America's First Migrants via the Sea Ice Highway - SciTechDaily",
         "showlegend": false,
         "type": "scatter",
         "x": [
          "2023-12-18"
         ],
         "y": [
          8
         ]
        },
        {
         "customdata": [
          "Reddit"
         ],
         "hovertemplate": "%{customdata[0]}<extra></extra>",
         "legendgroup": "Reddit",
         "line": {
          "color": "yellow",
          "width": 2
         },
         "mode": "lines",
         "name": "Reddit - Gluing themselves to table is is so brave, wow.",
         "showlegend": false,
         "type": "scatter",
         "x": [
          "2023-12-18"
         ],
         "y": [
          4
         ]
        },
        {
         "customdata": [
          "Global Business News"
         ],
         "hovertemplate": "%{customdata[0]}<extra></extra>",
         "legendgroup": "Global Business News",
         "line": {
          "color": "blue",
          "width": 2
         },
         "mode": "lines",
         "name": "Global Business News - Gold Price Forecast: No reason for any significant downward correction of XAU/USD – Commerzbank - FXStreet",
         "showlegend": false,
         "type": "scatter",
         "x": [
          "2023-12-20"
         ],
         "y": [
          6
         ]
        },
        {
         "customdata": [
          "Google"
         ],
         "hovertemplate": "%{customdata[0]}<extra></extra>",
         "legendgroup": "Google",
         "line": {
          "color": "green",
          "width": 2
         },
         "mode": "lines",
         "name": "Google - Green Bay Packers",
         "showlegend": false,
         "type": "scatter",
         "x": [
          "2023-12-18"
         ],
         "y": [
          10
         ]
        },
        {
         "customdata": [
          "YouTube"
         ],
         "hovertemplate": "%{customdata[0]}<extra></extra>",
         "legendgroup": "YouTube",
         "line": {
          "color": "red",
          "width": 2
         },
         "mode": "lines",
         "name": "YouTube - He's In The VENTS?! - FNAF VR 2 Like Mexican",
         "showlegend": false,
         "type": "scatter",
         "x": [
          "2023-12-19"
         ],
         "y": [
          5
         ]
        },
        {
         "customdata": [
          "Global Business News"
         ],
         "hovertemplate": "%{customdata[0]}<extra></extra>",
         "legendgroup": "Global Business News",
         "line": {
          "color": "blue",
          "width": 2
         },
         "mode": "lines",
         "name": "Global Business News - Here's How Much the 2024 Subaru WRX TR Costs - Road & Track",
         "showlegend": false,
         "type": "scatter",
         "x": [
          "2023-12-21"
         ],
         "y": [
          8
         ]
        },
        {
         "customdata": [
          "YouTube"
         ],
         "hovertemplate": "%{customdata[0]}<extra></extra>",
         "legendgroup": "YouTube",
         "line": {
          "color": "red",
          "width": 2
         },
         "mode": "lines",
         "name": "YouTube - House of Secrets: 9 children hidden for years in Oklahoma home found after police tip",
         "showlegend": false,
         "type": "scatter",
         "x": [
          "2023-12-21"
         ],
         "y": [
          4
         ]
        },
        {
         "customdata": [
          "YouTube"
         ],
         "hovertemplate": "%{customdata[0]}<extra></extra>",
         "legendgroup": "YouTube",
         "line": {
          "color": "red",
          "width": 2
         },
         "mode": "lines",
         "name": "YouTube - How Ja Morant was in the Locker Room",
         "showlegend": false,
         "type": "scatter",
         "x": [
          "2023-12-20"
         ],
         "y": [
          3
         ]
        },
        {
         "customdata": [
          "US Headlines"
         ],
         "hovertemplate": "%{customdata[0]}<extra></extra>",
         "legendgroup": "US Headlines",
         "line": {
          "color": "white",
          "width": 2
         },
         "mode": "lines",
         "name": "US Headlines - How to watch today's Kansas City Chiefs vs. New England Patriots game on Fox - Yahoo Sports",
         "showlegend": false,
         "type": "scatter",
         "x": [
          "2023-12-18"
         ],
         "y": [
          1
         ]
        },
        {
         "customdata": [
          "US Headlines"
         ],
         "hovertemplate": "%{customdata[0]}<extra></extra>",
         "legendgroup": "US Headlines",
         "line": {
          "color": "white",
          "width": 2
         },
         "mode": "lines",
         "name": "US Headlines - Humanitarian crisis in Gaza deepens as fighting rages | DW News - DW News",
         "showlegend": false,
         "type": "scatter",
         "x": [
          "2023-12-18"
         ],
         "y": [
          5
         ]
        },
        {
         "customdata": [
          "YouTube"
         ],
         "hovertemplate": "%{customdata[0]}<extra></extra>",
         "legendgroup": "YouTube",
         "line": {
          "color": "red",
          "width": 2
         },
         "mode": "lines",
         "name": "YouTube - I Bought 100 UNCLAIMED MAIL PACKAGES",
         "showlegend": false,
         "type": "scatter",
         "x": [
          "2023-12-18"
         ],
         "y": [
          6
         ]
        },
        {
         "customdata": [
          "YouTube"
         ],
         "hovertemplate": "%{customdata[0]}<extra></extra>",
         "legendgroup": "YouTube",
         "line": {
          "color": "red",
          "width": 2
         },
         "mode": "lines",
         "name": "YouTube - I Tested 1-Star Camping",
         "showlegend": false,
         "type": "scatter",
         "x": [
          "2023-12-21"
         ],
         "y": [
          2
         ]
        },
        {
         "customdata": [
          "YouTube"
         ],
         "hovertemplate": "%{customdata[0]}<extra></extra>",
         "legendgroup": "YouTube",
         "line": {
          "color": "red",
          "width": 2
         },
         "mode": "lines",
         "name": "YouTube - I Took A 52-Hour Overnight Train Across America",
         "showlegend": false,
         "type": "scatter",
         "x": [
          "2023-12-18"
         ],
         "y": [
          4
         ]
        },
        {
         "customdata": [
          "YouTube"
         ],
         "hovertemplate": "%{customdata[0]}<extra></extra>",
         "legendgroup": "YouTube",
         "line": {
          "color": "red",
          "width": 2
         },
         "mode": "lines",
         "name": "YouTube - I made an Ai Secretary to answer my actual emails",
         "showlegend": false,
         "type": "scatter",
         "x": [
          "2023-12-19"
         ],
         "y": [
          4
         ]
        },
        {
         "customdata": [
          "YouTube"
         ],
         "hovertemplate": "%{customdata[0]}<extra></extra>",
         "legendgroup": "YouTube",
         "line": {
          "color": "red",
          "width": 2
         },
         "mode": "lines",
         "name": "YouTube - ITZY \"BORN TO BE\" M/V @ITZY",
         "showlegend": false,
         "type": "scatter",
         "x": [
          "2023-12-18"
         ],
         "y": [
          7
         ]
        },
        {
         "customdata": [
          "Google"
         ],
         "hovertemplate": "%{customdata[0]}<extra></extra>",
         "legendgroup": "Google",
         "line": {
          "color": "green",
          "width": 2
         },
         "mode": "lines",
         "name": "Google - Iceland volcano",
         "showlegend": false,
         "type": "scatter",
         "x": [
          "2023-12-19"
         ],
         "y": [
          5
         ]
        },
        {
         "customdata": [
          "Reddit"
         ],
         "hovertemplate": "%{customdata[0]}<extra></extra>",
         "legendgroup": "Reddit",
         "line": {
          "color": "yellow",
          "width": 2
         },
         "mode": "lines",
         "name": "Reddit - If you only watch ONE video today, watch student Zander Moricz BRILLIANTLY call out the anti-LGBTQ hypocrisy of Moms for Liberty threesome member Bridget Ziegler. 🚨This is incredible.",
         "showlegend": false,
         "type": "scatter",
         "x": [
          "2023-12-19"
         ],
         "y": [
          6
         ]
        },
        {
         "customdata": [
          "Global Business News"
         ],
         "hovertemplate": "%{customdata[0]}<extra></extra>",
         "legendgroup": "Global Business News",
         "line": {
          "color": "blue",
          "width": 2
         },
         "mode": "lines",
         "name": "Global Business News - In the past half-year, IndiGo has expanded its global presence by incorporating over 20 additional international routes into its network.",
         "showlegend": false,
         "type": "scatter",
         "x": [
          "2023-12-19"
         ],
         "y": [
          7
         ]
        },
        {
         "customdata": [
          "US Headlines"
         ],
         "hovertemplate": "%{customdata[0]}<extra></extra>",
         "legendgroup": "US Headlines",
         "line": {
          "color": "white",
          "width": 2
         },
         "mode": "lines",
         "name": "US Headlines - Inside the 'Gaza metro': Israel displays Hamas tunnel big enough for a car - Financial Times",
         "showlegend": false,
         "type": "scatter",
         "x": [
          "2023-12-18"
         ],
         "y": [
          7
         ]
        },
        {
         "customdata": [
          "YouTube"
         ],
         "hovertemplate": "%{customdata[0]}<extra></extra>",
         "legendgroup": "YouTube",
         "line": {
          "color": "red",
          "width": 2
         },
         "mode": "lines",
         "name": "YouTube - Is the Las Vegas Sphere Worth It?",
         "showlegend": false,
         "type": "scatter",
         "x": [
          "2023-12-21"
         ],
         "y": [
          3
         ]
        },
        {
         "customdata": [
          "Google"
         ],
         "hovertemplate": "%{customdata[0]}<extra></extra>",
         "legendgroup": "Google",
         "line": {
          "color": "green",
          "width": 2
         },
         "mode": "lines",
         "name": "Google - Ja Morant",
         "showlegend": false,
         "type": "scatter",
         "x": [
          "2023-12-20"
         ],
         "y": [
          3
         ]
        },
        {
         "customdata": [
          "US Headlines"
         ],
         "hovertemplate": "%{customdata[0]}<extra></extra>",
         "legendgroup": "US Headlines",
         "line": {
          "color": "white",
          "width": 2
         },
         "mode": "lines",
         "name": "US Headlines - Jennifer Love Hewitt on aging, claims she looks 'unrecognizable' - USA TODAY",
         "showlegend": false,
         "type": "scatter",
         "x": [
          "2023-12-20"
         ],
         "y": [
          8
         ]
        },
        {
         "customdata": [
          "Global Business News"
         ],
         "hovertemplate": "%{customdata[0]}<extra></extra>",
         "legendgroup": "Global Business News",
         "line": {
          "color": "blue",
          "width": 2
         },
         "mode": "lines",
         "name": "Global Business News - John Oliver devoted an entire 'Last Week Tonight' segment to rehashing the past 12 months in the life of billionaire and tech mogul Elon Musk.",
         "showlegend": false,
         "type": "scatter",
         "x": [
          "2023-12-19"
         ],
         "y": [
          10
         ]
        },
        {
         "customdata": [
          "Google"
         ],
         "hovertemplate": "%{customdata[0]}<extra></extra>",
         "legendgroup": "Google",
         "line": {
          "color": "green",
          "width": 2
         },
         "mode": "lines",
         "name": "Google - John Schneider",
         "showlegend": false,
         "type": "scatter",
         "x": [
          "2023-12-21"
         ],
         "y": [
          3
         ]
        },
        {
         "customdata": [
          "Google"
         ],
         "hovertemplate": "%{customdata[0]}<extra></extra>",
         "legendgroup": "Google",
         "line": {
          "color": "green",
          "width": 2
         },
         "mode": "lines",
         "name": "Google - Jonathan Majors",
         "showlegend": false,
         "type": "scatter",
         "x": [
          "2023-12-19"
         ],
         "y": [
          4
         ]
        },
        {
         "customdata": [
          "US Headlines"
         ],
         "hovertemplate": "%{customdata[0]}<extra></extra>",
         "legendgroup": "US Headlines",
         "line": {
          "color": "white",
          "width": 2
         },
         "mode": "lines",
         "name": "US Headlines - Jury finds Jonathan Majors guilty of assault and harassment of ex-girlfriend - NBC News",
         "showlegend": false,
         "type": "scatter",
         "x": [
          "2023-12-20"
         ],
         "y": [
          4
         ]
        },
        {
         "customdata": [
          "Reddit"
         ],
         "hovertemplate": "%{customdata[0]}<extra></extra>",
         "legendgroup": "Reddit",
         "line": {
          "color": "yellow",
          "width": 2
         },
         "mode": "lines",
         "name": "Reddit - Jyoti Amge , she is the world's shortest women , with a height 62.8 cm, she is 30 years old ",
         "showlegend": false,
         "type": "scatter",
         "x": [
          "2023-12-20"
         ],
         "y": [
          6
         ]
        },
        {
         "customdata": [
          "Reddit"
         ],
         "hovertemplate": "%{customdata[0]}<extra></extra>",
         "legendgroup": "Reddit",
         "line": {
          "color": "yellow",
          "width": 2
         },
         "mode": "lines",
         "name": "Reddit - Lavish lunches",
         "showlegend": false,
         "type": "scatter",
         "x": [
          "2023-12-21"
         ],
         "y": [
          5
         ]
        },
        {
         "customdata": [
          "YouTube"
         ],
         "hovertemplate": "%{customdata[0]}<extra></extra>",
         "legendgroup": "YouTube",
         "line": {
          "color": "red",
          "width": 2
         },
         "mode": "lines",
         "name": "YouTube - Lego Fortnite Meme Olympics",
         "showlegend": false,
         "type": "scatter",
         "x": [
          "2023-12-21"
         ],
         "y": [
          9
         ]
        },
        {
         "customdata": [
          "Google"
         ],
         "hovertemplate": "%{customdata[0]}<extra></extra>",
         "legendgroup": "Google",
         "line": {
          "color": "green",
          "width": 2
         },
         "mode": "lines",
         "name": "Google - Leonard Bernstein",
         "showlegend": false,
         "type": "scatter",
         "x": [
          "2023-12-21"
         ],
         "y": [
          2
         ]
        },
        {
         "customdata": [
          "Global Business News"
         ],
         "hovertemplate": "%{customdata[0]}<extra></extra>",
         "legendgroup": "Global Business News",
         "line": {
          "color": "blue",
          "width": 2
         },
         "mode": "lines",
         "name": "Global Business News - Liz Weston: Confusion about retirement fund minimum distributions can cause expensive mistakes - OregonLive",
         "showlegend": false,
         "type": "scatter",
         "x": [
          "2023-12-18"
         ],
         "y": [
          6
         ]
        },
        {
         "customdata": [
          "YouTube"
         ],
         "hovertemplate": "%{customdata[0]}<extra></extra>",
         "legendgroup": "YouTube",
         "line": {
          "color": "red",
          "width": 2
         },
         "mode": "lines",
         "name": "YouTube - MI ULTIMO VIDEO / Kimberly Loaiza",
         "showlegend": false,
         "type": "scatter",
         "x": [
          "2023-12-20"
         ],
         "y": [
          6
         ]
        },
        {
         "customdata": [
          "Reddit"
         ],
         "hovertemplate": "%{customdata[0]}<extra></extra>",
         "legendgroup": "Reddit",
         "line": {
          "color": "yellow",
          "width": 2
         },
         "mode": "lines",
         "name": "Reddit - Making traditional Mahjong tiles",
         "showlegend": false,
         "type": "scatter",
         "x": [
          "2023-12-18"
         ],
         "y": [
          8
         ]
        },
        {
         "customdata": [
          "Google"
         ],
         "hovertemplate": "%{customdata[0]}<extra></extra>",
         "legendgroup": "Google",
         "line": {
          "color": "green",
          "width": 2
         },
         "mode": "lines",
         "name": "Google - Man City",
         "showlegend": false,
         "type": "scatter",
         "x": [
          "2023-12-20"
         ],
         "y": [
          9
         ]
        },
        {
         "customdata": [
          "Global Business News"
         ],
         "hovertemplate": "%{customdata[0]}<extra></extra>",
         "legendgroup": "Global Business News",
         "line": {
          "color": "blue",
          "width": 2
         },
         "mode": "lines",
         "name": "Global Business News - Market Week Ahead: Gold Regains $2k, GBP/USD, EUR/USD Rally as USD Slides - DailyFX",
         "showlegend": false,
         "type": "scatter",
         "x": [
          "2023-12-18"
         ],
         "y": [
          2
         ]
        },
        {
         "customdata": [
          "Global Business News"
         ],
         "hovertemplate": "%{customdata[0]}<extra></extra>",
         "legendgroup": "Global Business News",
         "line": {
          "color": "blue",
          "width": 2
         },
         "mode": "lines",
         "name": "Global Business News - Mcap Of 9 Most Valued Firms Jumps Rs 2.26 Lakh Cr; TCS, Infosys Biggest Gainers - News18",
         "showlegend": false,
         "type": "scatter",
         "x": [
          "2023-12-18"
         ],
         "y": [
          8
         ]
        },
        {
         "customdata": [
          "Reddit"
         ],
         "hovertemplate": "%{customdata[0]}<extra></extra>",
         "legendgroup": "Reddit",
         "line": {
          "color": "yellow",
          "width": 2
         },
         "mode": "lines",
         "name": "Reddit - Me irl",
         "showlegend": false,
         "type": "scatter",
         "x": [
          "2023-12-19"
         ],
         "y": [
          1
         ]
        },
        {
         "customdata": [
          "Reddit"
         ],
         "hovertemplate": "%{customdata[0]}<extra></extra>",
         "legendgroup": "Reddit",
         "line": {
          "color": "yellow",
          "width": 2
         },
         "mode": "lines",
         "name": "Reddit - Megathread: Colorado Supreme Court Rules Trump is Ineligible to Appear on Ballot Due to 14th Amendment; Appeal Likely to Reach US Supreme Court",
         "showlegend": false,
         "type": "scatter",
         "x": [
          "2023-12-20"
         ],
         "y": [
          4
         ]
        },
        {
         "customdata": [
          "Reddit"
         ],
         "hovertemplate": "%{customdata[0]}<extra></extra>",
         "legendgroup": "Reddit",
         "line": {
          "color": "yellow",
          "width": 2
         },
         "mode": "lines",
         "name": "Reddit - Meirl",
         "showlegend": false,
         "type": "scatter",
         "x": [
          "2023-12-20"
         ],
         "y": [
          10
         ]
        },
        {
         "customdata": [
          "YouTube"
         ],
         "hovertemplate": "%{customdata[0]}<extra></extra>",
         "legendgroup": "YouTube",
         "line": {
          "color": "red",
          "width": 2
         },
         "mode": "lines",
         "name": "YouTube - Melanie Martinez - TUNNEL VISION (Official Video)",
         "showlegend": false,
         "type": "scatter",
         "x": [
          "2023-12-20",
          "2023-12-21"
         ],
         "y": [
          1,
          10
         ]
        },
        {
         "customdata": [
          "Google"
         ],
         "hovertemplate": "%{customdata[0]}<extra></extra>",
         "legendgroup": "Google",
         "line": {
          "color": "green",
          "width": 2
         },
         "mode": "lines",
         "name": "Google - Miami Dolphins",
         "showlegend": false,
         "type": "scatter",
         "x": [
          "2023-12-18"
         ],
         "y": [
          6
         ]
        },
        {
         "customdata": [
          "YouTube"
         ],
         "hovertemplate": "%{customdata[0]}<extra></extra>",
         "legendgroup": "YouTube",
         "line": {
          "color": "red",
          "width": 2
         },
         "mode": "lines",
         "name": "YouTube - Migrants converge on border after SB4 signed",
         "showlegend": false,
         "type": "scatter",
         "x": [
          "2023-12-20"
         ],
         "y": [
          5
         ]
        },
        {
         "customdata": [
          "Google"
         ],
         "hovertemplate": "%{customdata[0]}<extra></extra>",
         "legendgroup": "Google",
         "line": {
          "color": "green",
          "width": 2
         },
         "mode": "lines",
         "name": "Google - Minnesota flag",
         "showlegend": false,
         "type": "scatter",
         "x": [
          "2023-12-20"
         ],
         "y": [
          8
         ]
        },
        {
         "customdata": [
          "Global Business News"
         ],
         "hovertemplate": "%{customdata[0]}<extra></extra>",
         "legendgroup": "Global Business News",
         "line": {
          "color": "blue",
          "width": 2
         },
         "mode": "lines",
         "name": "Global Business News - Mr. Cooper is sending notices of a data breach to customers who were impacted by a cyberattack the firm suffered in November 2023.",
         "showlegend": false,
         "type": "scatter",
         "x": [
          "2023-12-19"
         ],
         "y": [
          8
         ]
        },
        {
         "customdata": [
          "Reddit"
         ],
         "hovertemplate": "%{customdata[0]}<extra></extra>",
         "legendgroup": "Reddit",
         "line": {
          "color": "yellow",
          "width": 2
         },
         "mode": "lines",
         "name": "Reddit - My dad (middle) and his friends 1977",
         "showlegend": false,
         "type": "scatter",
         "x": [
          "2023-12-18"
         ],
         "y": [
          6
         ]
        },
        {
         "customdata": [
          "Reddit"
         ],
         "hovertemplate": "%{customdata[0]}<extra></extra>",
         "legendgroup": "Reddit",
         "line": {
          "color": "yellow",
          "width": 2
         },
         "mode": "lines",
         "name": "Reddit - My dad has a handicap placard and walks with a limp post hip surgery",
         "showlegend": false,
         "type": "scatter",
         "x": [
          "2023-12-19"
         ],
         "y": [
          3
         ]
        },
        {
         "customdata": [
          "YouTube"
         ],
         "hovertemplate": "%{customdata[0]}<extra></extra>",
         "legendgroup": "YouTube",
         "line": {
          "color": "red",
          "width": 2
         },
         "mode": "lines",
         "name": "YouTube - My viewers sent me AWFUL Christmas Gifts",
         "showlegend": false,
         "type": "scatter",
         "x": [
          "2023-12-19"
         ],
         "y": [
          7
         ]
        },
        {
         "customdata": [
          "YouTube"
         ],
         "hovertemplate": "%{customdata[0]}<extra></extra>",
         "legendgroup": "YouTube",
         "line": {
          "color": "red",
          "width": 2
         },
         "mode": "lines",
         "name": "YouTube - Mystery Detective Battle",
         "showlegend": false,
         "type": "scatter",
         "x": [
          "2023-12-18"
         ],
         "y": [
          9
         ]
        },
        {
         "customdata": [
          "US Headlines"
         ],
         "hovertemplate": "%{customdata[0]}<extra></extra>",
         "legendgroup": "US Headlines",
         "line": {
          "color": "white",
          "width": 2
         },
         "mode": "lines",
         "name": "US Headlines - NFL Power Rankings Week 16: Remember, no team pursued franchise-tagged Lamar Jackson - Yahoo Sports",
         "showlegend": false,
         "type": "scatter",
         "x": [
          "2023-12-20"
         ],
         "y": [
          5
         ]
        },
        {
         "customdata": [
          "US Headlines"
         ],
         "hovertemplate": "%{customdata[0]}<extra></extra>",
         "legendgroup": "US Headlines",
         "line": {
          "color": "white",
          "width": 2
         },
         "mode": "lines",
         "name": "US Headlines - NFL Week 15 Saturday grades: Lions earn 'A+' for Broncos beatdown, Bengals 'B+' for overtime win vs. Vikings - CBS Sports",
         "showlegend": false,
         "type": "scatter",
         "x": [
          "2023-12-18"
         ],
         "y": [
          4
         ]
        },
        {
         "customdata": [
          "US Headlines"
         ],
         "hovertemplate": "%{customdata[0]}<extra></extra>",
         "legendgroup": "US Headlines",
         "line": {
          "color": "white",
          "width": 2
         },
         "mode": "lines",
         "name": "US Headlines - Nikola Founder Trevor Milton Sentenced to Four Years for Fraud - Yahoo Finance",
         "showlegend": false,
         "type": "scatter",
         "x": [
          "2023-12-20",
          "2023-12-20"
         ],
         "y": [
          10,
          9
         ]
        },
        {
         "customdata": [
          "US Headlines"
         ],
         "hovertemplate": "%{customdata[0]}<extra></extra>",
         "legendgroup": "US Headlines",
         "line": {
          "color": "white",
          "width": 2
         },
         "mode": "lines",
         "name": "US Headlines - North Carolina basketball star Eric Montross dies at age 52 - ESPN",
         "showlegend": false,
         "type": "scatter",
         "x": [
          "2023-12-19"
         ],
         "y": [
          10
         ]
        },
        {
         "customdata": [
          "US Headlines"
         ],
         "hovertemplate": "%{customdata[0]}<extra></extra>",
         "legendgroup": "US Headlines",
         "line": {
          "color": "white",
          "width": 2
         },
         "mode": "lines",
         "name": "US Headlines - North Korea fires short-range missile, condemns U.S. for raising tensions - Reuters",
         "showlegend": false,
         "type": "scatter",
         "x": [
          "2023-12-18"
         ],
         "y": [
          10
         ]
        },
        {
         "customdata": [
          "Reddit"
         ],
         "hovertemplate": "%{customdata[0]}<extra></extra>",
         "legendgroup": "Reddit",
         "line": {
          "color": "yellow",
          "width": 2
         },
         "mode": "lines",
         "name": "Reddit - Not sad for long",
         "showlegend": false,
         "type": "scatter",
         "x": [
          "2023-12-21"
         ],
         "y": [
          6
         ]
        },
        {
         "customdata": [
          "Global Business News"
         ],
         "hovertemplate": "%{customdata[0]}<extra></extra>",
         "legendgroup": "Global Business News",
         "line": {
          "color": "blue",
          "width": 2
         },
         "mode": "lines",
         "name": "Global Business News - One grounded airline plans to fly again, in January with Ayodhya flights - IndiaTimes",
         "showlegend": false,
         "type": "scatter",
         "x": [
          "2023-12-18"
         ],
         "y": [
          4
         ]
        },
        {
         "customdata": [
          "Reddit"
         ],
         "hovertemplate": "%{customdata[0]}<extra></extra>",
         "legendgroup": "Reddit",
         "line": {
          "color": "yellow",
          "width": 2
         },
         "mode": "lines",
         "name": "Reddit - One number away for winning $10,000,000",
         "showlegend": false,
         "type": "scatter",
         "x": [
          "2023-12-20"
         ],
         "y": [
          5
         ]
        },
        {
         "customdata": [
          "YouTube"
         ],
         "hovertemplate": "%{customdata[0]}<extra></extra>",
         "legendgroup": "YouTube",
         "line": {
          "color": "red",
          "width": 2
         },
         "mode": "lines",
         "name": "YouTube - Our Dream Home Might Be Haunted!",
         "showlegend": false,
         "type": "scatter",
         "x": [
          "2023-12-21"
         ],
         "y": [
          5
         ]
        },
        {
         "customdata": [
          "Reddit"
         ],
         "hovertemplate": "%{customdata[0]}<extra></extra>",
         "legendgroup": "Reddit",
         "line": {
          "color": "yellow",
          "width": 2
         },
         "mode": "lines",
         "name": "Reddit - Our physics exams were accidentally thrown out",
         "showlegend": false,
         "type": "scatter",
         "x": [
          "2023-12-19"
         ],
         "y": [
          8
         ]
        },
        {
         "customdata": [
          "Google"
         ],
         "hovertemplate": "%{customdata[0]}<extra></extra>",
         "legendgroup": "Google",
         "line": {
          "color": "green",
          "width": 2
         },
         "mode": "lines",
         "name": "Google - Packers",
         "showlegend": false,
         "type": "scatter",
         "x": [
          "2023-12-18"
         ],
         "y": [
          8
         ]
        },
        {
         "customdata": [
          "Global Business News"
         ],
         "hovertemplate": "%{customdata[0]}<extra></extra>",
         "legendgroup": "Global Business News",
         "line": {
          "color": "blue",
          "width": 2
         },
         "mode": "lines",
         "name": "Global Business News - Panasonic says Oklahoma no longer candidate for new battery plant - Reuters",
         "showlegend": false,
         "type": "scatter",
         "x": [
          "2023-12-21"
         ],
         "y": [
          1
         ]
        },
        {
         "customdata": [
          "Google"
         ],
         "hovertemplate": "%{customdata[0]}<extra></extra>",
         "legendgroup": "Google",
         "line": {
          "color": "green",
          "width": 2
         },
         "mode": "lines",
         "name": "Google - Percy Jackson",
         "showlegend": false,
         "type": "scatter",
         "x": [
          "2023-12-20"
         ],
         "y": [
          7
         ]
        },
        {
         "customdata": [
          "Reddit"
         ],
         "hovertemplate": "%{customdata[0]}<extra></extra>",
         "legendgroup": "Reddit",
         "line": {
          "color": "yellow",
          "width": 2
         },
         "mode": "lines",
         "name": "Reddit - Petah help!!!",
         "showlegend": false,
         "type": "scatter",
         "x": [
          "2023-12-18"
         ],
         "y": [
          3
         ]
        },
        {
         "customdata": [
          "YouTube"
         ],
         "hovertemplate": "%{customdata[0]}<extra></extra>",
         "legendgroup": "YouTube",
         "line": {
          "color": "red",
          "width": 2
         },
         "mode": "lines",
         "name": "YouTube - Peyton & Eli Manning react to the Seahawks Game Winning Touchdown on the ManningCast",
         "showlegend": false,
         "type": "scatter",
         "x": [
          "2023-12-19",
          "2023-12-20"
         ],
         "y": [
          2,
          4
         ]
        },
        {
         "customdata": [
          "Google"
         ],
         "hovertemplate": "%{customdata[0]}<extra></extra>",
         "legendgroup": "Google",
         "line": {
          "color": "green",
          "width": 2
         },
         "mode": "lines",
         "name": "Google - Philadelphia Eagles",
         "showlegend": false,
         "type": "scatter",
         "x": [
          "2023-12-20"
         ],
         "y": [
          5
         ]
        },
        {
         "customdata": [
          "US Headlines"
         ],
         "hovertemplate": "%{customdata[0]}<extra></extra>",
         "legendgroup": "US Headlines",
         "line": {
          "color": "white",
          "width": 2
         },
         "mode": "lines",
         "name": "US Headlines - Polish state TV channel halts broadcasting in standoff with Tusk - Financial Times",
         "showlegend": false,
         "type": "scatter",
         "x": [
          "2023-12-21"
         ],
         "y": [
          5
         ]
        },
        {
         "customdata": [
          "US Headlines"
         ],
         "hovertemplate": "%{customdata[0]}<extra></extra>",
         "legendgroup": "US Headlines",
         "line": {
          "color": "white",
          "width": 2
         },
         "mode": "lines",
         "name": "US Headlines - Pope Francis says priests can bless same-sex couples but marriage is between a man and a woman - CBS News",
         "showlegend": false,
         "type": "scatter",
         "x": [
          "2023-12-19"
         ],
         "y": [
          2
         ]
        },
        {
         "customdata": [
          "Reddit"
         ],
         "hovertemplate": "%{customdata[0]}<extra></extra>",
         "legendgroup": "Reddit",
         "line": {
          "color": "yellow",
          "width": 2
         },
         "mode": "lines",
         "name": "Reddit - Popular YouTuber and fallout/elder scrolls fan “Mitten Squad” has passed away at 27",
         "showlegend": false,
         "type": "scatter",
         "x": [
          "2023-12-20"
         ],
         "y": [
          8
         ]
        },
        {
         "customdata": [
          "US Headlines"
         ],
         "hovertemplate": "%{customdata[0]}<extra></extra>",
         "legendgroup": "US Headlines",
         "line": {
          "color": "white",
          "width": 2
         },
         "mode": "lines",
         "name": "US Headlines - Powerful Northeast storm knocks out power to tens of thousands and forces water rescues - CNN",
         "showlegend": false,
         "type": "scatter",
         "x": [
          "2023-12-19"
         ],
         "y": [
          4
         ]
        },
        {
         "customdata": [
          "YouTube"
         ],
         "hovertemplate": "%{customdata[0]}<extra></extra>",
         "legendgroup": "YouTube",
         "line": {
          "color": "red",
          "width": 2
         },
         "mode": "lines",
         "name": "YouTube - Presidential Pets: a Brief History",
         "showlegend": false,
         "type": "scatter",
         "x": [
          "2023-12-18"
         ],
         "y": [
          2
         ]
        },
        {
         "customdata": [
          "US Headlines"
         ],
         "hovertemplate": "%{customdata[0]}<extra></extra>",
         "legendgroup": "US Headlines",
         "line": {
          "color": "white",
          "width": 2
         },
         "mode": "lines",
         "name": "US Headlines - Princess of Wales Shares Her Adorable Christmas Baby Photo - The Royal Family Channel",
         "showlegend": false,
         "type": "scatter",
         "x": [
          "2023-12-19"
         ],
         "y": [
          7
         ]
        },
        {
         "customdata": [
          "YouTube"
         ],
         "hovertemplate": "%{customdata[0]}<extra></extra>",
         "legendgroup": "YouTube",
         "line": {
          "color": "red",
          "width": 2
         },
         "mode": "lines",
         "name": "YouTube - REGRESAMOS POR ESTA RAZÓN 😱 Juan de Dios Pantoja",
         "showlegend": false,
         "type": "scatter",
         "x": [
          "2023-12-20"
         ],
         "y": [
          2
         ]
        },
        {
         "customdata": [
          "Global Business News"
         ],
         "hovertemplate": "%{customdata[0]}<extra></extra>",
         "legendgroup": "Global Business News",
         "line": {
          "color": "blue",
          "width": 2
         },
         "mode": "lines",
         "name": "Global Business News - Recession fears hit IT sector, Infosys, major players announce drastic cuts in pay hikes, promotions - Daijiworld.com",
         "showlegend": false,
         "type": "scatter",
         "x": [
          "2023-12-18"
         ],
         "y": [
          3
         ]
        },
        {
         "customdata": [
          "Google"
         ],
         "hovertemplate": "%{customdata[0]}<extra></extra>",
         "legendgroup": "Google",
         "line": {
          "color": "green",
          "width": 2
         },
         "mode": "lines",
         "name": "Google - Ruby Franke",
         "showlegend": false,
         "type": "scatter",
         "x": [
          "2023-12-19"
         ],
         "y": [
          10
         ]
        },
        {
         "customdata": [
          "YouTube"
         ],
         "hovertemplate": "%{customdata[0]}<extra></extra>",
         "legendgroup": "YouTube",
         "line": {
          "color": "red",
          "width": 2
         },
         "mode": "lines",
         "name": "YouTube - Ryan Gosling & Mark Ronson - I'm Just Ken (Merry Kristmas Barbie) [Official Music Video]",
         "showlegend": false,
         "type": "scatter",
         "x": [
          "2023-12-21"
         ],
         "y": [
          7
         ]
        },
        {
         "customdata": [
          "Google"
         ],
         "hovertemplate": "%{customdata[0]}<extra></extra>",
         "legendgroup": "Google",
         "line": {
          "color": "green",
          "width": 2
         },
         "mode": "lines",
         "name": "Google - Ryan Gosling Ken Barbie",
         "showlegend": false,
         "type": "scatter",
         "x": [
          "2023-12-21"
         ],
         "y": [
          10
         ]
        },
        {
         "customdata": [
          "US Headlines"
         ],
         "hovertemplate": "%{customdata[0]}<extra></extra>",
         "legendgroup": "US Headlines",
         "line": {
          "color": "white",
          "width": 2
         },
         "mode": "lines",
         "name": "US Headlines - Ryan Gosling Releases ‘Ken The EP’ With Three New Versions of ‘I’m Just Ken,’ Including a Christmas Cover - Variety",
         "showlegend": false,
         "type": "scatter",
         "x": [
          "2023-12-21"
         ],
         "y": [
          10
         ]
        },
        {
         "customdata": [
          "YouTube"
         ],
         "hovertemplate": "%{customdata[0]}<extra></extra>",
         "legendgroup": "YouTube",
         "line": {
          "color": "red",
          "width": 2
         },
         "mode": "lines",
         "name": "YouTube - Salaar Release Trailer - Telugu | Prabhas | Prashanth Neel | Prithviraj | Shruthi | Hombale Films",
         "showlegend": false,
         "type": "scatter",
         "x": [
          "2023-12-18"
         ],
         "y": [
          3
         ]
        },
        {
         "customdata": [
          "YouTube"
         ],
         "hovertemplate": "%{customdata[0]}<extra></extra>",
         "legendgroup": "YouTube",
         "line": {
          "color": "red",
          "width": 2
         },
         "mode": "lines",
         "name": "YouTube - Scarface: Tiny Desk Concert",
         "showlegend": false,
         "type": "scatter",
         "x": [
          "2023-12-19"
         ],
         "y": [
          9
         ]
        },
        {
         "customdata": [
          "Global Business News"
         ],
         "hovertemplate": "%{customdata[0]}<extra></extra>",
         "legendgroup": "Global Business News",
         "line": {
          "color": "blue",
          "width": 2
         },
         "mode": "lines",
         "name": "Global Business News - ShareChat lays off 200 employees, valuation halved in last one year - Mint",
         "showlegend": false,
         "type": "scatter",
         "x": [
          "2023-12-21"
         ],
         "y": [
          4
         ]
        },
        {
         "customdata": [
          "US Headlines"
         ],
         "hovertemplate": "%{customdata[0]}<extra></extra>",
         "legendgroup": "US Headlines",
         "line": {
          "color": "white",
          "width": 2
         },
         "mode": "lines",
         "name": "US Headlines - Shipping industry in the dark over US-led Red Sea navy force - Reuters",
         "showlegend": false,
         "type": "scatter",
         "x": [
          "2023-12-21"
         ],
         "y": [
          6
         ]
        },
        {
         "customdata": [
          "Global Business News"
         ],
         "hovertemplate": "%{customdata[0]}<extra></extra>",
         "legendgroup": "Global Business News",
         "line": {
          "color": "blue",
          "width": 2
         },
         "mode": "lines",
         "name": "Global Business News - SiriusXM sued for allegedly trapping customers in unwanted subscriptions - CNN",
         "showlegend": false,
         "type": "scatter",
         "x": [
          "2023-12-21"
         ],
         "y": [
          3
         ]
        },
        {
         "customdata": [
          "US Headlines"
         ],
         "hovertemplate": "%{customdata[0]}<extra></extra>",
         "legendgroup": "US Headlines",
         "line": {
          "color": "white",
          "width": 2
         },
         "mode": "lines",
         "name": "US Headlines - Southwest Airlines fined $140 million for holiday meltdown that stranded millions - The Verge",
         "showlegend": false,
         "type": "scatter",
         "x": [
          "2023-12-19"
         ],
         "y": [
          6
         ]
        },
        {
         "customdata": [
          "US Headlines"
         ],
         "hovertemplate": "%{customdata[0]}<extra></extra>",
         "legendgroup": "US Headlines",
         "line": {
          "color": "white",
          "width": 2
         },
         "mode": "lines",
         "name": "US Headlines - Starving Palestinians loot aid trucks as desperation mounts in Gaza’s Rafah - Al Jazeera English",
         "showlegend": false,
         "type": "scatter",
         "x": [
          "2023-12-18"
         ],
         "y": [
          3
         ]
        },
        {
         "customdata": [
          "Google"
         ],
         "hovertemplate": "%{customdata[0]}<extra></extra>",
         "legendgroup": "Google",
         "line": {
          "color": "green",
          "width": 2
         },
         "mode": "lines",
         "name": "Google - Stiff-person syndrome",
         "showlegend": false,
         "type": "scatter",
         "x": [
          "2023-12-19"
         ],
         "y": [
          7
         ]
        },
        {
         "customdata": [
          "Global Business News"
         ],
         "hovertemplate": "%{customdata[0]}<extra></extra>",
         "legendgroup": "Global Business News",
         "line": {
          "color": "blue",
          "width": 2
         },
         "mode": "lines",
         "name": "Global Business News - Stock market news today: US stocks hold onto gains as rate-cut hopes persist - Yahoo Finance",
         "showlegend": false,
         "type": "scatter",
         "x": [
          "2023-12-20"
         ],
         "y": [
          2
         ]
        },
        {
         "customdata": [
          "YouTube"
         ],
         "hovertemplate": "%{customdata[0]}<extra></extra>",
         "legendgroup": "YouTube",
         "line": {
          "color": "red",
          "width": 2
         },
         "mode": "lines",
         "name": "YouTube - Stocking Rainbow Trout in the 5 Acre Pond!",
         "showlegend": false,
         "type": "scatter",
         "x": [
          "2023-12-18"
         ],
         "y": [
          10
         ]
        },
        {
         "customdata": [
          "Google"
         ],
         "hovertemplate": "%{customdata[0]}<extra></extra>",
         "legendgroup": "Google",
         "line": {
          "color": "green",
          "width": 2
         },
         "mode": "lines",
         "name": "Google - Suns",
         "showlegend": false,
         "type": "scatter",
         "x": [
          "2023-12-18"
         ],
         "y": [
          3
         ]
        },
        {
         "customdata": [
          "YouTube"
         ],
         "hovertemplate": "%{customdata[0]}<extra></extra>",
         "legendgroup": "YouTube",
         "line": {
          "color": "red",
          "width": 2
         },
         "mode": "lines",
         "name": "YouTube - Survive 100 Days Trapped, Win $500,000",
         "showlegend": false,
         "type": "scatter",
         "x": [
          "2023-12-19"
         ],
         "y": [
          10
         ]
        },
        {
         "customdata": [
          "Google"
         ],
         "hovertemplate": "%{customdata[0]}<extra></extra>",
         "legendgroup": "Google",
         "line": {
          "color": "green",
          "width": 2
         },
         "mode": "lines",
         "name": "Google - Survivor finale",
         "showlegend": false,
         "type": "scatter",
         "x": [
          "2023-12-21"
         ],
         "y": [
          6
         ]
        },
        {
         "customdata": [
          "Reddit"
         ],
         "hovertemplate": "%{customdata[0]}<extra></extra>",
         "legendgroup": "Reddit",
         "line": {
          "color": "yellow",
          "width": 2
         },
         "mode": "lines",
         "name": "Reddit - TIL in 1943, a US bomber over Germany was hit by explosive ordnance directly in the fuel tanks 11 times, but  exploded. After the shells were cut open, all were found to have no explosives in them, and one contained a note in Czech saying \"This is all we can do for you now\".",
         "showlegend": false,
         "type": "scatter",
         "x": [
          "2023-12-19"
         ],
         "y": [
          4
         ]
        },
        {
         "customdata": [
          "Reddit"
         ],
         "hovertemplate": "%{customdata[0]}<extra></extra>",
         "legendgroup": "Reddit",
         "line": {
          "color": "yellow",
          "width": 2
         },
         "mode": "lines",
         "name": "Reddit - TIL that the Milky Way Galaxy is being pulled toward a mysterious area in space called \"The Great Attractor\" at about 6000km/s. Whatever it is, we can't see it from Earth because it's obscured the hub of our galaxy.",
         "showlegend": false,
         "type": "scatter",
         "x": [
          "2023-12-18"
         ],
         "y": [
          10
         ]
        },
        {
         "customdata": [
          "Global Business News"
         ],
         "hovertemplate": "%{customdata[0]}<extra></extra>",
         "legendgroup": "Global Business News",
         "line": {
          "color": "blue",
          "width": 2
         },
         "mode": "lines",
         "name": "Global Business News - Tesla Stock At Early Buy Point On Strong China Registrations - Investor's Business Daily",
         "showlegend": false,
         "type": "scatter",
         "x": [
          "2023-12-20"
         ],
         "y": [
          5
         ]
        },
        {
         "customdata": [
          "Reddit"
         ],
         "hovertemplate": "%{customdata[0]}<extra></extra>",
         "legendgroup": "Reddit",
         "line": {
          "color": "yellow",
          "width": 2
         },
         "mode": "lines",
         "name": "Reddit - Thanks Obama!",
         "showlegend": false,
         "type": "scatter",
         "x": [
          "2023-12-21"
         ],
         "y": [
          4
         ]
        },
        {
         "customdata": [
          "Reddit"
         ],
         "hovertemplate": "%{customdata[0]}<extra></extra>",
         "legendgroup": "Reddit",
         "line": {
          "color": "yellow",
          "width": 2
         },
         "mode": "lines",
         "name": "Reddit - That's just his brother from another mother!",
         "showlegend": false,
         "type": "scatter",
         "x": [
          "2023-12-19"
         ],
         "y": [
          7
         ]
        },
        {
         "customdata": [
          "YouTube"
         ],
         "hovertemplate": "%{customdata[0]}<extra></extra>",
         "legendgroup": "YouTube",
         "line": {
          "color": "red",
          "width": 2
         },
         "mode": "lines",
         "name": "YouTube - The Chosen: Season 4 Official Trailer",
         "showlegend": false,
         "type": "scatter",
         "x": [
          "2023-12-19"
         ],
         "y": [
          6
         ]
        },
        {
         "customdata": [
          "Global Business News"
         ],
         "hovertemplate": "%{customdata[0]}<extra></extra>",
         "legendgroup": "Global Business News",
         "line": {
          "color": "blue",
          "width": 2
         },
         "mode": "lines",
         "name": "Global Business News - The Department of Transportation is hitting Southwest Airlines with a $140 million fine over last year’s holiday meltdown that left millions of passengers stranded.",
         "showlegend": false,
         "type": "scatter",
         "x": [
          "2023-12-19"
         ],
         "y": [
          4
         ]
        },
        {
         "customdata": [
          "Global Business News"
         ],
         "hovertemplate": "%{customdata[0]}<extra></extra>",
         "legendgroup": "Global Business News",
         "line": {
          "color": "blue",
          "width": 2
         },
         "mode": "lines",
         "name": "Global Business News - The Fed may have done the impossible: Avoid a recession — for now - CNN",
         "showlegend": false,
         "type": "scatter",
         "x": [
          "2023-12-20"
         ],
         "y": [
          3
         ]
        },
        {
         "customdata": [
          "Global Business News"
         ],
         "hovertemplate": "%{customdata[0]}<extra></extra>",
         "legendgroup": "Global Business News",
         "line": {
          "color": "blue",
          "width": 2
         },
         "mode": "lines",
         "name": "Global Business News - The President of the Federal Reserve Bank of Chicago said the market may have read too much into last week's central bank update.",
         "showlegend": false,
         "type": "scatter",
         "x": [
          "2023-12-19"
         ],
         "y": [
          6
         ]
        },
        {
         "customdata": [
          "Global Business News"
         ],
         "hovertemplate": "%{customdata[0]}<extra></extra>",
         "legendgroup": "Global Business News",
         "line": {
          "color": "blue",
          "width": 2
         },
         "mode": "lines",
         "name": "Global Business News - The formal inquiry is the first against a large social media platform under the Digital Services Act.",
         "showlegend": false,
         "type": "scatter",
         "x": [
          "2023-12-19"
         ],
         "y": [
          3
         ]
        },
        {
         "customdata": [
          "Global Business News"
         ],
         "hovertemplate": "%{customdata[0]}<extra></extra>",
         "legendgroup": "Global Business News",
         "line": {
          "color": "blue",
          "width": 2
         },
         "mode": "lines",
         "name": "Global Business News - The situation in the Red Sea appears to be growing untenable for global shipping companies. That may result in the US military intervening to keep the critical shipping rout open.",
         "showlegend": false,
         "type": "scatter",
         "x": [
          "2023-12-19"
         ],
         "y": [
          5
         ]
        },
        {
         "customdata": [
          "Reddit"
         ],
         "hovertemplate": "%{customdata[0]}<extra></extra>",
         "legendgroup": "Reddit",
         "line": {
          "color": "yellow",
          "width": 2
         },
         "mode": "lines",
         "name": "Reddit - There goes his €300,- airbag for cyclists",
         "showlegend": false,
         "type": "scatter",
         "x": [
          "2023-12-19"
         ],
         "y": [
          9
         ]
        },
        {
         "customdata": [
          "Reddit"
         ],
         "hovertemplate": "%{customdata[0]}<extra></extra>",
         "legendgroup": "Reddit",
         "line": {
          "color": "yellow",
          "width": 2
         },
         "mode": "lines",
         "name": "Reddit - There’s gonna be a bad rant in 3..2…..",
         "showlegend": false,
         "type": "scatter",
         "x": [
          "2023-12-20"
         ],
         "y": [
          9
         ]
        },
        {
         "customdata": [
          "Reddit"
         ],
         "hovertemplate": "%{customdata[0]}<extra></extra>",
         "legendgroup": "Reddit",
         "line": {
          "color": "yellow",
          "width": 2
         },
         "mode": "lines",
         "name": "Reddit - This guy already won the positivity belt",
         "showlegend": false,
         "type": "scatter",
         "x": [
          "2023-12-21"
         ],
         "y": [
          7
         ]
        },
        {
         "customdata": [
          "US Headlines"
         ],
         "hovertemplate": "%{customdata[0]}<extra></extra>",
         "legendgroup": "US Headlines",
         "line": {
          "color": "white",
          "width": 2
         },
         "mode": "lines",
         "name": "US Headlines - This is a good time to invest in bonds — here is a fund with special advantages - MarketWatch",
         "showlegend": false,
         "type": "scatter",
         "x": [
          "2023-12-20",
          "2023-12-20"
         ],
         "y": [
          7,
          4
         ]
        },
        {
         "customdata": [
          "Global Business News"
         ],
         "hovertemplate": "%{customdata[0]}<extra></extra>",
         "legendgroup": "Global Business News",
         "line": {
          "color": "blue",
          "width": 2
         },
         "mode": "lines",
         "name": "Global Business News - This is how to protect your credit and bank cards from getting hacked - Fox News",
         "showlegend": false,
         "type": "scatter",
         "x": [
          "2023-12-18"
         ],
         "y": [
          5
         ]
        },
        {
         "customdata": [
          "Google"
         ],
         "hovertemplate": "%{customdata[0]}<extra></extra>",
         "legendgroup": "Google",
         "line": {
          "color": "green",
          "width": 2
         },
         "mode": "lines",
         "name": "Google - Timberwolves",
         "showlegend": false,
         "type": "scatter",
         "x": [
          "2023-12-21"
         ],
         "y": [
          5
         ]
        },
        {
         "customdata": [
          "US Headlines"
         ],
         "hovertemplate": "%{customdata[0]}<extra></extra>",
         "legendgroup": "US Headlines",
         "line": {
          "color": "white",
          "width": 2
         },
         "mode": "lines",
         "name": "US Headlines - Timothée Chalamet’s ‘Wonka’ Tops Box Office With $39 Million Debut - Variety",
         "showlegend": false,
         "type": "scatter",
         "x": [
          "2023-12-18"
         ],
         "y": [
          9
         ]
        },
        {
         "customdata": [
          "US Headlines"
         ],
         "hovertemplate": "%{customdata[0]}<extra></extra>",
         "legendgroup": "US Headlines",
         "line": {
          "color": "white",
          "width": 2
         },
         "mode": "lines",
         "name": "US Headlines - Troubles legacy act: Ireland takes human rights case against UK - BBC.com",
         "showlegend": false,
         "type": "scatter",
         "x": [
          "2023-12-21"
         ],
         "y": [
          1
         ]
        },
        {
         "customdata": [
          "Google"
         ],
         "hovertemplate": "%{customdata[0]}<extra></extra>",
         "legendgroup": "Google",
         "line": {
          "color": "green",
          "width": 2
         },
         "mode": "lines",
         "name": "Google - Trump",
         "showlegend": false,
         "type": "scatter",
         "x": [
          "2023-12-20"
         ],
         "y": [
          2
         ]
        },
        {
         "customdata": [
          "Google"
         ],
         "hovertemplate": "%{customdata[0]}<extra></extra>",
         "legendgroup": "Google",
         "line": {
          "color": "green",
          "width": 2
         },
         "mode": "lines",
         "name": "Google - UNC basketball",
         "showlegend": false,
         "type": "scatter",
         "x": [
          "2023-12-21"
         ],
         "y": [
          8
         ]
        },
        {
         "customdata": [
          "US Headlines"
         ],
         "hovertemplate": "%{customdata[0]}<extra></extra>",
         "legendgroup": "US Headlines",
         "line": {
          "color": "white",
          "width": 2
         },
         "mode": "lines",
         "name": "US Headlines - US lawmakers push DOJ to investigate Apple following Beeper shutdowns - The Verge",
         "showlegend": false,
         "type": "scatter",
         "x": [
          "2023-12-19"
         ],
         "y": [
          8
         ]
        },
        {
         "customdata": [
          "Global Business News"
         ],
         "hovertemplate": "%{customdata[0]}<extra></extra>",
         "legendgroup": "Global Business News",
         "line": {
          "color": "blue",
          "width": 2
         },
         "mode": "lines",
         "name": "Global Business News - Understaffed and neglected: How real estate investors reshaped assisted living facilities - The Washington Post",
         "showlegend": false,
         "type": "scatter",
         "x": [
          "2023-12-18"
         ],
         "y": [
          7
         ]
        },
        {
         "customdata": [
          "US Headlines"
         ],
         "hovertemplate": "%{customdata[0]}<extra></extra>",
         "legendgroup": "US Headlines",
         "line": {
          "color": "white",
          "width": 2
         },
         "mode": "lines",
         "name": "US Headlines - Venezuela to release 36 people, including 12 Americans, in prisoner swap -source - Reuters",
         "showlegend": false,
         "type": "scatter",
         "x": [
          "2023-12-21"
         ],
         "y": [
          4
         ]
        },
        {
         "customdata": [
          "US Headlines"
         ],
         "hovertemplate": "%{customdata[0]}<extra></extra>",
         "legendgroup": "US Headlines",
         "line": {
          "color": "white",
          "width": 2
         },
         "mode": "lines",
         "name": "US Headlines - Vessel attacked in Red Sea off Yemen coast, US blames Houthis - Reuters",
         "showlegend": false,
         "type": "scatter",
         "x": [
          "2023-12-19"
         ],
         "y": [
          5
         ]
        },
        {
         "customdata": [
          "Global Business News"
         ],
         "hovertemplate": "%{customdata[0]}<extra></extra>",
         "legendgroup": "Global Business News",
         "line": {
          "color": "blue",
          "width": 2
         },
         "mode": "lines",
         "name": "Global Business News - Vikram Solar, DFC sign retainer letter for $200 mn funding | Mint - Mint",
         "showlegend": false,
         "type": "scatter",
         "x": [
          "2023-12-20"
         ],
         "y": [
          7
         ]
        },
        {
         "customdata": [
          "US Headlines"
         ],
         "hovertemplate": "%{customdata[0]}<extra></extra>",
         "legendgroup": "US Headlines",
         "line": {
          "color": "white",
          "width": 2
         },
         "mode": "lines",
         "name": "US Headlines - Watch Live: Justice Sandra Day O'Connor honored at funeral service at National Cathedral - CBS News",
         "showlegend": false,
         "type": "scatter",
         "x": [
          "2023-12-20"
         ],
         "y": [
          2
         ]
        },
        {
         "customdata": [
          "US Headlines"
         ],
         "hovertemplate": "%{customdata[0]}<extra></extra>",
         "legendgroup": "US Headlines",
         "line": {
          "color": "white",
          "width": 2
         },
         "mode": "lines",
         "name": "US Headlines - What happens when a shipwrecks becomes a thriving marine habitat - The Washington Post",
         "showlegend": false,
         "type": "scatter",
         "x": [
          "2023-12-20"
         ],
         "y": [
          3
         ]
        },
        {
         "customdata": [
          "Global Business News"
         ],
         "hovertemplate": "%{customdata[0]}<extra></extra>",
         "legendgroup": "Global Business News",
         "line": {
          "color": "blue",
          "width": 2
         },
         "mode": "lines",
         "name": "Global Business News - White House backs industry effort to standardize Tesla's EV charging plugs - Yahoo Finance",
         "showlegend": false,
         "type": "scatter",
         "x": [
          "2023-12-20"
         ],
         "y": [
          10
         ]
        },
        {
         "customdata": [
          "US Headlines"
         ],
         "hovertemplate": "%{customdata[0]}<extra></extra>",
         "legendgroup": "US Headlines",
         "line": {
          "color": "white",
          "width": 2
         },
         "mode": "lines",
         "name": "US Headlines - Who are the Houthis and why are they attacking ships in the Red Sea? - CNN",
         "showlegend": false,
         "type": "scatter",
         "x": [
          "2023-12-20"
         ],
         "y": [
          6
         ]
        },
        {
         "customdata": [
          "Google"
         ],
         "hovertemplate": "%{customdata[0]}<extra></extra>",
         "legendgroup": "Google",
         "line": {
          "color": "green",
          "width": 2
         },
         "mode": "lines",
         "name": "Google - Who won The Voice 2023",
         "showlegend": false,
         "type": "scatter",
         "x": [
          "2023-12-20"
         ],
         "y": [
          4
         ]
        },
        {
         "customdata": [
          "YouTube"
         ],
         "hovertemplate": "%{customdata[0]}<extra></extra>",
         "legendgroup": "YouTube",
         "line": {
          "color": "red",
          "width": 2
         },
         "mode": "lines",
         "name": "YouTube - Why Is The Day Before SUCH A SCAM?!",
         "showlegend": false,
         "type": "scatter",
         "x": [
          "2023-12-18"
         ],
         "y": [
          5
         ]
        },
        {
         "customdata": [
          "Reddit"
         ],
         "hovertemplate": "%{customdata[0]}<extra></extra>",
         "legendgroup": "Reddit",
         "line": {
          "color": "yellow",
          "width": 2
         },
         "mode": "lines",
         "name": "Reddit - Winchester 1887 12 gauge flip cock.",
         "showlegend": false,
         "type": "scatter",
         "x": [
          "2023-12-20"
         ],
         "y": [
          1
         ]
        },
        {
         "customdata": [
          "Google"
         ],
         "hovertemplate": "%{customdata[0]}<extra></extra>",
         "legendgroup": "Google",
         "line": {
          "color": "green",
          "width": 2
         },
         "mode": "lines",
         "name": "Google - Winter solstice 2023",
         "showlegend": false,
         "type": "scatter",
         "x": [
          "2023-12-21"
         ],
         "y": [
          1
         ]
        },
        {
         "customdata": [
          "Reddit"
         ],
         "hovertemplate": "%{customdata[0]}<extra></extra>",
         "legendgroup": "Reddit",
         "line": {
          "color": "yellow",
          "width": 2
         },
         "mode": "lines",
         "name": "Reddit - You must live with your choices",
         "showlegend": false,
         "type": "scatter",
         "x": [
          "2023-12-18"
         ],
         "y": [
          2
         ]
        },
        {
         "customdata": [
          "Global Business News"
         ],
         "hovertemplate": "%{customdata[0]}<extra></extra>",
         "legendgroup": "Global Business News",
         "line": {
          "color": "blue",
          "width": 2
         },
         "mode": "lines",
         "name": "Global Business News - Zee seeks time on Sony deal as two directors voted out - Mint",
         "showlegend": false,
         "type": "scatter",
         "x": [
          "2023-12-18"
         ],
         "y": [
          1
         ]
        },
        {
         "customdata": [
          "Global Business News"
         ],
         "hovertemplate": "%{customdata[0]}<extra></extra>",
         "legendgroup": "Global Business News",
         "line": {
          "color": "blue",
          "width": 2
         },
         "mode": "lines",
         "name": "Global Business News - Zee, Sony enter into discussion to extend merger deadline - Moneycontrol",
         "showlegend": false,
         "type": "scatter",
         "x": [
          "2023-12-21"
         ],
         "y": [
          7
         ]
        },
        {
         "customdata": [
          "TikTok"
         ],
         "hovertemplate": "%{customdata[0]}<extra></extra>",
         "legendgroup": "TikTok",
         "line": {
          "color": "purple",
          "width": 2
         },
         "mode": "lines",
         "name": "TikTok - aifilter",
         "showlegend": false,
         "type": "scatter",
         "x": [
          "2023-12-21"
         ],
         "y": [
          1
         ]
        },
        {
         "customdata": [
          "Reddit"
         ],
         "hovertemplate": "%{customdata[0]}<extra></extra>",
         "legendgroup": "Reddit",
         "line": {
          "color": "yellow",
          "width": 2
         },
         "mode": "lines",
         "name": "Reddit - andrewphysictwitch ❤️",
         "showlegend": false,
         "type": "scatter",
         "x": [
          "2023-12-19"
         ],
         "y": [
          2
         ]
        },
        {
         "customdata": [
          "TikTok"
         ],
         "hovertemplate": "%{customdata[0]}<extra></extra>",
         "legendgroup": "TikTok",
         "line": {
          "color": "purple",
          "width": 2
         },
         "mode": "lines",
         "name": "TikTok - bellakeo",
         "showlegend": false,
         "type": "scatter",
         "x": [
          "2023-12-19",
          "2023-12-20"
         ],
         "y": [
          3,
          3
         ]
        },
        {
         "customdata": [
          "TikTok"
         ],
         "hovertemplate": "%{customdata[0]}<extra></extra>",
         "legendgroup": "TikTok",
         "line": {
          "color": "purple",
          "width": 2
         },
         "mode": "lines",
         "name": "TikTok - capgaleria",
         "showlegend": false,
         "type": "scatter",
         "x": [
          "2023-12-18"
         ],
         "y": [
          2
         ]
        },
        {
         "customdata": [
          "TikTok"
         ],
         "hovertemplate": "%{customdata[0]}<extra></extra>",
         "legendgroup": "TikTok",
         "line": {
          "color": "purple",
          "width": 2
         },
         "mode": "lines",
         "name": "TikTok - ceilingchallenge",
         "showlegend": false,
         "type": "scatter",
         "x": [
          "2023-12-19",
          "2023-12-20",
          "2023-12-21"
         ],
         "y": [
          7,
          7,
          7
         ]
        },
        {
         "customdata": [
          "TikTok"
         ],
         "hovertemplate": "%{customdata[0]}<extra></extra>",
         "legendgroup": "TikTok",
         "line": {
          "color": "purple",
          "width": 2
         },
         "mode": "lines",
         "name": "TikTok - christmasparty",
         "showlegend": false,
         "type": "scatter",
         "x": [
          "2023-12-19",
          "2023-12-20"
         ],
         "y": [
          2,
          2
         ]
        },
        {
         "customdata": [
          "TikTok"
         ],
         "hovertemplate": "%{customdata[0]}<extra></extra>",
         "legendgroup": "TikTok",
         "line": {
          "color": "purple",
          "width": 2
         },
         "mode": "lines",
         "name": "TikTok - dancechallenge",
         "showlegend": false,
         "type": "scatter",
         "x": [
          "2023-12-21"
         ],
         "y": [
          3
         ]
        },
        {
         "customdata": [
          "TikTok"
         ],
         "hovertemplate": "%{customdata[0]}<extra></extra>",
         "legendgroup": "TikTok",
         "line": {
          "color": "purple",
          "width": 2
         },
         "mode": "lines",
         "name": "TikTok - dropshipping",
         "showlegend": false,
         "type": "scatter",
         "x": [
          "2023-12-18"
         ],
         "y": [
          4
         ]
        },
        {
         "customdata": [
          "TikTok"
         ],
         "hovertemplate": "%{customdata[0]}<extra></extra>",
         "legendgroup": "TikTok",
         "line": {
          "color": "purple",
          "width": 2
         },
         "mode": "lines",
         "name": "TikTok - jakepaul",
         "showlegend": false,
         "type": "scatter",
         "x": [
          "2023-12-18"
         ],
         "y": [
          7
         ]
        },
        {
         "customdata": [
          "TikTok"
         ],
         "hovertemplate": "%{customdata[0]}<extra></extra>",
         "legendgroup": "TikTok",
         "line": {
          "color": "purple",
          "width": 2
         },
         "mode": "lines",
         "name": "TikTok - jid",
         "showlegend": false,
         "type": "scatter",
         "x": [
          "2023-12-21"
         ],
         "y": [
          9
         ]
        },
        {
         "customdata": [
          "TikTok"
         ],
         "hovertemplate": "%{customdata[0]}<extra></extra>",
         "legendgroup": "TikTok",
         "line": {
          "color": "purple",
          "width": 2
         },
         "mode": "lines",
         "name": "TikTok - ladiabla",
         "showlegend": false,
         "type": "scatter",
         "x": [
          "2023-12-21"
         ],
         "y": [
          8
         ]
        },
        {
         "customdata": [
          "Reddit"
         ],
         "hovertemplate": "%{customdata[0]}<extra></extra>",
         "legendgroup": "Reddit",
         "line": {
          "color": "yellow",
          "width": 2
         },
         "mode": "lines",
         "name": "Reddit - me irl",
         "showlegend": false,
         "type": "scatter",
         "x": [
          "2023-12-21"
         ],
         "y": [
          2
         ]
        },
        {
         "customdata": [
          "Reddit"
         ],
         "hovertemplate": "%{customdata[0]}<extra></extra>",
         "legendgroup": "Reddit",
         "line": {
          "color": "yellow",
          "width": 2
         },
         "mode": "lines",
         "name": "Reddit - meirl",
         "showlegend": false,
         "type": "scatter",
         "x": [
          "2023-12-18"
         ],
         "y": [
          1
         ]
        },
        {
         "customdata": [
          "YouTube"
         ],
         "hovertemplate": "%{customdata[0]}<extra></extra>",
         "legendgroup": "YouTube",
         "line": {
          "color": "red",
          "width": 2
         },
         "mode": "lines",
         "name": "YouTube - miami and then new york",
         "showlegend": false,
         "type": "scatter",
         "x": [
          "2023-12-21"
         ],
         "y": [
          8
         ]
        },
        {
         "customdata": [
          "TikTok"
         ],
         "hovertemplate": "%{customdata[0]}<extra></extra>",
         "legendgroup": "TikTok",
         "line": {
          "color": "purple",
          "width": 2
         },
         "mode": "lines",
         "name": "TikTok - mikryptonita",
         "showlegend": false,
         "type": "scatter",
         "x": [
          "2023-12-18"
         ],
         "y": [
          3
         ]
        },
        {
         "customdata": [
          "TikTok"
         ],
         "hovertemplate": "%{customdata[0]}<extra></extra>",
         "legendgroup": "TikTok",
         "line": {
          "color": "purple",
          "width": 2
         },
         "mode": "lines",
         "name": "TikTok - navidadentiktok",
         "showlegend": false,
         "type": "scatter",
         "x": [
          "2023-12-18"
         ],
         "y": [
          1
         ]
        },
        {
         "customdata": [
          "TikTok"
         ],
         "hovertemplate": "%{customdata[0]}<extra></extra>",
         "legendgroup": "TikTok",
         "line": {
          "color": "purple",
          "width": 2
         },
         "mode": "lines",
         "name": "TikTok - pineville",
         "showlegend": false,
         "type": "scatter",
         "x": [
          "2023-12-18"
         ],
         "y": [
          10
         ]
        },
        {
         "customdata": [
          "US Headlines"
         ],
         "hovertemplate": "%{customdata[0]}<extra></extra>",
         "legendgroup": "US Headlines",
         "line": {
          "color": "white",
          "width": 2
         },
         "mode": "lines",
         "name": "US Headlines - reactions to the Ravens clinching a playoff berth with win over Jaguars - NFL",
         "showlegend": false,
         "type": "scatter",
         "x": [
          "2023-12-19"
         ],
         "y": [
          3
         ]
        },
        {
         "customdata": [
          "TikTok"
         ],
         "hovertemplate": "%{customdata[0]}<extra></extra>",
         "legendgroup": "TikTok",
         "line": {
          "color": "purple",
          "width": 2
         },
         "mode": "lines",
         "name": "TikTok - scarvvideo",
         "showlegend": false,
         "type": "scatter",
         "x": [
          "2023-12-18"
         ],
         "y": [
          6
         ]
        },
        {
         "customdata": [
          "TikTok"
         ],
         "hovertemplate": "%{customdata[0]}<extra></extra>",
         "legendgroup": "TikTok",
         "line": {
          "color": "purple",
          "width": 2
         },
         "mode": "lines",
         "name": "TikTok - seahawks",
         "showlegend": false,
         "type": "scatter",
         "x": [
          "2023-12-21"
         ],
         "y": [
          5
         ]
        },
        {
         "customdata": [
          "TikTok"
         ],
         "hovertemplate": "%{customdata[0]}<extra></extra>",
         "legendgroup": "TikTok",
         "line": {
          "color": "purple",
          "width": 2
         },
         "mode": "lines",
         "name": "TikTok - starfield",
         "showlegend": false,
         "type": "scatter",
         "x": [
          "2023-12-18",
          "2023-12-19",
          "2023-12-20"
         ],
         "y": [
          8,
          9,
          9
         ]
        },
        {
         "customdata": [
          "TikTok"
         ],
         "hovertemplate": "%{customdata[0]}<extra></extra>",
         "legendgroup": "TikTok",
         "line": {
          "color": "purple",
          "width": 2
         },
         "mode": "lines",
         "name": "TikTok - superscaryvideos",
         "showlegend": false,
         "type": "scatter",
         "x": [
          "2023-12-18",
          "2023-12-19",
          "2023-12-20"
         ],
         "y": [
          5,
          8,
          8
         ]
        },
        {
         "customdata": [
          "TikTok"
         ],
         "hovertemplate": "%{customdata[0]}<extra></extra>",
         "legendgroup": "TikTok",
         "line": {
          "color": "purple",
          "width": 2
         },
         "mode": "lines",
         "name": "TikTok - surroundsound",
         "showlegend": false,
         "type": "scatter",
         "x": [
          "2023-12-19",
          "2023-12-20",
          "2023-12-21"
         ],
         "y": [
          6,
          6,
          6
         ]
        },
        {
         "customdata": [
          "TikTok"
         ],
         "hovertemplate": "%{customdata[0]}<extra></extra>",
         "legendgroup": "TikTok",
         "line": {
          "color": "purple",
          "width": 2
         },
         "mode": "lines",
         "name": "TikTok - temu",
         "showlegend": false,
         "type": "scatter",
         "x": [
          "2023-12-19",
          "2023-12-20",
          "2023-12-21"
         ],
         "y": [
          1,
          1,
          2
         ]
        },
        {
         "customdata": [
          "Reddit"
         ],
         "hovertemplate": "%{customdata[0]}<extra></extra>",
         "legendgroup": "Reddit",
         "line": {
          "color": "yellow",
          "width": 2
         },
         "mode": "lines",
         "name": "Reddit - the way they finish the race with the same exact time",
         "showlegend": false,
         "type": "scatter",
         "x": [
          "2023-12-21"
         ],
         "y": [
          9
         ]
        },
        {
         "customdata": [
          "TikTok"
         ],
         "hovertemplate": "%{customdata[0]}<extra></extra>",
         "legendgroup": "TikTok",
         "line": {
          "color": "purple",
          "width": 2
         },
         "mode": "lines",
         "name": "TikTok - ufc296",
         "showlegend": false,
         "type": "scatter",
         "x": [
          "2023-12-19",
          "2023-12-20"
         ],
         "y": [
          4,
          4
         ]
        },
        {
         "customdata": [
          "TikTok"
         ],
         "hovertemplate": "%{customdata[0]}<extra></extra>",
         "legendgroup": "TikTok",
         "line": {
          "color": "purple",
          "width": 2
         },
         "mode": "lines",
         "name": "TikTok - winterbreak",
         "showlegend": false,
         "type": "scatter",
         "x": [
          "2023-12-21"
         ],
         "y": [
          10
         ]
        },
        {
         "customdata": [
          "TikTok"
         ],
         "hovertemplate": "%{customdata[0]}<extra></extra>",
         "legendgroup": "TikTok",
         "line": {
          "color": "purple",
          "width": 2
         },
         "mode": "lines",
         "name": "TikTok - wompwomp",
         "showlegend": false,
         "type": "scatter",
         "x": [
          "2023-12-19",
          "2023-12-20",
          "2023-12-21"
         ],
         "y": [
          5,
          5,
          4
         ]
        },
        {
         "customdata": [
          "Reddit"
         ],
         "hovertemplate": "%{customdata[0]}<extra></extra>",
         "legendgroup": "Reddit",
         "line": {
          "color": "yellow",
          "width": 2
         },
         "mode": "lines",
         "name": "Reddit - “Sold his soul to Wokeness” yeah NO",
         "showlegend": false,
         "type": "scatter",
         "x": [
          "2023-12-19"
         ],
         "y": [
          5
         ]
        },
        {
         "customdata": [
          "US Headlines"
         ],
         "hovertemplate": "%{customdata[0]}<extra></extra>",
         "legendgroup": "US Headlines",
         "line": {
          "color": "white",
          "width": 2
         },
         "mode": "lines",
         "name": "US Headlines - 👀 KEPT RECEIPTS! 👀 Stephen A., JWill & Mad Dog get TENSE in Ja Morant’s return | First Take - ESPN",
         "showlegend": false,
         "type": "scatter",
         "x": [
          "2023-12-21"
         ],
         "y": [
          3
         ]
        },
        {
         "customdata": [
          "YouTube"
         ],
         "hovertemplate": "%{customdata[0]}<extra></extra>",
         "legendgroup": "YouTube",
         "line": {
          "color": "red",
          "width": 2
         },
         "mode": "lines",
         "name": "YouTube - 🚨 PENALTY SHOOTOUT! 🚨 Chelsea vs. Newcastle | Carabao Cup Highlights | ESPN FC",
         "showlegend": false,
         "type": "scatter",
         "x": [
          "2023-12-20"
         ],
         "y": [
          8
         ]
        },
        {
         "customdata": [
          "Reddit"
         ],
         "hovertemplate": "%{customdata[0]}<extra></extra>",
         "legendgroup": "Reddit",
         "line": {
          "color": "yellow",
          "width": 2
         },
         "mode": "lines",
         "name": "Reddit - 🤦🏽‍♂️",
         "showlegend": false,
         "type": "scatter",
         "x": [
          "2023-12-19"
         ],
         "y": [
          10
         ]
        }
       ],
       "layout": {
        "height": 800,
        "legend": {
         "itemsizing": "constant",
         "title": {
          "text": "Platform"
         },
         "tracegroupgap": 0
        },
        "template": {
         "data": {
          "bar": [
           {
            "error_x": {
             "color": "#2a3f5f"
            },
            "error_y": {
             "color": "#2a3f5f"
            },
            "marker": {
             "line": {
              "color": "#E5ECF6",
              "width": 0.5
             },
             "pattern": {
              "fillmode": "overlay",
              "size": 10,
              "solidity": 0.2
             }
            },
            "type": "bar"
           }
          ],
          "barpolar": [
           {
            "marker": {
             "line": {
              "color": "#E5ECF6",
              "width": 0.5
             },
             "pattern": {
              "fillmode": "overlay",
              "size": 10,
              "solidity": 0.2
             }
            },
            "type": "barpolar"
           }
          ],
          "carpet": [
           {
            "aaxis": {
             "endlinecolor": "#2a3f5f",
             "gridcolor": "white",
             "linecolor": "white",
             "minorgridcolor": "white",
             "startlinecolor": "#2a3f5f"
            },
            "baxis": {
             "endlinecolor": "#2a3f5f",
             "gridcolor": "white",
             "linecolor": "white",
             "minorgridcolor": "white",
             "startlinecolor": "#2a3f5f"
            },
            "type": "carpet"
           }
          ],
          "choropleth": [
           {
            "colorbar": {
             "outlinewidth": 0,
             "ticks": ""
            },
            "type": "choropleth"
           }
          ],
          "contour": [
           {
            "colorbar": {
             "outlinewidth": 0,
             "ticks": ""
            },
            "colorscale": [
             [
              0,
              "#0d0887"
             ],
             [
              0.1111111111111111,
              "#46039f"
             ],
             [
              0.2222222222222222,
              "#7201a8"
             ],
             [
              0.3333333333333333,
              "#9c179e"
             ],
             [
              0.4444444444444444,
              "#bd3786"
             ],
             [
              0.5555555555555556,
              "#d8576b"
             ],
             [
              0.6666666666666666,
              "#ed7953"
             ],
             [
              0.7777777777777778,
              "#fb9f3a"
             ],
             [
              0.8888888888888888,
              "#fdca26"
             ],
             [
              1,
              "#f0f921"
             ]
            ],
            "type": "contour"
           }
          ],
          "contourcarpet": [
           {
            "colorbar": {
             "outlinewidth": 0,
             "ticks": ""
            },
            "type": "contourcarpet"
           }
          ],
          "heatmap": [
           {
            "colorbar": {
             "outlinewidth": 0,
             "ticks": ""
            },
            "colorscale": [
             [
              0,
              "#0d0887"
             ],
             [
              0.1111111111111111,
              "#46039f"
             ],
             [
              0.2222222222222222,
              "#7201a8"
             ],
             [
              0.3333333333333333,
              "#9c179e"
             ],
             [
              0.4444444444444444,
              "#bd3786"
             ],
             [
              0.5555555555555556,
              "#d8576b"
             ],
             [
              0.6666666666666666,
              "#ed7953"
             ],
             [
              0.7777777777777778,
              "#fb9f3a"
             ],
             [
              0.8888888888888888,
              "#fdca26"
             ],
             [
              1,
              "#f0f921"
             ]
            ],
            "type": "heatmap"
           }
          ],
          "heatmapgl": [
           {
            "colorbar": {
             "outlinewidth": 0,
             "ticks": ""
            },
            "colorscale": [
             [
              0,
              "#0d0887"
             ],
             [
              0.1111111111111111,
              "#46039f"
             ],
             [
              0.2222222222222222,
              "#7201a8"
             ],
             [
              0.3333333333333333,
              "#9c179e"
             ],
             [
              0.4444444444444444,
              "#bd3786"
             ],
             [
              0.5555555555555556,
              "#d8576b"
             ],
             [
              0.6666666666666666,
              "#ed7953"
             ],
             [
              0.7777777777777778,
              "#fb9f3a"
             ],
             [
              0.8888888888888888,
              "#fdca26"
             ],
             [
              1,
              "#f0f921"
             ]
            ],
            "type": "heatmapgl"
           }
          ],
          "histogram": [
           {
            "marker": {
             "pattern": {
              "fillmode": "overlay",
              "size": 10,
              "solidity": 0.2
             }
            },
            "type": "histogram"
           }
          ],
          "histogram2d": [
           {
            "colorbar": {
             "outlinewidth": 0,
             "ticks": ""
            },
            "colorscale": [
             [
              0,
              "#0d0887"
             ],
             [
              0.1111111111111111,
              "#46039f"
             ],
             [
              0.2222222222222222,
              "#7201a8"
             ],
             [
              0.3333333333333333,
              "#9c179e"
             ],
             [
              0.4444444444444444,
              "#bd3786"
             ],
             [
              0.5555555555555556,
              "#d8576b"
             ],
             [
              0.6666666666666666,
              "#ed7953"
             ],
             [
              0.7777777777777778,
              "#fb9f3a"
             ],
             [
              0.8888888888888888,
              "#fdca26"
             ],
             [
              1,
              "#f0f921"
             ]
            ],
            "type": "histogram2d"
           }
          ],
          "histogram2dcontour": [
           {
            "colorbar": {
             "outlinewidth": 0,
             "ticks": ""
            },
            "colorscale": [
             [
              0,
              "#0d0887"
             ],
             [
              0.1111111111111111,
              "#46039f"
             ],
             [
              0.2222222222222222,
              "#7201a8"
             ],
             [
              0.3333333333333333,
              "#9c179e"
             ],
             [
              0.4444444444444444,
              "#bd3786"
             ],
             [
              0.5555555555555556,
              "#d8576b"
             ],
             [
              0.6666666666666666,
              "#ed7953"
             ],
             [
              0.7777777777777778,
              "#fb9f3a"
             ],
             [
              0.8888888888888888,
              "#fdca26"
             ],
             [
              1,
              "#f0f921"
             ]
            ],
            "type": "histogram2dcontour"
           }
          ],
          "mesh3d": [
           {
            "colorbar": {
             "outlinewidth": 0,
             "ticks": ""
            },
            "type": "mesh3d"
           }
          ],
          "parcoords": [
           {
            "line": {
             "colorbar": {
              "outlinewidth": 0,
              "ticks": ""
             }
            },
            "type": "parcoords"
           }
          ],
          "pie": [
           {
            "automargin": true,
            "type": "pie"
           }
          ],
          "scatter": [
           {
            "fillpattern": {
             "fillmode": "overlay",
             "size": 10,
             "solidity": 0.2
            },
            "type": "scatter"
           }
          ],
          "scatter3d": [
           {
            "line": {
             "colorbar": {
              "outlinewidth": 0,
              "ticks": ""
             }
            },
            "marker": {
             "colorbar": {
              "outlinewidth": 0,
              "ticks": ""
             }
            },
            "type": "scatter3d"
           }
          ],
          "scattercarpet": [
           {
            "marker": {
             "colorbar": {
              "outlinewidth": 0,
              "ticks": ""
             }
            },
            "type": "scattercarpet"
           }
          ],
          "scattergeo": [
           {
            "marker": {
             "colorbar": {
              "outlinewidth": 0,
              "ticks": ""
             }
            },
            "type": "scattergeo"
           }
          ],
          "scattergl": [
           {
            "marker": {
             "colorbar": {
              "outlinewidth": 0,
              "ticks": ""
             }
            },
            "type": "scattergl"
           }
          ],
          "scattermapbox": [
           {
            "marker": {
             "colorbar": {
              "outlinewidth": 0,
              "ticks": ""
             }
            },
            "type": "scattermapbox"
           }
          ],
          "scatterpolar": [
           {
            "marker": {
             "colorbar": {
              "outlinewidth": 0,
              "ticks": ""
             }
            },
            "type": "scatterpolar"
           }
          ],
          "scatterpolargl": [
           {
            "marker": {
             "colorbar": {
              "outlinewidth": 0,
              "ticks": ""
             }
            },
            "type": "scatterpolargl"
           }
          ],
          "scatterternary": [
           {
            "marker": {
             "colorbar": {
              "outlinewidth": 0,
              "ticks": ""
             }
            },
            "type": "scatterternary"
           }
          ],
          "surface": [
           {
            "colorbar": {
             "outlinewidth": 0,
             "ticks": ""
            },
            "colorscale": [
             [
              0,
              "#0d0887"
             ],
             [
              0.1111111111111111,
              "#46039f"
             ],
             [
              0.2222222222222222,
              "#7201a8"
             ],
             [
              0.3333333333333333,
              "#9c179e"
             ],
             [
              0.4444444444444444,
              "#bd3786"
             ],
             [
              0.5555555555555556,
              "#d8576b"
             ],
             [
              0.6666666666666666,
              "#ed7953"
             ],
             [
              0.7777777777777778,
              "#fb9f3a"
             ],
             [
              0.8888888888888888,
              "#fdca26"
             ],
             [
              1,
              "#f0f921"
             ]
            ],
            "type": "surface"
           }
          ],
          "table": [
           {
            "cells": {
             "fill": {
              "color": "#EBF0F8"
             },
             "line": {
              "color": "white"
             }
            },
            "header": {
             "fill": {
              "color": "#C8D4E3"
             },
             "line": {
              "color": "white"
             }
            },
            "type": "table"
           }
          ]
         },
         "layout": {
          "annotationdefaults": {
           "arrowcolor": "#2a3f5f",
           "arrowhead": 0,
           "arrowwidth": 1
          },
          "autotypenumbers": "strict",
          "coloraxis": {
           "colorbar": {
            "outlinewidth": 0,
            "ticks": ""
           }
          },
          "colorscale": {
           "diverging": [
            [
             0,
             "#8e0152"
            ],
            [
             0.1,
             "#c51b7d"
            ],
            [
             0.2,
             "#de77ae"
            ],
            [
             0.3,
             "#f1b6da"
            ],
            [
             0.4,
             "#fde0ef"
            ],
            [
             0.5,
             "#f7f7f7"
            ],
            [
             0.6,
             "#e6f5d0"
            ],
            [
             0.7,
             "#b8e186"
            ],
            [
             0.8,
             "#7fbc41"
            ],
            [
             0.9,
             "#4d9221"
            ],
            [
             1,
             "#276419"
            ]
           ],
           "sequential": [
            [
             0,
             "#0d0887"
            ],
            [
             0.1111111111111111,
             "#46039f"
            ],
            [
             0.2222222222222222,
             "#7201a8"
            ],
            [
             0.3333333333333333,
             "#9c179e"
            ],
            [
             0.4444444444444444,
             "#bd3786"
            ],
            [
             0.5555555555555556,
             "#d8576b"
            ],
            [
             0.6666666666666666,
             "#ed7953"
            ],
            [
             0.7777777777777778,
             "#fb9f3a"
            ],
            [
             0.8888888888888888,
             "#fdca26"
            ],
            [
             1,
             "#f0f921"
            ]
           ],
           "sequentialminus": [
            [
             0,
             "#0d0887"
            ],
            [
             0.1111111111111111,
             "#46039f"
            ],
            [
             0.2222222222222222,
             "#7201a8"
            ],
            [
             0.3333333333333333,
             "#9c179e"
            ],
            [
             0.4444444444444444,
             "#bd3786"
            ],
            [
             0.5555555555555556,
             "#d8576b"
            ],
            [
             0.6666666666666666,
             "#ed7953"
            ],
            [
             0.7777777777777778,
             "#fb9f3a"
            ],
            [
             0.8888888888888888,
             "#fdca26"
            ],
            [
             1,
             "#f0f921"
            ]
           ]
          },
          "colorway": [
           "#636efa",
           "#EF553B",
           "#00cc96",
           "#ab63fa",
           "#FFA15A",
           "#19d3f3",
           "#FF6692",
           "#B6E880",
           "#FF97FF",
           "#FECB52"
          ],
          "font": {
           "color": "#2a3f5f"
          },
          "geo": {
           "bgcolor": "white",
           "lakecolor": "white",
           "landcolor": "#E5ECF6",
           "showlakes": true,
           "showland": true,
           "subunitcolor": "white"
          },
          "hoverlabel": {
           "align": "left"
          },
          "hovermode": "closest",
          "mapbox": {
           "style": "light"
          },
          "paper_bgcolor": "white",
          "plot_bgcolor": "#E5ECF6",
          "polar": {
           "angularaxis": {
            "gridcolor": "white",
            "linecolor": "white",
            "ticks": ""
           },
           "bgcolor": "#E5ECF6",
           "radialaxis": {
            "gridcolor": "white",
            "linecolor": "white",
            "ticks": ""
           }
          },
          "scene": {
           "xaxis": {
            "backgroundcolor": "#E5ECF6",
            "gridcolor": "white",
            "gridwidth": 2,
            "linecolor": "white",
            "showbackground": true,
            "ticks": "",
            "zerolinecolor": "white"
           },
           "yaxis": {
            "backgroundcolor": "#E5ECF6",
            "gridcolor": "white",
            "gridwidth": 2,
            "linecolor": "white",
            "showbackground": true,
            "ticks": "",
            "zerolinecolor": "white"
           },
           "zaxis": {
            "backgroundcolor": "#E5ECF6",
            "gridcolor": "white",
            "gridwidth": 2,
            "linecolor": "white",
            "showbackground": true,
            "ticks": "",
            "zerolinecolor": "white"
           }
          },
          "shapedefaults": {
           "line": {
            "color": "#2a3f5f"
           }
          },
          "ternary": {
           "aaxis": {
            "gridcolor": "white",
            "linecolor": "white",
            "ticks": ""
           },
           "baxis": {
            "gridcolor": "white",
            "linecolor": "white",
            "ticks": ""
           },
           "bgcolor": "#E5ECF6",
           "caxis": {
            "gridcolor": "white",
            "linecolor": "white",
            "ticks": ""
           }
          },
          "title": {
           "x": 0.05
          },
          "xaxis": {
           "automargin": true,
           "gridcolor": "white",
           "linecolor": "white",
           "ticks": "",
           "title": {
            "standoff": 15
           },
           "zerolinecolor": "white",
           "zerolinewidth": 2
          },
          "yaxis": {
           "automargin": true,
           "gridcolor": "white",
           "linecolor": "white",
           "ticks": "",
           "title": {
            "standoff": 15
           },
           "zerolinecolor": "white",
           "zerolinewidth": 2
          }
         }
        },
        "title": {
         "text": "Trending Topics Over Time"
        },
        "updatemenus": [
         {
          "buttons": [
           {
            "args": [
             {
              "visible": [
               [
                false
               ],
               [
                false
               ],
               [
                false
               ],
               [
                false
               ],
               [
                false
               ],
               [
                false
               ],
               true,
               false,
               false,
               false,
               false,
               true,
               false,
               false,
               false,
               false,
               false,
               false,
               false,
               false,
               false,
               false,
               false,
               false,
               false,
               false,
               false,
               false,
               false,
               false,
               false,
               false,
               false,
               false,
               false,
               false,
               false,
               false,
               false,
               false,
               false,
               false,
               false,
               false,
               false,
               false,
               false,
               false,
               false,
               false,
               false,
               false,
               false,
               false,
               false,
               false,
               false,
               false,
               false,
               false,
               false,
               false,
               false,
               false,
               false,
               false,
               false,
               false,
               false,
               false,
               false,
               false,
               false,
               false,
               false,
               false,
               false,
               false,
               false,
               false,
               false,
               false,
               false,
               false,
               false,
               false,
               false,
               false,
               false,
               false,
               false,
               false,
               false,
               false,
               false,
               false,
               false,
               false,
               false,
               false,
               false,
               false,
               false,
               false,
               false,
               false,
               false,
               false,
               false,
               false,
               false,
               false,
               false,
               false,
               false,
               false,
               false,
               false,
               false,
               false,
               false,
               false,
               false,
               false,
               false,
               false,
               false,
               false,
               false,
               false,
               false,
               false,
               false,
               false,
               false,
               false,
               false,
               false,
               false,
               false,
               false,
               false,
               false,
               false,
               false,
               false,
               false,
               false,
               false,
               false,
               false,
               false,
               false,
               false,
               false,
               false,
               false,
               false,
               false,
               false,
               false,
               false,
               false,
               false,
               false,
               false,
               false,
               false,
               false,
               false,
               false,
               false,
               false,
               false,
               false,
               false,
               false,
               false,
               false,
               false,
               false,
               false,
               false,
               false,
               false,
               false,
               false,
               false,
               false,
               true,
               false,
               true,
               true,
               true,
               true,
               true,
               true,
               true,
               true,
               true,
               false,
               false,
               false,
               true,
               true,
               true,
               false,
               true,
               true,
               true,
               true,
               true,
               true,
               false,
               true,
               true,
               true,
               false,
               false,
               false,
               false
              ]
             }
            ],
            "label": "TikTok",
            "method": "update"
           },
           {
            "args": [
             {
              "visible": [
               [
                false
               ],
               [
                false
               ],
               [
                false
               ],
               [
                false
               ],
               [
                false
               ],
               [
                false
               ],
               false,
               true,
               false,
               false,
               false,
               false,
               false,
               false,
               false,
               true,
               true,
               false,
               false,
               false,
               false,
               true,
               false,
               false,
               false,
               false,
               false,
               false,
               false,
               false,
               false,
               false,
               false,
               false,
               false,
               false,
               true,
               false,
               false,
               false,
               true,
               false,
               false,
               false,
               false,
               false,
               false,
               false,
               true,
               false,
               false,
               false,
               true,
               true,
               false,
               false,
               false,
               false,
               false,
               false,
               false,
               false,
               false,
               false,
               true,
               false,
               false,
               false,
               false,
               false,
               false,
               false,
               false,
               false,
               false,
               false,
               false,
               false,
               false,
               true,
               false,
               false,
               false,
               false,
               false,
               false,
               false,
               false,
               false,
               true,
               true,
               false,
               false,
               false,
               false,
               true,
               false,
               false,
               false,
               true,
               true,
               true,
               false,
               false,
               false,
               false,
               false,
               true,
               true,
               false,
               false,
               false,
               false,
               false,
               false,
               false,
               true,
               false,
               true,
               false,
               true,
               false,
               false,
               false,
               true,
               false,
               false,
               false,
               false,
               true,
               false,
               false,
               false,
               false,
               false,
               false,
               false,
               false,
               false,
               false,
               false,
               false,
               false,
               false,
               false,
               false,
               false,
               false,
               false,
               false,
               false,
               false,
               true,
               true,
               false,
               true,
               true,
               false,
               false,
               false,
               false,
               false,
               false,
               true,
               true,
               true,
               false,
               false,
               false,
               false,
               false,
               false,
               false,
               false,
               false,
               false,
               false,
               false,
               false,
               false,
               false,
               false,
               false,
               false,
               true,
               false,
               true,
               false,
               false,
               false,
               true,
               false,
               false,
               false,
               false,
               false,
               false,
               false,
               false,
               false,
               true,
               true,
               false,
               false,
               false,
               false,
               false,
               false,
               false,
               false,
               false,
               false,
               false,
               true,
               false,
               false,
               false,
               true,
               false,
               false,
               true
              ]
             }
            ],
            "label": "Reddit",
            "method": "update"
           },
           {
            "args": [
             {
              "visible": [
               [
                false
               ],
               [
                false
               ],
               [
                false
               ],
               [
                false
               ],
               [
                false
               ],
               [
                false
               ],
               false,
               false,
               true,
               true,
               false,
               false,
               false,
               false,
               false,
               false,
               false,
               false,
               true,
               false,
               false,
               false,
               false,
               false,
               false,
               true,
               false,
               true,
               false,
               false,
               false,
               false,
               false,
               false,
               false,
               false,
               false,
               false,
               true,
               true,
               false,
               false,
               false,
               false,
               false,
               true,
               false,
               false,
               false,
               true,
               true,
               true,
               false,
               false,
               false,
               false,
               false,
               true,
               false,
               false,
               false,
               false,
               false,
               false,
               false,
               true,
               false,
               false,
               true,
               false,
               false,
               false,
               false,
               false,
               false,
               false,
               false,
               false,
               false,
               false,
               true,
               false,
               false,
               false,
               false,
               true,
               false,
               false,
               false,
               false,
               false,
               false,
               false,
               true,
               false,
               false,
               false,
               true,
               true,
               false,
               false,
               false,
               false,
               false,
               false,
               false,
               true,
               false,
               false,
               false,
               false,
               false,
               false,
               false,
               false,
               false,
               false,
               true,
               false,
               false,
               false,
               false,
               true,
               false,
               false,
               false,
               false,
               false,
               false,
               false,
               false,
               false,
               false,
               false,
               true,
               false,
               false,
               false,
               false,
               false,
               false,
               true,
               false,
               true,
               false,
               false,
               false,
               true,
               false,
               false,
               false,
               false,
               false,
               false,
               true,
               false,
               false,
               false,
               true,
               true,
               true,
               true,
               true,
               false,
               false,
               false,
               false,
               true,
               false,
               false,
               false,
               false,
               false,
               false,
               true,
               false,
               false,
               true,
               false,
               false,
               true,
               false,
               false,
               false,
               false,
               false,
               false,
               true,
               true,
               false,
               false,
               false,
               false,
               false,
               false,
               false,
               false,
               false,
               false,
               false,
               false,
               false,
               false,
               false,
               false,
               false,
               false,
               false,
               false,
               false,
               false,
               false,
               false,
               false,
               false,
               false,
               false,
               false,
               false,
               false,
               false
              ]
             }
            ],
            "label": "Global Business News",
            "method": "update"
           },
           {
            "args": [
             {
              "visible": [
               [
                false
               ],
               [
                false
               ],
               [
                false
               ],
               [
                false
               ],
               [
                false
               ],
               [
                false
               ],
               false,
               false,
               false,
               false,
               true,
               false,
               false,
               false,
               true,
               false,
               false,
               true,
               false,
               true,
               true,
               false,
               false,
               false,
               true,
               false,
               false,
               false,
               false,
               false,
               false,
               false,
               false,
               false,
               false,
               false,
               false,
               true,
               false,
               false,
               false,
               false,
               false,
               true,
               false,
               false,
               false,
               false,
               false,
               false,
               false,
               false,
               false,
               false,
               false,
               true,
               false,
               false,
               false,
               false,
               false,
               false,
               false,
               true,
               false,
               false,
               false,
               false,
               false,
               false,
               false,
               true,
               true,
               false,
               false,
               false,
               false,
               false,
               false,
               false,
               false,
               true,
               false,
               false,
               true,
               false,
               false,
               false,
               true,
               false,
               false,
               false,
               false,
               false,
               false,
               false,
               false,
               false,
               false,
               false,
               false,
               false,
               false,
               false,
               false,
               false,
               false,
               false,
               false,
               false,
               false,
               true,
               true,
               true,
               true,
               true,
               false,
               false,
               false,
               false,
               false,
               false,
               false,
               false,
               false,
               false,
               false,
               true,
               true,
               false,
               true,
               false,
               true,
               false,
               false,
               false,
               false,
               false,
               true,
               false,
               false,
               false,
               true,
               false,
               true,
               true,
               false,
               false,
               false,
               false,
               false,
               false,
               false,
               false,
               false,
               false,
               false,
               false,
               false,
               false,
               false,
               false,
               false,
               false,
               false,
               false,
               true,
               false,
               false,
               true,
               true,
               false,
               false,
               true,
               false,
               true,
               true,
               false,
               true,
               true,
               false,
               true,
               false,
               false,
               false,
               false,
               false,
               false,
               false,
               false,
               false,
               false,
               false,
               false,
               false,
               false,
               false,
               false,
               false,
               false,
               false,
               false,
               false,
               false,
               false,
               false,
               true,
               false,
               false,
               false,
               false,
               false,
               false,
               false,
               false,
               false,
               false,
               false,
               true,
               false,
               false
              ]
             }
            ],
            "label": "US Headlines",
            "method": "update"
           },
           {
            "args": [
             {
              "visible": [
               [
                false
               ],
               [
                false
               ],
               [
                false
               ],
               [
                false
               ],
               [
                false
               ],
               [
                false
               ],
               false,
               false,
               false,
               false,
               false,
               false,
               true,
               false,
               false,
               false,
               false,
               false,
               false,
               false,
               false,
               false,
               false,
               false,
               false,
               false,
               false,
               false,
               false,
               false,
               false,
               false,
               false,
               false,
               false,
               false,
               false,
               false,
               false,
               false,
               false,
               true,
               false,
               false,
               true,
               false,
               false,
               true,
               false,
               false,
               false,
               false,
               false,
               false,
               true,
               false,
               false,
               false,
               true,
               false,
               true,
               true,
               false,
               false,
               false,
               false,
               false,
               true,
               false,
               true,
               true,
               false,
               false,
               true,
               true,
               true,
               true,
               true,
               false,
               false,
               false,
               false,
               true,
               false,
               false,
               false,
               false,
               false,
               false,
               false,
               false,
               true,
               false,
               false,
               true,
               false,
               false,
               false,
               false,
               false,
               false,
               false,
               true,
               false,
               true,
               false,
               false,
               false,
               false,
               true,
               true,
               false,
               false,
               false,
               false,
               false,
               false,
               false,
               false,
               true,
               false,
               false,
               false,
               false,
               false,
               true,
               false,
               false,
               false,
               false,
               false,
               true,
               false,
               true,
               false,
               false,
               true,
               false,
               false,
               true,
               true,
               false,
               false,
               false,
               false,
               false,
               false,
               false,
               true,
               false,
               true,
               false,
               false,
               false,
               false,
               false,
               false,
               true,
               false,
               false,
               false,
               false,
               false,
               false,
               false,
               false,
               false,
               false,
               false,
               false,
               false,
               false,
               false,
               false,
               false,
               false,
               false,
               false,
               false,
               false,
               false,
               false,
               false,
               true,
               false,
               false,
               false,
               false,
               false,
               false,
               false,
               false,
               false,
               false,
               false,
               false,
               false,
               false,
               false,
               false,
               false,
               false,
               true,
               false,
               false,
               false,
               false,
               false,
               false,
               false,
               false,
               false,
               false,
               false,
               false,
               false,
               false,
               false,
               false,
               true,
               false
              ]
             }
            ],
            "label": "YouTube",
            "method": "update"
           },
           {
            "args": [
             {
              "visible": [
               [
                false
               ],
               [
                false
               ],
               [
                false
               ],
               [
                false
               ],
               [
                false
               ],
               [
                false
               ],
               false,
               false,
               false,
               false,
               false,
               false,
               false,
               true,
               false,
               false,
               false,
               false,
               false,
               false,
               false,
               false,
               true,
               true,
               false,
               false,
               true,
               false,
               true,
               true,
               true,
               true,
               true,
               true,
               true,
               true,
               false,
               false,
               false,
               false,
               false,
               false,
               true,
               false,
               false,
               false,
               true,
               false,
               false,
               false,
               false,
               false,
               false,
               false,
               false,
               false,
               true,
               false,
               false,
               true,
               false,
               false,
               true,
               false,
               false,
               false,
               true,
               false,
               false,
               false,
               false,
               false,
               false,
               false,
               false,
               false,
               false,
               false,
               true,
               false,
               false,
               false,
               false,
               true,
               false,
               false,
               true,
               true,
               false,
               false,
               false,
               false,
               true,
               false,
               false,
               false,
               true,
               false,
               false,
               false,
               false,
               false,
               false,
               true,
               false,
               true,
               false,
               false,
               false,
               false,
               false,
               false,
               false,
               false,
               false,
               false,
               false,
               false,
               false,
               false,
               false,
               true,
               false,
               true,
               false,
               false,
               true,
               false,
               false,
               false,
               false,
               false,
               false,
               false,
               false,
               true,
               false,
               true,
               false,
               false,
               false,
               false,
               false,
               false,
               false,
               false,
               true,
               false,
               false,
               true,
               false,
               true,
               false,
               false,
               false,
               false,
               false,
               false,
               false,
               false,
               false,
               false,
               false,
               false,
               false,
               false,
               false,
               false,
               true,
               false,
               false,
               true,
               true,
               false,
               false,
               false,
               false,
               false,
               false,
               false,
               false,
               false,
               true,
               false,
               false,
               true,
               false,
               false,
               false,
               false,
               false,
               false,
               false,
               false,
               false,
               false,
               false,
               false,
               false,
               false,
               false,
               false,
               false,
               false,
               false,
               false,
               false,
               false,
               false,
               false,
               false,
               false,
               false,
               false,
               false,
               false,
               false,
               false,
               false,
               false,
               false
              ]
             }
            ],
            "label": "Google",
            "method": "update"
           }
          ],
          "direction": "down",
          "showactive": true
         }
        ],
        "xaxis": {
         "anchor": "y",
         "domain": [
          0,
          1
         ],
         "title": {
          "text": "Date"
         }
        },
        "yaxis": {
         "anchor": "x",
         "autorange": "reversed",
         "domain": [
          0,
          1
         ],
         "tickmode": "array",
         "ticktext": [
          "1",
          "2",
          "3",
          "4",
          "5",
          "6",
          "7",
          "8",
          "9",
          "10"
         ],
         "tickvals": [
          1,
          2,
          3,
          4,
          5,
          6,
          7,
          8,
          9,
          10
         ],
         "title": {
          "text": "Ranking"
         }
        }
       }
      },
      "text/html": [
       "<div>                            <div id=\"02027db1-6173-49d7-89e9-a91148786119\" class=\"plotly-graph-div\" style=\"height:800px; width:100%;\"></div>            <script type=\"text/javascript\">                require([\"plotly\"], function(Plotly) {                    window.PLOTLYENV=window.PLOTLYENV || {};                                    if (document.getElementById(\"02027db1-6173-49d7-89e9-a91148786119\")) {                    Plotly.newPlot(                        \"02027db1-6173-49d7-89e9-a91148786119\",                        [{\"customdata\":[[\"Rank: 9<br>Title: 318<br>Platform: TikTok<br>Time Posted: nan<br>Category: Games<br>Views: 14,877,724<br>Publish Count: 41,078\"],[\"Rank: 10<br>Title: 318<br>Platform: TikTok<br>Time Posted: nan<br>Category: Games<br>Views: 13,797,180<br>Publish Count: 44,694\"],[\"Rank: 10<br>Title: 318<br>Platform: TikTok<br>Time Posted: nan<br>Category: Games<br>Views: 14,661,066<br>Publish Count: 58,264\"],[\"Rank: 1<br>Title: aifilter<br>Platform: TikTok<br>Time Posted: nan<br>Category: nan<br>Views: 140,465,530<br>Publish Count: 33,394\"],[\"Rank: 3<br>Title: bellakeo<br>Platform: TikTok<br>Time Posted: nan<br>Category: News & Entertainment<br>Views: 58,196,418<br>Publish Count: 2,901\"],[\"Rank: 3<br>Title: bellakeo<br>Platform: TikTok<br>Time Posted: nan<br>Category: Beauty & Personal Care<br>Views: 66,314,443<br>Publish Count: 9,383\"],[\"Rank: 2<br>Title: capgaleria<br>Platform: TikTok<br>Time Posted: nan<br>Category: nan<br>Views: 12,098,595<br>Publish Count: 8,839\"],[\"Rank: 7<br>Title: ceilingchallenge<br>Platform: TikTok<br>Time Posted: nan<br>Category: nan<br>Views: 33,357,870<br>Publish Count: 53,309\"],[\"Rank: 7<br>Title: ceilingchallenge<br>Platform: TikTok<br>Time Posted: nan<br>Category: Games<br>Views: 33,948,981<br>Publish Count: 69,371\"],[\"Rank: 7<br>Title: ceilingchallenge<br>Platform: TikTok<br>Time Posted: nan<br>Category: Games<br>Views: 38,411,621<br>Publish Count: 67,371\"],[\"Rank: 2<br>Title: christmasparty<br>Platform: TikTok<br>Time Posted: nan<br>Category: Apparel & Accessories<br>Views: 91,122,256<br>Publish Count: 15,951\"],[\"Rank: 2<br>Title: christmasparty<br>Platform: TikTok<br>Time Posted: nan<br>Category: Apparel & Accessories<br>Views: 94,548,986<br>Publish Count: 18,161\"],[\"Rank: 3<br>Title: dancechallenge<br>Platform: TikTok<br>Time Posted: nan<br>Category: nan<br>Views: 90,301,317<br>Publish Count: 81,762\"],[\"Rank: 4<br>Title: dropshipping<br>Platform: TikTok<br>Time Posted: nan<br>Category: Financial Services<br>Views: 19,281,207<br>Publish Count: 44,374\"],[\"Rank: 7<br>Title: jakepaul<br>Platform: TikTok<br>Time Posted: nan<br>Category: Sports & Outdoor<br>Views: 35,629,275<br>Publish Count: 2,080\"],[\"Rank: 9<br>Title: jid<br>Platform: TikTok<br>Time Posted: nan<br>Category: News & Entertainment<br>Views: 26,173,459<br>Publish Count: 58,563\"],[\"Rank: 8<br>Title: ladiabla<br>Platform: TikTok<br>Time Posted: nan<br>Category: nan<br>Views: 24,884,208<br>Publish Count: 20,276\"],[\"Rank: 3<br>Title: mikryptonita<br>Platform: TikTok<br>Time Posted: nan<br>Category: nan<br>Views: 12,742,542<br>Publish Count: 6,735\"],[\"Rank: 1<br>Title: navidadentiktok<br>Platform: TikTok<br>Time Posted: nan<br>Category: nan<br>Views: 49,802,211<br>Publish Count: 6,141\"],[\"Rank: 10<br>Title: pineville<br>Platform: TikTok<br>Time Posted: nan<br>Category: Games<br>Views: 10,930,183<br>Publish Count: 42,922\"],[\"Rank: 6<br>Title: scarvvideo<br>Platform: TikTok<br>Time Posted: nan<br>Category: nan<br>Views: 12,761,296<br>Publish Count: 49,193\"],[\"Rank: 5<br>Title: seahawks<br>Platform: TikTok<br>Time Posted: nan<br>Category: Sports & Outdoor<br>Views: 57,767,802<br>Publish Count: 5,339\"],[\"Rank: 8<br>Title: starfield<br>Platform: TikTok<br>Time Posted: nan<br>Category: Games<br>Views: 13,886,554<br>Publish Count: 40,059\"],[\"Rank: 9<br>Title: starfield<br>Platform: TikTok<br>Time Posted: nan<br>Category: Games<br>Views: 13,803,057<br>Publish Count: 43,624\"],[\"Rank: 9<br>Title: starfield<br>Platform: TikTok<br>Time Posted: nan<br>Category: Games<br>Views: 15,520,680<br>Publish Count: 57,157\"],[\"Rank: 5<br>Title: superscaryvideos<br>Platform: TikTok<br>Time Posted: nan<br>Category: nan<br>Views: 12,357,708<br>Publish Count: 47,687\"],[\"Rank: 8<br>Title: superscaryvideos<br>Platform: TikTok<br>Time Posted: nan<br>Category: nan<br>Views: 11,977,435<br>Publish Count: 51,689\"],[\"Rank: 8<br>Title: superscaryvideos<br>Platform: TikTok<br>Time Posted: nan<br>Category: nan<br>Views: 13,713,236<br>Publish Count: 65,798\"],[\"Rank: 6<br>Title: surroundsound<br>Platform: TikTok<br>Time Posted: nan<br>Category: nan<br>Views: 34,992,850<br>Publish Count: 52,767\"],[\"Rank: 6<br>Title: surroundsound<br>Platform: TikTok<br>Time Posted: nan<br>Category: Games<br>Views: 37,481,087<br>Publish Count: 68,917\"],[\"Rank: 6<br>Title: surroundsound<br>Platform: TikTok<br>Time Posted: nan<br>Category: Games<br>Views: 43,663,171<br>Publish Count: 66,960\"],[\"Rank: 1<br>Title: temu<br>Platform: TikTok<br>Time Posted: nan<br>Category: nan<br>Views: 48,593,482<br>Publish Count: 144,994\"],[\"Rank: 1<br>Title: temu<br>Platform: TikTok<br>Time Posted: nan<br>Category: nan<br>Views: 50,806,614<br>Publish Count: 189,340\"],[\"Rank: 2<br>Title: temu<br>Platform: TikTok<br>Time Posted: nan<br>Category: nan<br>Views: 55,716,281<br>Publish Count: 183,193\"],[\"Rank: 4<br>Title: ufc296<br>Platform: TikTok<br>Time Posted: nan<br>Category: Sports & Outdoor<br>Views: 116,766,667<br>Publish Count: 4,568\"],[\"Rank: 4<br>Title: ufc296<br>Platform: TikTok<br>Time Posted: nan<br>Category: Sports & Outdoor<br>Views: 141,785,841<br>Publish Count: 5,169\"],[\"Rank: 10<br>Title: winterbreak<br>Platform: TikTok<br>Time Posted: nan<br>Category: nan<br>Views: 57,323,145<br>Publish Count: 11,610\"],[\"Rank: 5<br>Title: wompwomp<br>Platform: TikTok<br>Time Posted: nan<br>Category: nan<br>Views: 16,809,767<br>Publish Count: 5,406\"],[\"Rank: 5<br>Title: wompwomp<br>Platform: TikTok<br>Time Posted: nan<br>Category: nan<br>Views: 21,765,382<br>Publish Count: 12,502\"],[\"Rank: 4<br>Title: wompwomp<br>Platform: TikTok<br>Time Posted: nan<br>Category: nan<br>Views: 27,543,846<br>Publish Count: 12,307\"]],\"hovertemplate\":\"%{customdata[0]}<extra></extra>\",\"hovertext\":[318,\"318\",\"318\",\"aifilter\",\"bellakeo\",\"bellakeo\",\"capgaleria\",\"ceilingchallenge\",\"ceilingchallenge\",\"ceilingchallenge\",\"christmasparty\",\"christmasparty\",\"dancechallenge\",\"dropshipping\",\"jakepaul\",\"jid\",\"ladiabla\",\"mikryptonita\",\"navidadentiktok\",\"pineville\",\"scarvvideo\",\"seahawks\",\"starfield\",\"starfield\",\"starfield\",\"superscaryvideos\",\"superscaryvideos\",\"superscaryvideos\",\"surroundsound\",\"surroundsound\",\"surroundsound\",\"temu\",\"temu\",\"temu\",\"ufc296\",\"ufc296\",\"winterbreak\",\"wompwomp\",\"wompwomp\",\"wompwomp\"],\"legendgroup\":\"TikTok\",\"marker\":{\"color\":\"#636efa\",\"size\":[8.297187034893058,7.942113416295687,8.225991840566802,49.566137422961106,22.531984906606024,25.199619461620834,7.383947601256951,14.36988033792165,14.564123165388844,16.03057500196132,33.35162431417371,34.4776695479228,33.081858546766085,9.744199505687405,15.116278441701008,12.00903727066964,11.585381206825616,7.595552673771278,19.773595192956808,7.0,7.601715357237362,22.391138967793047,7.971482280116615,7.9440446358078,8.508466458515688,7.469093778123067,7.3441336560319,7.9145288849489415,14.90714514614263,15.72479562175294,17.756267673194536,19.37639916953381,20.103648395547403,21.716996142421294,41.778540580950654,50.0,22.24502185453838,8.932068630918504,10.56051518230874,12.45935513923288],\"sizemode\":\"area\",\"sizeref\":0.125,\"symbol\":\"circle\"},\"mode\":\"markers\",\"name\":\"TikTok\",\"orientation\":\"v\",\"showlegend\":true,\"x\":[\"2023-12-18\",\"2023-12-19\",\"2023-12-20\",\"2023-12-21\",\"2023-12-19\",\"2023-12-20\",\"2023-12-18\",\"2023-12-19\",\"2023-12-20\",\"2023-12-21\",\"2023-12-19\",\"2023-12-20\",\"2023-12-21\",\"2023-12-18\",\"2023-12-18\",\"2023-12-21\",\"2023-12-21\",\"2023-12-18\",\"2023-12-18\",\"2023-12-18\",\"2023-12-18\",\"2023-12-21\",\"2023-12-18\",\"2023-12-19\",\"2023-12-20\",\"2023-12-18\",\"2023-12-19\",\"2023-12-20\",\"2023-12-19\",\"2023-12-20\",\"2023-12-21\",\"2023-12-19\",\"2023-12-20\",\"2023-12-21\",\"2023-12-19\",\"2023-12-20\",\"2023-12-21\",\"2023-12-19\",\"2023-12-20\",\"2023-12-21\"],\"xaxis\":\"x\",\"y\":[9.0,10.0,10.0,1.0,3.0,3.0,2.0,7.0,7.0,7.0,2.0,2.0,3.0,4.0,7.0,9.0,8.0,3.0,1.0,10.0,6.0,5.0,8.0,9.0,9.0,5.0,8.0,8.0,6.0,6.0,6.0,1.0,1.0,2.0,4.0,4.0,10.0,5.0,5.0,4.0],\"yaxis\":\"y\",\"type\":\"scatter\"},{\"customdata\":[[\"Rank: 10<br>Title: \\\"Betas who like to think they are Alpha males\\\"<br>Platform: Reddit<br>Time Posted: 2023-12-20 10:23:25<br>Subreddit: clevercomebacks<br>Score: 30,021<br>Comments: 1,251<br>URL: https://i.redd.it/holjihnlsh7c1.png\"],[\"Rank: 3<br>Title: A wholesome ending<br>Platform: Reddit<br>Time Posted: 2023-12-19 15:18:58<br>Subreddit: MadeMeSmile<br>Score: 52,657<br>Comments: 1,035<br>URL: https://v.redd.it/cn84i5ve4c7c1\"],[\"Rank: 8<br>Title: AITA for telling my husband \\\" I told you so\\\" and laughing at me when we got the paternity test results?<br>Platform: Reddit<br>Time Posted: 2023-12-20 10:06:21<br>Subreddit: AITAH<br>Score: 33,047<br>Comments: 20,180<br>URL: https://www.reddit.com/r/AITAH/comments/18n0zbl/aita_for_telling_my_husband_i_told_you_so_and/\"],[\"Rank: 7<br>Title: An unexpected duet in the lunch hall <br>Platform: Reddit<br>Time Posted: 2023-12-19 11:39:07<br>Subreddit: MadeMeSmile<br>Score: 32,253<br>Comments: 780<br>URL: https://v.redd.it/z6w4f9771b7c1\"],[\"Rank: 2<br>Title: Colorado Supreme Court kicks Trump off the state's 2024 ballot for violating the U.S. Constitution<br>Platform: Reddit<br>Time Posted: 2023-12-19 15:15:18<br>Subreddit: news<br>Score: 52,245<br>Comments: 6,434<br>URL: https://www.nbcnews.com/politics/donald-trump/colorado-supreme-court-kicks-trump-states-2024-ballot-violating-us-con-rcna130484\"],[\"Rank: 1<br>Title: Dad's note to gay son that hasnt came out yet.<br>Platform: Reddit<br>Time Posted: 2023-12-20 10:32:24<br>Subreddit: pics<br>Score: 59,689<br>Comments: 1,885<br>URL: https://i.redd.it/z70xh9d7uh7c1.jpeg\"],[\"Rank: 5<br>Title: Expect some terrible horror movie announcements in 2 weeks<br>Platform: Reddit<br>Time Posted: 2023-12-17 13:26:32<br>Subreddit: memes<br>Score: 18,459<br>Comments: 176<br>URL: https://i.redd.it/ocdpnmjjax6c1.jpeg\"],[\"Rank: 3<br>Title: First Image from \\u2018COYOTE VS ACME\\u2019<br>Platform: Reddit<br>Time Posted: 2023-12-20 10:07:33<br>Subreddit: movies<br>Score: 39,023<br>Comments: 1,782<br>URL: https://i.redd.it/bnv255qrph7c1.jpeg\"],[\"Rank: 9<br>Title: First hike with the kiddo<br>Platform: Reddit<br>Time Posted: 2023-12-17 13:35:29<br>Subreddit: Unexpected<br>Score: 16,985<br>Comments: 243<br>URL: https://v.redd.it/0xkupmb2cx6c1\"],[\"Rank: 4<br>Title: Gluing themselves to table is is so brave, wow.<br>Platform: Reddit<br>Time Posted: 2023-12-17 13:00:31<br>Subreddit: facepalm<br>Score: 18,430<br>Comments: 6,032<br>URL: https://i.redd.it/iw7i7zzt5x6c1.jpeg\"],[\"Rank: 6<br>Title: If you only watch ONE video today, watch student Zander Moricz BRILLIANTLY call out the anti-LGBTQ hypocrisy of Moms for Liberty threesome member Bridget Ziegler. \\ud83d\\udea8This is incredible.<br>Platform: Reddit<br>Time Posted: 2023-12-18 10:42:11<br>Subreddit: MadeMeSmile<br>Score: 36,143<br>Comments: 1,035<br>URL: https://v.redd.it/totk4yr3m37c1\"],[\"Rank: 6<br>Title: Jyoti Amge , she is the world's shortest women , with a height 62.8 cm, she is 30 years old <br>Platform: Reddit<br>Time Posted: 2023-12-19 18:27:22<br>Subreddit: Damnthatsinteresting<br>Score: 32,721<br>Comments: 1,287<br>URL: https://v.redd.it/k53yfk212d7c1\"],[\"Rank: 5<br>Title: Lavish lunches<br>Platform: Reddit<br>Time Posted: 2023-12-21 03:00:17<br>Subreddit: Funnymemes<br>Score: 35,647<br>Comments: 1,636<br>URL: https://i.redd.it/9hx63sggqm7c1.jpeg\"],[\"Rank: 8<br>Title: Making traditional Mahjong tiles<br>Platform: Reddit<br>Time Posted: 2023-12-18 02:39:39<br>Subreddit: toptalent<br>Score: 17,410<br>Comments: 616<br>URL: https://v.redd.it/cplb1uw0817c1\"],[\"Rank: 1<br>Title: Me irl<br>Platform: Reddit<br>Time Posted: 2023-12-18 15:32:35<br>Subreddit: me_irl<br>Score: 74,813<br>Comments: 438<br>URL: https://i.redd.it/xh73na8x157c1.png\"],[\"Rank: 4<br>Title: Megathread: Colorado Supreme Court Rules Trump is Ineligible to Appear on Ballot Due to 14th Amendment; Appeal Likely to Reach US Supreme Court<br>Platform: Reddit<br>Time Posted: 2023-12-19 15:35:26<br>Subreddit: politics<br>Score: 42,051<br>Comments: 17,748<br>URL: https://www.reddit.com/r/politics/comments/18mfyba/megathread_colorado_supreme_court_rules_trump_is/\"],[\"Rank: 10<br>Title: Meirl<br>Platform: Reddit<br>Time Posted: 2023-12-19 14:57:53<br>Subreddit: meirl<br>Score: 31,393<br>Comments: 195<br>URL: https://i.redd.it/l4jg2gvn0c7c1.jpeg\"],[\"Rank: 6<br>Title: My dad (middle) and his friends 1977<br>Platform: Reddit<br>Time Posted: 2023-12-17 17:54:00<br>Subreddit: OldSchoolCool<br>Score: 17,185<br>Comments: 2,941<br>URL: https://i.redd.it/ex2nt8f9my6c1.jpeg\"],[\"Rank: 3<br>Title: My dad has a handicap placard and walks with a limp post hip surgery<br>Platform: Reddit<br>Time Posted: 2023-12-18 10:33:58<br>Subreddit: mildlyinfuriating<br>Score: 45,761<br>Comments: 2,773<br>URL: https://i.redd.it/iddvzyxnk37c1.jpeg\"],[\"Rank: 6<br>Title: Not sad for long<br>Platform: Reddit<br>Time Posted: 2023-12-20 13:20:05<br>Subreddit: Unexpected<br>Score: 33,746<br>Comments: 526<br>URL: https://v.redd.it/fazt5wozni7c1\"],[\"Rank: 5<br>Title: One number away for winning $10,000,000<br>Platform: Reddit<br>Time Posted: 2023-12-19 23:09:42<br>Subreddit: mildlyinfuriating<br>Score: 35,721<br>Comments: 785<br>URL: https://i.redd.it/eh7t26kege7c1.jpeg\"],[\"Rank: 8<br>Title: Our physics exams were accidentally thrown out<br>Platform: Reddit<br>Time Posted: 2023-12-18 18:35:49<br>Subreddit: mildlyinfuriating<br>Score: 33,850<br>Comments: 1,290<br>URL: https://i.redd.it/9a9dixtmy57c1.png\"],[\"Rank: 3<br>Title: Petah help!!!<br>Platform: Reddit<br>Time Posted: 2023-12-17 13:53:32<br>Subreddit: PeterExplainsTheJoke<br>Score: 18,678<br>Comments: 432<br>URL: https://i.redd.it/ndodje78fx6c1.jpeg\"],[\"Rank: 8<br>Title: Popular YouTuber and fallout/elder scrolls fan \\u201cMitten Squad\\u201d has passed away at 27<br>Platform: Reddit<br>Time Posted: 2023-12-19 15:09:06<br>Subreddit: gaming<br>Score: 31,931<br>Comments: 1,249<br>URL: https://i.redd.it/hyev23xn2c7c1.jpeg\"],[\"Rank: 4<br>Title: TIL in 1943, a US bomber over Germany was hit by explosive ordnance directly in the fuel tanks 11 times, but  exploded. After the shells were cut open, all were found to have no explosives in them, and one contained a note in Czech saying \\\"This is all we can do for you now\\\".<br>Platform: Reddit<br>Time Posted: 2023-12-18 14:23:11<br>Subreddit: todayilearned<br>Score: 44,351<br>Comments: 1,300<br>URL: https://www.outono.net/elentir/2023/03/03/the-anonymous-czech-prisoner-who-saved-an-american-b-17-bomber-in-world-war-ii/\"],[\"Rank: 10<br>Title: TIL that the Milky Way Galaxy is being pulled toward a mysterious area in space called \\\"The Great Attractor\\\" at about 6000km/s. Whatever it is, we can't see it from Earth because it's obscured the hub of our galaxy.<br>Platform: Reddit<br>Time Posted: 2023-12-17 20:59:54<br>Subreddit: todayilearned<br>Score: 16,802<br>Comments: 1,094<br>URL: https://www.wikipedia.org/wiki/Great_Attractor\"],[\"Rank: 4<br>Title: Thanks Obama!<br>Platform: Reddit<br>Time Posted: 2023-12-20 10:26:38<br>Subreddit: WhitePeopleTwitter<br>Score: 37,499<br>Comments: 943<br>URL: https://i.redd.it/64clolj6th7c1.png\"],[\"Rank: 7<br>Title: That's just his brother from another mother!<br>Platform: Reddit<br>Time Posted: 2023-12-18 14:24:26<br>Subreddit: wholesomememes<br>Score: 33,619<br>Comments: 441<br>URL: https://i.redd.it/11shbd4sp47c1.jpeg\"],[\"Rank: 9<br>Title: There goes his \\u20ac300,- airbag for cyclists<br>Platform: Reddit<br>Time Posted: 2023-12-18 09:46:21<br>Subreddit: Wellthatsucks<br>Score: 33,155<br>Comments: 1,205<br>URL: https://v.redd.it/7hiqry06c37c1\"],[\"Rank: 9<br>Title: There\\u2019s gonna be a bad rant in 3..2\\u2026..<br>Platform: Reddit<br>Time Posted: 2023-12-19 15:21:01<br>Subreddit: WhitePeopleTwitter<br>Score: 30,977<br>Comments: 1,401<br>URL: https://i.redd.it/r9w57cgs4c7c1.jpeg\"],[\"Rank: 7<br>Title: This guy already won the positivity belt<br>Platform: Reddit<br>Time Posted: 2023-12-20 23:04:10<br>Subreddit: MadeMeSmile<br>Score: 33,496<br>Comments: 500<br>URL: https://v.redd.it/689tirfmjl7c1\"],[\"Rank: 1<br>Title: Winchester 1887 12 gauge flip cock.<br>Platform: Reddit<br>Time Posted: 2023-12-19 11:18:37<br>Subreddit: Damnthatsinteresting<br>Score: 57,700<br>Comments: 2,311<br>URL: https://v.redd.it/gur4cmdjxa7c1\"],[\"Rank: 2<br>Title: You must live with your choices<br>Platform: Reddit<br>Time Posted: 2023-12-17 16:13:07<br>Subreddit: funny<br>Score: 18,645<br>Comments: 851<br>URL: https://v.redd.it/a9zxxee04y6c1\"],[\"Rank: 2<br>Title: andrewphysictwitch \\u2764\\ufe0f<br>Platform: Reddit<br>Time Posted: 2023-12-18 14:53:35<br>Subreddit: MadeMeSmile<br>Score: 54,218<br>Comments: 412<br>URL: https://v.redd.it/av0mre2zu47c1\"],[\"Rank: 2<br>Title: me irl<br>Platform: Reddit<br>Time Posted: 2023-12-20 16:41:56<br>Subreddit: me_irl<br>Score: 53,214<br>Comments: 1,088<br>URL: https://i.redd.it/rcm3x4o3oj7c1.jpeg\"],[\"Rank: 1<br>Title: meirl<br>Platform: Reddit<br>Time Posted: 2023-12-17 17:36:42<br>Subreddit: meirl<br>Score: 40,224<br>Comments: 360<br>URL: https://i.redd.it/fy0ebq86jy6c1.jpeg\"],[\"Rank: 9<br>Title: the way they finish the race with the same exact time<br>Platform: Reddit<br>Time Posted: 2023-12-20 11:14:17<br>Subreddit: nextfuckinglevel<br>Score: 31,245<br>Comments: 573<br>URL: https://v.redd.it/kozqfqho1i7c1\"],[\"Rank: 5<br>Title: \\u201cSold his soul to Wokeness\\u201d yeah NO<br>Platform: Reddit<br>Time Posted: 2023-12-18 13:51:30<br>Subreddit: facepalm<br>Score: 38,872<br>Comments: 3,715<br>URL: https://i.redd.it/e77kwkmwj47c1.jpeg\"],[\"Rank: 10<br>Title: \\ud83e\\udd26\\ud83c\\udffd\\u200d\\u2642\\ufe0f<br>Platform: Reddit<br>Time Posted: 2023-12-19 01:20:20<br>Subreddit: facepalm<br>Score: 30,336<br>Comments: 921<br>URL: https://i.redd.it/23d2cllsy77c1.png\"]],\"hovertemplate\":\"%{customdata[0]}<extra></extra>\",\"hovertext\":[\"\\\"Betas who like to think they are Alpha males\\\"\",\"A wholesome ending\",\"AITA for telling my husband \\\" I told you so\\\" and laughing at me when we got the paternity test results?\",\"An unexpected duet in the lunch hall \",\"Colorado Supreme Court kicks Trump off the state's 2024 ballot for violating the U.S. Constitution\",\"Dad's note to gay son that hasnt came out yet.\",\"Expect some terrible horror movie announcements in 2 weeks\",\"First Image from \\u2018COYOTE VS ACME\\u2019\",\"First hike with the kiddo\",\"Gluing themselves to table is is so brave, wow.\",\"If you only watch ONE video today, watch student Zander Moricz BRILLIANTLY call out the anti-LGBTQ hypocrisy of Moms for Liberty threesome member Bridget Ziegler. \\ud83d\\udea8This is incredible.\",\"Jyoti Amge , she is the world's shortest women , with a height 62.8 cm, she is 30 years old \",\"Lavish lunches\",\"Making traditional Mahjong tiles\",\"Me irl\",\"Megathread: Colorado Supreme Court Rules Trump is Ineligible to Appear on Ballot Due to 14th Amendment; Appeal Likely to Reach US Supreme Court\",\"Meirl\",\"My dad (middle) and his friends 1977\",\"My dad has a handicap placard and walks with a limp post hip surgery\",\"Not sad for long\",\"One number away for winning $10,000,000\",\"Our physics exams were accidentally thrown out\",\"Petah help!!!\",\"Popular YouTuber and fallout/elder scrolls fan \\u201cMitten Squad\\u201d has passed away at 27\",\"TIL in 1943, a US bomber over Germany was hit by explosive ordnance directly in the fuel tanks 11 times, but  exploded. After the shells were cut open, all were found to have no explosives in them, and one contained a note in Czech saying \\\"This is all we can do for you now\\\".\",\"TIL that the Milky Way Galaxy is being pulled toward a mysterious area in space called \\\"The Great Attractor\\\" at about 6000km/s. Whatever it is, we can't see it from Earth because it's obscured the hub of our galaxy.\",\"Thanks Obama!\",\"That's just his brother from another mother!\",\"There goes his \\u20ac300,- airbag for cyclists\",\"There\\u2019s gonna be a bad rant in 3..2\\u2026..\",\"This guy already won the positivity belt\",\"Winchester 1887 12 gauge flip cock.\",\"You must live with your choices\",\"andrewphysictwitch \\u2764\\ufe0f\",\"me irl\",\"meirl\",\"the way they finish the race with the same exact time\",\"\\u201cSold his soul to Wokeness\\u201d yeah NO\",\"\\ud83e\\udd26\\ud83c\\udffd\\u200d\\u2642\\ufe0f\"],\"legendgroup\":\"Reddit\",\"marker\":{\"color\":\"#EF553B\",\"size\":[16.798434779610766,33.577114685145915,19.041423178362724,18.452879626277777,33.271724328144664,38.789505438623706,8.228232576580304,23.47106583234214,7.135646687697161,8.206736653393321,21.336298288255676,18.799779352191827,20.968643877885228,7.4506731481960315,50.0,25.715536708555273,17.815414317974174,7.283894433814277,28.46553239902777,19.559549051042044,21.023495543948563,19.636637879022945,8.390563858578545,18.214200755029218,27.420385788902106,7.0,22.34141800692972,19.465411732257675,19.12147696126597,17.507059006050575,19.37423936839565,37.315181603488995,8.366102980469222,34.734188343590006,33.989984658082086,24.36129354777542,17.70571098584751,23.35913878402372,17.03192497974522],\"sizemode\":\"area\",\"sizeref\":0.125,\"symbol\":\"circle\"},\"mode\":\"markers\",\"name\":\"Reddit\",\"orientation\":\"v\",\"showlegend\":true,\"x\":[\"2023-12-21\",\"2023-12-20\",\"2023-12-21\",\"2023-12-20\",\"2023-12-20\",\"2023-12-21\",\"2023-12-18\",\"2023-12-21\",\"2023-12-18\",\"2023-12-18\",\"2023-12-19\",\"2023-12-20\",\"2023-12-21\",\"2023-12-18\",\"2023-12-19\",\"2023-12-20\",\"2023-12-20\",\"2023-12-18\",\"2023-12-19\",\"2023-12-21\",\"2023-12-20\",\"2023-12-19\",\"2023-12-18\",\"2023-12-20\",\"2023-12-19\",\"2023-12-18\",\"2023-12-21\",\"2023-12-19\",\"2023-12-19\",\"2023-12-20\",\"2023-12-21\",\"2023-12-20\",\"2023-12-18\",\"2023-12-19\",\"2023-12-21\",\"2023-12-18\",\"2023-12-21\",\"2023-12-19\",\"2023-12-19\"],\"xaxis\":\"x\",\"y\":[10.0,3.0,8.0,7.0,2.0,1.0,5.0,3.0,9.0,4.0,6.0,6.0,5.0,8.0,1.0,4.0,10.0,6.0,3.0,6.0,5.0,8.0,3.0,8.0,4.0,10.0,4.0,7.0,9.0,9.0,7.0,1.0,2.0,2.0,2.0,1.0,9.0,5.0,10.0],\"yaxis\":\"y\",\"type\":\"scatter\"},{\"customdata\":[[\"Rank: 2<br>Title: 2 Cars In Garage Enough: Why Sal Khan Quit Plush Job To Open Khan Academy - NDTV<br>Platform: Global Business News<br>Time Posted: 2023-12-20 16:02:00+00:00<br>URL: https://www.ndtv.com/world-news/2-cars-in-garage-enough-why-sal-khan-quit-plush-job-to-open-khan-academy-4709737\"],[\"Rank: 5<br>Title: 2 Tata cars get 5 stars as Bharat-NCAP awards first-ever ratings; Gadkari lauds - Hindustan Times<br>Platform: Global Business News<br>Time Posted: 2023-12-20 15:31:25+00:00<br>URL: https://www.hindustantimes.com/business/2-tata-cars-get-5-stars-as-bharat-ncap-awards-first-ever-ratings-gadkari-lauds-101703086025505.html\"],[\"Rank: 9<br>Title: Adobe explains why it abandoned the Figma deal - The Verge<br>Platform: Global Business News<br>Time Posted: 2023-12-20 14:00:00+00:00<br>URL: https://www.theverge.com/2023/12/20/24008189/adobe-figma-deal-eu-explained-decoder\"],[\"Rank: 1<br>Title: Apple will be halting sales of its Series 9 smartwatch, TechCrunch has confirmed. The news, shared by 9to5Mac, follows an October ruling by the<br>Platform: Global Business News<br>Time Posted: 2023-12-18 16:16:33+00:00<br>URL: https://techcrunch.com/2023/12/18/apple-watch-series-9-sales-to-be-halted-over-patent-dispute/\"],[\"Rank: 1<br>Title: Bayer Monsanto: PCB maker ordered to pay $857m for toxic leaks - BBC.com<br>Platform: Global Business News<br>Time Posted: 2023-12-19 16:31:54+00:00<br>URL: https://www.bbc.com/news/business-67757332\"],[\"Rank: 8<br>Title: Comcast Says Hackers May Have Accessed Data on Millions of Xfinity Customers - Hollywood Reporter<br>Platform: Global Business News<br>Time Posted: 2023-12-19 14:30:03+00:00<br>URL: https://www.hollywoodreporter.com/business/business-news/xfinity-hack-data-breach-customer-information-1235765798/\"],[\"Rank: 9<br>Title: DOMS Share Price Listing Prediction, DOMS Share Listing Date: DOMS IPO will list on NSE and BSE. DOMS shares are commanding a solid grey market premium or GMP in unlisted market. DOMS Share Listing Date, DOMS IPO Listing Date - check here<br>Platform: Global Business News<br>Time Posted: 2023-12-18 13:38:46+00:00<br>URL: https://www.etnownews.com/markets/doms-share-price-listing-prediction-on-nse-bse-check-listing-date-and-latest-gmp-of-ipo-article-106098684\"],[\"Rank: 10<br>Title: Elon Musk\\u2019s Big Lie About Tesla Is Finally Exposed - Rolling Stone<br>Platform: Global Business News<br>Time Posted: 2023-12-17 14:00:00+00:00<br>URL: https://www.rollingstone.com/culture/culture-commentary/elon-musk-tesla-crash-1234930544/\"],[\"Rank: 2<br>Title: Fed officials are pushing back against the expectations for interest rate cuts that have lifted stocks.<br>Platform: Global Business News<br>Time Posted: 2023-12-18 16:12:17+00:00<br>URL: https://finance.yahoo.com/news/stock-market-news-today-us-stocks-keep-grip-on-highs-looking-to-build-on-7-week-rally-143140287.html\"],[\"Rank: 6<br>Title: Fed officials question stock market surge after rate cut projections - The Hill<br>Platform: Global Business News<br>Time Posted: 2023-12-20 14:29:00+00:00<br>URL: https://thehill.com/business/4368720-fed-officials-question-stock-market-surge-after-rate-cut-projections/\"],[\"Rank: 9<br>Title: Federal prosecutors are investigating allegation that Jimmy Haslam attempted to bribe Pilot executives - NBC Sports<br>Platform: Global Business News<br>Time Posted: 2023-12-17 14:20:42+00:00<br>URL: https://www.nbcsports.com/nfl/profootballtalk/rumor-mill/news/federal-prosecutors-are-investigating-allegation-that-jimmy-haslam-attempted-to-bribe-pilot-executives\"],[\"Rank: 10<br>Title: GM: Half of Buick dealers took buyouts in 2023 - Detroit Free Press<br>Platform: Global Business News<br>Time Posted: 2023-12-20 13:38:48+00:00<br>URL: https://www.freep.com/story/money/cars/general-motors/2023/12/20/gm-buick-dealerships-buyouts/71978066007/\"],[\"Rank: 6<br>Title: Gold Price Forecast: No reason for any significant downward correction of XAU/USD \\u2013 Commerzbank - FXStreet<br>Platform: Global Business News<br>Time Posted: 2023-12-19 14:56:00+00:00<br>URL: https://www.fxstreet.com/news/gold-price-forecast-no-reason-for-any-significant-downward-correction-of-xau-usd-commerzbank-202312191456\"],[\"Rank: 8<br>Title: Here's How Much the 2024 Subaru WRX TR Costs - Road & Track<br>Platform: Global Business News<br>Time Posted: 2023-12-20 14:03:10+00:00<br>URL: https://www.roadandtrack.com/news/a46180028/2024-subaru-wrx-tr-pricing/\"],[\"Rank: 7<br>Title: In the past half-year, IndiGo has expanded its global presence by incorporating over 20 additional international routes into its network.<br>Platform: Global Business News<br>Time Posted: 2023-12-18 14:06:56+00:00<br>URL: https://www.hindustantimes.com/business/indigo-becomes-first-indian-airline-to-carry-100-million-passengers-in-a-year-101702905187555.html\"],[\"Rank: 10<br>Title: John Oliver devoted an entire 'Last Week Tonight' segment to rehashing the past 12 months in the life of billionaire and tech mogul Elon Musk.<br>Platform: Global Business News<br>Time Posted: 2023-12-18 13:35:00+00:00<br>URL: https://variety.com/2023/tv/news/john-oliver-elon-musk-less-f-able-titanic-villain-billy-zane-1235843628/\"],[\"Rank: 6<br>Title: Liz Weston: Confusion about retirement fund minimum distributions can cause expensive mistakes - OregonLive<br>Platform: Global Business News<br>Time Posted: 2023-12-17 15:13:00+00:00<br>URL: https://www.oregonlive.com/business/2023/12/liz-weston-confusion-about-retirement-fund-minimum-distributions-can-cause-expensive-mistakes.html\"],[\"Rank: 2<br>Title: Market Week Ahead: Gold Regains $2k, GBP/USD, EUR/USD Rally as USD Slides - DailyFX<br>Platform: Global Business News<br>Time Posted: 2023-12-17 17:00:04+00:00<br>URL: https://www.dailyfx.com/news/market-week-ahead-gold-regains-2k-gbp-usd-eur-usd-rally-as-usd-slides-20231217.html\"],[\"Rank: 8<br>Title: Mcap Of 9 Most Valued Firms Jumps Rs 2.26 Lakh Cr; TCS, Infosys Biggest Gainers - News18<br>Platform: Global Business News<br>Time Posted: 2023-12-17 14:25:02+00:00<br>URL: https://www.news18.com/business/mcap-of-9-most-valued-firms-jumps-rs-2-26-lakh-cr-tcs-infosys-biggest-gainers-8707135.html\"],[\"Rank: 8<br>Title: Mr. Cooper is sending notices of a data breach to customers who were impacted by a cyberattack the firm suffered in November 2023.<br>Platform: Global Business News<br>Time Posted: 2023-12-18 13:40:30+00:00<br>URL: https://www.bleepingcomputer.com/news/security/mortgage-giant-mr-cooper-data-breach-affects-147-million-people/\"],[\"Rank: 9<br>Title: Nikola Founder Trevor Milton Sentenced to Four Years for Fraud - Yahoo Finance<br>Platform: Global Business News<br>Time Posted: 2023-12-19 14:23:10+00:00<br>URL: https://finance.yahoo.com/news/nikola-founder-trevor-milton-sentenced-184659163.html\"],[\"Rank: 4<br>Title: One grounded airline plans to fly again, in January with Ayodhya flights - IndiaTimes<br>Platform: Global Business News<br>Time Posted: 2023-12-17 16:48:40+00:00<br>URL: https://timesofindia.indiatimes.com/business/india-business/one-grounded-airline-plans-to-fly-again-in-january-with-ayodhya-flights/articleshow/106068086.cms\"],[\"Rank: 1<br>Title: Panasonic says Oklahoma no longer candidate for new battery plant - Reuters<br>Platform: Global Business News<br>Time Posted: 2023-12-20 16:17:00+00:00<br>URL: https://www.reuters.com/business/autos-transportation/panasonic-takes-oklahoma-out-candidate-list-new-battery-plant-nikkei-2023-12-20/\"],[\"Rank: 3<br>Title: Recession fears hit IT sector, Infosys, major players announce drastic cuts in pay hikes, promotions - Daijiworld.com<br>Platform: Global Business News<br>Time Posted: 2023-12-17 16:49:05+00:00<br>URL: https://www.daijiworld.com/news/newsDisplay?newsID=1150233\"],[\"Rank: 4<br>Title: ShareChat lays off 200 employees, valuation halved in last one year - Mint<br>Platform: Global Business News<br>Time Posted: 2023-12-20 15:33:13+00:00<br>URL: https://www.livemint.com/companies/news/sharechat-lays-off-200-employees-valuation-halved-in-last-one-year-11703086098121.html\"],[\"Rank: 3<br>Title: SiriusXM sued for allegedly trapping customers in unwanted subscriptions - CNN<br>Platform: Global Business News<br>Time Posted: 2023-12-20 15:38:00+00:00<br>URL: https://www.cnn.com/2023/12/20/media/siriusxm-cancellation-lawsuit/index.html\"],[\"Rank: 2<br>Title: Stock market news today: US stocks hold onto gains as rate-cut hopes persist - Yahoo Finance<br>Platform: Global Business News<br>Time Posted: 2023-12-19 16:15:48+00:00<br>URL: https://finance.yahoo.com/news/stock-market-news-today-us-stocks-hold-onto-gains-as-rate-cut-hopes-persist-143200600.html\"],[\"Rank: 5<br>Title: Tesla Stock At Early Buy Point On Strong China Registrations - Investor's Business Daily<br>Platform: Global Business News<br>Time Posted: 2023-12-19 15:02:00+00:00<br>URL: https://www.investors.com/news/tesla-stock-early-buy-point-on-strong-china-registrations/\"],[\"Rank: 4<br>Title: The Department of Transportation is hitting Southwest Airlines with a $140 million fine over last year\\u2019s holiday meltdown that left millions of passengers stranded.<br>Platform: Global Business News<br>Time Posted: 2023-12-18 15:06:34+00:00<br>URL: https://www.theverge.com/2023/12/18/24006045/southwest-fined-dot-holiday-delays-fund\"],[\"Rank: 3<br>Title: The Fed may have done the impossible: Avoid a recession \\u2014 for now - CNN<br>Platform: Global Business News<br>Time Posted: 2023-12-19 15:06:00+00:00<br>URL: https://www.cnn.com/2023/12/19/economy/economy-fed-recession/index.html\"],[\"Rank: 6<br>Title: The President of the Federal Reserve Bank of Chicago said the market may have read too much into last week's central bank update.<br>Platform: Global Business News<br>Time Posted: 2023-12-18 14:23:45+00:00<br>URL: https://www.cnbc.com/2023/12/18/feds-goolsbee-says-he-was-confused-by-last-weeks-market-reaction-.html\"],[\"Rank: 3<br>Title: The formal inquiry is the first against a large social media platform under the Digital Services Act.<br>Platform: Global Business News<br>Time Posted: 2023-12-18 15:56:35+00:00<br>URL: https://www.washingtonpost.com/technology/2023/12/18/european-union-x-probe-elon-musk/\"],[\"Rank: 5<br>Title: The situation in the Red Sea appears to be growing untenable for global shipping companies. That may result in the US military intervening to keep the critical shipping rout open.<br>Platform: Global Business News<br>Time Posted: 2023-12-18 14:45:00+00:00<br>URL: https://www.forexlive.com/news/oil-climbs-2-with-eyes-on-the-red-sea-20231218/\"],[\"Rank: 4<br>Title: This is a good time to invest in bonds \\u2014 here is a fund with special advantages - MarketWatch<br>Platform: Global Business News<br>Time Posted: 2023-12-19 15:02:00+00:00<br>URL: https://www.marketwatch.com/story/this-is-a-good-time-to-invest-in-a-bond-fund-and-this-manager-has-an-advantage-over-his-largest-competitors-76a9f9ec\"],[\"Rank: 5<br>Title: This is how to protect your credit and bank cards from getting hacked - Fox News<br>Platform: Global Business News<br>Time Posted: 2023-12-17 16:00:00+00:00<br>URL: https://www.foxnews.com/tech/how-to-protect-your-credit-bank-cards-from-getting-hacked\"],[\"Rank: 7<br>Title: Understaffed and neglected: How real estate investors reshaped assisted living facilities - The Washington Post<br>Platform: Global Business News<br>Time Posted: 2023-12-17 14:30:00+00:00<br>URL: https://www.washingtonpost.com/business/2023/12/17/assisted-living-industry-real-estate/\"],[\"Rank: 7<br>Title: Vikram Solar, DFC sign retainer letter for $200 mn funding | Mint - Mint<br>Platform: Global Business News<br>Time Posted: 2023-12-19 14:44:56+00:00<br>URL: https://www.livemint.com/companies/vikram-solar-dfc-sign-retainer-letter-for-200-mn-funding-11702996772469.html\"],[\"Rank: 10<br>Title: White House backs industry effort to standardize Tesla's EV charging plugs - Yahoo Finance<br>Platform: Global Business News<br>Time Posted: 2023-12-19 14:01:02+00:00<br>URL: https://finance.yahoo.com/news/white-house-backs-industry-effort-140102446.html\"],[\"Rank: 1<br>Title: Zee seeks time on Sony deal as two directors voted out - Mint<br>Platform: Global Business News<br>Time Posted: 2023-12-17 18:22:20+00:00<br>URL: https://www.livemint.com/companies/news/zee-entertainment-requests-sony-india-to-extend-the-deadline-for-merger-11702821279407.html\"],[\"Rank: 7<br>Title: Zee, Sony enter into discussion to extend merger deadline - Moneycontrol<br>Platform: Global Business News<br>Time Posted: 2023-12-20 14:26:01+00:00<br>URL: https://www.moneycontrol.com/news/business/sony-agrees-to-discuss-extension-of-merger-deadline-says-zee-entertainment-11934701.html\"]],\"hovertemplate\":\"%{customdata[0]}<extra></extra>\",\"hovertext\":[\"2 Cars In Garage Enough: Why Sal Khan Quit Plush Job To Open Khan Academy - NDTV\",\"2 Tata cars get 5 stars as Bharat-NCAP awards first-ever ratings; Gadkari lauds - Hindustan Times\",\"Adobe explains why it abandoned the Figma deal - The Verge\",\"Apple will be halting sales of its Series 9 smartwatch, TechCrunch has confirmed. The news, shared by 9to5Mac, follows an October ruling by the\",\"Bayer Monsanto: PCB maker ordered to pay $857m for toxic leaks - BBC.com\",\"Comcast Says Hackers May Have Accessed Data on Millions of Xfinity Customers - Hollywood Reporter\",\"DOMS Share Price Listing Prediction, DOMS Share Listing Date: DOMS IPO will list on NSE and BSE. DOMS shares are commanding a solid grey market premium or GMP in unlisted market. DOMS Share Listing Date, DOMS IPO Listing Date - check here\",\"Elon Musk\\u2019s Big Lie About Tesla Is Finally Exposed - Rolling Stone\",\"Fed officials are pushing back against the expectations for interest rate cuts that have lifted stocks.\",\"Fed officials question stock market surge after rate cut projections - The Hill\",\"Federal prosecutors are investigating allegation that Jimmy Haslam attempted to bribe Pilot executives - NBC Sports\",\"GM: Half of Buick dealers took buyouts in 2023 - Detroit Free Press\",\"Gold Price Forecast: No reason for any significant downward correction of XAU/USD \\u2013 Commerzbank - FXStreet\",\"Here's How Much the 2024 Subaru WRX TR Costs - Road & Track\",\"In the past half-year, IndiGo has expanded its global presence by incorporating over 20 additional international routes into its network.\",\"John Oliver devoted an entire 'Last Week Tonight' segment to rehashing the past 12 months in the life of billionaire and tech mogul Elon Musk.\",\"Liz Weston: Confusion about retirement fund minimum distributions can cause expensive mistakes - OregonLive\",\"Market Week Ahead: Gold Regains $2k, GBP/USD, EUR/USD Rally as USD Slides - DailyFX\",\"Mcap Of 9 Most Valued Firms Jumps Rs 2.26 Lakh Cr; TCS, Infosys Biggest Gainers - News18\",\"Mr. Cooper is sending notices of a data breach to customers who were impacted by a cyberattack the firm suffered in November 2023.\",\"Nikola Founder Trevor Milton Sentenced to Four Years for Fraud - Yahoo Finance\",\"One grounded airline plans to fly again, in January with Ayodhya flights - IndiaTimes\",\"Panasonic says Oklahoma no longer candidate for new battery plant - Reuters\",\"Recession fears hit IT sector, Infosys, major players announce drastic cuts in pay hikes, promotions - Daijiworld.com\",\"ShareChat lays off 200 employees, valuation halved in last one year - Mint\",\"SiriusXM sued for allegedly trapping customers in unwanted subscriptions - CNN\",\"Stock market news today: US stocks hold onto gains as rate-cut hopes persist - Yahoo Finance\",\"Tesla Stock At Early Buy Point On Strong China Registrations - Investor's Business Daily\",\"The Department of Transportation is hitting Southwest Airlines with a $140 million fine over last year\\u2019s holiday meltdown that left millions of passengers stranded.\",\"The Fed may have done the impossible: Avoid a recession \\u2014 for now - CNN\",\"The President of the Federal Reserve Bank of Chicago said the market may have read too much into last week's central bank update.\",\"The formal inquiry is the first against a large social media platform under the Digital Services Act.\",\"The situation in the Red Sea appears to be growing untenable for global shipping companies. That may result in the US military intervening to keep the critical shipping rout open.\",\"This is a good time to invest in bonds \\u2014 here is a fund with special advantages - MarketWatch\",\"This is how to protect your credit and bank cards from getting hacked - Fox News\",\"Understaffed and neglected: How real estate investors reshaped assisted living facilities - The Washington Post\",\"Vikram Solar, DFC sign retainer letter for $200 mn funding | Mint - Mint\",\"White House backs industry effort to standardize Tesla's EV charging plugs - Yahoo Finance\",\"Zee seeks time on Sony deal as two directors voted out - Mint\",\"Zee, Sony enter into discussion to extend merger deadline - Moneycontrol\"],\"legendgroup\":\"Global Business News\",\"marker\":{\"color\":\"#00cc96\",\"size\":[45.7,32.8,15.600000000000001,50.0,50.0,19.900000000000002,15.600000000000001,11.299999999999997,45.7,28.5,15.600000000000001,11.299999999999997,28.5,19.900000000000002,24.2,11.299999999999997,28.5,45.7,19.900000000000002,19.900000000000002,15.600000000000001,37.1,50.0,41.4,37.1,41.4,45.7,32.8,37.1,41.4,28.5,41.4,32.8,37.1,32.8,24.2,24.2,11.299999999999997,50.0,24.2],\"sizemode\":\"area\",\"sizeref\":0.125,\"symbol\":\"circle\"},\"mode\":\"markers\",\"name\":\"Global Business News\",\"orientation\":\"v\",\"showlegend\":true,\"x\":[\"2023-12-21\",\"2023-12-21\",\"2023-12-21\",\"2023-12-19\",\"2023-12-20\",\"2023-12-20\",\"2023-12-19\",\"2023-12-18\",\"2023-12-19\",\"2023-12-21\",\"2023-12-18\",\"2023-12-21\",\"2023-12-20\",\"2023-12-21\",\"2023-12-19\",\"2023-12-19\",\"2023-12-18\",\"2023-12-18\",\"2023-12-18\",\"2023-12-19\",\"2023-12-20\",\"2023-12-18\",\"2023-12-21\",\"2023-12-18\",\"2023-12-21\",\"2023-12-21\",\"2023-12-20\",\"2023-12-20\",\"2023-12-19\",\"2023-12-20\",\"2023-12-19\",\"2023-12-19\",\"2023-12-19\",\"2023-12-20\",\"2023-12-18\",\"2023-12-18\",\"2023-12-20\",\"2023-12-20\",\"2023-12-18\",\"2023-12-21\"],\"xaxis\":\"x\",\"y\":[2.0,5.0,9.0,1.0,1.0,8.0,9.0,10.0,2.0,6.0,9.0,10.0,6.0,8.0,7.0,10.0,6.0,2.0,8.0,8.0,9.0,4.0,1.0,3.0,4.0,3.0,2.0,5.0,4.0,3.0,6.0,3.0,5.0,4.0,5.0,7.0,7.0,10.0,1.0,7.0],\"yaxis\":\"y\",\"type\":\"scatter\"},{\"customdata\":[[\"Rank: 8<br>Title: 24-hour flash sale at Best Buy \\u2014 Macs from $749, Switch games from $14 - Tom's Guide<br>Platform: US Headlines<br>Time Posted: 2023-12-20 14:23:26+00:00<br>URL: https://www.tomsguide.com/deals/24-hour-flash-sale-at-best-buy-macs-from-dollar749-switch-games-from-dollar14\"],[\"Rank: 1<br>Title: A man accused of rape vanished. Then, a lake yielded a grim discovery. 25 years later, a fresh mystery is revealed - CNN<br>Platform: US Headlines<br>Time Posted: 2023-12-19 16:22:00+00:00<br>URL: https://www.cnn.com/2023/12/19/us/fugitive-lake-discovery-dna-homicide/index.html\"],[\"Rank: 2<br>Title: Aaron Rodgers\\u2019 season is (officially) over, so Jets must turn the page to 2024 - The Athletic<br>Platform: US Headlines<br>Time Posted: 2023-12-20 15:48:17+00:00<br>URL: https://theathletic.com/5150462/2023/12/20/aaron-rodgers-jets-2024-roster/\"],[\"Rank: 7<br>Title: Adorable Cat Video Reaches Earth After 19-Million-Mile Journey from Deep Space - Gizmodo<br>Platform: US Headlines<br>Time Posted: 2023-12-20 14:35:00+00:00<br>URL: https://gizmodo.com/nasa-psyche-deep-space-laser-communications-cat-video-1851114080\"],[\"Rank: 2<br>Title: Alex Batty: British teen found in France returns to UK - BBC.com<br>Platform: US Headlines<br>Time Posted: 2023-12-17 18:06:09+00:00<br>URL: https://www.bbc.com/news/uk-67724917\"],[\"Rank: 1<br>Title: Apple Watch Series 9 sales to be halted over patent dispute - TechCrunch<br>Platform: US Headlines<br>Time Posted: 2023-12-18 16:16:33+00:00<br>URL: https://techcrunch.com/2023/12/18/apple-watch-series-9-sales-to-be-halted-over-patent-dispute/\"],[\"Rank: 9<br>Title: Colorado Supreme Court rules Trump is disqualified from presidency for Jan. 6 riot - CBS News<br>Platform: US Headlines<br>Time Posted: 2023-12-20 14:20:00+00:00<br>URL: https://www.cbsnews.com/news/trump-colorado-supreme-court/\"],[\"Rank: 6<br>Title: Eagles' Jalen Hurts downgraded after illness worsens - ESPN<br>Platform: US Headlines<br>Time Posted: 2023-12-17 16:26:00+00:00<br>URL: https://www.espn.com/nfl/story/_/id/39132903/source-eagles-jalen-hurts-downgraded-illness-worsens\"],[\"Rank: 9<br>Title: Fox News host Kilmeade defends Trump on \\u2018poisoning the blood of our country\\u2019 remarks - The Hill<br>Platform: US Headlines<br>Time Posted: 2023-12-18 14:40:00+00:00<br>URL: https://thehill.com/homenews/media/4365422-kilmeade-defends-trump-poison-remark/\"],[\"Rank: 8<br>Title: Glacial Pathfinders: Tracing North America's First Migrants via the Sea Ice Highway - SciTechDaily<br>Platform: US Headlines<br>Time Posted: 2023-12-17 16:24:06+00:00<br>URL: https://scitechdaily.com/glacial-pathfinders-tracing-north-americas-first-migrants-via-the-sea-ice-highway/\"],[\"Rank: 1<br>Title: How to watch today's Kansas City Chiefs vs. New England Patriots game on Fox - Yahoo Sports<br>Platform: US Headlines<br>Time Posted: 2023-12-17 18:31:26+00:00<br>URL: https://sports.yahoo.com/how-to-watch-today-kansas-city-chiefs-new-england-patriots-game-fox-130010183.html\"],[\"Rank: 5<br>Title: Humanitarian crisis in Gaza deepens as fighting rages | DW News - DW News<br>Platform: US Headlines<br>Time Posted: 2023-12-17 16:35:53+00:00<br>URL: https://www.youtube.com/watch?v=DW4lJxRxne4\"],[\"Rank: 7<br>Title: Inside the 'Gaza metro': Israel displays Hamas tunnel big enough for a car - Financial Times<br>Platform: US Headlines<br>Time Posted: 2023-12-17 16:25:12+00:00<br>URL: https://www.ft.com/content/97fcd9c1-0abe-4307-ab62-d9de149642f3\"],[\"Rank: 8<br>Title: Jennifer Love Hewitt on aging, claims she looks 'unrecognizable' - USA TODAY<br>Platform: US Headlines<br>Time Posted: 2023-12-19 14:49:12+00:00<br>URL: https://www.usatoday.com/story/entertainment/celebrities/2023/12/19/jennifer-love-hewitt-aging/71969674007/\"],[\"Rank: 4<br>Title: Jury finds Jonathan Majors guilty of assault and harassment of ex-girlfriend - NBC News<br>Platform: US Headlines<br>Time Posted: 2023-12-19 15:54:00+00:00<br>URL: https://www.nbcnews.com/news/us-news/jonathan-majors-jury-reaches-verdict-assault-trial-rcna129406\"],[\"Rank: 5<br>Title: NFL Power Rankings Week 16: Remember, no team pursued franchise-tagged Lamar Jackson - Yahoo Sports<br>Platform: US Headlines<br>Time Posted: 2023-12-19 15:50:02+00:00<br>URL: https://sports.yahoo.com/nfl-power-rankings-week-16-remember-no-team-pursued-franchise-tagged-lamar-jackson-120013309.html\"],[\"Rank: 4<br>Title: NFL Week 15 Saturday grades: Lions earn 'A+' for Broncos beatdown, Bengals 'B+' for overtime win vs. Vikings - CBS Sports<br>Platform: US Headlines<br>Time Posted: 2023-12-17 16:58:00+00:00<br>URL: https://www.cbssports.com/nfl/news/nfl-week-15-saturday-grades-lions-earn-a-for-broncos-beatdown-bengals-b-for-overtime-win-vs-vikings/\"],[\"Rank: 10<br>Title: Nikola Founder Trevor Milton Sentenced to Four Years for Fraud - Yahoo Finance<br>Platform: US Headlines<br>Time Posted: 2023-12-19 14:23:10+00:00<br>URL: https://finance.yahoo.com/news/nikola-founder-trevor-milton-sentenced-184659163.html\"],[\"Rank: 10<br>Title: North Carolina basketball star Eric Montross dies at age 52 - ESPN<br>Platform: US Headlines<br>Time Posted: 2023-12-18 14:30:00+00:00<br>URL: https://www.espn.com/mens-college-basketball/story/_/id/39139942/north-carolina-basketball-star-eric-montross-dies-age-52\"],[\"Rank: 10<br>Title: North Korea fires short-range missile, condemns U.S. for raising tensions - Reuters<br>Platform: US Headlines<br>Time Posted: 2023-12-17 15:56:00+00:00<br>URL: https://www.reuters.com/world/asia-pacific/north-korea-fires-suspected-ballistic-missile-south-korea-japan-say-2023-12-17/\"],[\"Rank: 5<br>Title: Polish state TV channel halts broadcasting in standoff with Tusk - Financial Times<br>Platform: US Headlines<br>Time Posted: 2023-12-20 14:58:32+00:00<br>URL: https://www.ft.com/content/4321e681-f81c-4111-b3b5-13260a6c2d33\"],[\"Rank: 2<br>Title: Pope Francis says priests can bless same-sex couples but marriage is between a man and a woman - CBS News<br>Platform: US Headlines<br>Time Posted: 2023-12-18 16:00:00+00:00<br>URL: https://www.cbsnews.com/news/pope-francis-same-sex-unions-priests-can-bless-marriage/\"],[\"Rank: 4<br>Title: Powerful Northeast storm knocks out power to tens of thousands and forces water rescues - CNN<br>Platform: US Headlines<br>Time Posted: 2023-12-18 15:34:00+00:00<br>URL: https://www.cnn.com/2023/12/17/weather/northeast-storms-flooding-travel-monday/index.html\"],[\"Rank: 7<br>Title: Princess of Wales Shares Her Adorable Christmas Baby Photo - The Royal Family Channel<br>Platform: US Headlines<br>Time Posted: 2023-12-18 14:58:53+00:00<br>URL: https://www.youtube.com/watch?v=P3vMDwJbbh4\"],[\"Rank: 10<br>Title: Ryan Gosling Releases \\u2018Ken The EP\\u2019 With Three New Versions of \\u2018I\\u2019m Just Ken,\\u2019 Including a Christmas Cover - Variety<br>Platform: US Headlines<br>Time Posted: 2023-12-20 14:20:00+00:00<br>URL: https://variety.com/2023/music/news/ryan-gosling-ken-ep-im-just-ken-christmas-version-1235844314/\"],[\"Rank: 6<br>Title: Shipping industry in the dark over US-led Red Sea navy force - Reuters<br>Platform: US Headlines<br>Time Posted: 2023-12-20 14:50:00+00:00<br>URL: https://www.reuters.com/business/shipping-industry-dark-over-us-led-red-sea-navy-force-2023-12-20/\"],[\"Rank: 6<br>Title: Southwest Airlines fined $140 million for holiday meltdown that stranded millions - The Verge<br>Platform: US Headlines<br>Time Posted: 2023-12-18 15:06:34+00:00<br>URL: https://www.theverge.com/2023/12/18/24006045/southwest-fined-dot-holiday-delays-fund\"],[\"Rank: 3<br>Title: Starving Palestinians loot aid trucks as desperation mounts in Gaza\\u2019s Rafah - Al Jazeera English<br>Platform: US Headlines<br>Time Posted: 2023-12-17 17:22:44+00:00<br>URL: https://www.aljazeera.com/news/2023/12/17/starving-palestinians-loot-aid-trucks-as-desperation-mounts-in-gazas-rafah\"],[\"Rank: 7<br>Title: This is a good time to invest in bonds \\u2014 here is a fund with special advantages - MarketWatch<br>Platform: US Headlines<br>Time Posted: 2023-12-19 15:02:00+00:00<br>URL: https://www.marketwatch.com/story/this-is-a-good-time-to-invest-in-a-bond-fund-and-this-manager-has-an-advantage-over-his-largest-competitors-76a9f9ec\"],[\"Rank: 9<br>Title: Timoth\\u00e9e Chalamet\\u2019s \\u2018Wonka\\u2019 Tops Box Office With $39 Million Debut - Variety<br>Platform: US Headlines<br>Time Posted: 2023-12-17 16:14:00+00:00<br>URL: https://variety.com/2023/film/box-office/box-office-timothee-chalamet-wonka-wins-weekend-1235842643/\"],[\"Rank: 1<br>Title: Troubles legacy act: Ireland takes human rights case against UK - BBC.com<br>Platform: US Headlines<br>Time Posted: 2023-12-20 15:50:00+00:00<br>URL: https://www.bbc.com/news/uk-northern-ireland-67769920\"],[\"Rank: 8<br>Title: US lawmakers push DOJ to investigate Apple following Beeper shutdowns - The Verge<br>Platform: US Headlines<br>Time Posted: 2023-12-18 14:44:31+00:00<br>URL: https://www.theverge.com/2023/12/18/24006037/apple-beeper-doj-investigation-imessage-letter-android\"],[\"Rank: 4<br>Title: Venezuela to release 36 people, including 12 Americans, in prisoner swap -source - Reuters<br>Platform: US Headlines<br>Time Posted: 2023-12-20 15:28:00+00:00<br>URL: https://www.reuters.com/world/us/us-has-freed-close-ally-venezuela-president-swap-jailed-americans-ap-2023-12-20/\"],[\"Rank: 5<br>Title: Vessel attacked in Red Sea off Yemen coast, US blames Houthis - Reuters<br>Platform: US Headlines<br>Time Posted: 2023-12-18 15:26:00+00:00<br>URL: https://www.reuters.com/world/middle-east/ukmto-ambrey-report-possible-explosion-south-yemens-port-mokha-2023-12-18/\"],[\"Rank: 2<br>Title: Watch Live: Justice Sandra Day O'Connor honored at funeral service at National Cathedral - CBS News<br>Platform: US Headlines<br>Time Posted: 2023-12-19 16:04:00+00:00<br>URL: https://www.cbsnews.com/news/sandra-day-oconnor-funeral-live-stream-national-cathedral/\"],[\"Rank: 3<br>Title: What happens when a shipwrecks becomes a thriving marine habitat - The Washington Post<br>Platform: US Headlines<br>Time Posted: 2023-12-19 16:00:00+00:00<br>URL: https://www.washingtonpost.com/health/2023/12/19/plumbing-secrets-how-shipwrecks-transform-into-living-seabeds/\"],[\"Rank: 6<br>Title: Who are the Houthis and why are they attacking ships in the Red Sea? - CNN<br>Platform: US Headlines<br>Time Posted: 2023-12-19 15:28:00+00:00<br>URL: https://www.cnn.com/2023/12/19/middleeast/red-sea-crisis-explainer-houthi-yemen-israel-intl/index.html\"],[\"Rank: 3<br>Title: reactions to the Ravens clinching a playoff berth with win over Jaguars - NFL<br>Platform: US Headlines<br>Time Posted: 2023-12-18 15:49:56+00:00<br>URL: https://www.youtube.com/watch?v=pxzM8J8X4Ig\"],[\"Rank: 3<br>Title: \\ud83d\\udc40 KEPT RECEIPTS! \\ud83d\\udc40 Stephen A., JWill & Mad Dog get TENSE in Ja Morant\\u2019s return | First Take - ESPN<br>Platform: US Headlines<br>Time Posted: 2023-12-20 15:40:49+00:00<br>URL: https://www.youtube.com/watch?v=k77OkJJA0_o\"]],\"hovertemplate\":\"%{customdata[0]}<extra></extra>\",\"hovertext\":[\"24-hour flash sale at Best Buy \\u2014 Macs from $749, Switch games from $14 - Tom's Guide\",\"A man accused of rape vanished. Then, a lake yielded a grim discovery. 25 years later, a fresh mystery is revealed - CNN\",\"Aaron Rodgers\\u2019 season is (officially) over, so Jets must turn the page to 2024 - The Athletic\",\"Adorable Cat Video Reaches Earth After 19-Million-Mile Journey from Deep Space - Gizmodo\",\"Alex Batty: British teen found in France returns to UK - BBC.com\",\"Apple Watch Series 9 sales to be halted over patent dispute - TechCrunch\",\"Colorado Supreme Court rules Trump is disqualified from presidency for Jan. 6 riot - CBS News\",\"Eagles' Jalen Hurts downgraded after illness worsens - ESPN\",\"Fox News host Kilmeade defends Trump on \\u2018poisoning the blood of our country\\u2019 remarks - The Hill\",\"Glacial Pathfinders: Tracing North America's First Migrants via the Sea Ice Highway - SciTechDaily\",\"How to watch today's Kansas City Chiefs vs. New England Patriots game on Fox - Yahoo Sports\",\"Humanitarian crisis in Gaza deepens as fighting rages | DW News - DW News\",\"Inside the 'Gaza metro': Israel displays Hamas tunnel big enough for a car - Financial Times\",\"Jennifer Love Hewitt on aging, claims she looks 'unrecognizable' - USA TODAY\",\"Jury finds Jonathan Majors guilty of assault and harassment of ex-girlfriend - NBC News\",\"NFL Power Rankings Week 16: Remember, no team pursued franchise-tagged Lamar Jackson - Yahoo Sports\",\"NFL Week 15 Saturday grades: Lions earn 'A+' for Broncos beatdown, Bengals 'B+' for overtime win vs. Vikings - CBS Sports\",\"Nikola Founder Trevor Milton Sentenced to Four Years for Fraud - Yahoo Finance\",\"North Carolina basketball star Eric Montross dies at age 52 - ESPN\",\"North Korea fires short-range missile, condemns U.S. for raising tensions - Reuters\",\"Polish state TV channel halts broadcasting in standoff with Tusk - Financial Times\",\"Pope Francis says priests can bless same-sex couples but marriage is between a man and a woman - CBS News\",\"Powerful Northeast storm knocks out power to tens of thousands and forces water rescues - CNN\",\"Princess of Wales Shares Her Adorable Christmas Baby Photo - The Royal Family Channel\",\"Ryan Gosling Releases \\u2018Ken The EP\\u2019 With Three New Versions of \\u2018I\\u2019m Just Ken,\\u2019 Including a Christmas Cover - Variety\",\"Shipping industry in the dark over US-led Red Sea navy force - Reuters\",\"Southwest Airlines fined $140 million for holiday meltdown that stranded millions - The Verge\",\"Starving Palestinians loot aid trucks as desperation mounts in Gaza\\u2019s Rafah - Al Jazeera English\",\"This is a good time to invest in bonds \\u2014 here is a fund with special advantages - MarketWatch\",\"Timoth\\u00e9e Chalamet\\u2019s \\u2018Wonka\\u2019 Tops Box Office With $39 Million Debut - Variety\",\"Troubles legacy act: Ireland takes human rights case against UK - BBC.com\",\"US lawmakers push DOJ to investigate Apple following Beeper shutdowns - The Verge\",\"Venezuela to release 36 people, including 12 Americans, in prisoner swap -source - Reuters\",\"Vessel attacked in Red Sea off Yemen coast, US blames Houthis - Reuters\",\"Watch Live: Justice Sandra Day O'Connor honored at funeral service at National Cathedral - CBS News\",\"What happens when a shipwrecks becomes a thriving marine habitat - The Washington Post\",\"Who are the Houthis and why are they attacking ships in the Red Sea? - CNN\",\"reactions to the Ravens clinching a playoff berth with win over Jaguars - NFL\",\"\\ud83d\\udc40 KEPT RECEIPTS! \\ud83d\\udc40 Stephen A., JWill & Mad Dog get TENSE in Ja Morant\\u2019s return | First Take - ESPN\"],\"legendgroup\":\"US Headlines\",\"marker\":{\"color\":\"#ab63fa\",\"size\":[19.900000000000002,50.0,45.7,24.2,45.7,50.0,15.600000000000001,28.5,15.600000000000001,19.900000000000002,50.0,32.8,24.2,19.900000000000002,37.1,32.8,37.1,11.299999999999997,11.299999999999997,11.299999999999997,32.8,45.7,37.1,24.2,11.299999999999997,28.5,28.5,41.4,24.2,15.600000000000001,50.0,19.900000000000002,37.1,32.8,45.7,41.4,28.5,41.4,41.4],\"sizemode\":\"area\",\"sizeref\":0.125,\"symbol\":\"circle\"},\"mode\":\"markers\",\"name\":\"US Headlines\",\"orientation\":\"v\",\"showlegend\":true,\"x\":[\"2023-12-21\",\"2023-12-20\",\"2023-12-21\",\"2023-12-21\",\"2023-12-18\",\"2023-12-19\",\"2023-12-21\",\"2023-12-18\",\"2023-12-19\",\"2023-12-18\",\"2023-12-18\",\"2023-12-18\",\"2023-12-18\",\"2023-12-20\",\"2023-12-20\",\"2023-12-20\",\"2023-12-18\",\"2023-12-20\",\"2023-12-19\",\"2023-12-18\",\"2023-12-21\",\"2023-12-19\",\"2023-12-19\",\"2023-12-19\",\"2023-12-21\",\"2023-12-21\",\"2023-12-19\",\"2023-12-18\",\"2023-12-20\",\"2023-12-18\",\"2023-12-21\",\"2023-12-19\",\"2023-12-21\",\"2023-12-19\",\"2023-12-20\",\"2023-12-20\",\"2023-12-20\",\"2023-12-19\",\"2023-12-21\"],\"xaxis\":\"x\",\"y\":[8.0,1.0,2.0,7.0,2.0,1.0,9.0,6.0,9.0,8.0,1.0,5.0,7.0,8.0,4.0,5.0,4.0,10.0,10.0,10.0,5.0,2.0,4.0,7.0,10.0,6.0,6.0,3.0,7.0,9.0,1.0,8.0,4.0,5.0,2.0,3.0,6.0,3.0,3.0],\"yaxis\":\"y\",\"type\":\"scatter\"},{\"customdata\":[[\"Rank: 8<br>Title: 4000 Days - [Hardcore Minecraft]<br>Platform: YouTube<br>Time Posted: 2023-12-16 18:00:07<br>Channel: Luke TheNotable<br>Views: 1,617,889<br>Subscribers: 4,630,000<br>Likes: 110,886<br>Comments: 6,732<br>Category: Gaming\"],[\"Rank: 1<br>Title: Drake - You Broke My Heart<br>Platform: YouTube<br>Time Posted: 2023-12-20 16:49:22<br>Channel: DrakeVEVO<br>Views: 1,798,719<br>Subscribers: 9,160,000<br>Likes: 106,478<br>Comments: 6,686<br>Category: Music\"],[\"Rank: 1<br>Title: Elon Musk: Last Week Tonight with John Oliver (HBO)<br>Platform: YouTube<br>Time Posted: 2023-12-18 07:30:02<br>Channel: LastWeekTonight<br>Views: 1,765,142<br>Subscribers: 9,300,000<br>Likes: 85,000<br>Comments: 10,172<br>Category: Entertainment\"],[\"Rank: 8<br>Title: Elon Musk: Last Week Tonight with John Oliver (HBO)<br>Platform: YouTube<br>Time Posted: 2023-12-18 07:30:02<br>Channel: LastWeekTonight<br>Views: 3,210,629<br>Subscribers: 9,300,000<br>Likes: 123,056<br>Comments: 15,888<br>Category: Entertainment\"],[\"Rank: 6<br>Title: Every Way To Cook A Potato (43 Ways)<br>Platform: YouTube<br>Time Posted: 2023-12-20 15:45:02<br>Channel: Joshua Weissman<br>Views: 606,654<br>Subscribers: 8,640,000<br>Likes: 25,059<br>Comments: 1,582<br>Category: Howto & Style\"],[\"Rank: 1<br>Title: Five Nights at Freddy's: Help Wanted 2<br>Platform: YouTube<br>Time Posted: 2023-12-18 21:24:29<br>Channel: Markiplier<br>Views: 1,871,589<br>Subscribers: 36,100,000<br>Likes: 172,567<br>Comments: 6,661<br>Category: Gaming\"],[\"Rank: 7<br>Title: Five Nights at Freddy's: Help Wanted 2<br>Platform: YouTube<br>Time Posted: 2023-12-18 21:24:29<br>Channel: Markiplier<br>Views: 2,848,168<br>Subscribers: 36,100,000<br>Likes: 219,788<br>Comments: 7,593<br>Category: Gaming\"],[\"Rank: 3<br>Title: Galactus VS Unicron (Marvel Comics VS Transformers) | DEATH BATTLE!<br>Platform: YouTube<br>Time Posted: 2023-12-18 18:00:09<br>Channel: DEATH BATTLE!<br>Views: 1,022,209<br>Subscribers: 5,660,000<br>Likes: 65,819<br>Comments: 9,181<br>Category: Entertainment\"],[\"Rank: 10<br>Title: Geometry Dash 2.2 Released<br>Platform: YouTube<br>Time Posted: 2023-12-20 02:59:44<br>Channel: RobTopGames<br>Views: 905,191<br>Subscribers: 13,700,000<br>Likes: 146,774<br>Comments: 22,787<br>Category: Gaming\"],[\"Rank: 9<br>Title: George Santos Answers Hard-Hitting Questions | Ziwe Interview<br>Platform: YouTube<br>Time Posted: 2023-12-18 16:00:12<br>Channel: Ziwe<br>Views: 1,066,808<br>Subscribers: 175,000<br>Likes: 56,719<br>Comments: 5,082<br>Category: Comedy\"],[\"Rank: 5<br>Title: He's In The VENTS?! - FNAF VR 2 Like Mexican<br>Platform: YouTube<br>Time Posted: 2023-12-18 20:00:02<br>Channel: EddieVR<br>Views: 496,594<br>Subscribers: 7,020,000<br>Likes: 30,748<br>Comments: 1,215<br>Category: Gaming\"],[\"Rank: 4<br>Title: House of Secrets: 9 children hidden for years in Oklahoma home found after police tip<br>Platform: YouTube<br>Time Posted: 2023-12-20 16:54:19<br>Channel: KOCO 5 News<br>Views: 976,126<br>Subscribers: 106,000<br>Likes: 22,811<br>Comments: <br>Category: News & Politics\"],[\"Rank: 3<br>Title: How Ja Morant was in the Locker Room<br>Platform: YouTube<br>Time Posted: 2023-12-20 06:56:22<br>Channel: RDCworld1<br>Views: 298,920<br>Subscribers: 6,650,000<br>Likes: 41,700<br>Comments: 1,594<br>Category: Film & Animation\"],[\"Rank: 6<br>Title: I Bought 100 UNCLAIMED MAIL PACKAGES<br>Platform: YouTube<br>Time Posted: 2023-12-17 16:00:12<br>Channel: HopeScope<br>Views: 985,208<br>Subscribers: 3,950,000<br>Likes: 40,995<br>Comments: 2,946<br>Category: Howto & Style\"],[\"Rank: 2<br>Title: I Tested 1-Star Camping<br>Platform: YouTube<br>Time Posted: 2023-12-20 16:29:24<br>Channel: Ryan Trahan<br>Views: 2,676,230<br>Subscribers: 14,200,000<br>Likes: 118,892<br>Comments: 13,339<br>Category: Entertainment\"],[\"Rank: 4<br>Title: I Took A 52-Hour Overnight Train Across America<br>Platform: YouTube<br>Time Posted: 2023-12-18 01:29:38<br>Channel: Safiya Nygaard<br>Views: 703,825<br>Subscribers: 9,950,000<br>Likes: 58,963<br>Comments: 2,939<br>Category: People & Blogs\"],[\"Rank: 4<br>Title: I made an Ai Secretary to answer my actual emails<br>Platform: YouTube<br>Time Posted: 2023-12-18 21:04:41<br>Channel: DougDoug<br>Views: 617,493<br>Subscribers: 2,380,000<br>Likes: 48,370<br>Comments: 1,884<br>Category: Gaming\"],[\"Rank: 7<br>Title: ITZY \\\"BORN TO BE\\\" M/V @ITZY<br>Platform: YouTube<br>Time Posted: 2023-12-17 14:59:58<br>Channel: JYP Entertainment<br>Views: 3,817,159<br>Subscribers: 28,400,000<br>Likes: 447,303<br>Comments: 43,130<br>Category: Music\"],[\"Rank: 3<br>Title: Is the Las Vegas Sphere Worth It?<br>Platform: YouTube<br>Time Posted: 2023-12-20 18:35:50<br>Channel: Eddy Burback<br>Views: 803,013<br>Subscribers: 1,700,000<br>Likes: 59,468<br>Comments: 4,004<br>Category: Comedy\"],[\"Rank: 9<br>Title: Lego Fortnite Meme Olympics<br>Platform: YouTube<br>Time Posted: 2023-12-21 01:11:30<br>Channel: LazarBeam<br>Views: 1,492,859<br>Subscribers: 21,400,000<br>Likes: 73,531<br>Comments: 2,379<br>Category: Gaming\"],[\"Rank: 6<br>Title: MI ULTIMO VIDEO / Kimberly Loaiza<br>Platform: YouTube<br>Time Posted: 2023-12-18 22:32:33<br>Channel: Kimberly Loaiza<br>Views: 9,571,816<br>Subscribers: 43,700,000<br>Likes: 932,028<br>Comments: 262,492<br>Category: People & Blogs\"],[\"Rank: 1<br>Title: Melanie Martinez - TUNNEL VISION (Official Video)<br>Platform: YouTube<br>Time Posted: 2023-12-19 19:00:10<br>Channel: melanie martinez<br>Views: 1,395,500<br>Subscribers: 15,200,000<br>Likes: 251,530<br>Comments: 32,206<br>Category: Music\"],[\"Rank: 10<br>Title: Melanie Martinez - TUNNEL VISION (Official Video)<br>Platform: YouTube<br>Time Posted: 2023-12-19 19:00:10<br>Channel: melanie martinez<br>Views: 1,897,095<br>Subscribers: 15,200,000<br>Likes: 279,661<br>Comments: 33,845<br>Category: Music\"],[\"Rank: 5<br>Title: Migrants converge on border after SB4 signed<br>Platform: YouTube<br>Time Posted: 2023-12-20 04:14:19<br>Channel: KHOU 11<br>Views: 165,280<br>Subscribers: 863,000<br>Likes: 1,990<br>Comments: 2,099<br>Category: News & Politics\"],[\"Rank: 7<br>Title: My viewers sent me AWFUL Christmas Gifts<br>Platform: YouTube<br>Time Posted: 2023-12-19 00:41:12<br>Channel: Crispy Concords<br>Views: 430,235<br>Subscribers: 3,080,000<br>Likes: 24,838<br>Comments: 1,557<br>Category: Entertainment\"],[\"Rank: 9<br>Title: Mystery Detective Battle<br>Platform: YouTube<br>Time Posted: 2023-12-16 14:59:41<br>Channel: Dude Perfect<br>Views: 2,947,710<br>Subscribers: 60,000,000<br>Likes: 123,857<br>Comments: 4,714<br>Category: Sports\"],[\"Rank: 5<br>Title: Our Dream Home Might Be Haunted!<br>Platform: YouTube<br>Time Posted: 2023-12-20 15:35:09<br>Channel: The Beverly Halls<br>Views: 618,551<br>Subscribers: 7,490,000<br>Likes: 12,513<br>Comments: 1,076<br>Category: Entertainment\"],[\"Rank: 2<br>Title: Peyton & Eli Manning react to the Seahawks Game Winning Touchdown on the ManningCast<br>Platform: YouTube<br>Time Posted: 2023-12-19 04:17:51<br>Channel: Omaha Productions<br>Views: 368,123<br>Subscribers: 170,000<br>Likes: 3,675<br>Comments: 390<br>Category: Sports\"],[\"Rank: 4<br>Title: Peyton & Eli Manning react to the Seahawks Game Winning Touchdown on the ManningCast<br>Platform: YouTube<br>Time Posted: 2023-12-19 04:17:51<br>Channel: Omaha Productions<br>Views: 682,160<br>Subscribers: 171,000<br>Likes: 5,349<br>Comments: 554<br>Category: Sports\"],[\"Rank: 2<br>Title: Presidential Pets: a Brief History<br>Platform: YouTube<br>Time Posted: 2023-12-17 22:45:12<br>Channel: Sam O'Nella Academy<br>Views: 1,541,482<br>Subscribers: 4,370,000<br>Likes: 236,679<br>Comments: 14,123<br>Category: Entertainment\"],[\"Rank: 2<br>Title: REGRESAMOS POR ESTA RAZ\\u00d3N \\ud83d\\ude31 Juan de Dios Pantoja<br>Platform: YouTube<br>Time Posted: 2023-12-19 02:49:08<br>Channel: Juan De Dios Pantoja<br>Views: 7,875,962<br>Subscribers: 24,300,000<br>Likes: 473,396<br>Comments: 29,069<br>Category: People & Blogs\"],[\"Rank: 7<br>Title: Ryan Gosling & Mark Ronson - I'm Just Ken (Merry Kristmas Barbie) [Official Music Video]<br>Platform: YouTube<br>Time Posted: 2023-12-20 14:00:30<br>Channel: Atlantic Records<br>Views: 974,846<br>Subscribers: 14,200,000<br>Likes: 60,204<br>Comments: 1,662<br>Category: Music\"],[\"Rank: 3<br>Title: Salaar Release Trailer - Telugu | Prabhas | Prashanth Neel | Prithviraj | Shruthi | Hombale Films<br>Platform: YouTube<br>Time Posted: 2023-12-18 10:03:00<br>Channel: Hombale Films<br>Views: 14,194,865<br>Subscribers: 5,150,000<br>Likes: 679,799<br>Comments: 18,046<br>Category: Film & Animation\"],[\"Rank: 9<br>Title: Scarface: Tiny Desk Concert<br>Platform: YouTube<br>Time Posted: 2023-12-18 10:00:02<br>Channel: NPR Music<br>Views: 477,840<br>Subscribers: 8,650,000<br>Likes: 41,029<br>Comments: 5,454<br>Category: Music\"],[\"Rank: 10<br>Title: Stocking Rainbow Trout in the 5 Acre Pond!<br>Platform: YouTube<br>Time Posted: 2023-12-18 01:07:53<br>Channel: BamaBass<br>Views: 254,783<br>Subscribers: 996,000<br>Likes: 16,900<br>Comments: 1,699<br>Category: People & Blogs\"],[\"Rank: 10<br>Title: Survive 100 Days Trapped, Win $500,000<br>Platform: YouTube<br>Time Posted: 2023-12-16 17:00:01<br>Channel: MrBeast<br>Views: 68,302,443<br>Subscribers: 219,000,000<br>Likes: 3,175,565<br>Comments: 52,099<br>Category: Entertainment\"],[\"Rank: 6<br>Title: The Chosen: Season 4 Official Trailer<br>Platform: YouTube<br>Time Posted: 2023-12-18 17:00:09<br>Channel: The Chosen<br>Views: 597,370<br>Subscribers: 2,310,000<br>Likes: 50,094<br>Comments: 6,635<br>Category: Entertainment\"],[\"Rank: 5<br>Title: Why Is The Day Before SUCH A SCAM?!<br>Platform: YouTube<br>Time Posted: 2023-12-17 18:00:21<br>Channel: The Act Man<br>Views: 730,341<br>Subscribers: 1,840,000<br>Likes: 44,586<br>Comments: 3,904<br>Category: Gaming\"],[\"Rank: 8<br>Title: miami and then new york<br>Platform: YouTube<br>Time Posted: 2023-12-20 17:54:37<br>Channel: emma chamberlain<br>Views: 522,277<br>Subscribers: 12,000,000<br>Likes: 34,457<br>Comments: 1,371<br>Category: Entertainment\"],[\"Rank: 8<br>Title: \\ud83d\\udea8 PENALTY SHOOTOUT! \\ud83d\\udea8 Chelsea vs. Newcastle | Carabao Cup Highlights | ESPN FC<br>Platform: YouTube<br>Time Posted: 2023-12-19 22:21:04<br>Channel: ESPN FC<br>Views: 467,640<br>Subscribers: 3,480,000<br>Likes: 6,219<br>Comments: 749<br>Category: Sports\"]],\"hovertemplate\":\"%{customdata[0]}<extra></extra>\",\"hovertext\":[\"4000 Days - [Hardcore Minecraft]\",\"Drake - You Broke My Heart\",\"Elon Musk: Last Week Tonight with John Oliver (HBO)\",\"Elon Musk: Last Week Tonight with John Oliver (HBO)\",\"Every Way To Cook A Potato (43 Ways)\",\"Five Nights at Freddy's: Help Wanted 2\",\"Five Nights at Freddy's: Help Wanted 2\",\"Galactus VS Unicron (Marvel Comics VS Transformers) | DEATH BATTLE!\",\"Geometry Dash 2.2 Released\",\"George Santos Answers Hard-Hitting Questions | Ziwe Interview\",\"He's In The VENTS?! - FNAF VR 2 Like Mexican\",\"House of Secrets: 9 children hidden for years in Oklahoma home found after police tip\",\"How Ja Morant was in the Locker Room\",\"I Bought 100 UNCLAIMED MAIL PACKAGES\",\"I Tested 1-Star Camping\",\"I Took A 52-Hour Overnight Train Across America\",\"I made an Ai Secretary to answer my actual emails\",\"ITZY \\\"BORN TO BE\\\" M/V @ITZY\",\"Is the Las Vegas Sphere Worth It?\",\"Lego Fortnite Meme Olympics\",\"MI ULTIMO VIDEO / Kimberly Loaiza\",\"Melanie Martinez - TUNNEL VISION (Official Video)\",\"Melanie Martinez - TUNNEL VISION (Official Video)\",\"Migrants converge on border after SB4 signed\",\"My viewers sent me AWFUL Christmas Gifts\",\"Mystery Detective Battle\",\"Our Dream Home Might Be Haunted!\",\"Peyton & Eli Manning react to the Seahawks Game Winning Touchdown on the ManningCast\",\"Peyton & Eli Manning react to the Seahawks Game Winning Touchdown on the ManningCast\",\"Presidential Pets: a Brief History\",\"REGRESAMOS POR ESTA RAZ\\u00d3N \\ud83d\\ude31 Juan de Dios Pantoja\",\"Ryan Gosling & Mark Ronson - I'm Just Ken (Merry Kristmas Barbie) [Official Music Video]\",\"Salaar Release Trailer - Telugu | Prabhas | Prashanth Neel | Prithviraj | Shruthi | Hombale Films\",\"Scarface: Tiny Desk Concert\",\"Stocking Rainbow Trout in the 5 Acre Pond!\",\"Survive 100 Days Trapped, Win $500,000\",\"The Chosen: Season 4 Official Trailer\",\"Why Is The Day Before SUCH A SCAM?!\",\"miami and then new york\",\"\\ud83d\\udea8 PENALTY SHOOTOUT! \\ud83d\\udea8 Chelsea vs. Newcastle | Carabao Cup Highlights | ESPN FC\"],\"legendgroup\":\"YouTube\",\"marker\":{\"color\":\"#FFA15A\",\"size\":[7.91671247010974,8.030830664317502,8.009640891564564,8.921858810000645,7.278542298569137,8.076817463034086,8.69311692651483,7.540790742931284,7.466943024909916,7.568936279310602,7.209085635103416,7.511708683849957,7.084337529579856,7.517440152299854,8.584610295559267,7.339864972071115,7.285382574557734,9.304627755047566,7.40246053390864,7.837808539225503,12.936276624842744,7.776367222685805,8.092913789204871,7.0,7.167207798187899,8.755935890668063,7.286050257184908,7.128010157980895,7.326192624133764,7.868493541476037,11.86605710308191,7.510900901465475,15.85379033171663,7.1972503610107745,7.056483552154938,50.0,7.27268335196169,7.356598689029656,7.2252936624320565,7.190813345134432],\"sizemode\":\"area\",\"sizeref\":0.125,\"symbol\":\"circle\"},\"mode\":\"markers\",\"name\":\"YouTube\",\"orientation\":\"v\",\"showlegend\":true,\"x\":[\"2023-12-18\",\"2023-12-21\",\"2023-12-18\",\"2023-12-19\",\"2023-12-21\",\"2023-12-19\",\"2023-12-20\",\"2023-12-19\",\"2023-12-20\",\"2023-12-20\",\"2023-12-19\",\"2023-12-21\",\"2023-12-20\",\"2023-12-18\",\"2023-12-21\",\"2023-12-18\",\"2023-12-19\",\"2023-12-18\",\"2023-12-21\",\"2023-12-21\",\"2023-12-20\",\"2023-12-20\",\"2023-12-21\",\"2023-12-20\",\"2023-12-19\",\"2023-12-18\",\"2023-12-21\",\"2023-12-19\",\"2023-12-20\",\"2023-12-18\",\"2023-12-20\",\"2023-12-21\",\"2023-12-18\",\"2023-12-19\",\"2023-12-18\",\"2023-12-19\",\"2023-12-19\",\"2023-12-18\",\"2023-12-21\",\"2023-12-20\"],\"xaxis\":\"x\",\"y\":[8.0,1.0,1.0,8.0,6.0,1.0,7.0,3.0,10.0,9.0,5.0,4.0,3.0,6.0,2.0,4.0,4.0,7.0,3.0,9.0,6.0,1.0,10.0,5.0,7.0,9.0,5.0,2.0,4.0,2.0,2.0,7.0,3.0,9.0,10.0,10.0,6.0,5.0,8.0,8.0],\"yaxis\":\"y\",\"type\":\"scatter\"},{\"customdata\":[[\"Rank: 7<br>Title: 49ers vs Cardinals<br>Platform: Google<br>Time Posted: nan<br>Category: Sports\"],[\"Rank: 2<br>Title: Anthony Edwards<br>Platform: Google<br>Time Posted: nan<br>Category: Sports\"],[\"Rank: 8<br>Title: Anthony Edwards<br>Platform: Google<br>Time Posted: nan<br>Category: Sports\"],[\"Rank: 2<br>Title: Apple Watch Series 9<br>Platform: Google<br>Time Posted: nan<br>Category: Business\"],[\"Rank: 6<br>Title: Baltimore Ravens<br>Platform: Google<br>Time Posted: nan<br>Category: Sports\"],[\"Rank: 4<br>Title: Biden<br>Platform: Google<br>Time Posted: nan<br>Category: Politics\"],[\"Rank: 9<br>Title: Bulls<br>Platform: Google<br>Time Posted: 2023-12-21 09:15:03.872000<br>Category: nan\"],[\"Rank: 4<br>Title: Celtics<br>Platform: Google<br>Time Posted: 2023-12-21 09:15:03.872000<br>Category: nan\"],[\"Rank: 10<br>Title: Celtics vs Warriors<br>Platform: Google<br>Time Posted: 2023-12-20 09:15:04.347000<br>Category: nan\"],[\"Rank: 1<br>Title: Chelsea FC<br>Platform: Google<br>Time Posted: 2023-12-20 09:15:04.347000<br>Category: nan\"],[\"Rank: 6<br>Title: Chelsea vs Newcastle<br>Platform: Google<br>Time Posted: 2023-12-20 09:15:04.347000<br>Category: nan\"],[\"Rank: 5<br>Title: Chiefs<br>Platform: Google<br>Time Posted: nan<br>Category: Sports\"],[\"Rank: 1<br>Title: Clarence Thomas<br>Platform: Google<br>Time Posted: nan<br>Category: Politics\"],[\"Rank: 7<br>Title: Duke basketball<br>Platform: Google<br>Time Posted: 2023-12-21 09:15:03.872000<br>Category: nan\"],[\"Rank: 1<br>Title: Eric Montross<br>Platform: Google<br>Time Posted: nan<br>Category: Sports\"],[\"Rank: 3<br>Title: Freight<br>Platform: Google<br>Time Posted: nan<br>Category: Business\"],[\"Rank: 9<br>Title: Geno Smith<br>Platform: Google<br>Time Posted: nan<br>Category: Sports\"],[\"Rank: 9<br>Title: Giants<br>Platform: Google<br>Time Posted: nan<br>Category: Sports\"],[\"Rank: 10<br>Title: Green Bay Packers<br>Platform: Google<br>Time Posted: nan<br>Category: Sports\"],[\"Rank: 5<br>Title: Iceland volcano<br>Platform: Google<br>Time Posted: nan<br>Category: News\"],[\"Rank: 3<br>Title: Ja Morant<br>Platform: Google<br>Time Posted: 2023-12-20 09:15:04.347000<br>Category: nan\"],[\"Rank: 3<br>Title: John Schneider<br>Platform: Google<br>Time Posted: 2023-12-21 09:15:03.872000<br>Category: nan\"],[\"Rank: 4<br>Title: Jonathan Majors<br>Platform: Google<br>Time Posted: nan<br>Category: Entertainment\"],[\"Rank: 2<br>Title: Leonard Bernstein<br>Platform: Google<br>Time Posted: 2023-12-21 09:15:03.872000<br>Category: nan\"],[\"Rank: 9<br>Title: Man City<br>Platform: Google<br>Time Posted: 2023-12-20 09:15:04.347000<br>Category: nan\"],[\"Rank: 6<br>Title: Miami Dolphins<br>Platform: Google<br>Time Posted: nan<br>Category: Sports\"],[\"Rank: 8<br>Title: Minnesota flag<br>Platform: Google<br>Time Posted: 2023-12-20 09:15:04.347000<br>Category: nan\"],[\"Rank: 8<br>Title: Packers<br>Platform: Google<br>Time Posted: nan<br>Category: Sports\"],[\"Rank: 7<br>Title: Percy Jackson<br>Platform: Google<br>Time Posted: 2023-12-20 09:15:04.347000<br>Category: nan\"],[\"Rank: 5<br>Title: Philadelphia Eagles<br>Platform: Google<br>Time Posted: 2023-12-20 09:15:04.347000<br>Category: nan\"],[\"Rank: 10<br>Title: Ruby Franke<br>Platform: Google<br>Time Posted: nan<br>Category: Entertainment\"],[\"Rank: 10<br>Title: Ryan Gosling Ken Barbie<br>Platform: Google<br>Time Posted: 2023-12-21 09:15:03.872000<br>Category: nan\"],[\"Rank: 7<br>Title: Stiff-person syndrome<br>Platform: Google<br>Time Posted: nan<br>Category: Health\"],[\"Rank: 3<br>Title: Suns<br>Platform: Google<br>Time Posted: nan<br>Category: Sports\"],[\"Rank: 6<br>Title: Survivor finale<br>Platform: Google<br>Time Posted: 2023-12-21 09:15:03.872000<br>Category: nan\"],[\"Rank: 5<br>Title: Timberwolves<br>Platform: Google<br>Time Posted: 2023-12-21 09:15:03.872000<br>Category: nan\"],[\"Rank: 2<br>Title: Trump<br>Platform: Google<br>Time Posted: 2023-12-20 09:15:04.347000<br>Category: nan\"],[\"Rank: 8<br>Title: UNC basketball<br>Platform: Google<br>Time Posted: 2023-12-21 09:15:03.872000<br>Category: nan\"],[\"Rank: 4<br>Title: Who won The Voice 2023<br>Platform: Google<br>Time Posted: 2023-12-20 09:15:04.347000<br>Category: nan\"],[\"Rank: 1<br>Title: Winter solstice 2023<br>Platform: Google<br>Time Posted: 2023-12-21 09:15:03.872000<br>Category: nan\"]],\"hovertemplate\":\"%{customdata[0]}<extra></extra>\",\"hovertext\":[\"49ers vs Cardinals\",\"Anthony Edwards\",\"Anthony Edwards\",\"Apple Watch Series 9\",\"Baltimore Ravens\",\"Biden\",\"Bulls\",\"Celtics\",\"Celtics vs Warriors\",\"Chelsea FC\",\"Chelsea vs Newcastle\",\"Chiefs\",\"Clarence Thomas\",\"Duke basketball\",\"Eric Montross\",\"Freight\",\"Geno Smith\",\"Giants\",\"Green Bay Packers\",\"Iceland volcano\",\"Ja Morant\",\"John Schneider\",\"Jonathan Majors\",\"Leonard Bernstein\",\"Man City\",\"Miami Dolphins\",\"Minnesota flag\",\"Packers\",\"Percy Jackson\",\"Philadelphia Eagles\",\"Ruby Franke\",\"Ryan Gosling Ken Barbie\",\"Stiff-person syndrome\",\"Suns\",\"Survivor finale\",\"Timberwolves\",\"Trump\",\"UNC basketball\",\"Who won The Voice 2023\",\"Winter solstice 2023\"],\"legendgroup\":\"Google\",\"marker\":{\"color\":\"#19d3f3\",\"size\":[24.2,45.7,19.900000000000002,45.7,28.5,37.1,15.600000000000001,37.1,11.299999999999997,50.0,28.5,32.8,50.0,24.2,50.0,41.4,15.600000000000001,15.600000000000001,11.299999999999997,32.8,41.4,41.4,37.1,45.7,15.600000000000001,28.5,19.900000000000002,19.900000000000002,24.2,32.8,11.299999999999997,11.299999999999997,24.2,41.4,28.5,32.8,45.7,19.900000000000002,37.1,50.0],\"sizemode\":\"area\",\"sizeref\":0.125,\"symbol\":\"circle\"},\"mode\":\"markers\",\"name\":\"Google\",\"orientation\":\"v\",\"showlegend\":true,\"x\":[\"2023-12-18\",\"2023-12-18\",\"2023-12-19\",\"2023-12-19\",\"2023-12-19\",\"2023-12-18\",\"2023-12-21\",\"2023-12-21\",\"2023-12-20\",\"2023-12-20\",\"2023-12-20\",\"2023-12-18\",\"2023-12-19\",\"2023-12-21\",\"2023-12-18\",\"2023-12-19\",\"2023-12-19\",\"2023-12-18\",\"2023-12-18\",\"2023-12-19\",\"2023-12-20\",\"2023-12-21\",\"2023-12-19\",\"2023-12-21\",\"2023-12-20\",\"2023-12-18\",\"2023-12-20\",\"2023-12-18\",\"2023-12-20\",\"2023-12-20\",\"2023-12-19\",\"2023-12-21\",\"2023-12-19\",\"2023-12-18\",\"2023-12-21\",\"2023-12-21\",\"2023-12-20\",\"2023-12-21\",\"2023-12-20\",\"2023-12-21\"],\"xaxis\":\"x\",\"y\":[7.0,2.0,8.0,2.0,6.0,4.0,9.0,4.0,10.0,1.0,6.0,5.0,1.0,7.0,1.0,3.0,9.0,9.0,10.0,5.0,3.0,3.0,4.0,2.0,9.0,6.0,8.0,8.0,7.0,5.0,10.0,10.0,7.0,3.0,6.0,5.0,2.0,8.0,4.0,1.0],\"yaxis\":\"y\",\"type\":\"scatter\"},{\"customdata\":[\"TikTok\"],\"legendgroup\":\"TikTok\",\"line\":{\"color\":\"purple\",\"width\":2},\"mode\":\"lines\",\"name\":\"TikTok - 318\",\"showlegend\":false,\"x\":[\"2023-12-18\"],\"y\":[9.0],\"type\":\"scatter\",\"hovertemplate\":\"%{customdata[0]}<extra></extra>\"},{\"customdata\":[\"Reddit\"],\"legendgroup\":\"Reddit\",\"line\":{\"color\":\"yellow\",\"width\":2},\"mode\":\"lines\",\"name\":\"Reddit - \\\"Betas who like to think they are Alpha males\\\"\",\"showlegend\":false,\"x\":[\"2023-12-21\"],\"y\":[10.0],\"type\":\"scatter\",\"hovertemplate\":\"%{customdata[0]}<extra></extra>\"},{\"customdata\":[\"Global Business News\"],\"legendgroup\":\"Global Business News\",\"line\":{\"color\":\"blue\",\"width\":2},\"mode\":\"lines\",\"name\":\"Global Business News - 2 Cars In Garage Enough: Why Sal Khan Quit Plush Job To Open Khan Academy - NDTV\",\"showlegend\":false,\"x\":[\"2023-12-21\"],\"y\":[2.0],\"type\":\"scatter\",\"hovertemplate\":\"%{customdata[0]}<extra></extra>\"},{\"customdata\":[\"Global Business News\"],\"legendgroup\":\"Global Business News\",\"line\":{\"color\":\"blue\",\"width\":2},\"mode\":\"lines\",\"name\":\"Global Business News - 2 Tata cars get 5 stars as Bharat-NCAP awards first-ever ratings; Gadkari lauds - Hindustan Times\",\"showlegend\":false,\"x\":[\"2023-12-21\"],\"y\":[5.0],\"type\":\"scatter\",\"hovertemplate\":\"%{customdata[0]}<extra></extra>\"},{\"customdata\":[\"US Headlines\"],\"legendgroup\":\"US Headlines\",\"line\":{\"color\":\"white\",\"width\":2},\"mode\":\"lines\",\"name\":\"US Headlines - 24-hour flash sale at Best Buy \\u2014 Macs from $749, Switch games from $14 - Tom's Guide\",\"showlegend\":false,\"x\":[\"2023-12-21\"],\"y\":[8.0],\"type\":\"scatter\",\"hovertemplate\":\"%{customdata[0]}<extra></extra>\"},{\"customdata\":[\"TikTok\"],\"legendgroup\":\"TikTok\",\"line\":{\"color\":\"purple\",\"width\":2},\"mode\":\"lines\",\"name\":\"TikTok - 318\",\"showlegend\":false,\"x\":[\"2023-12-19\",\"2023-12-20\"],\"y\":[10.0,10.0],\"type\":\"scatter\",\"hovertemplate\":\"%{customdata[0]}<extra></extra>\"},{\"customdata\":[\"YouTube\"],\"legendgroup\":\"YouTube\",\"line\":{\"color\":\"red\",\"width\":2},\"mode\":\"lines\",\"name\":\"YouTube - 4000 Days - [Hardcore Minecraft]\",\"showlegend\":false,\"x\":[\"2023-12-18\"],\"y\":[8.0],\"type\":\"scatter\",\"hovertemplate\":\"%{customdata[0]}<extra></extra>\"},{\"customdata\":[\"Google\"],\"legendgroup\":\"Google\",\"line\":{\"color\":\"green\",\"width\":2},\"mode\":\"lines\",\"name\":\"Google - 49ers vs Cardinals\",\"showlegend\":false,\"x\":[\"2023-12-18\"],\"y\":[7.0],\"type\":\"scatter\",\"hovertemplate\":\"%{customdata[0]}<extra></extra>\"},{\"customdata\":[\"US Headlines\"],\"legendgroup\":\"US Headlines\",\"line\":{\"color\":\"white\",\"width\":2},\"mode\":\"lines\",\"name\":\"US Headlines - A man accused of rape vanished. Then, a lake yielded a grim discovery. 25 years later, a fresh mystery is revealed - CNN\",\"showlegend\":false,\"x\":[\"2023-12-20\"],\"y\":[1.0],\"type\":\"scatter\",\"hovertemplate\":\"%{customdata[0]}<extra></extra>\"},{\"customdata\":[\"Reddit\"],\"legendgroup\":\"Reddit\",\"line\":{\"color\":\"yellow\",\"width\":2},\"mode\":\"lines\",\"name\":\"Reddit - A wholesome ending\",\"showlegend\":false,\"x\":[\"2023-12-20\"],\"y\":[3.0],\"type\":\"scatter\",\"hovertemplate\":\"%{customdata[0]}<extra></extra>\"},{\"customdata\":[\"Reddit\"],\"legendgroup\":\"Reddit\",\"line\":{\"color\":\"yellow\",\"width\":2},\"mode\":\"lines\",\"name\":\"Reddit - AITA for telling my husband \\\" I told you so\\\" and laughing at me when we got the paternity test results?\",\"showlegend\":false,\"x\":[\"2023-12-21\"],\"y\":[8.0],\"type\":\"scatter\",\"hovertemplate\":\"%{customdata[0]}<extra></extra>\"},{\"customdata\":[\"US Headlines\"],\"legendgroup\":\"US Headlines\",\"line\":{\"color\":\"white\",\"width\":2},\"mode\":\"lines\",\"name\":\"US Headlines - Aaron Rodgers\\u2019 season is (officially) over, so Jets must turn the page to 2024 - The Athletic\",\"showlegend\":false,\"x\":[\"2023-12-21\"],\"y\":[2.0],\"type\":\"scatter\",\"hovertemplate\":\"%{customdata[0]}<extra></extra>\"},{\"customdata\":[\"Global Business News\"],\"legendgroup\":\"Global Business News\",\"line\":{\"color\":\"blue\",\"width\":2},\"mode\":\"lines\",\"name\":\"Global Business News - Adobe explains why it abandoned the Figma deal - The Verge\",\"showlegend\":false,\"x\":[\"2023-12-21\"],\"y\":[9.0],\"type\":\"scatter\",\"hovertemplate\":\"%{customdata[0]}<extra></extra>\"},{\"customdata\":[\"US Headlines\"],\"legendgroup\":\"US Headlines\",\"line\":{\"color\":\"white\",\"width\":2},\"mode\":\"lines\",\"name\":\"US Headlines - Adorable Cat Video Reaches Earth After 19-Million-Mile Journey from Deep Space - Gizmodo\",\"showlegend\":false,\"x\":[\"2023-12-21\"],\"y\":[7.0],\"type\":\"scatter\",\"hovertemplate\":\"%{customdata[0]}<extra></extra>\"},{\"customdata\":[\"US Headlines\"],\"legendgroup\":\"US Headlines\",\"line\":{\"color\":\"white\",\"width\":2},\"mode\":\"lines\",\"name\":\"US Headlines - Alex Batty: British teen found in France returns to UK - BBC.com\",\"showlegend\":false,\"x\":[\"2023-12-18\"],\"y\":[2.0],\"type\":\"scatter\",\"hovertemplate\":\"%{customdata[0]}<extra></extra>\"},{\"customdata\":[\"Reddit\"],\"legendgroup\":\"Reddit\",\"line\":{\"color\":\"yellow\",\"width\":2},\"mode\":\"lines\",\"name\":\"Reddit - An unexpected duet in the lunch hall \",\"showlegend\":false,\"x\":[\"2023-12-20\"],\"y\":[7.0],\"type\":\"scatter\",\"hovertemplate\":\"%{customdata[0]}<extra></extra>\"},{\"customdata\":[\"Google\"],\"legendgroup\":\"Google\",\"line\":{\"color\":\"green\",\"width\":2},\"mode\":\"lines\",\"name\":\"Google - Anthony Edwards\",\"showlegend\":false,\"x\":[\"2023-12-18\",\"2023-12-19\"],\"y\":[2.0,8.0],\"type\":\"scatter\",\"hovertemplate\":\"%{customdata[0]}<extra></extra>\"},{\"customdata\":[\"Google\"],\"legendgroup\":\"Google\",\"line\":{\"color\":\"green\",\"width\":2},\"mode\":\"lines\",\"name\":\"Google - Apple Watch Series 9\",\"showlegend\":false,\"x\":[\"2023-12-19\"],\"y\":[2.0],\"type\":\"scatter\",\"hovertemplate\":\"%{customdata[0]}<extra></extra>\"},{\"customdata\":[\"US Headlines\"],\"legendgroup\":\"US Headlines\",\"line\":{\"color\":\"white\",\"width\":2},\"mode\":\"lines\",\"name\":\"US Headlines - Apple Watch Series 9 sales to be halted over patent dispute - TechCrunch\",\"showlegend\":false,\"x\":[\"2023-12-19\"],\"y\":[1.0],\"type\":\"scatter\",\"hovertemplate\":\"%{customdata[0]}<extra></extra>\"},{\"customdata\":[\"Global Business News\"],\"legendgroup\":\"Global Business News\",\"line\":{\"color\":\"blue\",\"width\":2},\"mode\":\"lines\",\"name\":\"Global Business News - Apple will be halting sales of its Series 9 smartwatch, TechCrunch has confirmed. The news, shared by 9to5Mac, follows an October ruling by the\",\"showlegend\":false,\"x\":[\"2023-12-19\"],\"y\":[1.0],\"type\":\"scatter\",\"hovertemplate\":\"%{customdata[0]}<extra></extra>\"},{\"customdata\":[\"Google\"],\"legendgroup\":\"Google\",\"line\":{\"color\":\"green\",\"width\":2},\"mode\":\"lines\",\"name\":\"Google - Baltimore Ravens\",\"showlegend\":false,\"x\":[\"2023-12-19\"],\"y\":[6.0],\"type\":\"scatter\",\"hovertemplate\":\"%{customdata[0]}<extra></extra>\"},{\"customdata\":[\"Global Business News\"],\"legendgroup\":\"Global Business News\",\"line\":{\"color\":\"blue\",\"width\":2},\"mode\":\"lines\",\"name\":\"Global Business News - Bayer Monsanto: PCB maker ordered to pay $857m for toxic leaks - BBC.com\",\"showlegend\":false,\"x\":[\"2023-12-20\"],\"y\":[1.0],\"type\":\"scatter\",\"hovertemplate\":\"%{customdata[0]}<extra></extra>\"},{\"customdata\":[\"Google\"],\"legendgroup\":\"Google\",\"line\":{\"color\":\"green\",\"width\":2},\"mode\":\"lines\",\"name\":\"Google - Biden\",\"showlegend\":false,\"x\":[\"2023-12-18\"],\"y\":[4.0],\"type\":\"scatter\",\"hovertemplate\":\"%{customdata[0]}<extra></extra>\"},{\"customdata\":[\"Google\"],\"legendgroup\":\"Google\",\"line\":{\"color\":\"green\",\"width\":2},\"mode\":\"lines\",\"name\":\"Google - Bulls\",\"showlegend\":false,\"x\":[\"2023-12-21\"],\"y\":[9.0],\"type\":\"scatter\",\"hovertemplate\":\"%{customdata[0]}<extra></extra>\"},{\"customdata\":[\"Google\"],\"legendgroup\":\"Google\",\"line\":{\"color\":\"green\",\"width\":2},\"mode\":\"lines\",\"name\":\"Google - Celtics\",\"showlegend\":false,\"x\":[\"2023-12-21\"],\"y\":[4.0],\"type\":\"scatter\",\"hovertemplate\":\"%{customdata[0]}<extra></extra>\"},{\"customdata\":[\"Google\"],\"legendgroup\":\"Google\",\"line\":{\"color\":\"green\",\"width\":2},\"mode\":\"lines\",\"name\":\"Google - Celtics vs Warriors\",\"showlegend\":false,\"x\":[\"2023-12-20\"],\"y\":[10.0],\"type\":\"scatter\",\"hovertemplate\":\"%{customdata[0]}<extra></extra>\"},{\"customdata\":[\"Google\"],\"legendgroup\":\"Google\",\"line\":{\"color\":\"green\",\"width\":2},\"mode\":\"lines\",\"name\":\"Google - Chelsea FC\",\"showlegend\":false,\"x\":[\"2023-12-20\"],\"y\":[1.0],\"type\":\"scatter\",\"hovertemplate\":\"%{customdata[0]}<extra></extra>\"},{\"customdata\":[\"Google\"],\"legendgroup\":\"Google\",\"line\":{\"color\":\"green\",\"width\":2},\"mode\":\"lines\",\"name\":\"Google - Chelsea vs Newcastle\",\"showlegend\":false,\"x\":[\"2023-12-20\"],\"y\":[6.0],\"type\":\"scatter\",\"hovertemplate\":\"%{customdata[0]}<extra></extra>\"},{\"customdata\":[\"Google\"],\"legendgroup\":\"Google\",\"line\":{\"color\":\"green\",\"width\":2},\"mode\":\"lines\",\"name\":\"Google - Chiefs\",\"showlegend\":false,\"x\":[\"2023-12-18\"],\"y\":[5.0],\"type\":\"scatter\",\"hovertemplate\":\"%{customdata[0]}<extra></extra>\"},{\"customdata\":[\"Google\"],\"legendgroup\":\"Google\",\"line\":{\"color\":\"green\",\"width\":2},\"mode\":\"lines\",\"name\":\"Google - Clarence Thomas\",\"showlegend\":false,\"x\":[\"2023-12-19\"],\"y\":[1.0],\"type\":\"scatter\",\"hovertemplate\":\"%{customdata[0]}<extra></extra>\"},{\"customdata\":[\"Reddit\"],\"legendgroup\":\"Reddit\",\"line\":{\"color\":\"yellow\",\"width\":2},\"mode\":\"lines\",\"name\":\"Reddit - Colorado Supreme Court kicks Trump off the state's 2024 ballot for violating the U.S. Constitution\",\"showlegend\":false,\"x\":[\"2023-12-20\"],\"y\":[2.0],\"type\":\"scatter\",\"hovertemplate\":\"%{customdata[0]}<extra></extra>\"},{\"customdata\":[\"US Headlines\"],\"legendgroup\":\"US Headlines\",\"line\":{\"color\":\"white\",\"width\":2},\"mode\":\"lines\",\"name\":\"US Headlines - Colorado Supreme Court rules Trump is disqualified from presidency for Jan. 6 riot - CBS News\",\"showlegend\":false,\"x\":[\"2023-12-21\"],\"y\":[9.0],\"type\":\"scatter\",\"hovertemplate\":\"%{customdata[0]}<extra></extra>\"},{\"customdata\":[\"Global Business News\"],\"legendgroup\":\"Global Business News\",\"line\":{\"color\":\"blue\",\"width\":2},\"mode\":\"lines\",\"name\":\"Global Business News - Comcast Says Hackers May Have Accessed Data on Millions of Xfinity Customers - Hollywood Reporter\",\"showlegend\":false,\"x\":[\"2023-12-20\"],\"y\":[8.0],\"type\":\"scatter\",\"hovertemplate\":\"%{customdata[0]}<extra></extra>\"},{\"customdata\":[\"Global Business News\"],\"legendgroup\":\"Global Business News\",\"line\":{\"color\":\"blue\",\"width\":2},\"mode\":\"lines\",\"name\":\"Global Business News - DOMS Share Price Listing Prediction, DOMS Share Listing Date: DOMS IPO will list on NSE and BSE. DOMS shares are commanding a solid grey market premium or GMP in unlisted market. DOMS Share Listing Date, DOMS IPO Listing Date - check here\",\"showlegend\":false,\"x\":[\"2023-12-19\"],\"y\":[9.0],\"type\":\"scatter\",\"hovertemplate\":\"%{customdata[0]}<extra></extra>\"},{\"customdata\":[\"Reddit\"],\"legendgroup\":\"Reddit\",\"line\":{\"color\":\"yellow\",\"width\":2},\"mode\":\"lines\",\"name\":\"Reddit - Dad's note to gay son that hasnt came out yet.\",\"showlegend\":false,\"x\":[\"2023-12-21\"],\"y\":[1.0],\"type\":\"scatter\",\"hovertemplate\":\"%{customdata[0]}<extra></extra>\"},{\"customdata\":[\"YouTube\"],\"legendgroup\":\"YouTube\",\"line\":{\"color\":\"red\",\"width\":2},\"mode\":\"lines\",\"name\":\"YouTube - Drake - You Broke My Heart\",\"showlegend\":false,\"x\":[\"2023-12-21\"],\"y\":[1.0],\"type\":\"scatter\",\"hovertemplate\":\"%{customdata[0]}<extra></extra>\"},{\"customdata\":[\"Google\"],\"legendgroup\":\"Google\",\"line\":{\"color\":\"green\",\"width\":2},\"mode\":\"lines\",\"name\":\"Google - Duke basketball\",\"showlegend\":false,\"x\":[\"2023-12-21\"],\"y\":[7.0],\"type\":\"scatter\",\"hovertemplate\":\"%{customdata[0]}<extra></extra>\"},{\"customdata\":[\"US Headlines\"],\"legendgroup\":\"US Headlines\",\"line\":{\"color\":\"white\",\"width\":2},\"mode\":\"lines\",\"name\":\"US Headlines - Eagles' Jalen Hurts downgraded after illness worsens - ESPN\",\"showlegend\":false,\"x\":[\"2023-12-18\"],\"y\":[6.0],\"type\":\"scatter\",\"hovertemplate\":\"%{customdata[0]}<extra></extra>\"},{\"customdata\":[\"YouTube\"],\"legendgroup\":\"YouTube\",\"line\":{\"color\":\"red\",\"width\":2},\"mode\":\"lines\",\"name\":\"YouTube - Elon Musk: Last Week Tonight with John Oliver (HBO)\",\"showlegend\":false,\"x\":[\"2023-12-18\",\"2023-12-19\"],\"y\":[1.0,8.0],\"type\":\"scatter\",\"hovertemplate\":\"%{customdata[0]}<extra></extra>\"},{\"customdata\":[\"Global Business News\"],\"legendgroup\":\"Global Business News\",\"line\":{\"color\":\"blue\",\"width\":2},\"mode\":\"lines\",\"name\":\"Global Business News - Elon Musk\\u2019s Big Lie About Tesla Is Finally Exposed - Rolling Stone\",\"showlegend\":false,\"x\":[\"2023-12-18\"],\"y\":[10.0],\"type\":\"scatter\",\"hovertemplate\":\"%{customdata[0]}<extra></extra>\"},{\"customdata\":[\"Google\"],\"legendgroup\":\"Google\",\"line\":{\"color\":\"green\",\"width\":2},\"mode\":\"lines\",\"name\":\"Google - Eric Montross\",\"showlegend\":false,\"x\":[\"2023-12-18\"],\"y\":[1.0],\"type\":\"scatter\",\"hovertemplate\":\"%{customdata[0]}<extra></extra>\"},{\"customdata\":[\"YouTube\"],\"legendgroup\":\"YouTube\",\"line\":{\"color\":\"red\",\"width\":2},\"mode\":\"lines\",\"name\":\"YouTube - Every Way To Cook A Potato (43 Ways)\",\"showlegend\":false,\"x\":[\"2023-12-21\"],\"y\":[6.0],\"type\":\"scatter\",\"hovertemplate\":\"%{customdata[0]}<extra></extra>\"},{\"customdata\":[\"Reddit\"],\"legendgroup\":\"Reddit\",\"line\":{\"color\":\"yellow\",\"width\":2},\"mode\":\"lines\",\"name\":\"Reddit - Expect some terrible horror movie announcements in 2 weeks\",\"showlegend\":false,\"x\":[\"2023-12-18\"],\"y\":[5.0],\"type\":\"scatter\",\"hovertemplate\":\"%{customdata[0]}<extra></extra>\"},{\"customdata\":[\"Global Business News\"],\"legendgroup\":\"Global Business News\",\"line\":{\"color\":\"blue\",\"width\":2},\"mode\":\"lines\",\"name\":\"Global Business News - Fed officials are pushing back against the expectations for interest rate cuts that have lifted stocks.\",\"showlegend\":false,\"x\":[\"2023-12-19\"],\"y\":[2.0],\"type\":\"scatter\",\"hovertemplate\":\"%{customdata[0]}<extra></extra>\"},{\"customdata\":[\"Global Business News\"],\"legendgroup\":\"Global Business News\",\"line\":{\"color\":\"blue\",\"width\":2},\"mode\":\"lines\",\"name\":\"Global Business News - Fed officials question stock market surge after rate cut projections - The Hill\",\"showlegend\":false,\"x\":[\"2023-12-21\"],\"y\":[6.0],\"type\":\"scatter\",\"hovertemplate\":\"%{customdata[0]}<extra></extra>\"},{\"customdata\":[\"Global Business News\"],\"legendgroup\":\"Global Business News\",\"line\":{\"color\":\"blue\",\"width\":2},\"mode\":\"lines\",\"name\":\"Global Business News - Federal prosecutors are investigating allegation that Jimmy Haslam attempted to bribe Pilot executives - NBC Sports\",\"showlegend\":false,\"x\":[\"2023-12-18\"],\"y\":[9.0],\"type\":\"scatter\",\"hovertemplate\":\"%{customdata[0]}<extra></extra>\"},{\"customdata\":[\"Reddit\"],\"legendgroup\":\"Reddit\",\"line\":{\"color\":\"yellow\",\"width\":2},\"mode\":\"lines\",\"name\":\"Reddit - First Image from \\u2018COYOTE VS ACME\\u2019\",\"showlegend\":false,\"x\":[\"2023-12-21\"],\"y\":[3.0],\"type\":\"scatter\",\"hovertemplate\":\"%{customdata[0]}<extra></extra>\"},{\"customdata\":[\"Reddit\"],\"legendgroup\":\"Reddit\",\"line\":{\"color\":\"yellow\",\"width\":2},\"mode\":\"lines\",\"name\":\"Reddit - First hike with the kiddo\",\"showlegend\":false,\"x\":[\"2023-12-18\"],\"y\":[9.0],\"type\":\"scatter\",\"hovertemplate\":\"%{customdata[0]}<extra></extra>\"},{\"customdata\":[\"YouTube\"],\"legendgroup\":\"YouTube\",\"line\":{\"color\":\"red\",\"width\":2},\"mode\":\"lines\",\"name\":\"YouTube - Five Nights at Freddy's: Help Wanted 2\",\"showlegend\":false,\"x\":[\"2023-12-19\",\"2023-12-20\"],\"y\":[1.0,7.0],\"type\":\"scatter\",\"hovertemplate\":\"%{customdata[0]}<extra></extra>\"},{\"customdata\":[\"US Headlines\"],\"legendgroup\":\"US Headlines\",\"line\":{\"color\":\"white\",\"width\":2},\"mode\":\"lines\",\"name\":\"US Headlines - Fox News host Kilmeade defends Trump on \\u2018poisoning the blood of our country\\u2019 remarks - The Hill\",\"showlegend\":false,\"x\":[\"2023-12-19\"],\"y\":[9.0],\"type\":\"scatter\",\"hovertemplate\":\"%{customdata[0]}<extra></extra>\"},{\"customdata\":[\"Google\"],\"legendgroup\":\"Google\",\"line\":{\"color\":\"green\",\"width\":2},\"mode\":\"lines\",\"name\":\"Google - Freight\",\"showlegend\":false,\"x\":[\"2023-12-19\"],\"y\":[3.0],\"type\":\"scatter\",\"hovertemplate\":\"%{customdata[0]}<extra></extra>\"},{\"customdata\":[\"Global Business News\"],\"legendgroup\":\"Global Business News\",\"line\":{\"color\":\"blue\",\"width\":2},\"mode\":\"lines\",\"name\":\"Global Business News - GM: Half of Buick dealers took buyouts in 2023 - Detroit Free Press\",\"showlegend\":false,\"x\":[\"2023-12-21\"],\"y\":[10.0],\"type\":\"scatter\",\"hovertemplate\":\"%{customdata[0]}<extra></extra>\"},{\"customdata\":[\"YouTube\"],\"legendgroup\":\"YouTube\",\"line\":{\"color\":\"red\",\"width\":2},\"mode\":\"lines\",\"name\":\"YouTube - Galactus VS Unicron (Marvel Comics VS Transformers) | DEATH BATTLE!\",\"showlegend\":false,\"x\":[\"2023-12-19\"],\"y\":[3.0],\"type\":\"scatter\",\"hovertemplate\":\"%{customdata[0]}<extra></extra>\"},{\"customdata\":[\"Google\"],\"legendgroup\":\"Google\",\"line\":{\"color\":\"green\",\"width\":2},\"mode\":\"lines\",\"name\":\"Google - Geno Smith\",\"showlegend\":false,\"x\":[\"2023-12-19\"],\"y\":[9.0],\"type\":\"scatter\",\"hovertemplate\":\"%{customdata[0]}<extra></extra>\"},{\"customdata\":[\"YouTube\"],\"legendgroup\":\"YouTube\",\"line\":{\"color\":\"red\",\"width\":2},\"mode\":\"lines\",\"name\":\"YouTube - Geometry Dash 2.2 Released\",\"showlegend\":false,\"x\":[\"2023-12-20\"],\"y\":[10.0],\"type\":\"scatter\",\"hovertemplate\":\"%{customdata[0]}<extra></extra>\"},{\"customdata\":[\"YouTube\"],\"legendgroup\":\"YouTube\",\"line\":{\"color\":\"red\",\"width\":2},\"mode\":\"lines\",\"name\":\"YouTube - George Santos Answers Hard-Hitting Questions | Ziwe Interview\",\"showlegend\":false,\"x\":[\"2023-12-20\"],\"y\":[9.0],\"type\":\"scatter\",\"hovertemplate\":\"%{customdata[0]}<extra></extra>\"},{\"customdata\":[\"Google\"],\"legendgroup\":\"Google\",\"line\":{\"color\":\"green\",\"width\":2},\"mode\":\"lines\",\"name\":\"Google - Giants\",\"showlegend\":false,\"x\":[\"2023-12-18\"],\"y\":[9.0],\"type\":\"scatter\",\"hovertemplate\":\"%{customdata[0]}<extra></extra>\"},{\"customdata\":[\"US Headlines\"],\"legendgroup\":\"US Headlines\",\"line\":{\"color\":\"white\",\"width\":2},\"mode\":\"lines\",\"name\":\"US Headlines - Glacial Pathfinders: Tracing North America's First Migrants via the Sea Ice Highway - SciTechDaily\",\"showlegend\":false,\"x\":[\"2023-12-18\"],\"y\":[8.0],\"type\":\"scatter\",\"hovertemplate\":\"%{customdata[0]}<extra></extra>\"},{\"customdata\":[\"Reddit\"],\"legendgroup\":\"Reddit\",\"line\":{\"color\":\"yellow\",\"width\":2},\"mode\":\"lines\",\"name\":\"Reddit - Gluing themselves to table is is so brave, wow.\",\"showlegend\":false,\"x\":[\"2023-12-18\"],\"y\":[4.0],\"type\":\"scatter\",\"hovertemplate\":\"%{customdata[0]}<extra></extra>\"},{\"customdata\":[\"Global Business News\"],\"legendgroup\":\"Global Business News\",\"line\":{\"color\":\"blue\",\"width\":2},\"mode\":\"lines\",\"name\":\"Global Business News - Gold Price Forecast: No reason for any significant downward correction of XAU/USD \\u2013 Commerzbank - FXStreet\",\"showlegend\":false,\"x\":[\"2023-12-20\"],\"y\":[6.0],\"type\":\"scatter\",\"hovertemplate\":\"%{customdata[0]}<extra></extra>\"},{\"customdata\":[\"Google\"],\"legendgroup\":\"Google\",\"line\":{\"color\":\"green\",\"width\":2},\"mode\":\"lines\",\"name\":\"Google - Green Bay Packers\",\"showlegend\":false,\"x\":[\"2023-12-18\"],\"y\":[10.0],\"type\":\"scatter\",\"hovertemplate\":\"%{customdata[0]}<extra></extra>\"},{\"customdata\":[\"YouTube\"],\"legendgroup\":\"YouTube\",\"line\":{\"color\":\"red\",\"width\":2},\"mode\":\"lines\",\"name\":\"YouTube - He's In The VENTS?! - FNAF VR 2 Like Mexican\",\"showlegend\":false,\"x\":[\"2023-12-19\"],\"y\":[5.0],\"type\":\"scatter\",\"hovertemplate\":\"%{customdata[0]}<extra></extra>\"},{\"customdata\":[\"Global Business News\"],\"legendgroup\":\"Global Business News\",\"line\":{\"color\":\"blue\",\"width\":2},\"mode\":\"lines\",\"name\":\"Global Business News - Here's How Much the 2024 Subaru WRX TR Costs - Road & Track\",\"showlegend\":false,\"x\":[\"2023-12-21\"],\"y\":[8.0],\"type\":\"scatter\",\"hovertemplate\":\"%{customdata[0]}<extra></extra>\"},{\"customdata\":[\"YouTube\"],\"legendgroup\":\"YouTube\",\"line\":{\"color\":\"red\",\"width\":2},\"mode\":\"lines\",\"name\":\"YouTube - House of Secrets: 9 children hidden for years in Oklahoma home found after police tip\",\"showlegend\":false,\"x\":[\"2023-12-21\"],\"y\":[4.0],\"type\":\"scatter\",\"hovertemplate\":\"%{customdata[0]}<extra></extra>\"},{\"customdata\":[\"YouTube\"],\"legendgroup\":\"YouTube\",\"line\":{\"color\":\"red\",\"width\":2},\"mode\":\"lines\",\"name\":\"YouTube - How Ja Morant was in the Locker Room\",\"showlegend\":false,\"x\":[\"2023-12-20\"],\"y\":[3.0],\"type\":\"scatter\",\"hovertemplate\":\"%{customdata[0]}<extra></extra>\"},{\"customdata\":[\"US Headlines\"],\"legendgroup\":\"US Headlines\",\"line\":{\"color\":\"white\",\"width\":2},\"mode\":\"lines\",\"name\":\"US Headlines - How to watch today's Kansas City Chiefs vs. New England Patriots game on Fox - Yahoo Sports\",\"showlegend\":false,\"x\":[\"2023-12-18\"],\"y\":[1.0],\"type\":\"scatter\",\"hovertemplate\":\"%{customdata[0]}<extra></extra>\"},{\"customdata\":[\"US Headlines\"],\"legendgroup\":\"US Headlines\",\"line\":{\"color\":\"white\",\"width\":2},\"mode\":\"lines\",\"name\":\"US Headlines - Humanitarian crisis in Gaza deepens as fighting rages | DW News - DW News\",\"showlegend\":false,\"x\":[\"2023-12-18\"],\"y\":[5.0],\"type\":\"scatter\",\"hovertemplate\":\"%{customdata[0]}<extra></extra>\"},{\"customdata\":[\"YouTube\"],\"legendgroup\":\"YouTube\",\"line\":{\"color\":\"red\",\"width\":2},\"mode\":\"lines\",\"name\":\"YouTube - I Bought 100 UNCLAIMED MAIL PACKAGES\",\"showlegend\":false,\"x\":[\"2023-12-18\"],\"y\":[6.0],\"type\":\"scatter\",\"hovertemplate\":\"%{customdata[0]}<extra></extra>\"},{\"customdata\":[\"YouTube\"],\"legendgroup\":\"YouTube\",\"line\":{\"color\":\"red\",\"width\":2},\"mode\":\"lines\",\"name\":\"YouTube - I Tested 1-Star Camping\",\"showlegend\":false,\"x\":[\"2023-12-21\"],\"y\":[2.0],\"type\":\"scatter\",\"hovertemplate\":\"%{customdata[0]}<extra></extra>\"},{\"customdata\":[\"YouTube\"],\"legendgroup\":\"YouTube\",\"line\":{\"color\":\"red\",\"width\":2},\"mode\":\"lines\",\"name\":\"YouTube - I Took A 52-Hour Overnight Train Across America\",\"showlegend\":false,\"x\":[\"2023-12-18\"],\"y\":[4.0],\"type\":\"scatter\",\"hovertemplate\":\"%{customdata[0]}<extra></extra>\"},{\"customdata\":[\"YouTube\"],\"legendgroup\":\"YouTube\",\"line\":{\"color\":\"red\",\"width\":2},\"mode\":\"lines\",\"name\":\"YouTube - I made an Ai Secretary to answer my actual emails\",\"showlegend\":false,\"x\":[\"2023-12-19\"],\"y\":[4.0],\"type\":\"scatter\",\"hovertemplate\":\"%{customdata[0]}<extra></extra>\"},{\"customdata\":[\"YouTube\"],\"legendgroup\":\"YouTube\",\"line\":{\"color\":\"red\",\"width\":2},\"mode\":\"lines\",\"name\":\"YouTube - ITZY \\\"BORN TO BE\\\" M/V @ITZY\",\"showlegend\":false,\"x\":[\"2023-12-18\"],\"y\":[7.0],\"type\":\"scatter\",\"hovertemplate\":\"%{customdata[0]}<extra></extra>\"},{\"customdata\":[\"Google\"],\"legendgroup\":\"Google\",\"line\":{\"color\":\"green\",\"width\":2},\"mode\":\"lines\",\"name\":\"Google - Iceland volcano\",\"showlegend\":false,\"x\":[\"2023-12-19\"],\"y\":[5.0],\"type\":\"scatter\",\"hovertemplate\":\"%{customdata[0]}<extra></extra>\"},{\"customdata\":[\"Reddit\"],\"legendgroup\":\"Reddit\",\"line\":{\"color\":\"yellow\",\"width\":2},\"mode\":\"lines\",\"name\":\"Reddit - If you only watch ONE video today, watch student Zander Moricz BRILLIANTLY call out the anti-LGBTQ hypocrisy of Moms for Liberty threesome member Bridget Ziegler. \\ud83d\\udea8This is incredible.\",\"showlegend\":false,\"x\":[\"2023-12-19\"],\"y\":[6.0],\"type\":\"scatter\",\"hovertemplate\":\"%{customdata[0]}<extra></extra>\"},{\"customdata\":[\"Global Business News\"],\"legendgroup\":\"Global Business News\",\"line\":{\"color\":\"blue\",\"width\":2},\"mode\":\"lines\",\"name\":\"Global Business News - In the past half-year, IndiGo has expanded its global presence by incorporating over 20 additional international routes into its network.\",\"showlegend\":false,\"x\":[\"2023-12-19\"],\"y\":[7.0],\"type\":\"scatter\",\"hovertemplate\":\"%{customdata[0]}<extra></extra>\"},{\"customdata\":[\"US Headlines\"],\"legendgroup\":\"US Headlines\",\"line\":{\"color\":\"white\",\"width\":2},\"mode\":\"lines\",\"name\":\"US Headlines - Inside the 'Gaza metro': Israel displays Hamas tunnel big enough for a car - Financial Times\",\"showlegend\":false,\"x\":[\"2023-12-18\"],\"y\":[7.0],\"type\":\"scatter\",\"hovertemplate\":\"%{customdata[0]}<extra></extra>\"},{\"customdata\":[\"YouTube\"],\"legendgroup\":\"YouTube\",\"line\":{\"color\":\"red\",\"width\":2},\"mode\":\"lines\",\"name\":\"YouTube - Is the Las Vegas Sphere Worth It?\",\"showlegend\":false,\"x\":[\"2023-12-21\"],\"y\":[3.0],\"type\":\"scatter\",\"hovertemplate\":\"%{customdata[0]}<extra></extra>\"},{\"customdata\":[\"Google\"],\"legendgroup\":\"Google\",\"line\":{\"color\":\"green\",\"width\":2},\"mode\":\"lines\",\"name\":\"Google - Ja Morant\",\"showlegend\":false,\"x\":[\"2023-12-20\"],\"y\":[3.0],\"type\":\"scatter\",\"hovertemplate\":\"%{customdata[0]}<extra></extra>\"},{\"customdata\":[\"US Headlines\"],\"legendgroup\":\"US Headlines\",\"line\":{\"color\":\"white\",\"width\":2},\"mode\":\"lines\",\"name\":\"US Headlines - Jennifer Love Hewitt on aging, claims she looks 'unrecognizable' - USA TODAY\",\"showlegend\":false,\"x\":[\"2023-12-20\"],\"y\":[8.0],\"type\":\"scatter\",\"hovertemplate\":\"%{customdata[0]}<extra></extra>\"},{\"customdata\":[\"Global Business News\"],\"legendgroup\":\"Global Business News\",\"line\":{\"color\":\"blue\",\"width\":2},\"mode\":\"lines\",\"name\":\"Global Business News - John Oliver devoted an entire 'Last Week Tonight' segment to rehashing the past 12 months in the life of billionaire and tech mogul Elon Musk.\",\"showlegend\":false,\"x\":[\"2023-12-19\"],\"y\":[10.0],\"type\":\"scatter\",\"hovertemplate\":\"%{customdata[0]}<extra></extra>\"},{\"customdata\":[\"Google\"],\"legendgroup\":\"Google\",\"line\":{\"color\":\"green\",\"width\":2},\"mode\":\"lines\",\"name\":\"Google - John Schneider\",\"showlegend\":false,\"x\":[\"2023-12-21\"],\"y\":[3.0],\"type\":\"scatter\",\"hovertemplate\":\"%{customdata[0]}<extra></extra>\"},{\"customdata\":[\"Google\"],\"legendgroup\":\"Google\",\"line\":{\"color\":\"green\",\"width\":2},\"mode\":\"lines\",\"name\":\"Google - Jonathan Majors\",\"showlegend\":false,\"x\":[\"2023-12-19\"],\"y\":[4.0],\"type\":\"scatter\",\"hovertemplate\":\"%{customdata[0]}<extra></extra>\"},{\"customdata\":[\"US Headlines\"],\"legendgroup\":\"US Headlines\",\"line\":{\"color\":\"white\",\"width\":2},\"mode\":\"lines\",\"name\":\"US Headlines - Jury finds Jonathan Majors guilty of assault and harassment of ex-girlfriend - NBC News\",\"showlegend\":false,\"x\":[\"2023-12-20\"],\"y\":[4.0],\"type\":\"scatter\",\"hovertemplate\":\"%{customdata[0]}<extra></extra>\"},{\"customdata\":[\"Reddit\"],\"legendgroup\":\"Reddit\",\"line\":{\"color\":\"yellow\",\"width\":2},\"mode\":\"lines\",\"name\":\"Reddit - Jyoti Amge , she is the world's shortest women , with a height 62.8 cm, she is 30 years old \",\"showlegend\":false,\"x\":[\"2023-12-20\"],\"y\":[6.0],\"type\":\"scatter\",\"hovertemplate\":\"%{customdata[0]}<extra></extra>\"},{\"customdata\":[\"Reddit\"],\"legendgroup\":\"Reddit\",\"line\":{\"color\":\"yellow\",\"width\":2},\"mode\":\"lines\",\"name\":\"Reddit - Lavish lunches\",\"showlegend\":false,\"x\":[\"2023-12-21\"],\"y\":[5.0],\"type\":\"scatter\",\"hovertemplate\":\"%{customdata[0]}<extra></extra>\"},{\"customdata\":[\"YouTube\"],\"legendgroup\":\"YouTube\",\"line\":{\"color\":\"red\",\"width\":2},\"mode\":\"lines\",\"name\":\"YouTube - Lego Fortnite Meme Olympics\",\"showlegend\":false,\"x\":[\"2023-12-21\"],\"y\":[9.0],\"type\":\"scatter\",\"hovertemplate\":\"%{customdata[0]}<extra></extra>\"},{\"customdata\":[\"Google\"],\"legendgroup\":\"Google\",\"line\":{\"color\":\"green\",\"width\":2},\"mode\":\"lines\",\"name\":\"Google - Leonard Bernstein\",\"showlegend\":false,\"x\":[\"2023-12-21\"],\"y\":[2.0],\"type\":\"scatter\",\"hovertemplate\":\"%{customdata[0]}<extra></extra>\"},{\"customdata\":[\"Global Business News\"],\"legendgroup\":\"Global Business News\",\"line\":{\"color\":\"blue\",\"width\":2},\"mode\":\"lines\",\"name\":\"Global Business News - Liz Weston: Confusion about retirement fund minimum distributions can cause expensive mistakes - OregonLive\",\"showlegend\":false,\"x\":[\"2023-12-18\"],\"y\":[6.0],\"type\":\"scatter\",\"hovertemplate\":\"%{customdata[0]}<extra></extra>\"},{\"customdata\":[\"YouTube\"],\"legendgroup\":\"YouTube\",\"line\":{\"color\":\"red\",\"width\":2},\"mode\":\"lines\",\"name\":\"YouTube - MI ULTIMO VIDEO / Kimberly Loaiza\",\"showlegend\":false,\"x\":[\"2023-12-20\"],\"y\":[6.0],\"type\":\"scatter\",\"hovertemplate\":\"%{customdata[0]}<extra></extra>\"},{\"customdata\":[\"Reddit\"],\"legendgroup\":\"Reddit\",\"line\":{\"color\":\"yellow\",\"width\":2},\"mode\":\"lines\",\"name\":\"Reddit - Making traditional Mahjong tiles\",\"showlegend\":false,\"x\":[\"2023-12-18\"],\"y\":[8.0],\"type\":\"scatter\",\"hovertemplate\":\"%{customdata[0]}<extra></extra>\"},{\"customdata\":[\"Google\"],\"legendgroup\":\"Google\",\"line\":{\"color\":\"green\",\"width\":2},\"mode\":\"lines\",\"name\":\"Google - Man City\",\"showlegend\":false,\"x\":[\"2023-12-20\"],\"y\":[9.0],\"type\":\"scatter\",\"hovertemplate\":\"%{customdata[0]}<extra></extra>\"},{\"customdata\":[\"Global Business News\"],\"legendgroup\":\"Global Business News\",\"line\":{\"color\":\"blue\",\"width\":2},\"mode\":\"lines\",\"name\":\"Global Business News - Market Week Ahead: Gold Regains $2k, GBP/USD, EUR/USD Rally as USD Slides - DailyFX\",\"showlegend\":false,\"x\":[\"2023-12-18\"],\"y\":[2.0],\"type\":\"scatter\",\"hovertemplate\":\"%{customdata[0]}<extra></extra>\"},{\"customdata\":[\"Global Business News\"],\"legendgroup\":\"Global Business News\",\"line\":{\"color\":\"blue\",\"width\":2},\"mode\":\"lines\",\"name\":\"Global Business News - Mcap Of 9 Most Valued Firms Jumps Rs 2.26 Lakh Cr; TCS, Infosys Biggest Gainers - News18\",\"showlegend\":false,\"x\":[\"2023-12-18\"],\"y\":[8.0],\"type\":\"scatter\",\"hovertemplate\":\"%{customdata[0]}<extra></extra>\"},{\"customdata\":[\"Reddit\"],\"legendgroup\":\"Reddit\",\"line\":{\"color\":\"yellow\",\"width\":2},\"mode\":\"lines\",\"name\":\"Reddit - Me irl\",\"showlegend\":false,\"x\":[\"2023-12-19\"],\"y\":[1.0],\"type\":\"scatter\",\"hovertemplate\":\"%{customdata[0]}<extra></extra>\"},{\"customdata\":[\"Reddit\"],\"legendgroup\":\"Reddit\",\"line\":{\"color\":\"yellow\",\"width\":2},\"mode\":\"lines\",\"name\":\"Reddit - Megathread: Colorado Supreme Court Rules Trump is Ineligible to Appear on Ballot Due to 14th Amendment; Appeal Likely to Reach US Supreme Court\",\"showlegend\":false,\"x\":[\"2023-12-20\"],\"y\":[4.0],\"type\":\"scatter\",\"hovertemplate\":\"%{customdata[0]}<extra></extra>\"},{\"customdata\":[\"Reddit\"],\"legendgroup\":\"Reddit\",\"line\":{\"color\":\"yellow\",\"width\":2},\"mode\":\"lines\",\"name\":\"Reddit - Meirl\",\"showlegend\":false,\"x\":[\"2023-12-20\"],\"y\":[10.0],\"type\":\"scatter\",\"hovertemplate\":\"%{customdata[0]}<extra></extra>\"},{\"customdata\":[\"YouTube\"],\"legendgroup\":\"YouTube\",\"line\":{\"color\":\"red\",\"width\":2},\"mode\":\"lines\",\"name\":\"YouTube - Melanie Martinez - TUNNEL VISION (Official Video)\",\"showlegend\":false,\"x\":[\"2023-12-20\",\"2023-12-21\"],\"y\":[1.0,10.0],\"type\":\"scatter\",\"hovertemplate\":\"%{customdata[0]}<extra></extra>\"},{\"customdata\":[\"Google\"],\"legendgroup\":\"Google\",\"line\":{\"color\":\"green\",\"width\":2},\"mode\":\"lines\",\"name\":\"Google - Miami Dolphins\",\"showlegend\":false,\"x\":[\"2023-12-18\"],\"y\":[6.0],\"type\":\"scatter\",\"hovertemplate\":\"%{customdata[0]}<extra></extra>\"},{\"customdata\":[\"YouTube\"],\"legendgroup\":\"YouTube\",\"line\":{\"color\":\"red\",\"width\":2},\"mode\":\"lines\",\"name\":\"YouTube - Migrants converge on border after SB4 signed\",\"showlegend\":false,\"x\":[\"2023-12-20\"],\"y\":[5.0],\"type\":\"scatter\",\"hovertemplate\":\"%{customdata[0]}<extra></extra>\"},{\"customdata\":[\"Google\"],\"legendgroup\":\"Google\",\"line\":{\"color\":\"green\",\"width\":2},\"mode\":\"lines\",\"name\":\"Google - Minnesota flag\",\"showlegend\":false,\"x\":[\"2023-12-20\"],\"y\":[8.0],\"type\":\"scatter\",\"hovertemplate\":\"%{customdata[0]}<extra></extra>\"},{\"customdata\":[\"Global Business News\"],\"legendgroup\":\"Global Business News\",\"line\":{\"color\":\"blue\",\"width\":2},\"mode\":\"lines\",\"name\":\"Global Business News - Mr. Cooper is sending notices of a data breach to customers who were impacted by a cyberattack the firm suffered in November 2023.\",\"showlegend\":false,\"x\":[\"2023-12-19\"],\"y\":[8.0],\"type\":\"scatter\",\"hovertemplate\":\"%{customdata[0]}<extra></extra>\"},{\"customdata\":[\"Reddit\"],\"legendgroup\":\"Reddit\",\"line\":{\"color\":\"yellow\",\"width\":2},\"mode\":\"lines\",\"name\":\"Reddit - My dad (middle) and his friends 1977\",\"showlegend\":false,\"x\":[\"2023-12-18\"],\"y\":[6.0],\"type\":\"scatter\",\"hovertemplate\":\"%{customdata[0]}<extra></extra>\"},{\"customdata\":[\"Reddit\"],\"legendgroup\":\"Reddit\",\"line\":{\"color\":\"yellow\",\"width\":2},\"mode\":\"lines\",\"name\":\"Reddit - My dad has a handicap placard and walks with a limp post hip surgery\",\"showlegend\":false,\"x\":[\"2023-12-19\"],\"y\":[3.0],\"type\":\"scatter\",\"hovertemplate\":\"%{customdata[0]}<extra></extra>\"},{\"customdata\":[\"YouTube\"],\"legendgroup\":\"YouTube\",\"line\":{\"color\":\"red\",\"width\":2},\"mode\":\"lines\",\"name\":\"YouTube - My viewers sent me AWFUL Christmas Gifts\",\"showlegend\":false,\"x\":[\"2023-12-19\"],\"y\":[7.0],\"type\":\"scatter\",\"hovertemplate\":\"%{customdata[0]}<extra></extra>\"},{\"customdata\":[\"YouTube\"],\"legendgroup\":\"YouTube\",\"line\":{\"color\":\"red\",\"width\":2},\"mode\":\"lines\",\"name\":\"YouTube - Mystery Detective Battle\",\"showlegend\":false,\"x\":[\"2023-12-18\"],\"y\":[9.0],\"type\":\"scatter\",\"hovertemplate\":\"%{customdata[0]}<extra></extra>\"},{\"customdata\":[\"US Headlines\"],\"legendgroup\":\"US Headlines\",\"line\":{\"color\":\"white\",\"width\":2},\"mode\":\"lines\",\"name\":\"US Headlines - NFL Power Rankings Week 16: Remember, no team pursued franchise-tagged Lamar Jackson - Yahoo Sports\",\"showlegend\":false,\"x\":[\"2023-12-20\"],\"y\":[5.0],\"type\":\"scatter\",\"hovertemplate\":\"%{customdata[0]}<extra></extra>\"},{\"customdata\":[\"US Headlines\"],\"legendgroup\":\"US Headlines\",\"line\":{\"color\":\"white\",\"width\":2},\"mode\":\"lines\",\"name\":\"US Headlines - NFL Week 15 Saturday grades: Lions earn 'A+' for Broncos beatdown, Bengals 'B+' for overtime win vs. Vikings - CBS Sports\",\"showlegend\":false,\"x\":[\"2023-12-18\"],\"y\":[4.0],\"type\":\"scatter\",\"hovertemplate\":\"%{customdata[0]}<extra></extra>\"},{\"customdata\":[\"US Headlines\"],\"legendgroup\":\"US Headlines\",\"line\":{\"color\":\"white\",\"width\":2},\"mode\":\"lines\",\"name\":\"US Headlines - Nikola Founder Trevor Milton Sentenced to Four Years for Fraud - Yahoo Finance\",\"showlegend\":false,\"x\":[\"2023-12-20\",\"2023-12-20\"],\"y\":[10.0,9.0],\"type\":\"scatter\",\"hovertemplate\":\"%{customdata[0]}<extra></extra>\"},{\"customdata\":[\"US Headlines\"],\"legendgroup\":\"US Headlines\",\"line\":{\"color\":\"white\",\"width\":2},\"mode\":\"lines\",\"name\":\"US Headlines - North Carolina basketball star Eric Montross dies at age 52 - ESPN\",\"showlegend\":false,\"x\":[\"2023-12-19\"],\"y\":[10.0],\"type\":\"scatter\",\"hovertemplate\":\"%{customdata[0]}<extra></extra>\"},{\"customdata\":[\"US Headlines\"],\"legendgroup\":\"US Headlines\",\"line\":{\"color\":\"white\",\"width\":2},\"mode\":\"lines\",\"name\":\"US Headlines - North Korea fires short-range missile, condemns U.S. for raising tensions - Reuters\",\"showlegend\":false,\"x\":[\"2023-12-18\"],\"y\":[10.0],\"type\":\"scatter\",\"hovertemplate\":\"%{customdata[0]}<extra></extra>\"},{\"customdata\":[\"Reddit\"],\"legendgroup\":\"Reddit\",\"line\":{\"color\":\"yellow\",\"width\":2},\"mode\":\"lines\",\"name\":\"Reddit - Not sad for long\",\"showlegend\":false,\"x\":[\"2023-12-21\"],\"y\":[6.0],\"type\":\"scatter\",\"hovertemplate\":\"%{customdata[0]}<extra></extra>\"},{\"customdata\":[\"Global Business News\"],\"legendgroup\":\"Global Business News\",\"line\":{\"color\":\"blue\",\"width\":2},\"mode\":\"lines\",\"name\":\"Global Business News - One grounded airline plans to fly again, in January with Ayodhya flights - IndiaTimes\",\"showlegend\":false,\"x\":[\"2023-12-18\"],\"y\":[4.0],\"type\":\"scatter\",\"hovertemplate\":\"%{customdata[0]}<extra></extra>\"},{\"customdata\":[\"Reddit\"],\"legendgroup\":\"Reddit\",\"line\":{\"color\":\"yellow\",\"width\":2},\"mode\":\"lines\",\"name\":\"Reddit - One number away for winning $10,000,000\",\"showlegend\":false,\"x\":[\"2023-12-20\"],\"y\":[5.0],\"type\":\"scatter\",\"hovertemplate\":\"%{customdata[0]}<extra></extra>\"},{\"customdata\":[\"YouTube\"],\"legendgroup\":\"YouTube\",\"line\":{\"color\":\"red\",\"width\":2},\"mode\":\"lines\",\"name\":\"YouTube - Our Dream Home Might Be Haunted!\",\"showlegend\":false,\"x\":[\"2023-12-21\"],\"y\":[5.0],\"type\":\"scatter\",\"hovertemplate\":\"%{customdata[0]}<extra></extra>\"},{\"customdata\":[\"Reddit\"],\"legendgroup\":\"Reddit\",\"line\":{\"color\":\"yellow\",\"width\":2},\"mode\":\"lines\",\"name\":\"Reddit - Our physics exams were accidentally thrown out\",\"showlegend\":false,\"x\":[\"2023-12-19\"],\"y\":[8.0],\"type\":\"scatter\",\"hovertemplate\":\"%{customdata[0]}<extra></extra>\"},{\"customdata\":[\"Google\"],\"legendgroup\":\"Google\",\"line\":{\"color\":\"green\",\"width\":2},\"mode\":\"lines\",\"name\":\"Google - Packers\",\"showlegend\":false,\"x\":[\"2023-12-18\"],\"y\":[8.0],\"type\":\"scatter\",\"hovertemplate\":\"%{customdata[0]}<extra></extra>\"},{\"customdata\":[\"Global Business News\"],\"legendgroup\":\"Global Business News\",\"line\":{\"color\":\"blue\",\"width\":2},\"mode\":\"lines\",\"name\":\"Global Business News - Panasonic says Oklahoma no longer candidate for new battery plant - Reuters\",\"showlegend\":false,\"x\":[\"2023-12-21\"],\"y\":[1.0],\"type\":\"scatter\",\"hovertemplate\":\"%{customdata[0]}<extra></extra>\"},{\"customdata\":[\"Google\"],\"legendgroup\":\"Google\",\"line\":{\"color\":\"green\",\"width\":2},\"mode\":\"lines\",\"name\":\"Google - Percy Jackson\",\"showlegend\":false,\"x\":[\"2023-12-20\"],\"y\":[7.0],\"type\":\"scatter\",\"hovertemplate\":\"%{customdata[0]}<extra></extra>\"},{\"customdata\":[\"Reddit\"],\"legendgroup\":\"Reddit\",\"line\":{\"color\":\"yellow\",\"width\":2},\"mode\":\"lines\",\"name\":\"Reddit - Petah help!!!\",\"showlegend\":false,\"x\":[\"2023-12-18\"],\"y\":[3.0],\"type\":\"scatter\",\"hovertemplate\":\"%{customdata[0]}<extra></extra>\"},{\"customdata\":[\"YouTube\"],\"legendgroup\":\"YouTube\",\"line\":{\"color\":\"red\",\"width\":2},\"mode\":\"lines\",\"name\":\"YouTube - Peyton & Eli Manning react to the Seahawks Game Winning Touchdown on the ManningCast\",\"showlegend\":false,\"x\":[\"2023-12-19\",\"2023-12-20\"],\"y\":[2.0,4.0],\"type\":\"scatter\",\"hovertemplate\":\"%{customdata[0]}<extra></extra>\"},{\"customdata\":[\"Google\"],\"legendgroup\":\"Google\",\"line\":{\"color\":\"green\",\"width\":2},\"mode\":\"lines\",\"name\":\"Google - Philadelphia Eagles\",\"showlegend\":false,\"x\":[\"2023-12-20\"],\"y\":[5.0],\"type\":\"scatter\",\"hovertemplate\":\"%{customdata[0]}<extra></extra>\"},{\"customdata\":[\"US Headlines\"],\"legendgroup\":\"US Headlines\",\"line\":{\"color\":\"white\",\"width\":2},\"mode\":\"lines\",\"name\":\"US Headlines - Polish state TV channel halts broadcasting in standoff with Tusk - Financial Times\",\"showlegend\":false,\"x\":[\"2023-12-21\"],\"y\":[5.0],\"type\":\"scatter\",\"hovertemplate\":\"%{customdata[0]}<extra></extra>\"},{\"customdata\":[\"US Headlines\"],\"legendgroup\":\"US Headlines\",\"line\":{\"color\":\"white\",\"width\":2},\"mode\":\"lines\",\"name\":\"US Headlines - Pope Francis says priests can bless same-sex couples but marriage is between a man and a woman - CBS News\",\"showlegend\":false,\"x\":[\"2023-12-19\"],\"y\":[2.0],\"type\":\"scatter\",\"hovertemplate\":\"%{customdata[0]}<extra></extra>\"},{\"customdata\":[\"Reddit\"],\"legendgroup\":\"Reddit\",\"line\":{\"color\":\"yellow\",\"width\":2},\"mode\":\"lines\",\"name\":\"Reddit - Popular YouTuber and fallout/elder scrolls fan \\u201cMitten Squad\\u201d has passed away at 27\",\"showlegend\":false,\"x\":[\"2023-12-20\"],\"y\":[8.0],\"type\":\"scatter\",\"hovertemplate\":\"%{customdata[0]}<extra></extra>\"},{\"customdata\":[\"US Headlines\"],\"legendgroup\":\"US Headlines\",\"line\":{\"color\":\"white\",\"width\":2},\"mode\":\"lines\",\"name\":\"US Headlines - Powerful Northeast storm knocks out power to tens of thousands and forces water rescues - CNN\",\"showlegend\":false,\"x\":[\"2023-12-19\"],\"y\":[4.0],\"type\":\"scatter\",\"hovertemplate\":\"%{customdata[0]}<extra></extra>\"},{\"customdata\":[\"YouTube\"],\"legendgroup\":\"YouTube\",\"line\":{\"color\":\"red\",\"width\":2},\"mode\":\"lines\",\"name\":\"YouTube - Presidential Pets: a Brief History\",\"showlegend\":false,\"x\":[\"2023-12-18\"],\"y\":[2.0],\"type\":\"scatter\",\"hovertemplate\":\"%{customdata[0]}<extra></extra>\"},{\"customdata\":[\"US Headlines\"],\"legendgroup\":\"US Headlines\",\"line\":{\"color\":\"white\",\"width\":2},\"mode\":\"lines\",\"name\":\"US Headlines - Princess of Wales Shares Her Adorable Christmas Baby Photo - The Royal Family Channel\",\"showlegend\":false,\"x\":[\"2023-12-19\"],\"y\":[7.0],\"type\":\"scatter\",\"hovertemplate\":\"%{customdata[0]}<extra></extra>\"},{\"customdata\":[\"YouTube\"],\"legendgroup\":\"YouTube\",\"line\":{\"color\":\"red\",\"width\":2},\"mode\":\"lines\",\"name\":\"YouTube - REGRESAMOS POR ESTA RAZ\\u00d3N \\ud83d\\ude31 Juan de Dios Pantoja\",\"showlegend\":false,\"x\":[\"2023-12-20\"],\"y\":[2.0],\"type\":\"scatter\",\"hovertemplate\":\"%{customdata[0]}<extra></extra>\"},{\"customdata\":[\"Global Business News\"],\"legendgroup\":\"Global Business News\",\"line\":{\"color\":\"blue\",\"width\":2},\"mode\":\"lines\",\"name\":\"Global Business News - Recession fears hit IT sector, Infosys, major players announce drastic cuts in pay hikes, promotions - Daijiworld.com\",\"showlegend\":false,\"x\":[\"2023-12-18\"],\"y\":[3.0],\"type\":\"scatter\",\"hovertemplate\":\"%{customdata[0]}<extra></extra>\"},{\"customdata\":[\"Google\"],\"legendgroup\":\"Google\",\"line\":{\"color\":\"green\",\"width\":2},\"mode\":\"lines\",\"name\":\"Google - Ruby Franke\",\"showlegend\":false,\"x\":[\"2023-12-19\"],\"y\":[10.0],\"type\":\"scatter\",\"hovertemplate\":\"%{customdata[0]}<extra></extra>\"},{\"customdata\":[\"YouTube\"],\"legendgroup\":\"YouTube\",\"line\":{\"color\":\"red\",\"width\":2},\"mode\":\"lines\",\"name\":\"YouTube - Ryan Gosling & Mark Ronson - I'm Just Ken (Merry Kristmas Barbie) [Official Music Video]\",\"showlegend\":false,\"x\":[\"2023-12-21\"],\"y\":[7.0],\"type\":\"scatter\",\"hovertemplate\":\"%{customdata[0]}<extra></extra>\"},{\"customdata\":[\"Google\"],\"legendgroup\":\"Google\",\"line\":{\"color\":\"green\",\"width\":2},\"mode\":\"lines\",\"name\":\"Google - Ryan Gosling Ken Barbie\",\"showlegend\":false,\"x\":[\"2023-12-21\"],\"y\":[10.0],\"type\":\"scatter\",\"hovertemplate\":\"%{customdata[0]}<extra></extra>\"},{\"customdata\":[\"US Headlines\"],\"legendgroup\":\"US Headlines\",\"line\":{\"color\":\"white\",\"width\":2},\"mode\":\"lines\",\"name\":\"US Headlines - Ryan Gosling Releases \\u2018Ken The EP\\u2019 With Three New Versions of \\u2018I\\u2019m Just Ken,\\u2019 Including a Christmas Cover - Variety\",\"showlegend\":false,\"x\":[\"2023-12-21\"],\"y\":[10.0],\"type\":\"scatter\",\"hovertemplate\":\"%{customdata[0]}<extra></extra>\"},{\"customdata\":[\"YouTube\"],\"legendgroup\":\"YouTube\",\"line\":{\"color\":\"red\",\"width\":2},\"mode\":\"lines\",\"name\":\"YouTube - Salaar Release Trailer - Telugu | Prabhas | Prashanth Neel | Prithviraj | Shruthi | Hombale Films\",\"showlegend\":false,\"x\":[\"2023-12-18\"],\"y\":[3.0],\"type\":\"scatter\",\"hovertemplate\":\"%{customdata[0]}<extra></extra>\"},{\"customdata\":[\"YouTube\"],\"legendgroup\":\"YouTube\",\"line\":{\"color\":\"red\",\"width\":2},\"mode\":\"lines\",\"name\":\"YouTube - Scarface: Tiny Desk Concert\",\"showlegend\":false,\"x\":[\"2023-12-19\"],\"y\":[9.0],\"type\":\"scatter\",\"hovertemplate\":\"%{customdata[0]}<extra></extra>\"},{\"customdata\":[\"Global Business News\"],\"legendgroup\":\"Global Business News\",\"line\":{\"color\":\"blue\",\"width\":2},\"mode\":\"lines\",\"name\":\"Global Business News - ShareChat lays off 200 employees, valuation halved in last one year - Mint\",\"showlegend\":false,\"x\":[\"2023-12-21\"],\"y\":[4.0],\"type\":\"scatter\",\"hovertemplate\":\"%{customdata[0]}<extra></extra>\"},{\"customdata\":[\"US Headlines\"],\"legendgroup\":\"US Headlines\",\"line\":{\"color\":\"white\",\"width\":2},\"mode\":\"lines\",\"name\":\"US Headlines - Shipping industry in the dark over US-led Red Sea navy force - Reuters\",\"showlegend\":false,\"x\":[\"2023-12-21\"],\"y\":[6.0],\"type\":\"scatter\",\"hovertemplate\":\"%{customdata[0]}<extra></extra>\"},{\"customdata\":[\"Global Business News\"],\"legendgroup\":\"Global Business News\",\"line\":{\"color\":\"blue\",\"width\":2},\"mode\":\"lines\",\"name\":\"Global Business News - SiriusXM sued for allegedly trapping customers in unwanted subscriptions - CNN\",\"showlegend\":false,\"x\":[\"2023-12-21\"],\"y\":[3.0],\"type\":\"scatter\",\"hovertemplate\":\"%{customdata[0]}<extra></extra>\"},{\"customdata\":[\"US Headlines\"],\"legendgroup\":\"US Headlines\",\"line\":{\"color\":\"white\",\"width\":2},\"mode\":\"lines\",\"name\":\"US Headlines - Southwest Airlines fined $140 million for holiday meltdown that stranded millions - The Verge\",\"showlegend\":false,\"x\":[\"2023-12-19\"],\"y\":[6.0],\"type\":\"scatter\",\"hovertemplate\":\"%{customdata[0]}<extra></extra>\"},{\"customdata\":[\"US Headlines\"],\"legendgroup\":\"US Headlines\",\"line\":{\"color\":\"white\",\"width\":2},\"mode\":\"lines\",\"name\":\"US Headlines - Starving Palestinians loot aid trucks as desperation mounts in Gaza\\u2019s Rafah - Al Jazeera English\",\"showlegend\":false,\"x\":[\"2023-12-18\"],\"y\":[3.0],\"type\":\"scatter\",\"hovertemplate\":\"%{customdata[0]}<extra></extra>\"},{\"customdata\":[\"Google\"],\"legendgroup\":\"Google\",\"line\":{\"color\":\"green\",\"width\":2},\"mode\":\"lines\",\"name\":\"Google - Stiff-person syndrome\",\"showlegend\":false,\"x\":[\"2023-12-19\"],\"y\":[7.0],\"type\":\"scatter\",\"hovertemplate\":\"%{customdata[0]}<extra></extra>\"},{\"customdata\":[\"Global Business News\"],\"legendgroup\":\"Global Business News\",\"line\":{\"color\":\"blue\",\"width\":2},\"mode\":\"lines\",\"name\":\"Global Business News - Stock market news today: US stocks hold onto gains as rate-cut hopes persist - Yahoo Finance\",\"showlegend\":false,\"x\":[\"2023-12-20\"],\"y\":[2.0],\"type\":\"scatter\",\"hovertemplate\":\"%{customdata[0]}<extra></extra>\"},{\"customdata\":[\"YouTube\"],\"legendgroup\":\"YouTube\",\"line\":{\"color\":\"red\",\"width\":2},\"mode\":\"lines\",\"name\":\"YouTube - Stocking Rainbow Trout in the 5 Acre Pond!\",\"showlegend\":false,\"x\":[\"2023-12-18\"],\"y\":[10.0],\"type\":\"scatter\",\"hovertemplate\":\"%{customdata[0]}<extra></extra>\"},{\"customdata\":[\"Google\"],\"legendgroup\":\"Google\",\"line\":{\"color\":\"green\",\"width\":2},\"mode\":\"lines\",\"name\":\"Google - Suns\",\"showlegend\":false,\"x\":[\"2023-12-18\"],\"y\":[3.0],\"type\":\"scatter\",\"hovertemplate\":\"%{customdata[0]}<extra></extra>\"},{\"customdata\":[\"YouTube\"],\"legendgroup\":\"YouTube\",\"line\":{\"color\":\"red\",\"width\":2},\"mode\":\"lines\",\"name\":\"YouTube - Survive 100 Days Trapped, Win $500,000\",\"showlegend\":false,\"x\":[\"2023-12-19\"],\"y\":[10.0],\"type\":\"scatter\",\"hovertemplate\":\"%{customdata[0]}<extra></extra>\"},{\"customdata\":[\"Google\"],\"legendgroup\":\"Google\",\"line\":{\"color\":\"green\",\"width\":2},\"mode\":\"lines\",\"name\":\"Google - Survivor finale\",\"showlegend\":false,\"x\":[\"2023-12-21\"],\"y\":[6.0],\"type\":\"scatter\",\"hovertemplate\":\"%{customdata[0]}<extra></extra>\"},{\"customdata\":[\"Reddit\"],\"legendgroup\":\"Reddit\",\"line\":{\"color\":\"yellow\",\"width\":2},\"mode\":\"lines\",\"name\":\"Reddit - TIL in 1943, a US bomber over Germany was hit by explosive ordnance directly in the fuel tanks 11 times, but  exploded. After the shells were cut open, all were found to have no explosives in them, and one contained a note in Czech saying \\\"This is all we can do for you now\\\".\",\"showlegend\":false,\"x\":[\"2023-12-19\"],\"y\":[4.0],\"type\":\"scatter\",\"hovertemplate\":\"%{customdata[0]}<extra></extra>\"},{\"customdata\":[\"Reddit\"],\"legendgroup\":\"Reddit\",\"line\":{\"color\":\"yellow\",\"width\":2},\"mode\":\"lines\",\"name\":\"Reddit - TIL that the Milky Way Galaxy is being pulled toward a mysterious area in space called \\\"The Great Attractor\\\" at about 6000km/s. Whatever it is, we can't see it from Earth because it's obscured the hub of our galaxy.\",\"showlegend\":false,\"x\":[\"2023-12-18\"],\"y\":[10.0],\"type\":\"scatter\",\"hovertemplate\":\"%{customdata[0]}<extra></extra>\"},{\"customdata\":[\"Global Business News\"],\"legendgroup\":\"Global Business News\",\"line\":{\"color\":\"blue\",\"width\":2},\"mode\":\"lines\",\"name\":\"Global Business News - Tesla Stock At Early Buy Point On Strong China Registrations - Investor's Business Daily\",\"showlegend\":false,\"x\":[\"2023-12-20\"],\"y\":[5.0],\"type\":\"scatter\",\"hovertemplate\":\"%{customdata[0]}<extra></extra>\"},{\"customdata\":[\"Reddit\"],\"legendgroup\":\"Reddit\",\"line\":{\"color\":\"yellow\",\"width\":2},\"mode\":\"lines\",\"name\":\"Reddit - Thanks Obama!\",\"showlegend\":false,\"x\":[\"2023-12-21\"],\"y\":[4.0],\"type\":\"scatter\",\"hovertemplate\":\"%{customdata[0]}<extra></extra>\"},{\"customdata\":[\"Reddit\"],\"legendgroup\":\"Reddit\",\"line\":{\"color\":\"yellow\",\"width\":2},\"mode\":\"lines\",\"name\":\"Reddit - That's just his brother from another mother!\",\"showlegend\":false,\"x\":[\"2023-12-19\"],\"y\":[7.0],\"type\":\"scatter\",\"hovertemplate\":\"%{customdata[0]}<extra></extra>\"},{\"customdata\":[\"YouTube\"],\"legendgroup\":\"YouTube\",\"line\":{\"color\":\"red\",\"width\":2},\"mode\":\"lines\",\"name\":\"YouTube - The Chosen: Season 4 Official Trailer\",\"showlegend\":false,\"x\":[\"2023-12-19\"],\"y\":[6.0],\"type\":\"scatter\",\"hovertemplate\":\"%{customdata[0]}<extra></extra>\"},{\"customdata\":[\"Global Business News\"],\"legendgroup\":\"Global Business News\",\"line\":{\"color\":\"blue\",\"width\":2},\"mode\":\"lines\",\"name\":\"Global Business News - The Department of Transportation is hitting Southwest Airlines with a $140 million fine over last year\\u2019s holiday meltdown that left millions of passengers stranded.\",\"showlegend\":false,\"x\":[\"2023-12-19\"],\"y\":[4.0],\"type\":\"scatter\",\"hovertemplate\":\"%{customdata[0]}<extra></extra>\"},{\"customdata\":[\"Global Business News\"],\"legendgroup\":\"Global Business News\",\"line\":{\"color\":\"blue\",\"width\":2},\"mode\":\"lines\",\"name\":\"Global Business News - The Fed may have done the impossible: Avoid a recession \\u2014 for now - CNN\",\"showlegend\":false,\"x\":[\"2023-12-20\"],\"y\":[3.0],\"type\":\"scatter\",\"hovertemplate\":\"%{customdata[0]}<extra></extra>\"},{\"customdata\":[\"Global Business News\"],\"legendgroup\":\"Global Business News\",\"line\":{\"color\":\"blue\",\"width\":2},\"mode\":\"lines\",\"name\":\"Global Business News - The President of the Federal Reserve Bank of Chicago said the market may have read too much into last week's central bank update.\",\"showlegend\":false,\"x\":[\"2023-12-19\"],\"y\":[6.0],\"type\":\"scatter\",\"hovertemplate\":\"%{customdata[0]}<extra></extra>\"},{\"customdata\":[\"Global Business News\"],\"legendgroup\":\"Global Business News\",\"line\":{\"color\":\"blue\",\"width\":2},\"mode\":\"lines\",\"name\":\"Global Business News - The formal inquiry is the first against a large social media platform under the Digital Services Act.\",\"showlegend\":false,\"x\":[\"2023-12-19\"],\"y\":[3.0],\"type\":\"scatter\",\"hovertemplate\":\"%{customdata[0]}<extra></extra>\"},{\"customdata\":[\"Global Business News\"],\"legendgroup\":\"Global Business News\",\"line\":{\"color\":\"blue\",\"width\":2},\"mode\":\"lines\",\"name\":\"Global Business News - The situation in the Red Sea appears to be growing untenable for global shipping companies. That may result in the US military intervening to keep the critical shipping rout open.\",\"showlegend\":false,\"x\":[\"2023-12-19\"],\"y\":[5.0],\"type\":\"scatter\",\"hovertemplate\":\"%{customdata[0]}<extra></extra>\"},{\"customdata\":[\"Reddit\"],\"legendgroup\":\"Reddit\",\"line\":{\"color\":\"yellow\",\"width\":2},\"mode\":\"lines\",\"name\":\"Reddit - There goes his \\u20ac300,- airbag for cyclists\",\"showlegend\":false,\"x\":[\"2023-12-19\"],\"y\":[9.0],\"type\":\"scatter\",\"hovertemplate\":\"%{customdata[0]}<extra></extra>\"},{\"customdata\":[\"Reddit\"],\"legendgroup\":\"Reddit\",\"line\":{\"color\":\"yellow\",\"width\":2},\"mode\":\"lines\",\"name\":\"Reddit - There\\u2019s gonna be a bad rant in 3..2\\u2026..\",\"showlegend\":false,\"x\":[\"2023-12-20\"],\"y\":[9.0],\"type\":\"scatter\",\"hovertemplate\":\"%{customdata[0]}<extra></extra>\"},{\"customdata\":[\"Reddit\"],\"legendgroup\":\"Reddit\",\"line\":{\"color\":\"yellow\",\"width\":2},\"mode\":\"lines\",\"name\":\"Reddit - This guy already won the positivity belt\",\"showlegend\":false,\"x\":[\"2023-12-21\"],\"y\":[7.0],\"type\":\"scatter\",\"hovertemplate\":\"%{customdata[0]}<extra></extra>\"},{\"customdata\":[\"US Headlines\"],\"legendgroup\":\"US Headlines\",\"line\":{\"color\":\"white\",\"width\":2},\"mode\":\"lines\",\"name\":\"US Headlines - This is a good time to invest in bonds \\u2014 here is a fund with special advantages - MarketWatch\",\"showlegend\":false,\"x\":[\"2023-12-20\",\"2023-12-20\"],\"y\":[7.0,4.0],\"type\":\"scatter\",\"hovertemplate\":\"%{customdata[0]}<extra></extra>\"},{\"customdata\":[\"Global Business News\"],\"legendgroup\":\"Global Business News\",\"line\":{\"color\":\"blue\",\"width\":2},\"mode\":\"lines\",\"name\":\"Global Business News - This is how to protect your credit and bank cards from getting hacked - Fox News\",\"showlegend\":false,\"x\":[\"2023-12-18\"],\"y\":[5.0],\"type\":\"scatter\",\"hovertemplate\":\"%{customdata[0]}<extra></extra>\"},{\"customdata\":[\"Google\"],\"legendgroup\":\"Google\",\"line\":{\"color\":\"green\",\"width\":2},\"mode\":\"lines\",\"name\":\"Google - Timberwolves\",\"showlegend\":false,\"x\":[\"2023-12-21\"],\"y\":[5.0],\"type\":\"scatter\",\"hovertemplate\":\"%{customdata[0]}<extra></extra>\"},{\"customdata\":[\"US Headlines\"],\"legendgroup\":\"US Headlines\",\"line\":{\"color\":\"white\",\"width\":2},\"mode\":\"lines\",\"name\":\"US Headlines - Timoth\\u00e9e Chalamet\\u2019s \\u2018Wonka\\u2019 Tops Box Office With $39 Million Debut - Variety\",\"showlegend\":false,\"x\":[\"2023-12-18\"],\"y\":[9.0],\"type\":\"scatter\",\"hovertemplate\":\"%{customdata[0]}<extra></extra>\"},{\"customdata\":[\"US Headlines\"],\"legendgroup\":\"US Headlines\",\"line\":{\"color\":\"white\",\"width\":2},\"mode\":\"lines\",\"name\":\"US Headlines - Troubles legacy act: Ireland takes human rights case against UK - BBC.com\",\"showlegend\":false,\"x\":[\"2023-12-21\"],\"y\":[1.0],\"type\":\"scatter\",\"hovertemplate\":\"%{customdata[0]}<extra></extra>\"},{\"customdata\":[\"Google\"],\"legendgroup\":\"Google\",\"line\":{\"color\":\"green\",\"width\":2},\"mode\":\"lines\",\"name\":\"Google - Trump\",\"showlegend\":false,\"x\":[\"2023-12-20\"],\"y\":[2.0],\"type\":\"scatter\",\"hovertemplate\":\"%{customdata[0]}<extra></extra>\"},{\"customdata\":[\"Google\"],\"legendgroup\":\"Google\",\"line\":{\"color\":\"green\",\"width\":2},\"mode\":\"lines\",\"name\":\"Google - UNC basketball\",\"showlegend\":false,\"x\":[\"2023-12-21\"],\"y\":[8.0],\"type\":\"scatter\",\"hovertemplate\":\"%{customdata[0]}<extra></extra>\"},{\"customdata\":[\"US Headlines\"],\"legendgroup\":\"US Headlines\",\"line\":{\"color\":\"white\",\"width\":2},\"mode\":\"lines\",\"name\":\"US Headlines - US lawmakers push DOJ to investigate Apple following Beeper shutdowns - The Verge\",\"showlegend\":false,\"x\":[\"2023-12-19\"],\"y\":[8.0],\"type\":\"scatter\",\"hovertemplate\":\"%{customdata[0]}<extra></extra>\"},{\"customdata\":[\"Global Business News\"],\"legendgroup\":\"Global Business News\",\"line\":{\"color\":\"blue\",\"width\":2},\"mode\":\"lines\",\"name\":\"Global Business News - Understaffed and neglected: How real estate investors reshaped assisted living facilities - The Washington Post\",\"showlegend\":false,\"x\":[\"2023-12-18\"],\"y\":[7.0],\"type\":\"scatter\",\"hovertemplate\":\"%{customdata[0]}<extra></extra>\"},{\"customdata\":[\"US Headlines\"],\"legendgroup\":\"US Headlines\",\"line\":{\"color\":\"white\",\"width\":2},\"mode\":\"lines\",\"name\":\"US Headlines - Venezuela to release 36 people, including 12 Americans, in prisoner swap -source - Reuters\",\"showlegend\":false,\"x\":[\"2023-12-21\"],\"y\":[4.0],\"type\":\"scatter\",\"hovertemplate\":\"%{customdata[0]}<extra></extra>\"},{\"customdata\":[\"US Headlines\"],\"legendgroup\":\"US Headlines\",\"line\":{\"color\":\"white\",\"width\":2},\"mode\":\"lines\",\"name\":\"US Headlines - Vessel attacked in Red Sea off Yemen coast, US blames Houthis - Reuters\",\"showlegend\":false,\"x\":[\"2023-12-19\"],\"y\":[5.0],\"type\":\"scatter\",\"hovertemplate\":\"%{customdata[0]}<extra></extra>\"},{\"customdata\":[\"Global Business News\"],\"legendgroup\":\"Global Business News\",\"line\":{\"color\":\"blue\",\"width\":2},\"mode\":\"lines\",\"name\":\"Global Business News - Vikram Solar, DFC sign retainer letter for $200 mn funding | Mint - Mint\",\"showlegend\":false,\"x\":[\"2023-12-20\"],\"y\":[7.0],\"type\":\"scatter\",\"hovertemplate\":\"%{customdata[0]}<extra></extra>\"},{\"customdata\":[\"US Headlines\"],\"legendgroup\":\"US Headlines\",\"line\":{\"color\":\"white\",\"width\":2},\"mode\":\"lines\",\"name\":\"US Headlines - Watch Live: Justice Sandra Day O'Connor honored at funeral service at National Cathedral - CBS News\",\"showlegend\":false,\"x\":[\"2023-12-20\"],\"y\":[2.0],\"type\":\"scatter\",\"hovertemplate\":\"%{customdata[0]}<extra></extra>\"},{\"customdata\":[\"US Headlines\"],\"legendgroup\":\"US Headlines\",\"line\":{\"color\":\"white\",\"width\":2},\"mode\":\"lines\",\"name\":\"US Headlines - What happens when a shipwrecks becomes a thriving marine habitat - The Washington Post\",\"showlegend\":false,\"x\":[\"2023-12-20\"],\"y\":[3.0],\"type\":\"scatter\",\"hovertemplate\":\"%{customdata[0]}<extra></extra>\"},{\"customdata\":[\"Global Business News\"],\"legendgroup\":\"Global Business News\",\"line\":{\"color\":\"blue\",\"width\":2},\"mode\":\"lines\",\"name\":\"Global Business News - White House backs industry effort to standardize Tesla's EV charging plugs - Yahoo Finance\",\"showlegend\":false,\"x\":[\"2023-12-20\"],\"y\":[10.0],\"type\":\"scatter\",\"hovertemplate\":\"%{customdata[0]}<extra></extra>\"},{\"customdata\":[\"US Headlines\"],\"legendgroup\":\"US Headlines\",\"line\":{\"color\":\"white\",\"width\":2},\"mode\":\"lines\",\"name\":\"US Headlines - Who are the Houthis and why are they attacking ships in the Red Sea? - CNN\",\"showlegend\":false,\"x\":[\"2023-12-20\"],\"y\":[6.0],\"type\":\"scatter\",\"hovertemplate\":\"%{customdata[0]}<extra></extra>\"},{\"customdata\":[\"Google\"],\"legendgroup\":\"Google\",\"line\":{\"color\":\"green\",\"width\":2},\"mode\":\"lines\",\"name\":\"Google - Who won The Voice 2023\",\"showlegend\":false,\"x\":[\"2023-12-20\"],\"y\":[4.0],\"type\":\"scatter\",\"hovertemplate\":\"%{customdata[0]}<extra></extra>\"},{\"customdata\":[\"YouTube\"],\"legendgroup\":\"YouTube\",\"line\":{\"color\":\"red\",\"width\":2},\"mode\":\"lines\",\"name\":\"YouTube - Why Is The Day Before SUCH A SCAM?!\",\"showlegend\":false,\"x\":[\"2023-12-18\"],\"y\":[5.0],\"type\":\"scatter\",\"hovertemplate\":\"%{customdata[0]}<extra></extra>\"},{\"customdata\":[\"Reddit\"],\"legendgroup\":\"Reddit\",\"line\":{\"color\":\"yellow\",\"width\":2},\"mode\":\"lines\",\"name\":\"Reddit - Winchester 1887 12 gauge flip cock.\",\"showlegend\":false,\"x\":[\"2023-12-20\"],\"y\":[1.0],\"type\":\"scatter\",\"hovertemplate\":\"%{customdata[0]}<extra></extra>\"},{\"customdata\":[\"Google\"],\"legendgroup\":\"Google\",\"line\":{\"color\":\"green\",\"width\":2},\"mode\":\"lines\",\"name\":\"Google - Winter solstice 2023\",\"showlegend\":false,\"x\":[\"2023-12-21\"],\"y\":[1.0],\"type\":\"scatter\",\"hovertemplate\":\"%{customdata[0]}<extra></extra>\"},{\"customdata\":[\"Reddit\"],\"legendgroup\":\"Reddit\",\"line\":{\"color\":\"yellow\",\"width\":2},\"mode\":\"lines\",\"name\":\"Reddit - You must live with your choices\",\"showlegend\":false,\"x\":[\"2023-12-18\"],\"y\":[2.0],\"type\":\"scatter\",\"hovertemplate\":\"%{customdata[0]}<extra></extra>\"},{\"customdata\":[\"Global Business News\"],\"legendgroup\":\"Global Business News\",\"line\":{\"color\":\"blue\",\"width\":2},\"mode\":\"lines\",\"name\":\"Global Business News - Zee seeks time on Sony deal as two directors voted out - Mint\",\"showlegend\":false,\"x\":[\"2023-12-18\"],\"y\":[1.0],\"type\":\"scatter\",\"hovertemplate\":\"%{customdata[0]}<extra></extra>\"},{\"customdata\":[\"Global Business News\"],\"legendgroup\":\"Global Business News\",\"line\":{\"color\":\"blue\",\"width\":2},\"mode\":\"lines\",\"name\":\"Global Business News - Zee, Sony enter into discussion to extend merger deadline - Moneycontrol\",\"showlegend\":false,\"x\":[\"2023-12-21\"],\"y\":[7.0],\"type\":\"scatter\",\"hovertemplate\":\"%{customdata[0]}<extra></extra>\"},{\"customdata\":[\"TikTok\"],\"legendgroup\":\"TikTok\",\"line\":{\"color\":\"purple\",\"width\":2},\"mode\":\"lines\",\"name\":\"TikTok - aifilter\",\"showlegend\":false,\"x\":[\"2023-12-21\"],\"y\":[1.0],\"type\":\"scatter\",\"hovertemplate\":\"%{customdata[0]}<extra></extra>\"},{\"customdata\":[\"Reddit\"],\"legendgroup\":\"Reddit\",\"line\":{\"color\":\"yellow\",\"width\":2},\"mode\":\"lines\",\"name\":\"Reddit - andrewphysictwitch \\u2764\\ufe0f\",\"showlegend\":false,\"x\":[\"2023-12-19\"],\"y\":[2.0],\"type\":\"scatter\",\"hovertemplate\":\"%{customdata[0]}<extra></extra>\"},{\"customdata\":[\"TikTok\"],\"legendgroup\":\"TikTok\",\"line\":{\"color\":\"purple\",\"width\":2},\"mode\":\"lines\",\"name\":\"TikTok - bellakeo\",\"showlegend\":false,\"x\":[\"2023-12-19\",\"2023-12-20\"],\"y\":[3.0,3.0],\"type\":\"scatter\",\"hovertemplate\":\"%{customdata[0]}<extra></extra>\"},{\"customdata\":[\"TikTok\"],\"legendgroup\":\"TikTok\",\"line\":{\"color\":\"purple\",\"width\":2},\"mode\":\"lines\",\"name\":\"TikTok - capgaleria\",\"showlegend\":false,\"x\":[\"2023-12-18\"],\"y\":[2.0],\"type\":\"scatter\",\"hovertemplate\":\"%{customdata[0]}<extra></extra>\"},{\"customdata\":[\"TikTok\"],\"legendgroup\":\"TikTok\",\"line\":{\"color\":\"purple\",\"width\":2},\"mode\":\"lines\",\"name\":\"TikTok - ceilingchallenge\",\"showlegend\":false,\"x\":[\"2023-12-19\",\"2023-12-20\",\"2023-12-21\"],\"y\":[7.0,7.0,7.0],\"type\":\"scatter\",\"hovertemplate\":\"%{customdata[0]}<extra></extra>\"},{\"customdata\":[\"TikTok\"],\"legendgroup\":\"TikTok\",\"line\":{\"color\":\"purple\",\"width\":2},\"mode\":\"lines\",\"name\":\"TikTok - christmasparty\",\"showlegend\":false,\"x\":[\"2023-12-19\",\"2023-12-20\"],\"y\":[2.0,2.0],\"type\":\"scatter\",\"hovertemplate\":\"%{customdata[0]}<extra></extra>\"},{\"customdata\":[\"TikTok\"],\"legendgroup\":\"TikTok\",\"line\":{\"color\":\"purple\",\"width\":2},\"mode\":\"lines\",\"name\":\"TikTok - dancechallenge\",\"showlegend\":false,\"x\":[\"2023-12-21\"],\"y\":[3.0],\"type\":\"scatter\",\"hovertemplate\":\"%{customdata[0]}<extra></extra>\"},{\"customdata\":[\"TikTok\"],\"legendgroup\":\"TikTok\",\"line\":{\"color\":\"purple\",\"width\":2},\"mode\":\"lines\",\"name\":\"TikTok - dropshipping\",\"showlegend\":false,\"x\":[\"2023-12-18\"],\"y\":[4.0],\"type\":\"scatter\",\"hovertemplate\":\"%{customdata[0]}<extra></extra>\"},{\"customdata\":[\"TikTok\"],\"legendgroup\":\"TikTok\",\"line\":{\"color\":\"purple\",\"width\":2},\"mode\":\"lines\",\"name\":\"TikTok - jakepaul\",\"showlegend\":false,\"x\":[\"2023-12-18\"],\"y\":[7.0],\"type\":\"scatter\",\"hovertemplate\":\"%{customdata[0]}<extra></extra>\"},{\"customdata\":[\"TikTok\"],\"legendgroup\":\"TikTok\",\"line\":{\"color\":\"purple\",\"width\":2},\"mode\":\"lines\",\"name\":\"TikTok - jid\",\"showlegend\":false,\"x\":[\"2023-12-21\"],\"y\":[9.0],\"type\":\"scatter\",\"hovertemplate\":\"%{customdata[0]}<extra></extra>\"},{\"customdata\":[\"TikTok\"],\"legendgroup\":\"TikTok\",\"line\":{\"color\":\"purple\",\"width\":2},\"mode\":\"lines\",\"name\":\"TikTok - ladiabla\",\"showlegend\":false,\"x\":[\"2023-12-21\"],\"y\":[8.0],\"type\":\"scatter\",\"hovertemplate\":\"%{customdata[0]}<extra></extra>\"},{\"customdata\":[\"Reddit\"],\"legendgroup\":\"Reddit\",\"line\":{\"color\":\"yellow\",\"width\":2},\"mode\":\"lines\",\"name\":\"Reddit - me irl\",\"showlegend\":false,\"x\":[\"2023-12-21\"],\"y\":[2.0],\"type\":\"scatter\",\"hovertemplate\":\"%{customdata[0]}<extra></extra>\"},{\"customdata\":[\"Reddit\"],\"legendgroup\":\"Reddit\",\"line\":{\"color\":\"yellow\",\"width\":2},\"mode\":\"lines\",\"name\":\"Reddit - meirl\",\"showlegend\":false,\"x\":[\"2023-12-18\"],\"y\":[1.0],\"type\":\"scatter\",\"hovertemplate\":\"%{customdata[0]}<extra></extra>\"},{\"customdata\":[\"YouTube\"],\"legendgroup\":\"YouTube\",\"line\":{\"color\":\"red\",\"width\":2},\"mode\":\"lines\",\"name\":\"YouTube - miami and then new york\",\"showlegend\":false,\"x\":[\"2023-12-21\"],\"y\":[8.0],\"type\":\"scatter\",\"hovertemplate\":\"%{customdata[0]}<extra></extra>\"},{\"customdata\":[\"TikTok\"],\"legendgroup\":\"TikTok\",\"line\":{\"color\":\"purple\",\"width\":2},\"mode\":\"lines\",\"name\":\"TikTok - mikryptonita\",\"showlegend\":false,\"x\":[\"2023-12-18\"],\"y\":[3.0],\"type\":\"scatter\",\"hovertemplate\":\"%{customdata[0]}<extra></extra>\"},{\"customdata\":[\"TikTok\"],\"legendgroup\":\"TikTok\",\"line\":{\"color\":\"purple\",\"width\":2},\"mode\":\"lines\",\"name\":\"TikTok - navidadentiktok\",\"showlegend\":false,\"x\":[\"2023-12-18\"],\"y\":[1.0],\"type\":\"scatter\",\"hovertemplate\":\"%{customdata[0]}<extra></extra>\"},{\"customdata\":[\"TikTok\"],\"legendgroup\":\"TikTok\",\"line\":{\"color\":\"purple\",\"width\":2},\"mode\":\"lines\",\"name\":\"TikTok - pineville\",\"showlegend\":false,\"x\":[\"2023-12-18\"],\"y\":[10.0],\"type\":\"scatter\",\"hovertemplate\":\"%{customdata[0]}<extra></extra>\"},{\"customdata\":[\"US Headlines\"],\"legendgroup\":\"US Headlines\",\"line\":{\"color\":\"white\",\"width\":2},\"mode\":\"lines\",\"name\":\"US Headlines - reactions to the Ravens clinching a playoff berth with win over Jaguars - NFL\",\"showlegend\":false,\"x\":[\"2023-12-19\"],\"y\":[3.0],\"type\":\"scatter\",\"hovertemplate\":\"%{customdata[0]}<extra></extra>\"},{\"customdata\":[\"TikTok\"],\"legendgroup\":\"TikTok\",\"line\":{\"color\":\"purple\",\"width\":2},\"mode\":\"lines\",\"name\":\"TikTok - scarvvideo\",\"showlegend\":false,\"x\":[\"2023-12-18\"],\"y\":[6.0],\"type\":\"scatter\",\"hovertemplate\":\"%{customdata[0]}<extra></extra>\"},{\"customdata\":[\"TikTok\"],\"legendgroup\":\"TikTok\",\"line\":{\"color\":\"purple\",\"width\":2},\"mode\":\"lines\",\"name\":\"TikTok - seahawks\",\"showlegend\":false,\"x\":[\"2023-12-21\"],\"y\":[5.0],\"type\":\"scatter\",\"hovertemplate\":\"%{customdata[0]}<extra></extra>\"},{\"customdata\":[\"TikTok\"],\"legendgroup\":\"TikTok\",\"line\":{\"color\":\"purple\",\"width\":2},\"mode\":\"lines\",\"name\":\"TikTok - starfield\",\"showlegend\":false,\"x\":[\"2023-12-18\",\"2023-12-19\",\"2023-12-20\"],\"y\":[8.0,9.0,9.0],\"type\":\"scatter\",\"hovertemplate\":\"%{customdata[0]}<extra></extra>\"},{\"customdata\":[\"TikTok\"],\"legendgroup\":\"TikTok\",\"line\":{\"color\":\"purple\",\"width\":2},\"mode\":\"lines\",\"name\":\"TikTok - superscaryvideos\",\"showlegend\":false,\"x\":[\"2023-12-18\",\"2023-12-19\",\"2023-12-20\"],\"y\":[5.0,8.0,8.0],\"type\":\"scatter\",\"hovertemplate\":\"%{customdata[0]}<extra></extra>\"},{\"customdata\":[\"TikTok\"],\"legendgroup\":\"TikTok\",\"line\":{\"color\":\"purple\",\"width\":2},\"mode\":\"lines\",\"name\":\"TikTok - surroundsound\",\"showlegend\":false,\"x\":[\"2023-12-19\",\"2023-12-20\",\"2023-12-21\"],\"y\":[6.0,6.0,6.0],\"type\":\"scatter\",\"hovertemplate\":\"%{customdata[0]}<extra></extra>\"},{\"customdata\":[\"TikTok\"],\"legendgroup\":\"TikTok\",\"line\":{\"color\":\"purple\",\"width\":2},\"mode\":\"lines\",\"name\":\"TikTok - temu\",\"showlegend\":false,\"x\":[\"2023-12-19\",\"2023-12-20\",\"2023-12-21\"],\"y\":[1.0,1.0,2.0],\"type\":\"scatter\",\"hovertemplate\":\"%{customdata[0]}<extra></extra>\"},{\"customdata\":[\"Reddit\"],\"legendgroup\":\"Reddit\",\"line\":{\"color\":\"yellow\",\"width\":2},\"mode\":\"lines\",\"name\":\"Reddit - the way they finish the race with the same exact time\",\"showlegend\":false,\"x\":[\"2023-12-21\"],\"y\":[9.0],\"type\":\"scatter\",\"hovertemplate\":\"%{customdata[0]}<extra></extra>\"},{\"customdata\":[\"TikTok\"],\"legendgroup\":\"TikTok\",\"line\":{\"color\":\"purple\",\"width\":2},\"mode\":\"lines\",\"name\":\"TikTok - ufc296\",\"showlegend\":false,\"x\":[\"2023-12-19\",\"2023-12-20\"],\"y\":[4.0,4.0],\"type\":\"scatter\",\"hovertemplate\":\"%{customdata[0]}<extra></extra>\"},{\"customdata\":[\"TikTok\"],\"legendgroup\":\"TikTok\",\"line\":{\"color\":\"purple\",\"width\":2},\"mode\":\"lines\",\"name\":\"TikTok - winterbreak\",\"showlegend\":false,\"x\":[\"2023-12-21\"],\"y\":[10.0],\"type\":\"scatter\",\"hovertemplate\":\"%{customdata[0]}<extra></extra>\"},{\"customdata\":[\"TikTok\"],\"legendgroup\":\"TikTok\",\"line\":{\"color\":\"purple\",\"width\":2},\"mode\":\"lines\",\"name\":\"TikTok - wompwomp\",\"showlegend\":false,\"x\":[\"2023-12-19\",\"2023-12-20\",\"2023-12-21\"],\"y\":[5.0,5.0,4.0],\"type\":\"scatter\",\"hovertemplate\":\"%{customdata[0]}<extra></extra>\"},{\"customdata\":[\"Reddit\"],\"legendgroup\":\"Reddit\",\"line\":{\"color\":\"yellow\",\"width\":2},\"mode\":\"lines\",\"name\":\"Reddit - \\u201cSold his soul to Wokeness\\u201d yeah NO\",\"showlegend\":false,\"x\":[\"2023-12-19\"],\"y\":[5.0],\"type\":\"scatter\",\"hovertemplate\":\"%{customdata[0]}<extra></extra>\"},{\"customdata\":[\"US Headlines\"],\"legendgroup\":\"US Headlines\",\"line\":{\"color\":\"white\",\"width\":2},\"mode\":\"lines\",\"name\":\"US Headlines - \\ud83d\\udc40 KEPT RECEIPTS! \\ud83d\\udc40 Stephen A., JWill & Mad Dog get TENSE in Ja Morant\\u2019s return | First Take - ESPN\",\"showlegend\":false,\"x\":[\"2023-12-21\"],\"y\":[3.0],\"type\":\"scatter\",\"hovertemplate\":\"%{customdata[0]}<extra></extra>\"},{\"customdata\":[\"YouTube\"],\"legendgroup\":\"YouTube\",\"line\":{\"color\":\"red\",\"width\":2},\"mode\":\"lines\",\"name\":\"YouTube - \\ud83d\\udea8 PENALTY SHOOTOUT! \\ud83d\\udea8 Chelsea vs. Newcastle | Carabao Cup Highlights | ESPN FC\",\"showlegend\":false,\"x\":[\"2023-12-20\"],\"y\":[8.0],\"type\":\"scatter\",\"hovertemplate\":\"%{customdata[0]}<extra></extra>\"},{\"customdata\":[\"Reddit\"],\"legendgroup\":\"Reddit\",\"line\":{\"color\":\"yellow\",\"width\":2},\"mode\":\"lines\",\"name\":\"Reddit - \\ud83e\\udd26\\ud83c\\udffd\\u200d\\u2642\\ufe0f\",\"showlegend\":false,\"x\":[\"2023-12-19\"],\"y\":[10.0],\"type\":\"scatter\",\"hovertemplate\":\"%{customdata[0]}<extra></extra>\"}],                        {\"template\":{\"data\":{\"histogram2dcontour\":[{\"type\":\"histogram2dcontour\",\"colorbar\":{\"outlinewidth\":0,\"ticks\":\"\"},\"colorscale\":[[0.0,\"#0d0887\"],[0.1111111111111111,\"#46039f\"],[0.2222222222222222,\"#7201a8\"],[0.3333333333333333,\"#9c179e\"],[0.4444444444444444,\"#bd3786\"],[0.5555555555555556,\"#d8576b\"],[0.6666666666666666,\"#ed7953\"],[0.7777777777777778,\"#fb9f3a\"],[0.8888888888888888,\"#fdca26\"],[1.0,\"#f0f921\"]]}],\"choropleth\":[{\"type\":\"choropleth\",\"colorbar\":{\"outlinewidth\":0,\"ticks\":\"\"}}],\"histogram2d\":[{\"type\":\"histogram2d\",\"colorbar\":{\"outlinewidth\":0,\"ticks\":\"\"},\"colorscale\":[[0.0,\"#0d0887\"],[0.1111111111111111,\"#46039f\"],[0.2222222222222222,\"#7201a8\"],[0.3333333333333333,\"#9c179e\"],[0.4444444444444444,\"#bd3786\"],[0.5555555555555556,\"#d8576b\"],[0.6666666666666666,\"#ed7953\"],[0.7777777777777778,\"#fb9f3a\"],[0.8888888888888888,\"#fdca26\"],[1.0,\"#f0f921\"]]}],\"heatmap\":[{\"type\":\"heatmap\",\"colorbar\":{\"outlinewidth\":0,\"ticks\":\"\"},\"colorscale\":[[0.0,\"#0d0887\"],[0.1111111111111111,\"#46039f\"],[0.2222222222222222,\"#7201a8\"],[0.3333333333333333,\"#9c179e\"],[0.4444444444444444,\"#bd3786\"],[0.5555555555555556,\"#d8576b\"],[0.6666666666666666,\"#ed7953\"],[0.7777777777777778,\"#fb9f3a\"],[0.8888888888888888,\"#fdca26\"],[1.0,\"#f0f921\"]]}],\"heatmapgl\":[{\"type\":\"heatmapgl\",\"colorbar\":{\"outlinewidth\":0,\"ticks\":\"\"},\"colorscale\":[[0.0,\"#0d0887\"],[0.1111111111111111,\"#46039f\"],[0.2222222222222222,\"#7201a8\"],[0.3333333333333333,\"#9c179e\"],[0.4444444444444444,\"#bd3786\"],[0.5555555555555556,\"#d8576b\"],[0.6666666666666666,\"#ed7953\"],[0.7777777777777778,\"#fb9f3a\"],[0.8888888888888888,\"#fdca26\"],[1.0,\"#f0f921\"]]}],\"contourcarpet\":[{\"type\":\"contourcarpet\",\"colorbar\":{\"outlinewidth\":0,\"ticks\":\"\"}}],\"contour\":[{\"type\":\"contour\",\"colorbar\":{\"outlinewidth\":0,\"ticks\":\"\"},\"colorscale\":[[0.0,\"#0d0887\"],[0.1111111111111111,\"#46039f\"],[0.2222222222222222,\"#7201a8\"],[0.3333333333333333,\"#9c179e\"],[0.4444444444444444,\"#bd3786\"],[0.5555555555555556,\"#d8576b\"],[0.6666666666666666,\"#ed7953\"],[0.7777777777777778,\"#fb9f3a\"],[0.8888888888888888,\"#fdca26\"],[1.0,\"#f0f921\"]]}],\"surface\":[{\"type\":\"surface\",\"colorbar\":{\"outlinewidth\":0,\"ticks\":\"\"},\"colorscale\":[[0.0,\"#0d0887\"],[0.1111111111111111,\"#46039f\"],[0.2222222222222222,\"#7201a8\"],[0.3333333333333333,\"#9c179e\"],[0.4444444444444444,\"#bd3786\"],[0.5555555555555556,\"#d8576b\"],[0.6666666666666666,\"#ed7953\"],[0.7777777777777778,\"#fb9f3a\"],[0.8888888888888888,\"#fdca26\"],[1.0,\"#f0f921\"]]}],\"mesh3d\":[{\"type\":\"mesh3d\",\"colorbar\":{\"outlinewidth\":0,\"ticks\":\"\"}}],\"scatter\":[{\"fillpattern\":{\"fillmode\":\"overlay\",\"size\":10,\"solidity\":0.2},\"type\":\"scatter\"}],\"parcoords\":[{\"type\":\"parcoords\",\"line\":{\"colorbar\":{\"outlinewidth\":0,\"ticks\":\"\"}}}],\"scatterpolargl\":[{\"type\":\"scatterpolargl\",\"marker\":{\"colorbar\":{\"outlinewidth\":0,\"ticks\":\"\"}}}],\"bar\":[{\"error_x\":{\"color\":\"#2a3f5f\"},\"error_y\":{\"color\":\"#2a3f5f\"},\"marker\":{\"line\":{\"color\":\"#E5ECF6\",\"width\":0.5},\"pattern\":{\"fillmode\":\"overlay\",\"size\":10,\"solidity\":0.2}},\"type\":\"bar\"}],\"scattergeo\":[{\"type\":\"scattergeo\",\"marker\":{\"colorbar\":{\"outlinewidth\":0,\"ticks\":\"\"}}}],\"scatterpolar\":[{\"type\":\"scatterpolar\",\"marker\":{\"colorbar\":{\"outlinewidth\":0,\"ticks\":\"\"}}}],\"histogram\":[{\"marker\":{\"pattern\":{\"fillmode\":\"overlay\",\"size\":10,\"solidity\":0.2}},\"type\":\"histogram\"}],\"scattergl\":[{\"type\":\"scattergl\",\"marker\":{\"colorbar\":{\"outlinewidth\":0,\"ticks\":\"\"}}}],\"scatter3d\":[{\"type\":\"scatter3d\",\"line\":{\"colorbar\":{\"outlinewidth\":0,\"ticks\":\"\"}},\"marker\":{\"colorbar\":{\"outlinewidth\":0,\"ticks\":\"\"}}}],\"scattermapbox\":[{\"type\":\"scattermapbox\",\"marker\":{\"colorbar\":{\"outlinewidth\":0,\"ticks\":\"\"}}}],\"scatterternary\":[{\"type\":\"scatterternary\",\"marker\":{\"colorbar\":{\"outlinewidth\":0,\"ticks\":\"\"}}}],\"scattercarpet\":[{\"type\":\"scattercarpet\",\"marker\":{\"colorbar\":{\"outlinewidth\":0,\"ticks\":\"\"}}}],\"carpet\":[{\"aaxis\":{\"endlinecolor\":\"#2a3f5f\",\"gridcolor\":\"white\",\"linecolor\":\"white\",\"minorgridcolor\":\"white\",\"startlinecolor\":\"#2a3f5f\"},\"baxis\":{\"endlinecolor\":\"#2a3f5f\",\"gridcolor\":\"white\",\"linecolor\":\"white\",\"minorgridcolor\":\"white\",\"startlinecolor\":\"#2a3f5f\"},\"type\":\"carpet\"}],\"table\":[{\"cells\":{\"fill\":{\"color\":\"#EBF0F8\"},\"line\":{\"color\":\"white\"}},\"header\":{\"fill\":{\"color\":\"#C8D4E3\"},\"line\":{\"color\":\"white\"}},\"type\":\"table\"}],\"barpolar\":[{\"marker\":{\"line\":{\"color\":\"#E5ECF6\",\"width\":0.5},\"pattern\":{\"fillmode\":\"overlay\",\"size\":10,\"solidity\":0.2}},\"type\":\"barpolar\"}],\"pie\":[{\"automargin\":true,\"type\":\"pie\"}]},\"layout\":{\"autotypenumbers\":\"strict\",\"colorway\":[\"#636efa\",\"#EF553B\",\"#00cc96\",\"#ab63fa\",\"#FFA15A\",\"#19d3f3\",\"#FF6692\",\"#B6E880\",\"#FF97FF\",\"#FECB52\"],\"font\":{\"color\":\"#2a3f5f\"},\"hovermode\":\"closest\",\"hoverlabel\":{\"align\":\"left\"},\"paper_bgcolor\":\"white\",\"plot_bgcolor\":\"#E5ECF6\",\"polar\":{\"bgcolor\":\"#E5ECF6\",\"angularaxis\":{\"gridcolor\":\"white\",\"linecolor\":\"white\",\"ticks\":\"\"},\"radialaxis\":{\"gridcolor\":\"white\",\"linecolor\":\"white\",\"ticks\":\"\"}},\"ternary\":{\"bgcolor\":\"#E5ECF6\",\"aaxis\":{\"gridcolor\":\"white\",\"linecolor\":\"white\",\"ticks\":\"\"},\"baxis\":{\"gridcolor\":\"white\",\"linecolor\":\"white\",\"ticks\":\"\"},\"caxis\":{\"gridcolor\":\"white\",\"linecolor\":\"white\",\"ticks\":\"\"}},\"coloraxis\":{\"colorbar\":{\"outlinewidth\":0,\"ticks\":\"\"}},\"colorscale\":{\"sequential\":[[0.0,\"#0d0887\"],[0.1111111111111111,\"#46039f\"],[0.2222222222222222,\"#7201a8\"],[0.3333333333333333,\"#9c179e\"],[0.4444444444444444,\"#bd3786\"],[0.5555555555555556,\"#d8576b\"],[0.6666666666666666,\"#ed7953\"],[0.7777777777777778,\"#fb9f3a\"],[0.8888888888888888,\"#fdca26\"],[1.0,\"#f0f921\"]],\"sequentialminus\":[[0.0,\"#0d0887\"],[0.1111111111111111,\"#46039f\"],[0.2222222222222222,\"#7201a8\"],[0.3333333333333333,\"#9c179e\"],[0.4444444444444444,\"#bd3786\"],[0.5555555555555556,\"#d8576b\"],[0.6666666666666666,\"#ed7953\"],[0.7777777777777778,\"#fb9f3a\"],[0.8888888888888888,\"#fdca26\"],[1.0,\"#f0f921\"]],\"diverging\":[[0,\"#8e0152\"],[0.1,\"#c51b7d\"],[0.2,\"#de77ae\"],[0.3,\"#f1b6da\"],[0.4,\"#fde0ef\"],[0.5,\"#f7f7f7\"],[0.6,\"#e6f5d0\"],[0.7,\"#b8e186\"],[0.8,\"#7fbc41\"],[0.9,\"#4d9221\"],[1,\"#276419\"]]},\"xaxis\":{\"gridcolor\":\"white\",\"linecolor\":\"white\",\"ticks\":\"\",\"title\":{\"standoff\":15},\"zerolinecolor\":\"white\",\"automargin\":true,\"zerolinewidth\":2},\"yaxis\":{\"gridcolor\":\"white\",\"linecolor\":\"white\",\"ticks\":\"\",\"title\":{\"standoff\":15},\"zerolinecolor\":\"white\",\"automargin\":true,\"zerolinewidth\":2},\"scene\":{\"xaxis\":{\"backgroundcolor\":\"#E5ECF6\",\"gridcolor\":\"white\",\"linecolor\":\"white\",\"showbackground\":true,\"ticks\":\"\",\"zerolinecolor\":\"white\",\"gridwidth\":2},\"yaxis\":{\"backgroundcolor\":\"#E5ECF6\",\"gridcolor\":\"white\",\"linecolor\":\"white\",\"showbackground\":true,\"ticks\":\"\",\"zerolinecolor\":\"white\",\"gridwidth\":2},\"zaxis\":{\"backgroundcolor\":\"#E5ECF6\",\"gridcolor\":\"white\",\"linecolor\":\"white\",\"showbackground\":true,\"ticks\":\"\",\"zerolinecolor\":\"white\",\"gridwidth\":2}},\"shapedefaults\":{\"line\":{\"color\":\"#2a3f5f\"}},\"annotationdefaults\":{\"arrowcolor\":\"#2a3f5f\",\"arrowhead\":0,\"arrowwidth\":1},\"geo\":{\"bgcolor\":\"white\",\"landcolor\":\"#E5ECF6\",\"subunitcolor\":\"white\",\"showland\":true,\"showlakes\":true,\"lakecolor\":\"white\"},\"title\":{\"x\":0.05},\"mapbox\":{\"style\":\"light\"}}},\"xaxis\":{\"anchor\":\"y\",\"domain\":[0.0,1.0],\"title\":{\"text\":\"Date\"}},\"yaxis\":{\"anchor\":\"x\",\"domain\":[0.0,1.0],\"title\":{\"text\":\"Ranking\"},\"autorange\":\"reversed\",\"tickmode\":\"array\",\"tickvals\":[1,2,3,4,5,6,7,8,9,10],\"ticktext\":[\"1\",\"2\",\"3\",\"4\",\"5\",\"6\",\"7\",\"8\",\"9\",\"10\"]},\"legend\":{\"title\":{\"text\":\"Platform\"},\"tracegroupgap\":0,\"itemsizing\":\"constant\"},\"title\":{\"text\":\"Trending Topics Over Time\"},\"height\":800,\"updatemenus\":[{\"buttons\":[{\"args\":[{\"visible\":[[false],[false],[false],[false],[false],[false],true,false,false,false,false,true,false,false,false,false,false,false,false,false,false,false,false,false,false,false,false,false,false,false,false,false,false,false,false,false,false,false,false,false,false,false,false,false,false,false,false,false,false,false,false,false,false,false,false,false,false,false,false,false,false,false,false,false,false,false,false,false,false,false,false,false,false,false,false,false,false,false,false,false,false,false,false,false,false,false,false,false,false,false,false,false,false,false,false,false,false,false,false,false,false,false,false,false,false,false,false,false,false,false,false,false,false,false,false,false,false,false,false,false,false,false,false,false,false,false,false,false,false,false,false,false,false,false,false,false,false,false,false,false,false,false,false,false,false,false,false,false,false,false,false,false,false,false,false,false,false,false,false,false,false,false,false,false,false,false,false,false,false,false,false,false,false,false,false,false,false,false,false,false,false,false,false,false,false,false,false,false,false,true,false,true,true,true,true,true,true,true,true,true,false,false,false,true,true,true,false,true,true,true,true,true,true,false,true,true,true,false,false,false,false]}],\"label\":\"TikTok\",\"method\":\"update\"},{\"args\":[{\"visible\":[[false],[false],[false],[false],[false],[false],false,true,false,false,false,false,false,false,false,true,true,false,false,false,false,true,false,false,false,false,false,false,false,false,false,false,false,false,false,false,true,false,false,false,true,false,false,false,false,false,false,false,true,false,false,false,true,true,false,false,false,false,false,false,false,false,false,false,true,false,false,false,false,false,false,false,false,false,false,false,false,false,false,true,false,false,false,false,false,false,false,false,false,true,true,false,false,false,false,true,false,false,false,true,true,true,false,false,false,false,false,true,true,false,false,false,false,false,false,false,true,false,true,false,true,false,false,false,true,false,false,false,false,true,false,false,false,false,false,false,false,false,false,false,false,false,false,false,false,false,false,false,false,false,false,false,true,true,false,true,true,false,false,false,false,false,false,true,true,true,false,false,false,false,false,false,false,false,false,false,false,false,false,false,false,false,false,false,true,false,true,false,false,false,true,false,false,false,false,false,false,false,false,false,true,true,false,false,false,false,false,false,false,false,false,false,false,true,false,false,false,true,false,false,true]}],\"label\":\"Reddit\",\"method\":\"update\"},{\"args\":[{\"visible\":[[false],[false],[false],[false],[false],[false],false,false,true,true,false,false,false,false,false,false,false,false,true,false,false,false,false,false,false,true,false,true,false,false,false,false,false,false,false,false,false,false,true,true,false,false,false,false,false,true,false,false,false,true,true,true,false,false,false,false,false,true,false,false,false,false,false,false,false,true,false,false,true,false,false,false,false,false,false,false,false,false,false,false,true,false,false,false,false,true,false,false,false,false,false,false,false,true,false,false,false,true,true,false,false,false,false,false,false,false,true,false,false,false,false,false,false,false,false,false,false,true,false,false,false,false,true,false,false,false,false,false,false,false,false,false,false,false,true,false,false,false,false,false,false,true,false,true,false,false,false,true,false,false,false,false,false,false,true,false,false,false,true,true,true,true,true,false,false,false,false,true,false,false,false,false,false,false,true,false,false,true,false,false,true,false,false,false,false,false,false,true,true,false,false,false,false,false,false,false,false,false,false,false,false,false,false,false,false,false,false,false,false,false,false,false,false,false,false,false,false,false,false,false,false]}],\"label\":\"Global Business News\",\"method\":\"update\"},{\"args\":[{\"visible\":[[false],[false],[false],[false],[false],[false],false,false,false,false,true,false,false,false,true,false,false,true,false,true,true,false,false,false,true,false,false,false,false,false,false,false,false,false,false,false,false,true,false,false,false,false,false,true,false,false,false,false,false,false,false,false,false,false,false,true,false,false,false,false,false,false,false,true,false,false,false,false,false,false,false,true,true,false,false,false,false,false,false,false,false,true,false,false,true,false,false,false,true,false,false,false,false,false,false,false,false,false,false,false,false,false,false,false,false,false,false,false,false,false,false,true,true,true,true,true,false,false,false,false,false,false,false,false,false,false,false,true,true,false,true,false,true,false,false,false,false,false,true,false,false,false,true,false,true,true,false,false,false,false,false,false,false,false,false,false,false,false,false,false,false,false,false,false,false,false,true,false,false,true,true,false,false,true,false,true,true,false,true,true,false,true,false,false,false,false,false,false,false,false,false,false,false,false,false,false,false,false,false,false,false,false,false,false,false,false,true,false,false,false,false,false,false,false,false,false,false,false,true,false,false]}],\"label\":\"US Headlines\",\"method\":\"update\"},{\"args\":[{\"visible\":[[false],[false],[false],[false],[false],[false],false,false,false,false,false,false,true,false,false,false,false,false,false,false,false,false,false,false,false,false,false,false,false,false,false,false,false,false,false,false,false,false,false,false,false,true,false,false,true,false,false,true,false,false,false,false,false,false,true,false,false,false,true,false,true,true,false,false,false,false,false,true,false,true,true,false,false,true,true,true,true,true,false,false,false,false,true,false,false,false,false,false,false,false,false,true,false,false,true,false,false,false,false,false,false,false,true,false,true,false,false,false,false,true,true,false,false,false,false,false,false,false,false,true,false,false,false,false,false,true,false,false,false,false,false,true,false,true,false,false,true,false,false,true,true,false,false,false,false,false,false,false,true,false,true,false,false,false,false,false,false,true,false,false,false,false,false,false,false,false,false,false,false,false,false,false,false,false,false,false,false,false,false,false,false,false,false,true,false,false,false,false,false,false,false,false,false,false,false,false,false,false,false,false,false,false,true,false,false,false,false,false,false,false,false,false,false,false,false,false,false,false,false,true,false]}],\"label\":\"YouTube\",\"method\":\"update\"},{\"args\":[{\"visible\":[[false],[false],[false],[false],[false],[false],false,false,false,false,false,false,false,true,false,false,false,false,false,false,false,false,true,true,false,false,true,false,true,true,true,true,true,true,true,true,false,false,false,false,false,false,true,false,false,false,true,false,false,false,false,false,false,false,false,false,true,false,false,true,false,false,true,false,false,false,true,false,false,false,false,false,false,false,false,false,false,false,true,false,false,false,false,true,false,false,true,true,false,false,false,false,true,false,false,false,true,false,false,false,false,false,false,true,false,true,false,false,false,false,false,false,false,false,false,false,false,false,false,false,false,true,false,true,false,false,true,false,false,false,false,false,false,false,false,true,false,true,false,false,false,false,false,false,false,false,true,false,false,true,false,true,false,false,false,false,false,false,false,false,false,false,false,false,false,false,false,false,true,false,false,true,true,false,false,false,false,false,false,false,false,false,true,false,false,true,false,false,false,false,false,false,false,false,false,false,false,false,false,false,false,false,false,false,false,false,false,false,false,false,false,false,false,false,false,false,false,false,false,false,false]}],\"label\":\"Google\",\"method\":\"update\"}],\"direction\":\"down\",\"showactive\":true}]},                        {\"responsive\": true}                    ).then(function(){\n",
       "                            \n",
       "var gd = document.getElementById('02027db1-6173-49d7-89e9-a91148786119');\n",
       "var x = new MutationObserver(function (mutations, observer) {{\n",
       "        var display = window.getComputedStyle(gd).display;\n",
       "        if (!display || display === 'none') {{\n",
       "            console.log([gd, 'removed!']);\n",
       "            Plotly.purge(gd);\n",
       "            observer.disconnect();\n",
       "        }}\n",
       "}});\n",
       "\n",
       "// Listen for the removal of the full notebook cells\n",
       "var notebookContainer = gd.closest('#notebook-container');\n",
       "if (notebookContainer) {{\n",
       "    x.observe(notebookContainer, {childList: true});\n",
       "}}\n",
       "\n",
       "// Listen for the clearing of the current output cell\n",
       "var outputEl = gd.closest('.output');\n",
       "if (outputEl) {{\n",
       "    x.observe(outputEl, {childList: true});\n",
       "}}\n",
       "\n",
       "                        })                };                });            </script>        </div>"
      ]
     },
     "metadata": {},
     "output_type": "display_data"
    }
   ],
   "source": [
    "import plotly.express as px\n",
    "import plotly.graph_objects as go\n",
    "\n",
    "# Create the initial scatter plot\n",
    "fig = px.scatter(\n",
    "    combined_data,\n",
    "    x='Date',\n",
    "    y='Rank',\n",
    "    size='scaled_size',\n",
    "    color='Platform',\n",
    "    hover_name='Title',\n",
    "    hover_data=['hover_text'],\n",
    "    title='Trending Topics Over Time',\n",
    "    labels={'Date': 'Date', 'Rank': 'Ranking'},\n",
    "    size_max=20,\n",
    "    height=800,\n",
    "    render_mode='svg'\n",
    ")\n",
    "\n",
    "# Manually define a color map for platforms\n",
    "platform_colors = {\n",
    "    'Google': 'green',\n",
    "    'TikTok': 'purple',\n",
    "    'YouTube': 'red',\n",
    "    'US Headlines': 'white',\n",
    "    'Reddit': 'yellow',\n",
    "    'Global Business News': 'blue',\n",
    "    # Add other platforms and their colors here\n",
    "}\n",
    "\n",
    "# Update traces to group data by 'Title' and connect them with lines\n",
    "for title, group in combined_data.groupby('Title'):\n",
    "    # Get the color for the platform of this group\n",
    "    platform = group['Platform'].iloc[0]\n",
    "    color = platform_colors.get(platform, 'black')\n",
    "\n",
    "    # Add line trace for each title\n",
    "    fig.add_trace(go.Scatter(\n",
    "        x=group['Date'], \n",
    "        y=group['Rank'], \n",
    "        mode='lines', \n",
    "        line=dict(width=2, color=color),\n",
    "        name=f\"{platform} - {title}\",\n",
    "        legendgroup=platform,\n",
    "        customdata=[platform],\n",
    "        showlegend=False\n",
    "    ))\n",
    "    \n",
    "# Update the hover template for each trace\n",
    "fig.update_traces(\n",
    "    hovertemplate='%{customdata[0]}<extra></extra>'  # Using the first item in customdata for hover\n",
    ")\n",
    "\n",
    "# Create buttons for each platform to control visibility\n",
    "buttons = []\n",
    "for platform in combined_data['Platform'].unique():\n",
    "    buttons.append(dict(\n",
    "        label=platform,\n",
    "        method=\"update\",\n",
    "        args=[{\"visible\": [(trace.customdata[0] == platform if trace.customdata is not None else False) for trace in fig.data]}]\n",
    "    ))\n",
    "\n",
    "# Update layout to include buttons\n",
    "fig.update_layout(\n",
    "    updatemenus=[{\n",
    "        \"buttons\": buttons,\n",
    "        \"direction\": \"down\",\n",
    "        \"showactive\": True,\n",
    "    }],\n",
    "    yaxis=dict(\n",
    "        autorange='reversed',\n",
    "        tickmode='array',\n",
    "        tickvals=[i for i in range(1, 11)],\n",
    "        ticktext=[str(i) for i in range(1, 11)]\n",
    "    )\n",
    ")\n",
    "\n",
    "# Show the plot\n",
    "fig.show()"
   ]
  },
  {
   "cell_type": "markdown",
   "id": "c09b7f29",
   "metadata": {},
   "source": [
    "## Weighted Word Cloud based on Trend Ranking"
   ]
  },
  {
   "cell_type": "code",
   "execution_count": 75,
   "id": "e7d5b6b0",
   "metadata": {},
   "outputs": [
    {
     "data": {
      "image/png": "[encoded data removed]",
      "text/plain": [
       "<Figure size 800x800 with 1 Axes>"
      ]
     },
     "metadata": {},
     "output_type": "display_data"
    }
   ],
   "source": [
    "from wordcloud import WordCloud, STOPWORDS\n",
    "import matplotlib.pyplot as plt\n",
    "\n",
    "# Enhance the stopwords set by adding common words and converting to lowercase\n",
    "enhanced_stopwords = set(STOPWORDS)\n",
    "enhanced_stopwords.update([\"the\", \"and\", \"of\", \"to\", \"in\", \"for\", \"on\", \"with\", \"at\", \"by\", \"from\", \"-\"])\n",
    "\n",
    "# Create a weighted frequency dictionary\n",
    "weighted_words = {}\n",
    "for _, row in combined_data.iterrows():\n",
    "    if isinstance(row['Title'], str) and pd.notnull(row['Rank']):\n",
    "        words = row['Title'].lower().split()  # Convert to lower case\n",
    "        weight = 1 / row['Rank']  # Inverse of rank as weight\n",
    "        for word in words:\n",
    "            if word not in enhanced_stopwords:\n",
    "                if word in weighted_words:\n",
    "                    weighted_words[word] += weight\n",
    "                else:\n",
    "                    weighted_words[word] = weight\n",
    "\n",
    "# Generate and display the word cloud\n",
    "wordcloud = WordCloud(width=800, height=800, background_color='white').generate_from_frequencies(weighted_words)\n",
    "\n",
    "plt.figure(figsize=(8, 8), facecolor=None)\n",
    "plt.imshow(wordcloud)\n",
    "plt.axis(\"off\")\n",
    "plt.tight_layout(pad=0)\n",
    "\n",
    "plt.show()"
   ]
  }
 ],
 "metadata": {
  "kernelspec": {
   "display_name": "Python 3 (ipykernel)",
   "language": "python",
   "name": "python3"
  },
  "language_info": {
   "codemirror_mode": {
    "name": "ipython",
    "version": 3
   },
   "file_extension": ".py",
   "mimetype": "text/x-python",
   "name": "python",
   "nbconvert_exporter": "python",
   "pygments_lexer": "ipython3",
   "version": "3.11.4"
  }
 },
 "nbformat": 4,
 "nbformat_minor": 5
}
